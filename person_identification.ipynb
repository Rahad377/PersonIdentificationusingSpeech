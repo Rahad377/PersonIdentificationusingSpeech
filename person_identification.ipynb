{
  "cells": [
    {
      "cell_type": "markdown",
      "source": [
        "# **PERSON IDENTIFICATION USING VOICE DATA VIA LSTM NETWORKS**\n",
        "Author: Md Rahad Khan\n",
        "\n",
        "Last Edit Date: 06 June 2022\n",
        "\n"
      ],
      "metadata": {
        "id": "bKdEsdT18HDI"
      }
    },
    {
      "cell_type": "markdown",
      "source": [
        "### All libraries to run the code with dependencies and mount with colab"
      ],
      "metadata": {
        "id": "olaTjDSr8tco"
      }
    },
    {
      "cell_type": "code",
      "execution_count": null,
      "metadata": {
        "id": "hiVyfW8At1b7"
      },
      "outputs": [],
      "source": [
        "import os\n",
        "import numpy as np\n",
        "import matplotlib.pyplot as plt\n",
        "from sklearn.model_selection import train_test_split, StratifiedKFold, cross_val_score\n",
        "import librosa\n",
        "import IPython.display as ipd\n",
        "import librosa.display\n",
        "import math\n",
        "import json\n",
        "import tensorflow.keras as keras\n",
        "from sklearn.preprocessing import StandardScaler"
      ]
    },
    {
      "cell_type": "code",
      "execution_count": null,
      "metadata": {
        "id": "6CTCzW6x58eR"
      },
      "outputs": [],
      "source": []
    },
    {
      "cell_type": "code",
      "execution_count": null,
      "metadata": {
        "colab": {
          "base_uri": "https://localhost:8080/"
        },
        "id": "OuPARUja8MoE",
        "outputId": "d9395398-b7af-43c5-accf-761929e2b4a9"
      },
      "outputs": [
        {
          "output_type": "stream",
          "name": "stdout",
          "text": [
            "Mounted at /content/drive\n"
          ]
        }
      ],
      "source": [
        "from google.colab import drive\n",
        "drive.mount('/content/drive')"
      ]
    },
    {
      "cell_type": "markdown",
      "source": [
        "### To extract Feature We used MFCC. save_mfcc() is a function that is used to extract mfcc."
      ],
      "metadata": {
        "id": "zsYb1MDt_Sb-"
      }
    },
    {
      "cell_type": "code",
      "source": [
        "DATASET_PATH = \"/content/drive/MyDrive/Colab Notebooks/Thesis/voice recognition/dataset\"\n",
        "JSON_PATH = \"/content/drive/MyDrive/Colab Notebooks/Thesis/voice recognition/data.json\"\n",
        "SAMPLE_RATE = 44100\n",
        "TRACK_DURATION = 30 #in seconds\n",
        "SAMPLES_PER_TRACK = SAMPLE_RATE * TRACK_DURATION"
      ],
      "metadata": {
        "id": "wFLkyOzD_08H"
      },
      "execution_count": null,
      "outputs": []
    },
    {
      "cell_type": "code",
      "source": [
        "def save_mfcc(dataset_path, json_path, n_mfcc = 13, n_fft = 2048, hop_length = 512, num_segments = 10):\n",
        "  #create dictionary to mapping, labels, and mfccs\n",
        "\n",
        "  data = {\n",
        "      \"mapping\": [],\n",
        "      \"labels\": [],\n",
        "      \"mfcc\": []\n",
        "  }\n",
        "\n",
        "\n",
        "  samples_per_segment = int(SAMPLES_PER_TRACK / num_segments)\n",
        "  num_mfcc_vectors_per_segment = math.ceil(samples_per_segment / hop_length)\n",
        "\n",
        "  #load the directory and access all folders and files\n",
        "  i = 0\n",
        "  for dirpath, dirnames, filenames in os.walk(dataset_path):\n",
        "    for (f) in filenames:\n",
        "      semantic_labels = f.split(\".\")[0]\n",
        "      print(semantic_labels)\n",
        "      data[\"mapping\"].append(semantic_labels)\n",
        "\n",
        "      file_path = os.path.join(dirpath,f)\n",
        "      signal, sample_rate = librosa.load(file_path, sr = SAMPLE_RATE)\n",
        "      signal, index = librosa.effects.trim(signal)\n",
        "      i = i + 1\n",
        "      # process all segments of audio file\n",
        "      for d in range(num_segments):\n",
        "        # calculate start and finish sample for current segment\n",
        "        start = samples_per_segment * d\n",
        "        finish = start + samples_per_segment\n",
        "        # extract mfcc\n",
        "        mfcc = librosa.feature.mfcc(signal[start:finish], sample_rate, n_mfcc=n_mfcc, n_fft=n_fft, hop_length=hop_length)\n",
        "        mfcc = mfcc.T\n",
        "        # store only mfcc feature with expected number of vectors\n",
        "        if len(mfcc) == num_mfcc_vectors_per_segment:\n",
        "          data[\"mfcc\"].append(mfcc.tolist())\n",
        "          data[\"labels\"].append(i-1)\n",
        "          print(\"{}, segment of test data:{}\".format(file_path, d+1))\n",
        "\n",
        "  with open(json_path, \"w\") as fp:\n",
        "    json.dump(data, fp, indent=4)"
      ],
      "metadata": {
        "id": "kLjm7HnA_l0K"
      },
      "execution_count": null,
      "outputs": []
    },
    {
      "cell_type": "code",
      "source": [
        "save_mfcc(DATASET_PATH, JSON_PATH, n_mfcc=20, num_segments=20)"
      ],
      "metadata": {
        "id": "DldbvK1s_7de",
        "colab": {
          "base_uri": "https://localhost:8080/"
        },
        "outputId": "fc51b455-a432-4352-bb08-7b2d2b33ebf2"
      },
      "execution_count": null,
      "outputs": [
        {
          "output_type": "stream",
          "name": "stdout",
          "text": [
            "176014\n"
          ]
        },
        {
          "output_type": "stream",
          "name": "stderr",
          "text": [
            "/usr/local/lib/python3.7/dist-packages/librosa/core/audio.py:165: UserWarning: PySoundFile failed. Trying audioread instead.\n",
            "  warnings.warn(\"PySoundFile failed. Trying audioread instead.\")\n"
          ]
        },
        {
          "output_type": "stream",
          "name": "stdout",
          "text": [
            "/content/drive/MyDrive/Colab Notebooks/Thesis/voice recognition/dataset/176014.wav, segment of test data:1\n",
            "/content/drive/MyDrive/Colab Notebooks/Thesis/voice recognition/dataset/176014.wav, segment of test data:2\n",
            "/content/drive/MyDrive/Colab Notebooks/Thesis/voice recognition/dataset/176014.wav, segment of test data:3\n",
            "/content/drive/MyDrive/Colab Notebooks/Thesis/voice recognition/dataset/176014.wav, segment of test data:4\n",
            "/content/drive/MyDrive/Colab Notebooks/Thesis/voice recognition/dataset/176014.wav, segment of test data:5\n",
            "/content/drive/MyDrive/Colab Notebooks/Thesis/voice recognition/dataset/176014.wav, segment of test data:6\n",
            "/content/drive/MyDrive/Colab Notebooks/Thesis/voice recognition/dataset/176014.wav, segment of test data:7\n",
            "/content/drive/MyDrive/Colab Notebooks/Thesis/voice recognition/dataset/176014.wav, segment of test data:8\n",
            "/content/drive/MyDrive/Colab Notebooks/Thesis/voice recognition/dataset/176014.wav, segment of test data:9\n",
            "/content/drive/MyDrive/Colab Notebooks/Thesis/voice recognition/dataset/176014.wav, segment of test data:10\n",
            "/content/drive/MyDrive/Colab Notebooks/Thesis/voice recognition/dataset/176014.wav, segment of test data:11\n",
            "/content/drive/MyDrive/Colab Notebooks/Thesis/voice recognition/dataset/176014.wav, segment of test data:12\n",
            "/content/drive/MyDrive/Colab Notebooks/Thesis/voice recognition/dataset/176014.wav, segment of test data:13\n",
            "/content/drive/MyDrive/Colab Notebooks/Thesis/voice recognition/dataset/176014.wav, segment of test data:14\n",
            "/content/drive/MyDrive/Colab Notebooks/Thesis/voice recognition/dataset/176014.wav, segment of test data:15\n",
            "/content/drive/MyDrive/Colab Notebooks/Thesis/voice recognition/dataset/176014.wav, segment of test data:16\n",
            "/content/drive/MyDrive/Colab Notebooks/Thesis/voice recognition/dataset/176014.wav, segment of test data:17\n",
            "/content/drive/MyDrive/Colab Notebooks/Thesis/voice recognition/dataset/176014.wav, segment of test data:18\n",
            "/content/drive/MyDrive/Colab Notebooks/Thesis/voice recognition/dataset/176014.wav, segment of test data:19\n",
            "/content/drive/MyDrive/Colab Notebooks/Thesis/voice recognition/dataset/176014.wav, segment of test data:20\n",
            "164102\n"
          ]
        },
        {
          "output_type": "stream",
          "name": "stderr",
          "text": [
            "/usr/local/lib/python3.7/dist-packages/librosa/core/audio.py:165: UserWarning: PySoundFile failed. Trying audioread instead.\n",
            "  warnings.warn(\"PySoundFile failed. Trying audioread instead.\")\n"
          ]
        },
        {
          "output_type": "stream",
          "name": "stdout",
          "text": [
            "/content/drive/MyDrive/Colab Notebooks/Thesis/voice recognition/dataset/164102.wav, segment of test data:1\n",
            "/content/drive/MyDrive/Colab Notebooks/Thesis/voice recognition/dataset/164102.wav, segment of test data:2\n",
            "/content/drive/MyDrive/Colab Notebooks/Thesis/voice recognition/dataset/164102.wav, segment of test data:3\n",
            "/content/drive/MyDrive/Colab Notebooks/Thesis/voice recognition/dataset/164102.wav, segment of test data:4\n",
            "/content/drive/MyDrive/Colab Notebooks/Thesis/voice recognition/dataset/164102.wav, segment of test data:5\n",
            "/content/drive/MyDrive/Colab Notebooks/Thesis/voice recognition/dataset/164102.wav, segment of test data:6\n",
            "/content/drive/MyDrive/Colab Notebooks/Thesis/voice recognition/dataset/164102.wav, segment of test data:7\n",
            "/content/drive/MyDrive/Colab Notebooks/Thesis/voice recognition/dataset/164102.wav, segment of test data:8\n",
            "/content/drive/MyDrive/Colab Notebooks/Thesis/voice recognition/dataset/164102.wav, segment of test data:9\n",
            "/content/drive/MyDrive/Colab Notebooks/Thesis/voice recognition/dataset/164102.wav, segment of test data:10\n",
            "/content/drive/MyDrive/Colab Notebooks/Thesis/voice recognition/dataset/164102.wav, segment of test data:11\n",
            "/content/drive/MyDrive/Colab Notebooks/Thesis/voice recognition/dataset/164102.wav, segment of test data:12\n",
            "/content/drive/MyDrive/Colab Notebooks/Thesis/voice recognition/dataset/164102.wav, segment of test data:13\n",
            "/content/drive/MyDrive/Colab Notebooks/Thesis/voice recognition/dataset/164102.wav, segment of test data:14\n",
            "/content/drive/MyDrive/Colab Notebooks/Thesis/voice recognition/dataset/164102.wav, segment of test data:15\n",
            "/content/drive/MyDrive/Colab Notebooks/Thesis/voice recognition/dataset/164102.wav, segment of test data:16\n",
            "/content/drive/MyDrive/Colab Notebooks/Thesis/voice recognition/dataset/164102.wav, segment of test data:17\n",
            "/content/drive/MyDrive/Colab Notebooks/Thesis/voice recognition/dataset/164102.wav, segment of test data:18\n",
            "/content/drive/MyDrive/Colab Notebooks/Thesis/voice recognition/dataset/164102.wav, segment of test data:19\n",
            "/content/drive/MyDrive/Colab Notebooks/Thesis/voice recognition/dataset/164102.wav, segment of test data:20\n",
            "193118\n"
          ]
        },
        {
          "output_type": "stream",
          "name": "stderr",
          "text": [
            "/usr/local/lib/python3.7/dist-packages/librosa/core/audio.py:165: UserWarning: PySoundFile failed. Trying audioread instead.\n",
            "  warnings.warn(\"PySoundFile failed. Trying audioread instead.\")\n"
          ]
        },
        {
          "output_type": "stream",
          "name": "stdout",
          "text": [
            "/content/drive/MyDrive/Colab Notebooks/Thesis/voice recognition/dataset/193118.wav, segment of test data:1\n",
            "/content/drive/MyDrive/Colab Notebooks/Thesis/voice recognition/dataset/193118.wav, segment of test data:2\n",
            "/content/drive/MyDrive/Colab Notebooks/Thesis/voice recognition/dataset/193118.wav, segment of test data:3\n",
            "/content/drive/MyDrive/Colab Notebooks/Thesis/voice recognition/dataset/193118.wav, segment of test data:4\n",
            "/content/drive/MyDrive/Colab Notebooks/Thesis/voice recognition/dataset/193118.wav, segment of test data:5\n",
            "/content/drive/MyDrive/Colab Notebooks/Thesis/voice recognition/dataset/193118.wav, segment of test data:6\n",
            "/content/drive/MyDrive/Colab Notebooks/Thesis/voice recognition/dataset/193118.wav, segment of test data:7\n",
            "/content/drive/MyDrive/Colab Notebooks/Thesis/voice recognition/dataset/193118.wav, segment of test data:8\n",
            "/content/drive/MyDrive/Colab Notebooks/Thesis/voice recognition/dataset/193118.wav, segment of test data:9\n",
            "/content/drive/MyDrive/Colab Notebooks/Thesis/voice recognition/dataset/193118.wav, segment of test data:10\n",
            "/content/drive/MyDrive/Colab Notebooks/Thesis/voice recognition/dataset/193118.wav, segment of test data:11\n",
            "/content/drive/MyDrive/Colab Notebooks/Thesis/voice recognition/dataset/193118.wav, segment of test data:12\n",
            "/content/drive/MyDrive/Colab Notebooks/Thesis/voice recognition/dataset/193118.wav, segment of test data:13\n",
            "/content/drive/MyDrive/Colab Notebooks/Thesis/voice recognition/dataset/193118.wav, segment of test data:14\n",
            "/content/drive/MyDrive/Colab Notebooks/Thesis/voice recognition/dataset/193118.wav, segment of test data:15\n",
            "/content/drive/MyDrive/Colab Notebooks/Thesis/voice recognition/dataset/193118.wav, segment of test data:16\n",
            "/content/drive/MyDrive/Colab Notebooks/Thesis/voice recognition/dataset/193118.wav, segment of test data:17\n",
            "/content/drive/MyDrive/Colab Notebooks/Thesis/voice recognition/dataset/193118.wav, segment of test data:18\n",
            "/content/drive/MyDrive/Colab Notebooks/Thesis/voice recognition/dataset/193118.wav, segment of test data:19\n",
            "/content/drive/MyDrive/Colab Notebooks/Thesis/voice recognition/dataset/193118.wav, segment of test data:20\n",
            "172038\n"
          ]
        },
        {
          "output_type": "stream",
          "name": "stderr",
          "text": [
            "/usr/local/lib/python3.7/dist-packages/librosa/core/audio.py:165: UserWarning: PySoundFile failed. Trying audioread instead.\n",
            "  warnings.warn(\"PySoundFile failed. Trying audioread instead.\")\n"
          ]
        },
        {
          "output_type": "stream",
          "name": "stdout",
          "text": [
            "/content/drive/MyDrive/Colab Notebooks/Thesis/voice recognition/dataset/172038.wav, segment of test data:1\n",
            "/content/drive/MyDrive/Colab Notebooks/Thesis/voice recognition/dataset/172038.wav, segment of test data:2\n",
            "/content/drive/MyDrive/Colab Notebooks/Thesis/voice recognition/dataset/172038.wav, segment of test data:3\n",
            "/content/drive/MyDrive/Colab Notebooks/Thesis/voice recognition/dataset/172038.wav, segment of test data:4\n",
            "/content/drive/MyDrive/Colab Notebooks/Thesis/voice recognition/dataset/172038.wav, segment of test data:5\n",
            "/content/drive/MyDrive/Colab Notebooks/Thesis/voice recognition/dataset/172038.wav, segment of test data:6\n",
            "/content/drive/MyDrive/Colab Notebooks/Thesis/voice recognition/dataset/172038.wav, segment of test data:7\n",
            "/content/drive/MyDrive/Colab Notebooks/Thesis/voice recognition/dataset/172038.wav, segment of test data:8\n",
            "/content/drive/MyDrive/Colab Notebooks/Thesis/voice recognition/dataset/172038.wav, segment of test data:9\n",
            "/content/drive/MyDrive/Colab Notebooks/Thesis/voice recognition/dataset/172038.wav, segment of test data:10\n",
            "/content/drive/MyDrive/Colab Notebooks/Thesis/voice recognition/dataset/172038.wav, segment of test data:11\n",
            "/content/drive/MyDrive/Colab Notebooks/Thesis/voice recognition/dataset/172038.wav, segment of test data:12\n",
            "/content/drive/MyDrive/Colab Notebooks/Thesis/voice recognition/dataset/172038.wav, segment of test data:13\n",
            "/content/drive/MyDrive/Colab Notebooks/Thesis/voice recognition/dataset/172038.wav, segment of test data:14\n",
            "/content/drive/MyDrive/Colab Notebooks/Thesis/voice recognition/dataset/172038.wav, segment of test data:15\n",
            "/content/drive/MyDrive/Colab Notebooks/Thesis/voice recognition/dataset/172038.wav, segment of test data:16\n",
            "/content/drive/MyDrive/Colab Notebooks/Thesis/voice recognition/dataset/172038.wav, segment of test data:17\n",
            "/content/drive/MyDrive/Colab Notebooks/Thesis/voice recognition/dataset/172038.wav, segment of test data:18\n",
            "/content/drive/MyDrive/Colab Notebooks/Thesis/voice recognition/dataset/172038.wav, segment of test data:19\n",
            "/content/drive/MyDrive/Colab Notebooks/Thesis/voice recognition/dataset/172038.wav, segment of test data:20\n",
            "192036\n"
          ]
        },
        {
          "output_type": "stream",
          "name": "stderr",
          "text": [
            "/usr/local/lib/python3.7/dist-packages/librosa/core/audio.py:165: UserWarning: PySoundFile failed. Trying audioread instead.\n",
            "  warnings.warn(\"PySoundFile failed. Trying audioread instead.\")\n"
          ]
        },
        {
          "output_type": "stream",
          "name": "stdout",
          "text": [
            "/content/drive/MyDrive/Colab Notebooks/Thesis/voice recognition/dataset/192036.wav, segment of test data:1\n",
            "/content/drive/MyDrive/Colab Notebooks/Thesis/voice recognition/dataset/192036.wav, segment of test data:2\n",
            "/content/drive/MyDrive/Colab Notebooks/Thesis/voice recognition/dataset/192036.wav, segment of test data:3\n",
            "/content/drive/MyDrive/Colab Notebooks/Thesis/voice recognition/dataset/192036.wav, segment of test data:4\n",
            "/content/drive/MyDrive/Colab Notebooks/Thesis/voice recognition/dataset/192036.wav, segment of test data:5\n",
            "/content/drive/MyDrive/Colab Notebooks/Thesis/voice recognition/dataset/192036.wav, segment of test data:6\n",
            "/content/drive/MyDrive/Colab Notebooks/Thesis/voice recognition/dataset/192036.wav, segment of test data:7\n",
            "/content/drive/MyDrive/Colab Notebooks/Thesis/voice recognition/dataset/192036.wav, segment of test data:8\n",
            "/content/drive/MyDrive/Colab Notebooks/Thesis/voice recognition/dataset/192036.wav, segment of test data:9\n",
            "/content/drive/MyDrive/Colab Notebooks/Thesis/voice recognition/dataset/192036.wav, segment of test data:10\n",
            "/content/drive/MyDrive/Colab Notebooks/Thesis/voice recognition/dataset/192036.wav, segment of test data:11\n",
            "/content/drive/MyDrive/Colab Notebooks/Thesis/voice recognition/dataset/192036.wav, segment of test data:12\n",
            "/content/drive/MyDrive/Colab Notebooks/Thesis/voice recognition/dataset/192036.wav, segment of test data:13\n",
            "/content/drive/MyDrive/Colab Notebooks/Thesis/voice recognition/dataset/192036.wav, segment of test data:14\n",
            "/content/drive/MyDrive/Colab Notebooks/Thesis/voice recognition/dataset/192036.wav, segment of test data:15\n",
            "/content/drive/MyDrive/Colab Notebooks/Thesis/voice recognition/dataset/192036.wav, segment of test data:16\n",
            "/content/drive/MyDrive/Colab Notebooks/Thesis/voice recognition/dataset/192036.wav, segment of test data:17\n",
            "/content/drive/MyDrive/Colab Notebooks/Thesis/voice recognition/dataset/192036.wav, segment of test data:18\n",
            "/content/drive/MyDrive/Colab Notebooks/Thesis/voice recognition/dataset/192036.wav, segment of test data:19\n",
            "/content/drive/MyDrive/Colab Notebooks/Thesis/voice recognition/dataset/192036.wav, segment of test data:20\n",
            "177030\n"
          ]
        },
        {
          "output_type": "stream",
          "name": "stderr",
          "text": [
            "/usr/local/lib/python3.7/dist-packages/librosa/core/audio.py:165: UserWarning: PySoundFile failed. Trying audioread instead.\n",
            "  warnings.warn(\"PySoundFile failed. Trying audioread instead.\")\n"
          ]
        },
        {
          "output_type": "stream",
          "name": "stdout",
          "text": [
            "/content/drive/MyDrive/Colab Notebooks/Thesis/voice recognition/dataset/177030.wav, segment of test data:1\n",
            "/content/drive/MyDrive/Colab Notebooks/Thesis/voice recognition/dataset/177030.wav, segment of test data:2\n",
            "/content/drive/MyDrive/Colab Notebooks/Thesis/voice recognition/dataset/177030.wav, segment of test data:3\n",
            "/content/drive/MyDrive/Colab Notebooks/Thesis/voice recognition/dataset/177030.wav, segment of test data:4\n",
            "/content/drive/MyDrive/Colab Notebooks/Thesis/voice recognition/dataset/177030.wav, segment of test data:5\n",
            "/content/drive/MyDrive/Colab Notebooks/Thesis/voice recognition/dataset/177030.wav, segment of test data:6\n",
            "/content/drive/MyDrive/Colab Notebooks/Thesis/voice recognition/dataset/177030.wav, segment of test data:7\n",
            "/content/drive/MyDrive/Colab Notebooks/Thesis/voice recognition/dataset/177030.wav, segment of test data:8\n",
            "/content/drive/MyDrive/Colab Notebooks/Thesis/voice recognition/dataset/177030.wav, segment of test data:9\n",
            "/content/drive/MyDrive/Colab Notebooks/Thesis/voice recognition/dataset/177030.wav, segment of test data:10\n",
            "/content/drive/MyDrive/Colab Notebooks/Thesis/voice recognition/dataset/177030.wav, segment of test data:11\n",
            "/content/drive/MyDrive/Colab Notebooks/Thesis/voice recognition/dataset/177030.wav, segment of test data:12\n",
            "/content/drive/MyDrive/Colab Notebooks/Thesis/voice recognition/dataset/177030.wav, segment of test data:13\n",
            "/content/drive/MyDrive/Colab Notebooks/Thesis/voice recognition/dataset/177030.wav, segment of test data:14\n",
            "/content/drive/MyDrive/Colab Notebooks/Thesis/voice recognition/dataset/177030.wav, segment of test data:15\n",
            "/content/drive/MyDrive/Colab Notebooks/Thesis/voice recognition/dataset/177030.wav, segment of test data:16\n",
            "/content/drive/MyDrive/Colab Notebooks/Thesis/voice recognition/dataset/177030.wav, segment of test data:17\n",
            "/content/drive/MyDrive/Colab Notebooks/Thesis/voice recognition/dataset/177030.wav, segment of test data:18\n",
            "/content/drive/MyDrive/Colab Notebooks/Thesis/voice recognition/dataset/177030.wav, segment of test data:19\n",
            "/content/drive/MyDrive/Colab Notebooks/Thesis/voice recognition/dataset/177030.wav, segment of test data:20\n",
            "171039\n"
          ]
        },
        {
          "output_type": "stream",
          "name": "stderr",
          "text": [
            "/usr/local/lib/python3.7/dist-packages/librosa/core/audio.py:165: UserWarning: PySoundFile failed. Trying audioread instead.\n",
            "  warnings.warn(\"PySoundFile failed. Trying audioread instead.\")\n"
          ]
        },
        {
          "output_type": "stream",
          "name": "stdout",
          "text": [
            "/content/drive/MyDrive/Colab Notebooks/Thesis/voice recognition/dataset/171039.wav, segment of test data:1\n",
            "/content/drive/MyDrive/Colab Notebooks/Thesis/voice recognition/dataset/171039.wav, segment of test data:2\n",
            "/content/drive/MyDrive/Colab Notebooks/Thesis/voice recognition/dataset/171039.wav, segment of test data:3\n",
            "/content/drive/MyDrive/Colab Notebooks/Thesis/voice recognition/dataset/171039.wav, segment of test data:4\n",
            "/content/drive/MyDrive/Colab Notebooks/Thesis/voice recognition/dataset/171039.wav, segment of test data:5\n",
            "/content/drive/MyDrive/Colab Notebooks/Thesis/voice recognition/dataset/171039.wav, segment of test data:6\n",
            "/content/drive/MyDrive/Colab Notebooks/Thesis/voice recognition/dataset/171039.wav, segment of test data:7\n",
            "/content/drive/MyDrive/Colab Notebooks/Thesis/voice recognition/dataset/171039.wav, segment of test data:8\n",
            "/content/drive/MyDrive/Colab Notebooks/Thesis/voice recognition/dataset/171039.wav, segment of test data:9\n",
            "/content/drive/MyDrive/Colab Notebooks/Thesis/voice recognition/dataset/171039.wav, segment of test data:10\n",
            "/content/drive/MyDrive/Colab Notebooks/Thesis/voice recognition/dataset/171039.wav, segment of test data:11\n",
            "/content/drive/MyDrive/Colab Notebooks/Thesis/voice recognition/dataset/171039.wav, segment of test data:12\n",
            "/content/drive/MyDrive/Colab Notebooks/Thesis/voice recognition/dataset/171039.wav, segment of test data:13\n",
            "/content/drive/MyDrive/Colab Notebooks/Thesis/voice recognition/dataset/171039.wav, segment of test data:14\n",
            "/content/drive/MyDrive/Colab Notebooks/Thesis/voice recognition/dataset/171039.wav, segment of test data:15\n",
            "/content/drive/MyDrive/Colab Notebooks/Thesis/voice recognition/dataset/171039.wav, segment of test data:16\n",
            "/content/drive/MyDrive/Colab Notebooks/Thesis/voice recognition/dataset/171039.wav, segment of test data:17\n",
            "/content/drive/MyDrive/Colab Notebooks/Thesis/voice recognition/dataset/171039.wav, segment of test data:18\n",
            "/content/drive/MyDrive/Colab Notebooks/Thesis/voice recognition/dataset/171039.wav, segment of test data:19\n",
            "/content/drive/MyDrive/Colab Notebooks/Thesis/voice recognition/dataset/171039.wav, segment of test data:20\n",
            "191020\n"
          ]
        },
        {
          "output_type": "stream",
          "name": "stderr",
          "text": [
            "/usr/local/lib/python3.7/dist-packages/librosa/core/audio.py:165: UserWarning: PySoundFile failed. Trying audioread instead.\n",
            "  warnings.warn(\"PySoundFile failed. Trying audioread instead.\")\n"
          ]
        },
        {
          "output_type": "stream",
          "name": "stdout",
          "text": [
            "/content/drive/MyDrive/Colab Notebooks/Thesis/voice recognition/dataset/191020.wav, segment of test data:1\n",
            "/content/drive/MyDrive/Colab Notebooks/Thesis/voice recognition/dataset/191020.wav, segment of test data:2\n",
            "/content/drive/MyDrive/Colab Notebooks/Thesis/voice recognition/dataset/191020.wav, segment of test data:3\n",
            "/content/drive/MyDrive/Colab Notebooks/Thesis/voice recognition/dataset/191020.wav, segment of test data:4\n",
            "/content/drive/MyDrive/Colab Notebooks/Thesis/voice recognition/dataset/191020.wav, segment of test data:5\n",
            "/content/drive/MyDrive/Colab Notebooks/Thesis/voice recognition/dataset/191020.wav, segment of test data:6\n",
            "/content/drive/MyDrive/Colab Notebooks/Thesis/voice recognition/dataset/191020.wav, segment of test data:7\n",
            "/content/drive/MyDrive/Colab Notebooks/Thesis/voice recognition/dataset/191020.wav, segment of test data:8\n",
            "/content/drive/MyDrive/Colab Notebooks/Thesis/voice recognition/dataset/191020.wav, segment of test data:9\n",
            "/content/drive/MyDrive/Colab Notebooks/Thesis/voice recognition/dataset/191020.wav, segment of test data:10\n",
            "/content/drive/MyDrive/Colab Notebooks/Thesis/voice recognition/dataset/191020.wav, segment of test data:11\n",
            "/content/drive/MyDrive/Colab Notebooks/Thesis/voice recognition/dataset/191020.wav, segment of test data:12\n",
            "/content/drive/MyDrive/Colab Notebooks/Thesis/voice recognition/dataset/191020.wav, segment of test data:13\n",
            "/content/drive/MyDrive/Colab Notebooks/Thesis/voice recognition/dataset/191020.wav, segment of test data:14\n",
            "/content/drive/MyDrive/Colab Notebooks/Thesis/voice recognition/dataset/191020.wav, segment of test data:15\n",
            "/content/drive/MyDrive/Colab Notebooks/Thesis/voice recognition/dataset/191020.wav, segment of test data:16\n",
            "/content/drive/MyDrive/Colab Notebooks/Thesis/voice recognition/dataset/191020.wav, segment of test data:17\n",
            "/content/drive/MyDrive/Colab Notebooks/Thesis/voice recognition/dataset/191020.wav, segment of test data:18\n",
            "/content/drive/MyDrive/Colab Notebooks/Thesis/voice recognition/dataset/191020.wav, segment of test data:19\n",
            "/content/drive/MyDrive/Colab Notebooks/Thesis/voice recognition/dataset/191020.wav, segment of test data:20\n",
            "173066\n"
          ]
        },
        {
          "output_type": "stream",
          "name": "stderr",
          "text": [
            "/usr/local/lib/python3.7/dist-packages/librosa/core/audio.py:165: UserWarning: PySoundFile failed. Trying audioread instead.\n",
            "  warnings.warn(\"PySoundFile failed. Trying audioread instead.\")\n"
          ]
        },
        {
          "output_type": "stream",
          "name": "stdout",
          "text": [
            "/content/drive/MyDrive/Colab Notebooks/Thesis/voice recognition/dataset/173066.wav, segment of test data:1\n",
            "/content/drive/MyDrive/Colab Notebooks/Thesis/voice recognition/dataset/173066.wav, segment of test data:2\n",
            "/content/drive/MyDrive/Colab Notebooks/Thesis/voice recognition/dataset/173066.wav, segment of test data:3\n",
            "/content/drive/MyDrive/Colab Notebooks/Thesis/voice recognition/dataset/173066.wav, segment of test data:4\n",
            "/content/drive/MyDrive/Colab Notebooks/Thesis/voice recognition/dataset/173066.wav, segment of test data:5\n",
            "/content/drive/MyDrive/Colab Notebooks/Thesis/voice recognition/dataset/173066.wav, segment of test data:6\n",
            "/content/drive/MyDrive/Colab Notebooks/Thesis/voice recognition/dataset/173066.wav, segment of test data:7\n",
            "/content/drive/MyDrive/Colab Notebooks/Thesis/voice recognition/dataset/173066.wav, segment of test data:8\n",
            "/content/drive/MyDrive/Colab Notebooks/Thesis/voice recognition/dataset/173066.wav, segment of test data:9\n",
            "/content/drive/MyDrive/Colab Notebooks/Thesis/voice recognition/dataset/173066.wav, segment of test data:10\n",
            "/content/drive/MyDrive/Colab Notebooks/Thesis/voice recognition/dataset/173066.wav, segment of test data:11\n",
            "/content/drive/MyDrive/Colab Notebooks/Thesis/voice recognition/dataset/173066.wav, segment of test data:12\n",
            "/content/drive/MyDrive/Colab Notebooks/Thesis/voice recognition/dataset/173066.wav, segment of test data:13\n",
            "/content/drive/MyDrive/Colab Notebooks/Thesis/voice recognition/dataset/173066.wav, segment of test data:14\n",
            "/content/drive/MyDrive/Colab Notebooks/Thesis/voice recognition/dataset/173066.wav, segment of test data:15\n",
            "/content/drive/MyDrive/Colab Notebooks/Thesis/voice recognition/dataset/173066.wav, segment of test data:16\n",
            "/content/drive/MyDrive/Colab Notebooks/Thesis/voice recognition/dataset/173066.wav, segment of test data:17\n",
            "/content/drive/MyDrive/Colab Notebooks/Thesis/voice recognition/dataset/173066.wav, segment of test data:18\n",
            "/content/drive/MyDrive/Colab Notebooks/Thesis/voice recognition/dataset/173066.wav, segment of test data:19\n",
            "/content/drive/MyDrive/Colab Notebooks/Thesis/voice recognition/dataset/173066.wav, segment of test data:20\n",
            "171042\n"
          ]
        },
        {
          "output_type": "stream",
          "name": "stderr",
          "text": [
            "/usr/local/lib/python3.7/dist-packages/librosa/core/audio.py:165: UserWarning: PySoundFile failed. Trying audioread instead.\n",
            "  warnings.warn(\"PySoundFile failed. Trying audioread instead.\")\n"
          ]
        },
        {
          "output_type": "stream",
          "name": "stdout",
          "text": [
            "/content/drive/MyDrive/Colab Notebooks/Thesis/voice recognition/dataset/171042.wav, segment of test data:1\n",
            "/content/drive/MyDrive/Colab Notebooks/Thesis/voice recognition/dataset/171042.wav, segment of test data:2\n",
            "/content/drive/MyDrive/Colab Notebooks/Thesis/voice recognition/dataset/171042.wav, segment of test data:3\n",
            "/content/drive/MyDrive/Colab Notebooks/Thesis/voice recognition/dataset/171042.wav, segment of test data:4\n",
            "/content/drive/MyDrive/Colab Notebooks/Thesis/voice recognition/dataset/171042.wav, segment of test data:5\n",
            "/content/drive/MyDrive/Colab Notebooks/Thesis/voice recognition/dataset/171042.wav, segment of test data:6\n",
            "/content/drive/MyDrive/Colab Notebooks/Thesis/voice recognition/dataset/171042.wav, segment of test data:7\n",
            "/content/drive/MyDrive/Colab Notebooks/Thesis/voice recognition/dataset/171042.wav, segment of test data:8\n",
            "/content/drive/MyDrive/Colab Notebooks/Thesis/voice recognition/dataset/171042.wav, segment of test data:9\n",
            "/content/drive/MyDrive/Colab Notebooks/Thesis/voice recognition/dataset/171042.wav, segment of test data:10\n",
            "/content/drive/MyDrive/Colab Notebooks/Thesis/voice recognition/dataset/171042.wav, segment of test data:11\n",
            "/content/drive/MyDrive/Colab Notebooks/Thesis/voice recognition/dataset/171042.wav, segment of test data:12\n",
            "/content/drive/MyDrive/Colab Notebooks/Thesis/voice recognition/dataset/171042.wav, segment of test data:13\n",
            "/content/drive/MyDrive/Colab Notebooks/Thesis/voice recognition/dataset/171042.wav, segment of test data:14\n",
            "/content/drive/MyDrive/Colab Notebooks/Thesis/voice recognition/dataset/171042.wav, segment of test data:15\n",
            "/content/drive/MyDrive/Colab Notebooks/Thesis/voice recognition/dataset/171042.wav, segment of test data:16\n",
            "/content/drive/MyDrive/Colab Notebooks/Thesis/voice recognition/dataset/171042.wav, segment of test data:17\n",
            "/content/drive/MyDrive/Colab Notebooks/Thesis/voice recognition/dataset/171042.wav, segment of test data:18\n",
            "/content/drive/MyDrive/Colab Notebooks/Thesis/voice recognition/dataset/171042.wav, segment of test data:19\n",
            "/content/drive/MyDrive/Colab Notebooks/Thesis/voice recognition/dataset/171042.wav, segment of test data:20\n",
            "194091\n"
          ]
        },
        {
          "output_type": "stream",
          "name": "stderr",
          "text": [
            "/usr/local/lib/python3.7/dist-packages/librosa/core/audio.py:165: UserWarning: PySoundFile failed. Trying audioread instead.\n",
            "  warnings.warn(\"PySoundFile failed. Trying audioread instead.\")\n"
          ]
        },
        {
          "output_type": "stream",
          "name": "stdout",
          "text": [
            "/content/drive/MyDrive/Colab Notebooks/Thesis/voice recognition/dataset/194091.wav, segment of test data:1\n",
            "/content/drive/MyDrive/Colab Notebooks/Thesis/voice recognition/dataset/194091.wav, segment of test data:2\n",
            "/content/drive/MyDrive/Colab Notebooks/Thesis/voice recognition/dataset/194091.wav, segment of test data:3\n",
            "/content/drive/MyDrive/Colab Notebooks/Thesis/voice recognition/dataset/194091.wav, segment of test data:4\n",
            "/content/drive/MyDrive/Colab Notebooks/Thesis/voice recognition/dataset/194091.wav, segment of test data:5\n",
            "/content/drive/MyDrive/Colab Notebooks/Thesis/voice recognition/dataset/194091.wav, segment of test data:6\n",
            "/content/drive/MyDrive/Colab Notebooks/Thesis/voice recognition/dataset/194091.wav, segment of test data:7\n",
            "/content/drive/MyDrive/Colab Notebooks/Thesis/voice recognition/dataset/194091.wav, segment of test data:8\n",
            "/content/drive/MyDrive/Colab Notebooks/Thesis/voice recognition/dataset/194091.wav, segment of test data:9\n",
            "/content/drive/MyDrive/Colab Notebooks/Thesis/voice recognition/dataset/194091.wav, segment of test data:10\n",
            "/content/drive/MyDrive/Colab Notebooks/Thesis/voice recognition/dataset/194091.wav, segment of test data:11\n",
            "/content/drive/MyDrive/Colab Notebooks/Thesis/voice recognition/dataset/194091.wav, segment of test data:12\n",
            "/content/drive/MyDrive/Colab Notebooks/Thesis/voice recognition/dataset/194091.wav, segment of test data:13\n",
            "/content/drive/MyDrive/Colab Notebooks/Thesis/voice recognition/dataset/194091.wav, segment of test data:14\n",
            "/content/drive/MyDrive/Colab Notebooks/Thesis/voice recognition/dataset/194091.wav, segment of test data:15\n",
            "/content/drive/MyDrive/Colab Notebooks/Thesis/voice recognition/dataset/194091.wav, segment of test data:16\n",
            "/content/drive/MyDrive/Colab Notebooks/Thesis/voice recognition/dataset/194091.wav, segment of test data:17\n",
            "/content/drive/MyDrive/Colab Notebooks/Thesis/voice recognition/dataset/194091.wav, segment of test data:18\n",
            "/content/drive/MyDrive/Colab Notebooks/Thesis/voice recognition/dataset/194091.wav, segment of test data:19\n",
            "/content/drive/MyDrive/Colab Notebooks/Thesis/voice recognition/dataset/194091.wav, segment of test data:20\n",
            "194054\n"
          ]
        },
        {
          "output_type": "stream",
          "name": "stderr",
          "text": [
            "/usr/local/lib/python3.7/dist-packages/librosa/core/audio.py:165: UserWarning: PySoundFile failed. Trying audioread instead.\n",
            "  warnings.warn(\"PySoundFile failed. Trying audioread instead.\")\n"
          ]
        },
        {
          "output_type": "stream",
          "name": "stdout",
          "text": [
            "/content/drive/MyDrive/Colab Notebooks/Thesis/voice recognition/dataset/194054.wav, segment of test data:1\n",
            "/content/drive/MyDrive/Colab Notebooks/Thesis/voice recognition/dataset/194054.wav, segment of test data:2\n",
            "/content/drive/MyDrive/Colab Notebooks/Thesis/voice recognition/dataset/194054.wav, segment of test data:3\n",
            "/content/drive/MyDrive/Colab Notebooks/Thesis/voice recognition/dataset/194054.wav, segment of test data:4\n",
            "/content/drive/MyDrive/Colab Notebooks/Thesis/voice recognition/dataset/194054.wav, segment of test data:5\n",
            "/content/drive/MyDrive/Colab Notebooks/Thesis/voice recognition/dataset/194054.wav, segment of test data:6\n",
            "/content/drive/MyDrive/Colab Notebooks/Thesis/voice recognition/dataset/194054.wav, segment of test data:7\n",
            "/content/drive/MyDrive/Colab Notebooks/Thesis/voice recognition/dataset/194054.wav, segment of test data:8\n",
            "/content/drive/MyDrive/Colab Notebooks/Thesis/voice recognition/dataset/194054.wav, segment of test data:9\n",
            "/content/drive/MyDrive/Colab Notebooks/Thesis/voice recognition/dataset/194054.wav, segment of test data:10\n",
            "/content/drive/MyDrive/Colab Notebooks/Thesis/voice recognition/dataset/194054.wav, segment of test data:11\n",
            "/content/drive/MyDrive/Colab Notebooks/Thesis/voice recognition/dataset/194054.wav, segment of test data:12\n",
            "/content/drive/MyDrive/Colab Notebooks/Thesis/voice recognition/dataset/194054.wav, segment of test data:13\n",
            "/content/drive/MyDrive/Colab Notebooks/Thesis/voice recognition/dataset/194054.wav, segment of test data:14\n",
            "/content/drive/MyDrive/Colab Notebooks/Thesis/voice recognition/dataset/194054.wav, segment of test data:15\n",
            "/content/drive/MyDrive/Colab Notebooks/Thesis/voice recognition/dataset/194054.wav, segment of test data:16\n",
            "/content/drive/MyDrive/Colab Notebooks/Thesis/voice recognition/dataset/194054.wav, segment of test data:17\n",
            "/content/drive/MyDrive/Colab Notebooks/Thesis/voice recognition/dataset/194054.wav, segment of test data:18\n",
            "/content/drive/MyDrive/Colab Notebooks/Thesis/voice recognition/dataset/194054.wav, segment of test data:19\n",
            "/content/drive/MyDrive/Colab Notebooks/Thesis/voice recognition/dataset/194054.wav, segment of test data:20\n",
            "193039\n"
          ]
        },
        {
          "output_type": "stream",
          "name": "stderr",
          "text": [
            "/usr/local/lib/python3.7/dist-packages/librosa/core/audio.py:165: UserWarning: PySoundFile failed. Trying audioread instead.\n",
            "  warnings.warn(\"PySoundFile failed. Trying audioread instead.\")\n"
          ]
        },
        {
          "output_type": "stream",
          "name": "stdout",
          "text": [
            "/content/drive/MyDrive/Colab Notebooks/Thesis/voice recognition/dataset/193039.wav, segment of test data:1\n",
            "/content/drive/MyDrive/Colab Notebooks/Thesis/voice recognition/dataset/193039.wav, segment of test data:2\n",
            "/content/drive/MyDrive/Colab Notebooks/Thesis/voice recognition/dataset/193039.wav, segment of test data:3\n",
            "/content/drive/MyDrive/Colab Notebooks/Thesis/voice recognition/dataset/193039.wav, segment of test data:4\n",
            "/content/drive/MyDrive/Colab Notebooks/Thesis/voice recognition/dataset/193039.wav, segment of test data:5\n",
            "/content/drive/MyDrive/Colab Notebooks/Thesis/voice recognition/dataset/193039.wav, segment of test data:6\n",
            "/content/drive/MyDrive/Colab Notebooks/Thesis/voice recognition/dataset/193039.wav, segment of test data:7\n",
            "/content/drive/MyDrive/Colab Notebooks/Thesis/voice recognition/dataset/193039.wav, segment of test data:8\n",
            "/content/drive/MyDrive/Colab Notebooks/Thesis/voice recognition/dataset/193039.wav, segment of test data:9\n",
            "/content/drive/MyDrive/Colab Notebooks/Thesis/voice recognition/dataset/193039.wav, segment of test data:10\n",
            "/content/drive/MyDrive/Colab Notebooks/Thesis/voice recognition/dataset/193039.wav, segment of test data:11\n",
            "/content/drive/MyDrive/Colab Notebooks/Thesis/voice recognition/dataset/193039.wav, segment of test data:12\n",
            "/content/drive/MyDrive/Colab Notebooks/Thesis/voice recognition/dataset/193039.wav, segment of test data:13\n",
            "/content/drive/MyDrive/Colab Notebooks/Thesis/voice recognition/dataset/193039.wav, segment of test data:14\n",
            "/content/drive/MyDrive/Colab Notebooks/Thesis/voice recognition/dataset/193039.wav, segment of test data:15\n",
            "/content/drive/MyDrive/Colab Notebooks/Thesis/voice recognition/dataset/193039.wav, segment of test data:16\n",
            "/content/drive/MyDrive/Colab Notebooks/Thesis/voice recognition/dataset/193039.wav, segment of test data:17\n",
            "/content/drive/MyDrive/Colab Notebooks/Thesis/voice recognition/dataset/193039.wav, segment of test data:18\n",
            "/content/drive/MyDrive/Colab Notebooks/Thesis/voice recognition/dataset/193039.wav, segment of test data:19\n",
            "/content/drive/MyDrive/Colab Notebooks/Thesis/voice recognition/dataset/193039.wav, segment of test data:20\n",
            "202080\n"
          ]
        },
        {
          "output_type": "stream",
          "name": "stderr",
          "text": [
            "/usr/local/lib/python3.7/dist-packages/librosa/core/audio.py:165: UserWarning: PySoundFile failed. Trying audioread instead.\n",
            "  warnings.warn(\"PySoundFile failed. Trying audioread instead.\")\n"
          ]
        },
        {
          "output_type": "stream",
          "name": "stdout",
          "text": [
            "/content/drive/MyDrive/Colab Notebooks/Thesis/voice recognition/dataset/202080.wav, segment of test data:1\n",
            "/content/drive/MyDrive/Colab Notebooks/Thesis/voice recognition/dataset/202080.wav, segment of test data:2\n",
            "/content/drive/MyDrive/Colab Notebooks/Thesis/voice recognition/dataset/202080.wav, segment of test data:3\n",
            "/content/drive/MyDrive/Colab Notebooks/Thesis/voice recognition/dataset/202080.wav, segment of test data:4\n",
            "/content/drive/MyDrive/Colab Notebooks/Thesis/voice recognition/dataset/202080.wav, segment of test data:5\n",
            "/content/drive/MyDrive/Colab Notebooks/Thesis/voice recognition/dataset/202080.wav, segment of test data:6\n",
            "/content/drive/MyDrive/Colab Notebooks/Thesis/voice recognition/dataset/202080.wav, segment of test data:7\n",
            "/content/drive/MyDrive/Colab Notebooks/Thesis/voice recognition/dataset/202080.wav, segment of test data:8\n",
            "/content/drive/MyDrive/Colab Notebooks/Thesis/voice recognition/dataset/202080.wav, segment of test data:9\n",
            "/content/drive/MyDrive/Colab Notebooks/Thesis/voice recognition/dataset/202080.wav, segment of test data:10\n",
            "/content/drive/MyDrive/Colab Notebooks/Thesis/voice recognition/dataset/202080.wav, segment of test data:11\n",
            "/content/drive/MyDrive/Colab Notebooks/Thesis/voice recognition/dataset/202080.wav, segment of test data:12\n",
            "/content/drive/MyDrive/Colab Notebooks/Thesis/voice recognition/dataset/202080.wav, segment of test data:13\n",
            "/content/drive/MyDrive/Colab Notebooks/Thesis/voice recognition/dataset/202080.wav, segment of test data:14\n",
            "/content/drive/MyDrive/Colab Notebooks/Thesis/voice recognition/dataset/202080.wav, segment of test data:15\n",
            "/content/drive/MyDrive/Colab Notebooks/Thesis/voice recognition/dataset/202080.wav, segment of test data:16\n",
            "/content/drive/MyDrive/Colab Notebooks/Thesis/voice recognition/dataset/202080.wav, segment of test data:17\n",
            "/content/drive/MyDrive/Colab Notebooks/Thesis/voice recognition/dataset/202080.wav, segment of test data:18\n",
            "/content/drive/MyDrive/Colab Notebooks/Thesis/voice recognition/dataset/202080.wav, segment of test data:19\n",
            "/content/drive/MyDrive/Colab Notebooks/Thesis/voice recognition/dataset/202080.wav, segment of test data:20\n",
            "199015\n"
          ]
        },
        {
          "output_type": "stream",
          "name": "stderr",
          "text": [
            "/usr/local/lib/python3.7/dist-packages/librosa/core/audio.py:165: UserWarning: PySoundFile failed. Trying audioread instead.\n",
            "  warnings.warn(\"PySoundFile failed. Trying audioread instead.\")\n"
          ]
        },
        {
          "output_type": "stream",
          "name": "stdout",
          "text": [
            "/content/drive/MyDrive/Colab Notebooks/Thesis/voice recognition/dataset/199015.wav, segment of test data:1\n",
            "/content/drive/MyDrive/Colab Notebooks/Thesis/voice recognition/dataset/199015.wav, segment of test data:2\n",
            "/content/drive/MyDrive/Colab Notebooks/Thesis/voice recognition/dataset/199015.wav, segment of test data:3\n",
            "/content/drive/MyDrive/Colab Notebooks/Thesis/voice recognition/dataset/199015.wav, segment of test data:4\n",
            "/content/drive/MyDrive/Colab Notebooks/Thesis/voice recognition/dataset/199015.wav, segment of test data:5\n",
            "/content/drive/MyDrive/Colab Notebooks/Thesis/voice recognition/dataset/199015.wav, segment of test data:6\n",
            "/content/drive/MyDrive/Colab Notebooks/Thesis/voice recognition/dataset/199015.wav, segment of test data:7\n",
            "/content/drive/MyDrive/Colab Notebooks/Thesis/voice recognition/dataset/199015.wav, segment of test data:8\n",
            "/content/drive/MyDrive/Colab Notebooks/Thesis/voice recognition/dataset/199015.wav, segment of test data:9\n",
            "/content/drive/MyDrive/Colab Notebooks/Thesis/voice recognition/dataset/199015.wav, segment of test data:10\n",
            "/content/drive/MyDrive/Colab Notebooks/Thesis/voice recognition/dataset/199015.wav, segment of test data:11\n",
            "/content/drive/MyDrive/Colab Notebooks/Thesis/voice recognition/dataset/199015.wav, segment of test data:12\n",
            "/content/drive/MyDrive/Colab Notebooks/Thesis/voice recognition/dataset/199015.wav, segment of test data:13\n",
            "/content/drive/MyDrive/Colab Notebooks/Thesis/voice recognition/dataset/199015.wav, segment of test data:14\n",
            "/content/drive/MyDrive/Colab Notebooks/Thesis/voice recognition/dataset/199015.wav, segment of test data:15\n",
            "/content/drive/MyDrive/Colab Notebooks/Thesis/voice recognition/dataset/199015.wav, segment of test data:16\n",
            "/content/drive/MyDrive/Colab Notebooks/Thesis/voice recognition/dataset/199015.wav, segment of test data:17\n",
            "/content/drive/MyDrive/Colab Notebooks/Thesis/voice recognition/dataset/199015.wav, segment of test data:18\n",
            "/content/drive/MyDrive/Colab Notebooks/Thesis/voice recognition/dataset/199015.wav, segment of test data:19\n",
            "/content/drive/MyDrive/Colab Notebooks/Thesis/voice recognition/dataset/199015.wav, segment of test data:20\n",
            "203006\n"
          ]
        },
        {
          "output_type": "stream",
          "name": "stderr",
          "text": [
            "/usr/local/lib/python3.7/dist-packages/librosa/core/audio.py:165: UserWarning: PySoundFile failed. Trying audioread instead.\n",
            "  warnings.warn(\"PySoundFile failed. Trying audioread instead.\")\n"
          ]
        },
        {
          "output_type": "stream",
          "name": "stdout",
          "text": [
            "/content/drive/MyDrive/Colab Notebooks/Thesis/voice recognition/dataset/203006.wav, segment of test data:1\n",
            "/content/drive/MyDrive/Colab Notebooks/Thesis/voice recognition/dataset/203006.wav, segment of test data:2\n",
            "/content/drive/MyDrive/Colab Notebooks/Thesis/voice recognition/dataset/203006.wav, segment of test data:3\n",
            "/content/drive/MyDrive/Colab Notebooks/Thesis/voice recognition/dataset/203006.wav, segment of test data:4\n",
            "/content/drive/MyDrive/Colab Notebooks/Thesis/voice recognition/dataset/203006.wav, segment of test data:5\n",
            "/content/drive/MyDrive/Colab Notebooks/Thesis/voice recognition/dataset/203006.wav, segment of test data:6\n",
            "/content/drive/MyDrive/Colab Notebooks/Thesis/voice recognition/dataset/203006.wav, segment of test data:7\n",
            "/content/drive/MyDrive/Colab Notebooks/Thesis/voice recognition/dataset/203006.wav, segment of test data:8\n",
            "/content/drive/MyDrive/Colab Notebooks/Thesis/voice recognition/dataset/203006.wav, segment of test data:9\n",
            "/content/drive/MyDrive/Colab Notebooks/Thesis/voice recognition/dataset/203006.wav, segment of test data:10\n",
            "/content/drive/MyDrive/Colab Notebooks/Thesis/voice recognition/dataset/203006.wav, segment of test data:11\n",
            "/content/drive/MyDrive/Colab Notebooks/Thesis/voice recognition/dataset/203006.wav, segment of test data:12\n",
            "/content/drive/MyDrive/Colab Notebooks/Thesis/voice recognition/dataset/203006.wav, segment of test data:13\n",
            "/content/drive/MyDrive/Colab Notebooks/Thesis/voice recognition/dataset/203006.wav, segment of test data:14\n",
            "/content/drive/MyDrive/Colab Notebooks/Thesis/voice recognition/dataset/203006.wav, segment of test data:15\n",
            "/content/drive/MyDrive/Colab Notebooks/Thesis/voice recognition/dataset/203006.wav, segment of test data:16\n",
            "/content/drive/MyDrive/Colab Notebooks/Thesis/voice recognition/dataset/203006.wav, segment of test data:17\n",
            "/content/drive/MyDrive/Colab Notebooks/Thesis/voice recognition/dataset/203006.wav, segment of test data:18\n",
            "/content/drive/MyDrive/Colab Notebooks/Thesis/voice recognition/dataset/203006.wav, segment of test data:19\n",
            "/content/drive/MyDrive/Colab Notebooks/Thesis/voice recognition/dataset/203006.wav, segment of test data:20\n",
            "201052\n"
          ]
        },
        {
          "output_type": "stream",
          "name": "stderr",
          "text": [
            "/usr/local/lib/python3.7/dist-packages/librosa/core/audio.py:165: UserWarning: PySoundFile failed. Trying audioread instead.\n",
            "  warnings.warn(\"PySoundFile failed. Trying audioread instead.\")\n"
          ]
        },
        {
          "output_type": "stream",
          "name": "stdout",
          "text": [
            "/content/drive/MyDrive/Colab Notebooks/Thesis/voice recognition/dataset/201052.wav, segment of test data:1\n",
            "/content/drive/MyDrive/Colab Notebooks/Thesis/voice recognition/dataset/201052.wav, segment of test data:2\n",
            "/content/drive/MyDrive/Colab Notebooks/Thesis/voice recognition/dataset/201052.wav, segment of test data:3\n",
            "/content/drive/MyDrive/Colab Notebooks/Thesis/voice recognition/dataset/201052.wav, segment of test data:4\n",
            "/content/drive/MyDrive/Colab Notebooks/Thesis/voice recognition/dataset/201052.wav, segment of test data:5\n",
            "/content/drive/MyDrive/Colab Notebooks/Thesis/voice recognition/dataset/201052.wav, segment of test data:6\n",
            "/content/drive/MyDrive/Colab Notebooks/Thesis/voice recognition/dataset/201052.wav, segment of test data:7\n",
            "/content/drive/MyDrive/Colab Notebooks/Thesis/voice recognition/dataset/201052.wav, segment of test data:8\n",
            "/content/drive/MyDrive/Colab Notebooks/Thesis/voice recognition/dataset/201052.wav, segment of test data:9\n",
            "/content/drive/MyDrive/Colab Notebooks/Thesis/voice recognition/dataset/201052.wav, segment of test data:10\n",
            "/content/drive/MyDrive/Colab Notebooks/Thesis/voice recognition/dataset/201052.wav, segment of test data:11\n",
            "/content/drive/MyDrive/Colab Notebooks/Thesis/voice recognition/dataset/201052.wav, segment of test data:12\n",
            "/content/drive/MyDrive/Colab Notebooks/Thesis/voice recognition/dataset/201052.wav, segment of test data:13\n",
            "/content/drive/MyDrive/Colab Notebooks/Thesis/voice recognition/dataset/201052.wav, segment of test data:14\n",
            "/content/drive/MyDrive/Colab Notebooks/Thesis/voice recognition/dataset/201052.wav, segment of test data:15\n",
            "/content/drive/MyDrive/Colab Notebooks/Thesis/voice recognition/dataset/201052.wav, segment of test data:16\n",
            "/content/drive/MyDrive/Colab Notebooks/Thesis/voice recognition/dataset/201052.wav, segment of test data:17\n",
            "/content/drive/MyDrive/Colab Notebooks/Thesis/voice recognition/dataset/201052.wav, segment of test data:18\n",
            "/content/drive/MyDrive/Colab Notebooks/Thesis/voice recognition/dataset/201052.wav, segment of test data:19\n",
            "/content/drive/MyDrive/Colab Notebooks/Thesis/voice recognition/dataset/201052.wav, segment of test data:20\n",
            "197001\n"
          ]
        },
        {
          "output_type": "stream",
          "name": "stderr",
          "text": [
            "/usr/local/lib/python3.7/dist-packages/librosa/core/audio.py:165: UserWarning: PySoundFile failed. Trying audioread instead.\n",
            "  warnings.warn(\"PySoundFile failed. Trying audioread instead.\")\n"
          ]
        },
        {
          "output_type": "stream",
          "name": "stdout",
          "text": [
            "/content/drive/MyDrive/Colab Notebooks/Thesis/voice recognition/dataset/197001.wav, segment of test data:1\n",
            "/content/drive/MyDrive/Colab Notebooks/Thesis/voice recognition/dataset/197001.wav, segment of test data:2\n",
            "/content/drive/MyDrive/Colab Notebooks/Thesis/voice recognition/dataset/197001.wav, segment of test data:3\n",
            "/content/drive/MyDrive/Colab Notebooks/Thesis/voice recognition/dataset/197001.wav, segment of test data:4\n",
            "/content/drive/MyDrive/Colab Notebooks/Thesis/voice recognition/dataset/197001.wav, segment of test data:5\n",
            "/content/drive/MyDrive/Colab Notebooks/Thesis/voice recognition/dataset/197001.wav, segment of test data:6\n",
            "/content/drive/MyDrive/Colab Notebooks/Thesis/voice recognition/dataset/197001.wav, segment of test data:7\n",
            "/content/drive/MyDrive/Colab Notebooks/Thesis/voice recognition/dataset/197001.wav, segment of test data:8\n",
            "/content/drive/MyDrive/Colab Notebooks/Thesis/voice recognition/dataset/197001.wav, segment of test data:9\n",
            "/content/drive/MyDrive/Colab Notebooks/Thesis/voice recognition/dataset/197001.wav, segment of test data:10\n",
            "/content/drive/MyDrive/Colab Notebooks/Thesis/voice recognition/dataset/197001.wav, segment of test data:11\n",
            "/content/drive/MyDrive/Colab Notebooks/Thesis/voice recognition/dataset/197001.wav, segment of test data:12\n",
            "/content/drive/MyDrive/Colab Notebooks/Thesis/voice recognition/dataset/197001.wav, segment of test data:13\n",
            "/content/drive/MyDrive/Colab Notebooks/Thesis/voice recognition/dataset/197001.wav, segment of test data:14\n",
            "/content/drive/MyDrive/Colab Notebooks/Thesis/voice recognition/dataset/197001.wav, segment of test data:15\n",
            "/content/drive/MyDrive/Colab Notebooks/Thesis/voice recognition/dataset/197001.wav, segment of test data:16\n",
            "/content/drive/MyDrive/Colab Notebooks/Thesis/voice recognition/dataset/197001.wav, segment of test data:17\n",
            "/content/drive/MyDrive/Colab Notebooks/Thesis/voice recognition/dataset/197001.wav, segment of test data:18\n",
            "/content/drive/MyDrive/Colab Notebooks/Thesis/voice recognition/dataset/197001.wav, segment of test data:19\n",
            "/content/drive/MyDrive/Colab Notebooks/Thesis/voice recognition/dataset/197001.wav, segment of test data:20\n",
            "198012\n"
          ]
        },
        {
          "output_type": "stream",
          "name": "stderr",
          "text": [
            "/usr/local/lib/python3.7/dist-packages/librosa/core/audio.py:165: UserWarning: PySoundFile failed. Trying audioread instead.\n",
            "  warnings.warn(\"PySoundFile failed. Trying audioread instead.\")\n"
          ]
        },
        {
          "output_type": "stream",
          "name": "stdout",
          "text": [
            "/content/drive/MyDrive/Colab Notebooks/Thesis/voice recognition/dataset/198012.wav, segment of test data:1\n",
            "/content/drive/MyDrive/Colab Notebooks/Thesis/voice recognition/dataset/198012.wav, segment of test data:2\n",
            "/content/drive/MyDrive/Colab Notebooks/Thesis/voice recognition/dataset/198012.wav, segment of test data:3\n",
            "/content/drive/MyDrive/Colab Notebooks/Thesis/voice recognition/dataset/198012.wav, segment of test data:4\n",
            "/content/drive/MyDrive/Colab Notebooks/Thesis/voice recognition/dataset/198012.wav, segment of test data:5\n",
            "/content/drive/MyDrive/Colab Notebooks/Thesis/voice recognition/dataset/198012.wav, segment of test data:6\n",
            "/content/drive/MyDrive/Colab Notebooks/Thesis/voice recognition/dataset/198012.wav, segment of test data:7\n",
            "/content/drive/MyDrive/Colab Notebooks/Thesis/voice recognition/dataset/198012.wav, segment of test data:8\n",
            "/content/drive/MyDrive/Colab Notebooks/Thesis/voice recognition/dataset/198012.wav, segment of test data:9\n",
            "/content/drive/MyDrive/Colab Notebooks/Thesis/voice recognition/dataset/198012.wav, segment of test data:10\n",
            "/content/drive/MyDrive/Colab Notebooks/Thesis/voice recognition/dataset/198012.wav, segment of test data:11\n",
            "/content/drive/MyDrive/Colab Notebooks/Thesis/voice recognition/dataset/198012.wav, segment of test data:12\n",
            "/content/drive/MyDrive/Colab Notebooks/Thesis/voice recognition/dataset/198012.wav, segment of test data:13\n",
            "/content/drive/MyDrive/Colab Notebooks/Thesis/voice recognition/dataset/198012.wav, segment of test data:14\n",
            "/content/drive/MyDrive/Colab Notebooks/Thesis/voice recognition/dataset/198012.wav, segment of test data:15\n",
            "/content/drive/MyDrive/Colab Notebooks/Thesis/voice recognition/dataset/198012.wav, segment of test data:16\n",
            "/content/drive/MyDrive/Colab Notebooks/Thesis/voice recognition/dataset/198012.wav, segment of test data:17\n",
            "/content/drive/MyDrive/Colab Notebooks/Thesis/voice recognition/dataset/198012.wav, segment of test data:18\n",
            "/content/drive/MyDrive/Colab Notebooks/Thesis/voice recognition/dataset/198012.wav, segment of test data:19\n",
            "/content/drive/MyDrive/Colab Notebooks/Thesis/voice recognition/dataset/198012.wav, segment of test data:20\n",
            "203076\n"
          ]
        },
        {
          "output_type": "stream",
          "name": "stderr",
          "text": [
            "/usr/local/lib/python3.7/dist-packages/librosa/core/audio.py:165: UserWarning: PySoundFile failed. Trying audioread instead.\n",
            "  warnings.warn(\"PySoundFile failed. Trying audioread instead.\")\n"
          ]
        },
        {
          "output_type": "stream",
          "name": "stdout",
          "text": [
            "/content/drive/MyDrive/Colab Notebooks/Thesis/voice recognition/dataset/203076.wav, segment of test data:1\n",
            "/content/drive/MyDrive/Colab Notebooks/Thesis/voice recognition/dataset/203076.wav, segment of test data:2\n",
            "/content/drive/MyDrive/Colab Notebooks/Thesis/voice recognition/dataset/203076.wav, segment of test data:3\n",
            "/content/drive/MyDrive/Colab Notebooks/Thesis/voice recognition/dataset/203076.wav, segment of test data:4\n",
            "/content/drive/MyDrive/Colab Notebooks/Thesis/voice recognition/dataset/203076.wav, segment of test data:5\n",
            "/content/drive/MyDrive/Colab Notebooks/Thesis/voice recognition/dataset/203076.wav, segment of test data:6\n",
            "/content/drive/MyDrive/Colab Notebooks/Thesis/voice recognition/dataset/203076.wav, segment of test data:7\n",
            "/content/drive/MyDrive/Colab Notebooks/Thesis/voice recognition/dataset/203076.wav, segment of test data:8\n",
            "/content/drive/MyDrive/Colab Notebooks/Thesis/voice recognition/dataset/203076.wav, segment of test data:9\n",
            "/content/drive/MyDrive/Colab Notebooks/Thesis/voice recognition/dataset/203076.wav, segment of test data:10\n",
            "/content/drive/MyDrive/Colab Notebooks/Thesis/voice recognition/dataset/203076.wav, segment of test data:11\n",
            "/content/drive/MyDrive/Colab Notebooks/Thesis/voice recognition/dataset/203076.wav, segment of test data:12\n",
            "/content/drive/MyDrive/Colab Notebooks/Thesis/voice recognition/dataset/203076.wav, segment of test data:13\n",
            "/content/drive/MyDrive/Colab Notebooks/Thesis/voice recognition/dataset/203076.wav, segment of test data:14\n",
            "/content/drive/MyDrive/Colab Notebooks/Thesis/voice recognition/dataset/203076.wav, segment of test data:15\n",
            "/content/drive/MyDrive/Colab Notebooks/Thesis/voice recognition/dataset/203076.wav, segment of test data:16\n",
            "/content/drive/MyDrive/Colab Notebooks/Thesis/voice recognition/dataset/203076.wav, segment of test data:17\n",
            "/content/drive/MyDrive/Colab Notebooks/Thesis/voice recognition/dataset/203076.wav, segment of test data:18\n",
            "/content/drive/MyDrive/Colab Notebooks/Thesis/voice recognition/dataset/203076.wav, segment of test data:19\n",
            "/content/drive/MyDrive/Colab Notebooks/Thesis/voice recognition/dataset/203076.wav, segment of test data:20\n",
            "171087\n"
          ]
        },
        {
          "output_type": "stream",
          "name": "stderr",
          "text": [
            "/usr/local/lib/python3.7/dist-packages/librosa/core/audio.py:165: UserWarning: PySoundFile failed. Trying audioread instead.\n",
            "  warnings.warn(\"PySoundFile failed. Trying audioread instead.\")\n"
          ]
        },
        {
          "output_type": "stream",
          "name": "stdout",
          "text": [
            "/content/drive/MyDrive/Colab Notebooks/Thesis/voice recognition/dataset/171087.wav, segment of test data:1\n",
            "/content/drive/MyDrive/Colab Notebooks/Thesis/voice recognition/dataset/171087.wav, segment of test data:2\n",
            "/content/drive/MyDrive/Colab Notebooks/Thesis/voice recognition/dataset/171087.wav, segment of test data:3\n",
            "/content/drive/MyDrive/Colab Notebooks/Thesis/voice recognition/dataset/171087.wav, segment of test data:4\n",
            "/content/drive/MyDrive/Colab Notebooks/Thesis/voice recognition/dataset/171087.wav, segment of test data:5\n",
            "/content/drive/MyDrive/Colab Notebooks/Thesis/voice recognition/dataset/171087.wav, segment of test data:6\n",
            "/content/drive/MyDrive/Colab Notebooks/Thesis/voice recognition/dataset/171087.wav, segment of test data:7\n",
            "/content/drive/MyDrive/Colab Notebooks/Thesis/voice recognition/dataset/171087.wav, segment of test data:8\n",
            "/content/drive/MyDrive/Colab Notebooks/Thesis/voice recognition/dataset/171087.wav, segment of test data:9\n",
            "/content/drive/MyDrive/Colab Notebooks/Thesis/voice recognition/dataset/171087.wav, segment of test data:10\n",
            "/content/drive/MyDrive/Colab Notebooks/Thesis/voice recognition/dataset/171087.wav, segment of test data:11\n",
            "/content/drive/MyDrive/Colab Notebooks/Thesis/voice recognition/dataset/171087.wav, segment of test data:12\n",
            "/content/drive/MyDrive/Colab Notebooks/Thesis/voice recognition/dataset/171087.wav, segment of test data:13\n",
            "/content/drive/MyDrive/Colab Notebooks/Thesis/voice recognition/dataset/171087.wav, segment of test data:14\n",
            "/content/drive/MyDrive/Colab Notebooks/Thesis/voice recognition/dataset/171087.wav, segment of test data:15\n",
            "/content/drive/MyDrive/Colab Notebooks/Thesis/voice recognition/dataset/171087.wav, segment of test data:16\n",
            "/content/drive/MyDrive/Colab Notebooks/Thesis/voice recognition/dataset/171087.wav, segment of test data:17\n",
            "/content/drive/MyDrive/Colab Notebooks/Thesis/voice recognition/dataset/171087.wav, segment of test data:18\n",
            "/content/drive/MyDrive/Colab Notebooks/Thesis/voice recognition/dataset/171087.wav, segment of test data:19\n",
            "/content/drive/MyDrive/Colab Notebooks/Thesis/voice recognition/dataset/171087.wav, segment of test data:20\n",
            "197031\n"
          ]
        },
        {
          "output_type": "stream",
          "name": "stderr",
          "text": [
            "/usr/local/lib/python3.7/dist-packages/librosa/core/audio.py:165: UserWarning: PySoundFile failed. Trying audioread instead.\n",
            "  warnings.warn(\"PySoundFile failed. Trying audioread instead.\")\n"
          ]
        },
        {
          "output_type": "stream",
          "name": "stdout",
          "text": [
            "/content/drive/MyDrive/Colab Notebooks/Thesis/voice recognition/dataset/197031.wav, segment of test data:1\n",
            "/content/drive/MyDrive/Colab Notebooks/Thesis/voice recognition/dataset/197031.wav, segment of test data:2\n",
            "/content/drive/MyDrive/Colab Notebooks/Thesis/voice recognition/dataset/197031.wav, segment of test data:3\n",
            "/content/drive/MyDrive/Colab Notebooks/Thesis/voice recognition/dataset/197031.wav, segment of test data:4\n",
            "/content/drive/MyDrive/Colab Notebooks/Thesis/voice recognition/dataset/197031.wav, segment of test data:5\n",
            "/content/drive/MyDrive/Colab Notebooks/Thesis/voice recognition/dataset/197031.wav, segment of test data:6\n",
            "/content/drive/MyDrive/Colab Notebooks/Thesis/voice recognition/dataset/197031.wav, segment of test data:7\n",
            "/content/drive/MyDrive/Colab Notebooks/Thesis/voice recognition/dataset/197031.wav, segment of test data:8\n",
            "/content/drive/MyDrive/Colab Notebooks/Thesis/voice recognition/dataset/197031.wav, segment of test data:9\n",
            "/content/drive/MyDrive/Colab Notebooks/Thesis/voice recognition/dataset/197031.wav, segment of test data:10\n",
            "/content/drive/MyDrive/Colab Notebooks/Thesis/voice recognition/dataset/197031.wav, segment of test data:11\n",
            "/content/drive/MyDrive/Colab Notebooks/Thesis/voice recognition/dataset/197031.wav, segment of test data:12\n",
            "/content/drive/MyDrive/Colab Notebooks/Thesis/voice recognition/dataset/197031.wav, segment of test data:13\n",
            "/content/drive/MyDrive/Colab Notebooks/Thesis/voice recognition/dataset/197031.wav, segment of test data:14\n",
            "/content/drive/MyDrive/Colab Notebooks/Thesis/voice recognition/dataset/197031.wav, segment of test data:15\n",
            "/content/drive/MyDrive/Colab Notebooks/Thesis/voice recognition/dataset/197031.wav, segment of test data:16\n",
            "/content/drive/MyDrive/Colab Notebooks/Thesis/voice recognition/dataset/197031.wav, segment of test data:17\n",
            "/content/drive/MyDrive/Colab Notebooks/Thesis/voice recognition/dataset/197031.wav, segment of test data:18\n",
            "/content/drive/MyDrive/Colab Notebooks/Thesis/voice recognition/dataset/197031.wav, segment of test data:19\n",
            "/content/drive/MyDrive/Colab Notebooks/Thesis/voice recognition/dataset/197031.wav, segment of test data:20\n",
            "204005\n"
          ]
        },
        {
          "output_type": "stream",
          "name": "stderr",
          "text": [
            "/usr/local/lib/python3.7/dist-packages/librosa/core/audio.py:165: UserWarning: PySoundFile failed. Trying audioread instead.\n",
            "  warnings.warn(\"PySoundFile failed. Trying audioread instead.\")\n"
          ]
        },
        {
          "output_type": "stream",
          "name": "stdout",
          "text": [
            "/content/drive/MyDrive/Colab Notebooks/Thesis/voice recognition/dataset/204005.wav, segment of test data:1\n",
            "/content/drive/MyDrive/Colab Notebooks/Thesis/voice recognition/dataset/204005.wav, segment of test data:2\n",
            "/content/drive/MyDrive/Colab Notebooks/Thesis/voice recognition/dataset/204005.wav, segment of test data:3\n",
            "/content/drive/MyDrive/Colab Notebooks/Thesis/voice recognition/dataset/204005.wav, segment of test data:4\n",
            "/content/drive/MyDrive/Colab Notebooks/Thesis/voice recognition/dataset/204005.wav, segment of test data:5\n",
            "/content/drive/MyDrive/Colab Notebooks/Thesis/voice recognition/dataset/204005.wav, segment of test data:6\n",
            "/content/drive/MyDrive/Colab Notebooks/Thesis/voice recognition/dataset/204005.wav, segment of test data:7\n",
            "/content/drive/MyDrive/Colab Notebooks/Thesis/voice recognition/dataset/204005.wav, segment of test data:8\n",
            "/content/drive/MyDrive/Colab Notebooks/Thesis/voice recognition/dataset/204005.wav, segment of test data:9\n",
            "/content/drive/MyDrive/Colab Notebooks/Thesis/voice recognition/dataset/204005.wav, segment of test data:10\n",
            "/content/drive/MyDrive/Colab Notebooks/Thesis/voice recognition/dataset/204005.wav, segment of test data:11\n",
            "/content/drive/MyDrive/Colab Notebooks/Thesis/voice recognition/dataset/204005.wav, segment of test data:12\n",
            "/content/drive/MyDrive/Colab Notebooks/Thesis/voice recognition/dataset/204005.wav, segment of test data:13\n",
            "/content/drive/MyDrive/Colab Notebooks/Thesis/voice recognition/dataset/204005.wav, segment of test data:14\n",
            "/content/drive/MyDrive/Colab Notebooks/Thesis/voice recognition/dataset/204005.wav, segment of test data:15\n",
            "/content/drive/MyDrive/Colab Notebooks/Thesis/voice recognition/dataset/204005.wav, segment of test data:16\n",
            "/content/drive/MyDrive/Colab Notebooks/Thesis/voice recognition/dataset/204005.wav, segment of test data:17\n",
            "/content/drive/MyDrive/Colab Notebooks/Thesis/voice recognition/dataset/204005.wav, segment of test data:18\n",
            "/content/drive/MyDrive/Colab Notebooks/Thesis/voice recognition/dataset/204005.wav, segment of test data:19\n",
            "/content/drive/MyDrive/Colab Notebooks/Thesis/voice recognition/dataset/204005.wav, segment of test data:20\n",
            "202067\n"
          ]
        },
        {
          "output_type": "stream",
          "name": "stderr",
          "text": [
            "/usr/local/lib/python3.7/dist-packages/librosa/core/audio.py:165: UserWarning: PySoundFile failed. Trying audioread instead.\n",
            "  warnings.warn(\"PySoundFile failed. Trying audioread instead.\")\n"
          ]
        },
        {
          "output_type": "stream",
          "name": "stdout",
          "text": [
            "/content/drive/MyDrive/Colab Notebooks/Thesis/voice recognition/dataset/202067.wav, segment of test data:1\n",
            "/content/drive/MyDrive/Colab Notebooks/Thesis/voice recognition/dataset/202067.wav, segment of test data:2\n",
            "/content/drive/MyDrive/Colab Notebooks/Thesis/voice recognition/dataset/202067.wav, segment of test data:3\n",
            "/content/drive/MyDrive/Colab Notebooks/Thesis/voice recognition/dataset/202067.wav, segment of test data:4\n",
            "/content/drive/MyDrive/Colab Notebooks/Thesis/voice recognition/dataset/202067.wav, segment of test data:5\n",
            "/content/drive/MyDrive/Colab Notebooks/Thesis/voice recognition/dataset/202067.wav, segment of test data:6\n",
            "/content/drive/MyDrive/Colab Notebooks/Thesis/voice recognition/dataset/202067.wav, segment of test data:7\n",
            "/content/drive/MyDrive/Colab Notebooks/Thesis/voice recognition/dataset/202067.wav, segment of test data:8\n",
            "/content/drive/MyDrive/Colab Notebooks/Thesis/voice recognition/dataset/202067.wav, segment of test data:9\n",
            "/content/drive/MyDrive/Colab Notebooks/Thesis/voice recognition/dataset/202067.wav, segment of test data:10\n",
            "/content/drive/MyDrive/Colab Notebooks/Thesis/voice recognition/dataset/202067.wav, segment of test data:11\n",
            "/content/drive/MyDrive/Colab Notebooks/Thesis/voice recognition/dataset/202067.wav, segment of test data:12\n",
            "/content/drive/MyDrive/Colab Notebooks/Thesis/voice recognition/dataset/202067.wav, segment of test data:13\n",
            "/content/drive/MyDrive/Colab Notebooks/Thesis/voice recognition/dataset/202067.wav, segment of test data:14\n",
            "/content/drive/MyDrive/Colab Notebooks/Thesis/voice recognition/dataset/202067.wav, segment of test data:15\n",
            "/content/drive/MyDrive/Colab Notebooks/Thesis/voice recognition/dataset/202067.wav, segment of test data:16\n",
            "/content/drive/MyDrive/Colab Notebooks/Thesis/voice recognition/dataset/202067.wav, segment of test data:17\n",
            "/content/drive/MyDrive/Colab Notebooks/Thesis/voice recognition/dataset/202067.wav, segment of test data:18\n",
            "/content/drive/MyDrive/Colab Notebooks/Thesis/voice recognition/dataset/202067.wav, segment of test data:19\n",
            "/content/drive/MyDrive/Colab Notebooks/Thesis/voice recognition/dataset/202067.wav, segment of test data:20\n",
            "193116\n"
          ]
        },
        {
          "output_type": "stream",
          "name": "stderr",
          "text": [
            "/usr/local/lib/python3.7/dist-packages/librosa/core/audio.py:165: UserWarning: PySoundFile failed. Trying audioread instead.\n",
            "  warnings.warn(\"PySoundFile failed. Trying audioread instead.\")\n"
          ]
        },
        {
          "output_type": "stream",
          "name": "stdout",
          "text": [
            "/content/drive/MyDrive/Colab Notebooks/Thesis/voice recognition/dataset/193116.wav, segment of test data:1\n",
            "/content/drive/MyDrive/Colab Notebooks/Thesis/voice recognition/dataset/193116.wav, segment of test data:2\n",
            "/content/drive/MyDrive/Colab Notebooks/Thesis/voice recognition/dataset/193116.wav, segment of test data:3\n",
            "/content/drive/MyDrive/Colab Notebooks/Thesis/voice recognition/dataset/193116.wav, segment of test data:4\n",
            "/content/drive/MyDrive/Colab Notebooks/Thesis/voice recognition/dataset/193116.wav, segment of test data:5\n",
            "/content/drive/MyDrive/Colab Notebooks/Thesis/voice recognition/dataset/193116.wav, segment of test data:6\n",
            "/content/drive/MyDrive/Colab Notebooks/Thesis/voice recognition/dataset/193116.wav, segment of test data:7\n",
            "/content/drive/MyDrive/Colab Notebooks/Thesis/voice recognition/dataset/193116.wav, segment of test data:8\n",
            "/content/drive/MyDrive/Colab Notebooks/Thesis/voice recognition/dataset/193116.wav, segment of test data:9\n",
            "/content/drive/MyDrive/Colab Notebooks/Thesis/voice recognition/dataset/193116.wav, segment of test data:10\n",
            "/content/drive/MyDrive/Colab Notebooks/Thesis/voice recognition/dataset/193116.wav, segment of test data:11\n",
            "/content/drive/MyDrive/Colab Notebooks/Thesis/voice recognition/dataset/193116.wav, segment of test data:12\n",
            "/content/drive/MyDrive/Colab Notebooks/Thesis/voice recognition/dataset/193116.wav, segment of test data:13\n",
            "/content/drive/MyDrive/Colab Notebooks/Thesis/voice recognition/dataset/193116.wav, segment of test data:14\n",
            "/content/drive/MyDrive/Colab Notebooks/Thesis/voice recognition/dataset/193116.wav, segment of test data:15\n",
            "/content/drive/MyDrive/Colab Notebooks/Thesis/voice recognition/dataset/193116.wav, segment of test data:16\n",
            "/content/drive/MyDrive/Colab Notebooks/Thesis/voice recognition/dataset/193116.wav, segment of test data:17\n",
            "/content/drive/MyDrive/Colab Notebooks/Thesis/voice recognition/dataset/193116.wav, segment of test data:18\n",
            "/content/drive/MyDrive/Colab Notebooks/Thesis/voice recognition/dataset/193116.wav, segment of test data:19\n",
            "/content/drive/MyDrive/Colab Notebooks/Thesis/voice recognition/dataset/193116.wav, segment of test data:20\n",
            "198025\n"
          ]
        },
        {
          "output_type": "stream",
          "name": "stderr",
          "text": [
            "/usr/local/lib/python3.7/dist-packages/librosa/core/audio.py:165: UserWarning: PySoundFile failed. Trying audioread instead.\n",
            "  warnings.warn(\"PySoundFile failed. Trying audioread instead.\")\n"
          ]
        },
        {
          "output_type": "stream",
          "name": "stdout",
          "text": [
            "/content/drive/MyDrive/Colab Notebooks/Thesis/voice recognition/dataset/198025.wav, segment of test data:1\n",
            "/content/drive/MyDrive/Colab Notebooks/Thesis/voice recognition/dataset/198025.wav, segment of test data:2\n",
            "/content/drive/MyDrive/Colab Notebooks/Thesis/voice recognition/dataset/198025.wav, segment of test data:3\n",
            "/content/drive/MyDrive/Colab Notebooks/Thesis/voice recognition/dataset/198025.wav, segment of test data:4\n",
            "/content/drive/MyDrive/Colab Notebooks/Thesis/voice recognition/dataset/198025.wav, segment of test data:5\n",
            "/content/drive/MyDrive/Colab Notebooks/Thesis/voice recognition/dataset/198025.wav, segment of test data:6\n",
            "/content/drive/MyDrive/Colab Notebooks/Thesis/voice recognition/dataset/198025.wav, segment of test data:7\n",
            "/content/drive/MyDrive/Colab Notebooks/Thesis/voice recognition/dataset/198025.wav, segment of test data:8\n",
            "/content/drive/MyDrive/Colab Notebooks/Thesis/voice recognition/dataset/198025.wav, segment of test data:9\n",
            "/content/drive/MyDrive/Colab Notebooks/Thesis/voice recognition/dataset/198025.wav, segment of test data:10\n",
            "/content/drive/MyDrive/Colab Notebooks/Thesis/voice recognition/dataset/198025.wav, segment of test data:11\n",
            "/content/drive/MyDrive/Colab Notebooks/Thesis/voice recognition/dataset/198025.wav, segment of test data:12\n",
            "/content/drive/MyDrive/Colab Notebooks/Thesis/voice recognition/dataset/198025.wav, segment of test data:13\n",
            "/content/drive/MyDrive/Colab Notebooks/Thesis/voice recognition/dataset/198025.wav, segment of test data:14\n",
            "/content/drive/MyDrive/Colab Notebooks/Thesis/voice recognition/dataset/198025.wav, segment of test data:15\n",
            "/content/drive/MyDrive/Colab Notebooks/Thesis/voice recognition/dataset/198025.wav, segment of test data:16\n",
            "/content/drive/MyDrive/Colab Notebooks/Thesis/voice recognition/dataset/198025.wav, segment of test data:17\n",
            "/content/drive/MyDrive/Colab Notebooks/Thesis/voice recognition/dataset/198025.wav, segment of test data:18\n",
            "/content/drive/MyDrive/Colab Notebooks/Thesis/voice recognition/dataset/198025.wav, segment of test data:19\n",
            "/content/drive/MyDrive/Colab Notebooks/Thesis/voice recognition/dataset/198025.wav, segment of test data:20\n",
            "172008\n"
          ]
        },
        {
          "output_type": "stream",
          "name": "stderr",
          "text": [
            "/usr/local/lib/python3.7/dist-packages/librosa/core/audio.py:165: UserWarning: PySoundFile failed. Trying audioread instead.\n",
            "  warnings.warn(\"PySoundFile failed. Trying audioread instead.\")\n"
          ]
        },
        {
          "output_type": "stream",
          "name": "stdout",
          "text": [
            "/content/drive/MyDrive/Colab Notebooks/Thesis/voice recognition/dataset/172008.wav, segment of test data:1\n",
            "/content/drive/MyDrive/Colab Notebooks/Thesis/voice recognition/dataset/172008.wav, segment of test data:2\n",
            "/content/drive/MyDrive/Colab Notebooks/Thesis/voice recognition/dataset/172008.wav, segment of test data:3\n",
            "/content/drive/MyDrive/Colab Notebooks/Thesis/voice recognition/dataset/172008.wav, segment of test data:4\n",
            "/content/drive/MyDrive/Colab Notebooks/Thesis/voice recognition/dataset/172008.wav, segment of test data:5\n",
            "/content/drive/MyDrive/Colab Notebooks/Thesis/voice recognition/dataset/172008.wav, segment of test data:6\n",
            "/content/drive/MyDrive/Colab Notebooks/Thesis/voice recognition/dataset/172008.wav, segment of test data:7\n",
            "/content/drive/MyDrive/Colab Notebooks/Thesis/voice recognition/dataset/172008.wav, segment of test data:8\n",
            "/content/drive/MyDrive/Colab Notebooks/Thesis/voice recognition/dataset/172008.wav, segment of test data:9\n",
            "/content/drive/MyDrive/Colab Notebooks/Thesis/voice recognition/dataset/172008.wav, segment of test data:10\n",
            "/content/drive/MyDrive/Colab Notebooks/Thesis/voice recognition/dataset/172008.wav, segment of test data:11\n",
            "/content/drive/MyDrive/Colab Notebooks/Thesis/voice recognition/dataset/172008.wav, segment of test data:12\n",
            "/content/drive/MyDrive/Colab Notebooks/Thesis/voice recognition/dataset/172008.wav, segment of test data:13\n",
            "/content/drive/MyDrive/Colab Notebooks/Thesis/voice recognition/dataset/172008.wav, segment of test data:14\n",
            "/content/drive/MyDrive/Colab Notebooks/Thesis/voice recognition/dataset/172008.wav, segment of test data:15\n",
            "/content/drive/MyDrive/Colab Notebooks/Thesis/voice recognition/dataset/172008.wav, segment of test data:16\n",
            "/content/drive/MyDrive/Colab Notebooks/Thesis/voice recognition/dataset/172008.wav, segment of test data:17\n",
            "/content/drive/MyDrive/Colab Notebooks/Thesis/voice recognition/dataset/172008.wav, segment of test data:18\n",
            "/content/drive/MyDrive/Colab Notebooks/Thesis/voice recognition/dataset/172008.wav, segment of test data:19\n",
            "/content/drive/MyDrive/Colab Notebooks/Thesis/voice recognition/dataset/172008.wav, segment of test data:20\n",
            "171020\n"
          ]
        },
        {
          "output_type": "stream",
          "name": "stderr",
          "text": [
            "/usr/local/lib/python3.7/dist-packages/librosa/core/audio.py:165: UserWarning: PySoundFile failed. Trying audioread instead.\n",
            "  warnings.warn(\"PySoundFile failed. Trying audioread instead.\")\n"
          ]
        },
        {
          "output_type": "stream",
          "name": "stdout",
          "text": [
            "/content/drive/MyDrive/Colab Notebooks/Thesis/voice recognition/dataset/171020.wav, segment of test data:1\n",
            "/content/drive/MyDrive/Colab Notebooks/Thesis/voice recognition/dataset/171020.wav, segment of test data:2\n",
            "/content/drive/MyDrive/Colab Notebooks/Thesis/voice recognition/dataset/171020.wav, segment of test data:3\n",
            "/content/drive/MyDrive/Colab Notebooks/Thesis/voice recognition/dataset/171020.wav, segment of test data:4\n",
            "/content/drive/MyDrive/Colab Notebooks/Thesis/voice recognition/dataset/171020.wav, segment of test data:5\n",
            "/content/drive/MyDrive/Colab Notebooks/Thesis/voice recognition/dataset/171020.wav, segment of test data:6\n",
            "/content/drive/MyDrive/Colab Notebooks/Thesis/voice recognition/dataset/171020.wav, segment of test data:7\n",
            "/content/drive/MyDrive/Colab Notebooks/Thesis/voice recognition/dataset/171020.wav, segment of test data:8\n",
            "/content/drive/MyDrive/Colab Notebooks/Thesis/voice recognition/dataset/171020.wav, segment of test data:9\n",
            "/content/drive/MyDrive/Colab Notebooks/Thesis/voice recognition/dataset/171020.wav, segment of test data:10\n",
            "/content/drive/MyDrive/Colab Notebooks/Thesis/voice recognition/dataset/171020.wav, segment of test data:11\n",
            "/content/drive/MyDrive/Colab Notebooks/Thesis/voice recognition/dataset/171020.wav, segment of test data:12\n",
            "/content/drive/MyDrive/Colab Notebooks/Thesis/voice recognition/dataset/171020.wav, segment of test data:13\n",
            "/content/drive/MyDrive/Colab Notebooks/Thesis/voice recognition/dataset/171020.wav, segment of test data:14\n",
            "/content/drive/MyDrive/Colab Notebooks/Thesis/voice recognition/dataset/171020.wav, segment of test data:15\n",
            "/content/drive/MyDrive/Colab Notebooks/Thesis/voice recognition/dataset/171020.wav, segment of test data:16\n",
            "/content/drive/MyDrive/Colab Notebooks/Thesis/voice recognition/dataset/171020.wav, segment of test data:17\n",
            "/content/drive/MyDrive/Colab Notebooks/Thesis/voice recognition/dataset/171020.wav, segment of test data:18\n",
            "/content/drive/MyDrive/Colab Notebooks/Thesis/voice recognition/dataset/171020.wav, segment of test data:19\n",
            "/content/drive/MyDrive/Colab Notebooks/Thesis/voice recognition/dataset/171020.wav, segment of test data:20\n",
            "201107\n"
          ]
        },
        {
          "output_type": "stream",
          "name": "stderr",
          "text": [
            "/usr/local/lib/python3.7/dist-packages/librosa/core/audio.py:165: UserWarning: PySoundFile failed. Trying audioread instead.\n",
            "  warnings.warn(\"PySoundFile failed. Trying audioread instead.\")\n"
          ]
        },
        {
          "output_type": "stream",
          "name": "stdout",
          "text": [
            "/content/drive/MyDrive/Colab Notebooks/Thesis/voice recognition/dataset/201107.wav, segment of test data:1\n",
            "/content/drive/MyDrive/Colab Notebooks/Thesis/voice recognition/dataset/201107.wav, segment of test data:2\n",
            "/content/drive/MyDrive/Colab Notebooks/Thesis/voice recognition/dataset/201107.wav, segment of test data:3\n",
            "/content/drive/MyDrive/Colab Notebooks/Thesis/voice recognition/dataset/201107.wav, segment of test data:4\n",
            "/content/drive/MyDrive/Colab Notebooks/Thesis/voice recognition/dataset/201107.wav, segment of test data:5\n",
            "/content/drive/MyDrive/Colab Notebooks/Thesis/voice recognition/dataset/201107.wav, segment of test data:6\n",
            "/content/drive/MyDrive/Colab Notebooks/Thesis/voice recognition/dataset/201107.wav, segment of test data:7\n",
            "/content/drive/MyDrive/Colab Notebooks/Thesis/voice recognition/dataset/201107.wav, segment of test data:8\n",
            "/content/drive/MyDrive/Colab Notebooks/Thesis/voice recognition/dataset/201107.wav, segment of test data:9\n",
            "/content/drive/MyDrive/Colab Notebooks/Thesis/voice recognition/dataset/201107.wav, segment of test data:10\n",
            "/content/drive/MyDrive/Colab Notebooks/Thesis/voice recognition/dataset/201107.wav, segment of test data:11\n",
            "/content/drive/MyDrive/Colab Notebooks/Thesis/voice recognition/dataset/201107.wav, segment of test data:12\n",
            "/content/drive/MyDrive/Colab Notebooks/Thesis/voice recognition/dataset/201107.wav, segment of test data:13\n",
            "/content/drive/MyDrive/Colab Notebooks/Thesis/voice recognition/dataset/201107.wav, segment of test data:14\n",
            "/content/drive/MyDrive/Colab Notebooks/Thesis/voice recognition/dataset/201107.wav, segment of test data:15\n",
            "/content/drive/MyDrive/Colab Notebooks/Thesis/voice recognition/dataset/201107.wav, segment of test data:16\n",
            "/content/drive/MyDrive/Colab Notebooks/Thesis/voice recognition/dataset/201107.wav, segment of test data:17\n",
            "/content/drive/MyDrive/Colab Notebooks/Thesis/voice recognition/dataset/201107.wav, segment of test data:18\n",
            "/content/drive/MyDrive/Colab Notebooks/Thesis/voice recognition/dataset/201107.wav, segment of test data:19\n",
            "/content/drive/MyDrive/Colab Notebooks/Thesis/voice recognition/dataset/201107.wav, segment of test data:20\n",
            "193002\n"
          ]
        },
        {
          "output_type": "stream",
          "name": "stderr",
          "text": [
            "/usr/local/lib/python3.7/dist-packages/librosa/core/audio.py:165: UserWarning: PySoundFile failed. Trying audioread instead.\n",
            "  warnings.warn(\"PySoundFile failed. Trying audioread instead.\")\n"
          ]
        },
        {
          "output_type": "stream",
          "name": "stdout",
          "text": [
            "/content/drive/MyDrive/Colab Notebooks/Thesis/voice recognition/dataset/193002.wav, segment of test data:1\n",
            "/content/drive/MyDrive/Colab Notebooks/Thesis/voice recognition/dataset/193002.wav, segment of test data:2\n",
            "/content/drive/MyDrive/Colab Notebooks/Thesis/voice recognition/dataset/193002.wav, segment of test data:3\n",
            "/content/drive/MyDrive/Colab Notebooks/Thesis/voice recognition/dataset/193002.wav, segment of test data:4\n",
            "/content/drive/MyDrive/Colab Notebooks/Thesis/voice recognition/dataset/193002.wav, segment of test data:5\n",
            "/content/drive/MyDrive/Colab Notebooks/Thesis/voice recognition/dataset/193002.wav, segment of test data:6\n",
            "/content/drive/MyDrive/Colab Notebooks/Thesis/voice recognition/dataset/193002.wav, segment of test data:7\n",
            "/content/drive/MyDrive/Colab Notebooks/Thesis/voice recognition/dataset/193002.wav, segment of test data:8\n",
            "/content/drive/MyDrive/Colab Notebooks/Thesis/voice recognition/dataset/193002.wav, segment of test data:9\n",
            "/content/drive/MyDrive/Colab Notebooks/Thesis/voice recognition/dataset/193002.wav, segment of test data:10\n",
            "/content/drive/MyDrive/Colab Notebooks/Thesis/voice recognition/dataset/193002.wav, segment of test data:11\n",
            "/content/drive/MyDrive/Colab Notebooks/Thesis/voice recognition/dataset/193002.wav, segment of test data:12\n",
            "/content/drive/MyDrive/Colab Notebooks/Thesis/voice recognition/dataset/193002.wav, segment of test data:13\n",
            "/content/drive/MyDrive/Colab Notebooks/Thesis/voice recognition/dataset/193002.wav, segment of test data:14\n",
            "/content/drive/MyDrive/Colab Notebooks/Thesis/voice recognition/dataset/193002.wav, segment of test data:15\n",
            "/content/drive/MyDrive/Colab Notebooks/Thesis/voice recognition/dataset/193002.wav, segment of test data:16\n",
            "/content/drive/MyDrive/Colab Notebooks/Thesis/voice recognition/dataset/193002.wav, segment of test data:17\n",
            "/content/drive/MyDrive/Colab Notebooks/Thesis/voice recognition/dataset/193002.wav, segment of test data:18\n",
            "/content/drive/MyDrive/Colab Notebooks/Thesis/voice recognition/dataset/193002.wav, segment of test data:19\n",
            "/content/drive/MyDrive/Colab Notebooks/Thesis/voice recognition/dataset/193002.wav, segment of test data:20\n",
            "193120\n"
          ]
        },
        {
          "output_type": "stream",
          "name": "stderr",
          "text": [
            "/usr/local/lib/python3.7/dist-packages/librosa/core/audio.py:165: UserWarning: PySoundFile failed. Trying audioread instead.\n",
            "  warnings.warn(\"PySoundFile failed. Trying audioread instead.\")\n"
          ]
        },
        {
          "output_type": "stream",
          "name": "stdout",
          "text": [
            "/content/drive/MyDrive/Colab Notebooks/Thesis/voice recognition/dataset/193120.wav, segment of test data:1\n",
            "/content/drive/MyDrive/Colab Notebooks/Thesis/voice recognition/dataset/193120.wav, segment of test data:2\n",
            "/content/drive/MyDrive/Colab Notebooks/Thesis/voice recognition/dataset/193120.wav, segment of test data:3\n",
            "/content/drive/MyDrive/Colab Notebooks/Thesis/voice recognition/dataset/193120.wav, segment of test data:4\n",
            "/content/drive/MyDrive/Colab Notebooks/Thesis/voice recognition/dataset/193120.wav, segment of test data:5\n",
            "/content/drive/MyDrive/Colab Notebooks/Thesis/voice recognition/dataset/193120.wav, segment of test data:6\n",
            "/content/drive/MyDrive/Colab Notebooks/Thesis/voice recognition/dataset/193120.wav, segment of test data:7\n",
            "/content/drive/MyDrive/Colab Notebooks/Thesis/voice recognition/dataset/193120.wav, segment of test data:8\n",
            "/content/drive/MyDrive/Colab Notebooks/Thesis/voice recognition/dataset/193120.wav, segment of test data:9\n",
            "/content/drive/MyDrive/Colab Notebooks/Thesis/voice recognition/dataset/193120.wav, segment of test data:10\n",
            "/content/drive/MyDrive/Colab Notebooks/Thesis/voice recognition/dataset/193120.wav, segment of test data:11\n",
            "/content/drive/MyDrive/Colab Notebooks/Thesis/voice recognition/dataset/193120.wav, segment of test data:12\n",
            "/content/drive/MyDrive/Colab Notebooks/Thesis/voice recognition/dataset/193120.wav, segment of test data:13\n",
            "/content/drive/MyDrive/Colab Notebooks/Thesis/voice recognition/dataset/193120.wav, segment of test data:14\n",
            "/content/drive/MyDrive/Colab Notebooks/Thesis/voice recognition/dataset/193120.wav, segment of test data:15\n",
            "/content/drive/MyDrive/Colab Notebooks/Thesis/voice recognition/dataset/193120.wav, segment of test data:16\n",
            "/content/drive/MyDrive/Colab Notebooks/Thesis/voice recognition/dataset/193120.wav, segment of test data:17\n",
            "/content/drive/MyDrive/Colab Notebooks/Thesis/voice recognition/dataset/193120.wav, segment of test data:18\n",
            "/content/drive/MyDrive/Colab Notebooks/Thesis/voice recognition/dataset/193120.wav, segment of test data:19\n",
            "/content/drive/MyDrive/Colab Notebooks/Thesis/voice recognition/dataset/193120.wav, segment of test data:20\n",
            "174055\n"
          ]
        },
        {
          "output_type": "stream",
          "name": "stderr",
          "text": [
            "/usr/local/lib/python3.7/dist-packages/librosa/core/audio.py:165: UserWarning: PySoundFile failed. Trying audioread instead.\n",
            "  warnings.warn(\"PySoundFile failed. Trying audioread instead.\")\n"
          ]
        },
        {
          "output_type": "stream",
          "name": "stdout",
          "text": [
            "/content/drive/MyDrive/Colab Notebooks/Thesis/voice recognition/dataset/174055.wav, segment of test data:1\n",
            "/content/drive/MyDrive/Colab Notebooks/Thesis/voice recognition/dataset/174055.wav, segment of test data:2\n",
            "/content/drive/MyDrive/Colab Notebooks/Thesis/voice recognition/dataset/174055.wav, segment of test data:3\n",
            "/content/drive/MyDrive/Colab Notebooks/Thesis/voice recognition/dataset/174055.wav, segment of test data:4\n",
            "/content/drive/MyDrive/Colab Notebooks/Thesis/voice recognition/dataset/174055.wav, segment of test data:5\n",
            "/content/drive/MyDrive/Colab Notebooks/Thesis/voice recognition/dataset/174055.wav, segment of test data:6\n",
            "/content/drive/MyDrive/Colab Notebooks/Thesis/voice recognition/dataset/174055.wav, segment of test data:7\n",
            "/content/drive/MyDrive/Colab Notebooks/Thesis/voice recognition/dataset/174055.wav, segment of test data:8\n",
            "/content/drive/MyDrive/Colab Notebooks/Thesis/voice recognition/dataset/174055.wav, segment of test data:9\n",
            "/content/drive/MyDrive/Colab Notebooks/Thesis/voice recognition/dataset/174055.wav, segment of test data:10\n",
            "/content/drive/MyDrive/Colab Notebooks/Thesis/voice recognition/dataset/174055.wav, segment of test data:11\n",
            "/content/drive/MyDrive/Colab Notebooks/Thesis/voice recognition/dataset/174055.wav, segment of test data:12\n",
            "/content/drive/MyDrive/Colab Notebooks/Thesis/voice recognition/dataset/174055.wav, segment of test data:13\n",
            "/content/drive/MyDrive/Colab Notebooks/Thesis/voice recognition/dataset/174055.wav, segment of test data:14\n",
            "/content/drive/MyDrive/Colab Notebooks/Thesis/voice recognition/dataset/174055.wav, segment of test data:15\n",
            "/content/drive/MyDrive/Colab Notebooks/Thesis/voice recognition/dataset/174055.wav, segment of test data:16\n",
            "/content/drive/MyDrive/Colab Notebooks/Thesis/voice recognition/dataset/174055.wav, segment of test data:17\n",
            "/content/drive/MyDrive/Colab Notebooks/Thesis/voice recognition/dataset/174055.wav, segment of test data:18\n",
            "/content/drive/MyDrive/Colab Notebooks/Thesis/voice recognition/dataset/174055.wav, segment of test data:19\n",
            "/content/drive/MyDrive/Colab Notebooks/Thesis/voice recognition/dataset/174055.wav, segment of test data:20\n",
            "171049\n"
          ]
        },
        {
          "output_type": "stream",
          "name": "stderr",
          "text": [
            "/usr/local/lib/python3.7/dist-packages/librosa/core/audio.py:165: UserWarning: PySoundFile failed. Trying audioread instead.\n",
            "  warnings.warn(\"PySoundFile failed. Trying audioread instead.\")\n"
          ]
        },
        {
          "output_type": "stream",
          "name": "stdout",
          "text": [
            "/content/drive/MyDrive/Colab Notebooks/Thesis/voice recognition/dataset/171049.wav, segment of test data:1\n",
            "/content/drive/MyDrive/Colab Notebooks/Thesis/voice recognition/dataset/171049.wav, segment of test data:2\n",
            "/content/drive/MyDrive/Colab Notebooks/Thesis/voice recognition/dataset/171049.wav, segment of test data:3\n",
            "/content/drive/MyDrive/Colab Notebooks/Thesis/voice recognition/dataset/171049.wav, segment of test data:4\n",
            "/content/drive/MyDrive/Colab Notebooks/Thesis/voice recognition/dataset/171049.wav, segment of test data:5\n",
            "/content/drive/MyDrive/Colab Notebooks/Thesis/voice recognition/dataset/171049.wav, segment of test data:6\n",
            "/content/drive/MyDrive/Colab Notebooks/Thesis/voice recognition/dataset/171049.wav, segment of test data:7\n",
            "/content/drive/MyDrive/Colab Notebooks/Thesis/voice recognition/dataset/171049.wav, segment of test data:8\n",
            "/content/drive/MyDrive/Colab Notebooks/Thesis/voice recognition/dataset/171049.wav, segment of test data:9\n",
            "/content/drive/MyDrive/Colab Notebooks/Thesis/voice recognition/dataset/171049.wav, segment of test data:10\n",
            "/content/drive/MyDrive/Colab Notebooks/Thesis/voice recognition/dataset/171049.wav, segment of test data:11\n",
            "/content/drive/MyDrive/Colab Notebooks/Thesis/voice recognition/dataset/171049.wav, segment of test data:12\n",
            "/content/drive/MyDrive/Colab Notebooks/Thesis/voice recognition/dataset/171049.wav, segment of test data:13\n",
            "/content/drive/MyDrive/Colab Notebooks/Thesis/voice recognition/dataset/171049.wav, segment of test data:14\n",
            "/content/drive/MyDrive/Colab Notebooks/Thesis/voice recognition/dataset/171049.wav, segment of test data:15\n",
            "/content/drive/MyDrive/Colab Notebooks/Thesis/voice recognition/dataset/171049.wav, segment of test data:16\n",
            "/content/drive/MyDrive/Colab Notebooks/Thesis/voice recognition/dataset/171049.wav, segment of test data:17\n",
            "/content/drive/MyDrive/Colab Notebooks/Thesis/voice recognition/dataset/171049.wav, segment of test data:18\n",
            "/content/drive/MyDrive/Colab Notebooks/Thesis/voice recognition/dataset/171049.wav, segment of test data:19\n",
            "/content/drive/MyDrive/Colab Notebooks/Thesis/voice recognition/dataset/171049.wav, segment of test data:20\n",
            "163044\n"
          ]
        },
        {
          "output_type": "stream",
          "name": "stderr",
          "text": [
            "/usr/local/lib/python3.7/dist-packages/librosa/core/audio.py:165: UserWarning: PySoundFile failed. Trying audioread instead.\n",
            "  warnings.warn(\"PySoundFile failed. Trying audioread instead.\")\n"
          ]
        },
        {
          "output_type": "stream",
          "name": "stdout",
          "text": [
            "/content/drive/MyDrive/Colab Notebooks/Thesis/voice recognition/dataset/163044.wav, segment of test data:1\n",
            "/content/drive/MyDrive/Colab Notebooks/Thesis/voice recognition/dataset/163044.wav, segment of test data:2\n",
            "/content/drive/MyDrive/Colab Notebooks/Thesis/voice recognition/dataset/163044.wav, segment of test data:3\n",
            "/content/drive/MyDrive/Colab Notebooks/Thesis/voice recognition/dataset/163044.wav, segment of test data:4\n",
            "/content/drive/MyDrive/Colab Notebooks/Thesis/voice recognition/dataset/163044.wav, segment of test data:5\n",
            "/content/drive/MyDrive/Colab Notebooks/Thesis/voice recognition/dataset/163044.wav, segment of test data:6\n",
            "/content/drive/MyDrive/Colab Notebooks/Thesis/voice recognition/dataset/163044.wav, segment of test data:7\n",
            "/content/drive/MyDrive/Colab Notebooks/Thesis/voice recognition/dataset/163044.wav, segment of test data:8\n",
            "/content/drive/MyDrive/Colab Notebooks/Thesis/voice recognition/dataset/163044.wav, segment of test data:9\n",
            "/content/drive/MyDrive/Colab Notebooks/Thesis/voice recognition/dataset/163044.wav, segment of test data:10\n",
            "/content/drive/MyDrive/Colab Notebooks/Thesis/voice recognition/dataset/163044.wav, segment of test data:11\n",
            "/content/drive/MyDrive/Colab Notebooks/Thesis/voice recognition/dataset/163044.wav, segment of test data:12\n",
            "/content/drive/MyDrive/Colab Notebooks/Thesis/voice recognition/dataset/163044.wav, segment of test data:13\n",
            "/content/drive/MyDrive/Colab Notebooks/Thesis/voice recognition/dataset/163044.wav, segment of test data:14\n",
            "/content/drive/MyDrive/Colab Notebooks/Thesis/voice recognition/dataset/163044.wav, segment of test data:15\n",
            "/content/drive/MyDrive/Colab Notebooks/Thesis/voice recognition/dataset/163044.wav, segment of test data:16\n",
            "/content/drive/MyDrive/Colab Notebooks/Thesis/voice recognition/dataset/163044.wav, segment of test data:17\n",
            "/content/drive/MyDrive/Colab Notebooks/Thesis/voice recognition/dataset/163044.wav, segment of test data:18\n",
            "/content/drive/MyDrive/Colab Notebooks/Thesis/voice recognition/dataset/163044.wav, segment of test data:19\n",
            "/content/drive/MyDrive/Colab Notebooks/Thesis/voice recognition/dataset/163044.wav, segment of test data:20\n",
            "177022\n"
          ]
        },
        {
          "output_type": "stream",
          "name": "stderr",
          "text": [
            "/usr/local/lib/python3.7/dist-packages/librosa/core/audio.py:165: UserWarning: PySoundFile failed. Trying audioread instead.\n",
            "  warnings.warn(\"PySoundFile failed. Trying audioread instead.\")\n"
          ]
        },
        {
          "output_type": "stream",
          "name": "stdout",
          "text": [
            "/content/drive/MyDrive/Colab Notebooks/Thesis/voice recognition/dataset/177022.wav, segment of test data:1\n",
            "/content/drive/MyDrive/Colab Notebooks/Thesis/voice recognition/dataset/177022.wav, segment of test data:2\n",
            "/content/drive/MyDrive/Colab Notebooks/Thesis/voice recognition/dataset/177022.wav, segment of test data:3\n",
            "/content/drive/MyDrive/Colab Notebooks/Thesis/voice recognition/dataset/177022.wav, segment of test data:4\n",
            "/content/drive/MyDrive/Colab Notebooks/Thesis/voice recognition/dataset/177022.wav, segment of test data:5\n",
            "/content/drive/MyDrive/Colab Notebooks/Thesis/voice recognition/dataset/177022.wav, segment of test data:6\n",
            "/content/drive/MyDrive/Colab Notebooks/Thesis/voice recognition/dataset/177022.wav, segment of test data:7\n",
            "/content/drive/MyDrive/Colab Notebooks/Thesis/voice recognition/dataset/177022.wav, segment of test data:8\n",
            "/content/drive/MyDrive/Colab Notebooks/Thesis/voice recognition/dataset/177022.wav, segment of test data:9\n",
            "/content/drive/MyDrive/Colab Notebooks/Thesis/voice recognition/dataset/177022.wav, segment of test data:10\n",
            "/content/drive/MyDrive/Colab Notebooks/Thesis/voice recognition/dataset/177022.wav, segment of test data:11\n",
            "/content/drive/MyDrive/Colab Notebooks/Thesis/voice recognition/dataset/177022.wav, segment of test data:12\n",
            "/content/drive/MyDrive/Colab Notebooks/Thesis/voice recognition/dataset/177022.wav, segment of test data:13\n",
            "/content/drive/MyDrive/Colab Notebooks/Thesis/voice recognition/dataset/177022.wav, segment of test data:14\n",
            "/content/drive/MyDrive/Colab Notebooks/Thesis/voice recognition/dataset/177022.wav, segment of test data:15\n",
            "/content/drive/MyDrive/Colab Notebooks/Thesis/voice recognition/dataset/177022.wav, segment of test data:16\n",
            "/content/drive/MyDrive/Colab Notebooks/Thesis/voice recognition/dataset/177022.wav, segment of test data:17\n",
            "/content/drive/MyDrive/Colab Notebooks/Thesis/voice recognition/dataset/177022.wav, segment of test data:18\n",
            "/content/drive/MyDrive/Colab Notebooks/Thesis/voice recognition/dataset/177022.wav, segment of test data:19\n",
            "/content/drive/MyDrive/Colab Notebooks/Thesis/voice recognition/dataset/177022.wav, segment of test data:20\n",
            "172023\n"
          ]
        },
        {
          "output_type": "stream",
          "name": "stderr",
          "text": [
            "/usr/local/lib/python3.7/dist-packages/librosa/core/audio.py:165: UserWarning: PySoundFile failed. Trying audioread instead.\n",
            "  warnings.warn(\"PySoundFile failed. Trying audioread instead.\")\n"
          ]
        },
        {
          "output_type": "stream",
          "name": "stdout",
          "text": [
            "/content/drive/MyDrive/Colab Notebooks/Thesis/voice recognition/dataset/172023.wav, segment of test data:1\n",
            "/content/drive/MyDrive/Colab Notebooks/Thesis/voice recognition/dataset/172023.wav, segment of test data:2\n",
            "/content/drive/MyDrive/Colab Notebooks/Thesis/voice recognition/dataset/172023.wav, segment of test data:3\n",
            "/content/drive/MyDrive/Colab Notebooks/Thesis/voice recognition/dataset/172023.wav, segment of test data:4\n",
            "/content/drive/MyDrive/Colab Notebooks/Thesis/voice recognition/dataset/172023.wav, segment of test data:5\n",
            "/content/drive/MyDrive/Colab Notebooks/Thesis/voice recognition/dataset/172023.wav, segment of test data:6\n",
            "/content/drive/MyDrive/Colab Notebooks/Thesis/voice recognition/dataset/172023.wav, segment of test data:7\n",
            "/content/drive/MyDrive/Colab Notebooks/Thesis/voice recognition/dataset/172023.wav, segment of test data:8\n",
            "/content/drive/MyDrive/Colab Notebooks/Thesis/voice recognition/dataset/172023.wav, segment of test data:9\n",
            "/content/drive/MyDrive/Colab Notebooks/Thesis/voice recognition/dataset/172023.wav, segment of test data:10\n",
            "/content/drive/MyDrive/Colab Notebooks/Thesis/voice recognition/dataset/172023.wav, segment of test data:11\n",
            "/content/drive/MyDrive/Colab Notebooks/Thesis/voice recognition/dataset/172023.wav, segment of test data:12\n",
            "/content/drive/MyDrive/Colab Notebooks/Thesis/voice recognition/dataset/172023.wav, segment of test data:13\n",
            "/content/drive/MyDrive/Colab Notebooks/Thesis/voice recognition/dataset/172023.wav, segment of test data:14\n",
            "/content/drive/MyDrive/Colab Notebooks/Thesis/voice recognition/dataset/172023.wav, segment of test data:15\n",
            "/content/drive/MyDrive/Colab Notebooks/Thesis/voice recognition/dataset/172023.wav, segment of test data:16\n",
            "/content/drive/MyDrive/Colab Notebooks/Thesis/voice recognition/dataset/172023.wav, segment of test data:17\n",
            "/content/drive/MyDrive/Colab Notebooks/Thesis/voice recognition/dataset/172023.wav, segment of test data:18\n",
            "/content/drive/MyDrive/Colab Notebooks/Thesis/voice recognition/dataset/172023.wav, segment of test data:19\n",
            "/content/drive/MyDrive/Colab Notebooks/Thesis/voice recognition/dataset/172023.wav, segment of test data:20\n",
            "194117\n"
          ]
        },
        {
          "output_type": "stream",
          "name": "stderr",
          "text": [
            "/usr/local/lib/python3.7/dist-packages/librosa/core/audio.py:165: UserWarning: PySoundFile failed. Trying audioread instead.\n",
            "  warnings.warn(\"PySoundFile failed. Trying audioread instead.\")\n"
          ]
        },
        {
          "output_type": "stream",
          "name": "stdout",
          "text": [
            "/content/drive/MyDrive/Colab Notebooks/Thesis/voice recognition/dataset/194117.wav, segment of test data:1\n",
            "/content/drive/MyDrive/Colab Notebooks/Thesis/voice recognition/dataset/194117.wav, segment of test data:2\n",
            "/content/drive/MyDrive/Colab Notebooks/Thesis/voice recognition/dataset/194117.wav, segment of test data:3\n",
            "/content/drive/MyDrive/Colab Notebooks/Thesis/voice recognition/dataset/194117.wav, segment of test data:4\n",
            "/content/drive/MyDrive/Colab Notebooks/Thesis/voice recognition/dataset/194117.wav, segment of test data:5\n",
            "/content/drive/MyDrive/Colab Notebooks/Thesis/voice recognition/dataset/194117.wav, segment of test data:6\n",
            "/content/drive/MyDrive/Colab Notebooks/Thesis/voice recognition/dataset/194117.wav, segment of test data:7\n",
            "/content/drive/MyDrive/Colab Notebooks/Thesis/voice recognition/dataset/194117.wav, segment of test data:8\n",
            "/content/drive/MyDrive/Colab Notebooks/Thesis/voice recognition/dataset/194117.wav, segment of test data:9\n",
            "/content/drive/MyDrive/Colab Notebooks/Thesis/voice recognition/dataset/194117.wav, segment of test data:10\n",
            "/content/drive/MyDrive/Colab Notebooks/Thesis/voice recognition/dataset/194117.wav, segment of test data:11\n",
            "/content/drive/MyDrive/Colab Notebooks/Thesis/voice recognition/dataset/194117.wav, segment of test data:12\n",
            "/content/drive/MyDrive/Colab Notebooks/Thesis/voice recognition/dataset/194117.wav, segment of test data:13\n",
            "/content/drive/MyDrive/Colab Notebooks/Thesis/voice recognition/dataset/194117.wav, segment of test data:14\n",
            "/content/drive/MyDrive/Colab Notebooks/Thesis/voice recognition/dataset/194117.wav, segment of test data:15\n",
            "/content/drive/MyDrive/Colab Notebooks/Thesis/voice recognition/dataset/194117.wav, segment of test data:16\n",
            "/content/drive/MyDrive/Colab Notebooks/Thesis/voice recognition/dataset/194117.wav, segment of test data:17\n",
            "/content/drive/MyDrive/Colab Notebooks/Thesis/voice recognition/dataset/194117.wav, segment of test data:18\n",
            "/content/drive/MyDrive/Colab Notebooks/Thesis/voice recognition/dataset/194117.wav, segment of test data:19\n",
            "/content/drive/MyDrive/Colab Notebooks/Thesis/voice recognition/dataset/194117.wav, segment of test data:20\n",
            "193099\n"
          ]
        },
        {
          "output_type": "stream",
          "name": "stderr",
          "text": [
            "/usr/local/lib/python3.7/dist-packages/librosa/core/audio.py:165: UserWarning: PySoundFile failed. Trying audioread instead.\n",
            "  warnings.warn(\"PySoundFile failed. Trying audioread instead.\")\n"
          ]
        },
        {
          "output_type": "stream",
          "name": "stdout",
          "text": [
            "/content/drive/MyDrive/Colab Notebooks/Thesis/voice recognition/dataset/193099.wav, segment of test data:1\n",
            "/content/drive/MyDrive/Colab Notebooks/Thesis/voice recognition/dataset/193099.wav, segment of test data:2\n",
            "/content/drive/MyDrive/Colab Notebooks/Thesis/voice recognition/dataset/193099.wav, segment of test data:3\n",
            "/content/drive/MyDrive/Colab Notebooks/Thesis/voice recognition/dataset/193099.wav, segment of test data:4\n",
            "/content/drive/MyDrive/Colab Notebooks/Thesis/voice recognition/dataset/193099.wav, segment of test data:5\n",
            "/content/drive/MyDrive/Colab Notebooks/Thesis/voice recognition/dataset/193099.wav, segment of test data:6\n",
            "/content/drive/MyDrive/Colab Notebooks/Thesis/voice recognition/dataset/193099.wav, segment of test data:7\n",
            "/content/drive/MyDrive/Colab Notebooks/Thesis/voice recognition/dataset/193099.wav, segment of test data:8\n",
            "/content/drive/MyDrive/Colab Notebooks/Thesis/voice recognition/dataset/193099.wav, segment of test data:9\n",
            "/content/drive/MyDrive/Colab Notebooks/Thesis/voice recognition/dataset/193099.wav, segment of test data:10\n",
            "/content/drive/MyDrive/Colab Notebooks/Thesis/voice recognition/dataset/193099.wav, segment of test data:11\n",
            "/content/drive/MyDrive/Colab Notebooks/Thesis/voice recognition/dataset/193099.wav, segment of test data:12\n",
            "/content/drive/MyDrive/Colab Notebooks/Thesis/voice recognition/dataset/193099.wav, segment of test data:13\n",
            "/content/drive/MyDrive/Colab Notebooks/Thesis/voice recognition/dataset/193099.wav, segment of test data:14\n",
            "/content/drive/MyDrive/Colab Notebooks/Thesis/voice recognition/dataset/193099.wav, segment of test data:15\n",
            "/content/drive/MyDrive/Colab Notebooks/Thesis/voice recognition/dataset/193099.wav, segment of test data:16\n",
            "/content/drive/MyDrive/Colab Notebooks/Thesis/voice recognition/dataset/193099.wav, segment of test data:17\n",
            "/content/drive/MyDrive/Colab Notebooks/Thesis/voice recognition/dataset/193099.wav, segment of test data:18\n",
            "/content/drive/MyDrive/Colab Notebooks/Thesis/voice recognition/dataset/193099.wav, segment of test data:19\n",
            "/content/drive/MyDrive/Colab Notebooks/Thesis/voice recognition/dataset/193099.wav, segment of test data:20\n",
            "172059\n"
          ]
        },
        {
          "output_type": "stream",
          "name": "stderr",
          "text": [
            "/usr/local/lib/python3.7/dist-packages/librosa/core/audio.py:165: UserWarning: PySoundFile failed. Trying audioread instead.\n",
            "  warnings.warn(\"PySoundFile failed. Trying audioread instead.\")\n"
          ]
        },
        {
          "output_type": "stream",
          "name": "stdout",
          "text": [
            "/content/drive/MyDrive/Colab Notebooks/Thesis/voice recognition/dataset/172059.wav, segment of test data:1\n",
            "/content/drive/MyDrive/Colab Notebooks/Thesis/voice recognition/dataset/172059.wav, segment of test data:2\n",
            "/content/drive/MyDrive/Colab Notebooks/Thesis/voice recognition/dataset/172059.wav, segment of test data:3\n",
            "/content/drive/MyDrive/Colab Notebooks/Thesis/voice recognition/dataset/172059.wav, segment of test data:4\n",
            "/content/drive/MyDrive/Colab Notebooks/Thesis/voice recognition/dataset/172059.wav, segment of test data:5\n",
            "/content/drive/MyDrive/Colab Notebooks/Thesis/voice recognition/dataset/172059.wav, segment of test data:6\n",
            "/content/drive/MyDrive/Colab Notebooks/Thesis/voice recognition/dataset/172059.wav, segment of test data:7\n",
            "/content/drive/MyDrive/Colab Notebooks/Thesis/voice recognition/dataset/172059.wav, segment of test data:8\n",
            "/content/drive/MyDrive/Colab Notebooks/Thesis/voice recognition/dataset/172059.wav, segment of test data:9\n",
            "/content/drive/MyDrive/Colab Notebooks/Thesis/voice recognition/dataset/172059.wav, segment of test data:10\n",
            "/content/drive/MyDrive/Colab Notebooks/Thesis/voice recognition/dataset/172059.wav, segment of test data:11\n",
            "/content/drive/MyDrive/Colab Notebooks/Thesis/voice recognition/dataset/172059.wav, segment of test data:12\n",
            "/content/drive/MyDrive/Colab Notebooks/Thesis/voice recognition/dataset/172059.wav, segment of test data:13\n",
            "/content/drive/MyDrive/Colab Notebooks/Thesis/voice recognition/dataset/172059.wav, segment of test data:14\n",
            "/content/drive/MyDrive/Colab Notebooks/Thesis/voice recognition/dataset/172059.wav, segment of test data:15\n",
            "/content/drive/MyDrive/Colab Notebooks/Thesis/voice recognition/dataset/172059.wav, segment of test data:16\n",
            "/content/drive/MyDrive/Colab Notebooks/Thesis/voice recognition/dataset/172059.wav, segment of test data:17\n",
            "/content/drive/MyDrive/Colab Notebooks/Thesis/voice recognition/dataset/172059.wav, segment of test data:18\n",
            "/content/drive/MyDrive/Colab Notebooks/Thesis/voice recognition/dataset/172059.wav, segment of test data:19\n",
            "/content/drive/MyDrive/Colab Notebooks/Thesis/voice recognition/dataset/172059.wav, segment of test data:20\n",
            "193033\n"
          ]
        },
        {
          "output_type": "stream",
          "name": "stderr",
          "text": [
            "/usr/local/lib/python3.7/dist-packages/librosa/core/audio.py:165: UserWarning: PySoundFile failed. Trying audioread instead.\n",
            "  warnings.warn(\"PySoundFile failed. Trying audioread instead.\")\n"
          ]
        },
        {
          "output_type": "stream",
          "name": "stdout",
          "text": [
            "/content/drive/MyDrive/Colab Notebooks/Thesis/voice recognition/dataset/193033.wav, segment of test data:1\n",
            "/content/drive/MyDrive/Colab Notebooks/Thesis/voice recognition/dataset/193033.wav, segment of test data:2\n",
            "/content/drive/MyDrive/Colab Notebooks/Thesis/voice recognition/dataset/193033.wav, segment of test data:3\n",
            "/content/drive/MyDrive/Colab Notebooks/Thesis/voice recognition/dataset/193033.wav, segment of test data:4\n",
            "/content/drive/MyDrive/Colab Notebooks/Thesis/voice recognition/dataset/193033.wav, segment of test data:5\n",
            "/content/drive/MyDrive/Colab Notebooks/Thesis/voice recognition/dataset/193033.wav, segment of test data:6\n",
            "/content/drive/MyDrive/Colab Notebooks/Thesis/voice recognition/dataset/193033.wav, segment of test data:7\n",
            "/content/drive/MyDrive/Colab Notebooks/Thesis/voice recognition/dataset/193033.wav, segment of test data:8\n",
            "/content/drive/MyDrive/Colab Notebooks/Thesis/voice recognition/dataset/193033.wav, segment of test data:9\n",
            "/content/drive/MyDrive/Colab Notebooks/Thesis/voice recognition/dataset/193033.wav, segment of test data:10\n",
            "/content/drive/MyDrive/Colab Notebooks/Thesis/voice recognition/dataset/193033.wav, segment of test data:11\n",
            "/content/drive/MyDrive/Colab Notebooks/Thesis/voice recognition/dataset/193033.wav, segment of test data:12\n",
            "/content/drive/MyDrive/Colab Notebooks/Thesis/voice recognition/dataset/193033.wav, segment of test data:13\n",
            "/content/drive/MyDrive/Colab Notebooks/Thesis/voice recognition/dataset/193033.wav, segment of test data:14\n",
            "/content/drive/MyDrive/Colab Notebooks/Thesis/voice recognition/dataset/193033.wav, segment of test data:15\n",
            "/content/drive/MyDrive/Colab Notebooks/Thesis/voice recognition/dataset/193033.wav, segment of test data:16\n",
            "/content/drive/MyDrive/Colab Notebooks/Thesis/voice recognition/dataset/193033.wav, segment of test data:17\n",
            "/content/drive/MyDrive/Colab Notebooks/Thesis/voice recognition/dataset/193033.wav, segment of test data:18\n",
            "/content/drive/MyDrive/Colab Notebooks/Thesis/voice recognition/dataset/193033.wav, segment of test data:19\n",
            "/content/drive/MyDrive/Colab Notebooks/Thesis/voice recognition/dataset/193033.wav, segment of test data:20\n",
            "172041\n"
          ]
        },
        {
          "output_type": "stream",
          "name": "stderr",
          "text": [
            "/usr/local/lib/python3.7/dist-packages/librosa/core/audio.py:165: UserWarning: PySoundFile failed. Trying audioread instead.\n",
            "  warnings.warn(\"PySoundFile failed. Trying audioread instead.\")\n"
          ]
        },
        {
          "output_type": "stream",
          "name": "stdout",
          "text": [
            "/content/drive/MyDrive/Colab Notebooks/Thesis/voice recognition/dataset/172041.wav, segment of test data:1\n",
            "/content/drive/MyDrive/Colab Notebooks/Thesis/voice recognition/dataset/172041.wav, segment of test data:2\n",
            "/content/drive/MyDrive/Colab Notebooks/Thesis/voice recognition/dataset/172041.wav, segment of test data:3\n",
            "/content/drive/MyDrive/Colab Notebooks/Thesis/voice recognition/dataset/172041.wav, segment of test data:4\n",
            "/content/drive/MyDrive/Colab Notebooks/Thesis/voice recognition/dataset/172041.wav, segment of test data:5\n",
            "/content/drive/MyDrive/Colab Notebooks/Thesis/voice recognition/dataset/172041.wav, segment of test data:6\n",
            "/content/drive/MyDrive/Colab Notebooks/Thesis/voice recognition/dataset/172041.wav, segment of test data:7\n",
            "/content/drive/MyDrive/Colab Notebooks/Thesis/voice recognition/dataset/172041.wav, segment of test data:8\n",
            "/content/drive/MyDrive/Colab Notebooks/Thesis/voice recognition/dataset/172041.wav, segment of test data:9\n",
            "/content/drive/MyDrive/Colab Notebooks/Thesis/voice recognition/dataset/172041.wav, segment of test data:10\n",
            "/content/drive/MyDrive/Colab Notebooks/Thesis/voice recognition/dataset/172041.wav, segment of test data:11\n",
            "/content/drive/MyDrive/Colab Notebooks/Thesis/voice recognition/dataset/172041.wav, segment of test data:12\n",
            "/content/drive/MyDrive/Colab Notebooks/Thesis/voice recognition/dataset/172041.wav, segment of test data:13\n",
            "/content/drive/MyDrive/Colab Notebooks/Thesis/voice recognition/dataset/172041.wav, segment of test data:14\n",
            "/content/drive/MyDrive/Colab Notebooks/Thesis/voice recognition/dataset/172041.wav, segment of test data:15\n",
            "/content/drive/MyDrive/Colab Notebooks/Thesis/voice recognition/dataset/172041.wav, segment of test data:16\n",
            "/content/drive/MyDrive/Colab Notebooks/Thesis/voice recognition/dataset/172041.wav, segment of test data:17\n",
            "/content/drive/MyDrive/Colab Notebooks/Thesis/voice recognition/dataset/172041.wav, segment of test data:18\n",
            "/content/drive/MyDrive/Colab Notebooks/Thesis/voice recognition/dataset/172041.wav, segment of test data:19\n",
            "/content/drive/MyDrive/Colab Notebooks/Thesis/voice recognition/dataset/172041.wav, segment of test data:20\n",
            "164035\n",
            "/content/drive/MyDrive/Colab Notebooks/Thesis/voice recognition/dataset/164035.wav, segment of test data:1\n",
            "/content/drive/MyDrive/Colab Notebooks/Thesis/voice recognition/dataset/164035.wav, segment of test data:2\n",
            "/content/drive/MyDrive/Colab Notebooks/Thesis/voice recognition/dataset/164035.wav, segment of test data:3\n",
            "/content/drive/MyDrive/Colab Notebooks/Thesis/voice recognition/dataset/164035.wav, segment of test data:4\n",
            "/content/drive/MyDrive/Colab Notebooks/Thesis/voice recognition/dataset/164035.wav, segment of test data:5\n",
            "/content/drive/MyDrive/Colab Notebooks/Thesis/voice recognition/dataset/164035.wav, segment of test data:6\n",
            "/content/drive/MyDrive/Colab Notebooks/Thesis/voice recognition/dataset/164035.wav, segment of test data:7\n",
            "/content/drive/MyDrive/Colab Notebooks/Thesis/voice recognition/dataset/164035.wav, segment of test data:8\n",
            "/content/drive/MyDrive/Colab Notebooks/Thesis/voice recognition/dataset/164035.wav, segment of test data:9\n",
            "/content/drive/MyDrive/Colab Notebooks/Thesis/voice recognition/dataset/164035.wav, segment of test data:10\n",
            "/content/drive/MyDrive/Colab Notebooks/Thesis/voice recognition/dataset/164035.wav, segment of test data:11\n",
            "/content/drive/MyDrive/Colab Notebooks/Thesis/voice recognition/dataset/164035.wav, segment of test data:12\n",
            "/content/drive/MyDrive/Colab Notebooks/Thesis/voice recognition/dataset/164035.wav, segment of test data:13\n",
            "/content/drive/MyDrive/Colab Notebooks/Thesis/voice recognition/dataset/164035.wav, segment of test data:14\n",
            "/content/drive/MyDrive/Colab Notebooks/Thesis/voice recognition/dataset/164035.wav, segment of test data:15\n",
            "/content/drive/MyDrive/Colab Notebooks/Thesis/voice recognition/dataset/164035.wav, segment of test data:16\n",
            "/content/drive/MyDrive/Colab Notebooks/Thesis/voice recognition/dataset/164035.wav, segment of test data:17\n",
            "/content/drive/MyDrive/Colab Notebooks/Thesis/voice recognition/dataset/164035.wav, segment of test data:18\n",
            "/content/drive/MyDrive/Colab Notebooks/Thesis/voice recognition/dataset/164035.wav, segment of test data:19\n",
            "/content/drive/MyDrive/Colab Notebooks/Thesis/voice recognition/dataset/164035.wav, segment of test data:20\n",
            "193012\n"
          ]
        },
        {
          "output_type": "stream",
          "name": "stderr",
          "text": [
            "/usr/local/lib/python3.7/dist-packages/librosa/core/audio.py:165: UserWarning: PySoundFile failed. Trying audioread instead.\n",
            "  warnings.warn(\"PySoundFile failed. Trying audioread instead.\")\n"
          ]
        },
        {
          "output_type": "stream",
          "name": "stdout",
          "text": [
            "/content/drive/MyDrive/Colab Notebooks/Thesis/voice recognition/dataset/193012.wav, segment of test data:1\n",
            "/content/drive/MyDrive/Colab Notebooks/Thesis/voice recognition/dataset/193012.wav, segment of test data:2\n",
            "/content/drive/MyDrive/Colab Notebooks/Thesis/voice recognition/dataset/193012.wav, segment of test data:3\n",
            "/content/drive/MyDrive/Colab Notebooks/Thesis/voice recognition/dataset/193012.wav, segment of test data:4\n",
            "/content/drive/MyDrive/Colab Notebooks/Thesis/voice recognition/dataset/193012.wav, segment of test data:5\n",
            "/content/drive/MyDrive/Colab Notebooks/Thesis/voice recognition/dataset/193012.wav, segment of test data:6\n",
            "/content/drive/MyDrive/Colab Notebooks/Thesis/voice recognition/dataset/193012.wav, segment of test data:7\n",
            "/content/drive/MyDrive/Colab Notebooks/Thesis/voice recognition/dataset/193012.wav, segment of test data:8\n",
            "/content/drive/MyDrive/Colab Notebooks/Thesis/voice recognition/dataset/193012.wav, segment of test data:9\n",
            "/content/drive/MyDrive/Colab Notebooks/Thesis/voice recognition/dataset/193012.wav, segment of test data:10\n",
            "/content/drive/MyDrive/Colab Notebooks/Thesis/voice recognition/dataset/193012.wav, segment of test data:11\n",
            "/content/drive/MyDrive/Colab Notebooks/Thesis/voice recognition/dataset/193012.wav, segment of test data:12\n",
            "/content/drive/MyDrive/Colab Notebooks/Thesis/voice recognition/dataset/193012.wav, segment of test data:13\n",
            "/content/drive/MyDrive/Colab Notebooks/Thesis/voice recognition/dataset/193012.wav, segment of test data:14\n",
            "/content/drive/MyDrive/Colab Notebooks/Thesis/voice recognition/dataset/193012.wav, segment of test data:15\n",
            "/content/drive/MyDrive/Colab Notebooks/Thesis/voice recognition/dataset/193012.wav, segment of test data:16\n",
            "/content/drive/MyDrive/Colab Notebooks/Thesis/voice recognition/dataset/193012.wav, segment of test data:17\n",
            "/content/drive/MyDrive/Colab Notebooks/Thesis/voice recognition/dataset/193012.wav, segment of test data:18\n",
            "/content/drive/MyDrive/Colab Notebooks/Thesis/voice recognition/dataset/193012.wav, segment of test data:19\n",
            "/content/drive/MyDrive/Colab Notebooks/Thesis/voice recognition/dataset/193012.wav, segment of test data:20\n",
            "195006\n"
          ]
        },
        {
          "output_type": "stream",
          "name": "stderr",
          "text": [
            "/usr/local/lib/python3.7/dist-packages/librosa/core/audio.py:165: UserWarning: PySoundFile failed. Trying audioread instead.\n",
            "  warnings.warn(\"PySoundFile failed. Trying audioread instead.\")\n"
          ]
        },
        {
          "output_type": "stream",
          "name": "stdout",
          "text": [
            "/content/drive/MyDrive/Colab Notebooks/Thesis/voice recognition/dataset/195006.wav, segment of test data:1\n",
            "/content/drive/MyDrive/Colab Notebooks/Thesis/voice recognition/dataset/195006.wav, segment of test data:2\n",
            "/content/drive/MyDrive/Colab Notebooks/Thesis/voice recognition/dataset/195006.wav, segment of test data:3\n",
            "/content/drive/MyDrive/Colab Notebooks/Thesis/voice recognition/dataset/195006.wav, segment of test data:4\n",
            "/content/drive/MyDrive/Colab Notebooks/Thesis/voice recognition/dataset/195006.wav, segment of test data:5\n",
            "/content/drive/MyDrive/Colab Notebooks/Thesis/voice recognition/dataset/195006.wav, segment of test data:6\n",
            "/content/drive/MyDrive/Colab Notebooks/Thesis/voice recognition/dataset/195006.wav, segment of test data:7\n",
            "/content/drive/MyDrive/Colab Notebooks/Thesis/voice recognition/dataset/195006.wav, segment of test data:8\n",
            "/content/drive/MyDrive/Colab Notebooks/Thesis/voice recognition/dataset/195006.wav, segment of test data:9\n",
            "/content/drive/MyDrive/Colab Notebooks/Thesis/voice recognition/dataset/195006.wav, segment of test data:10\n",
            "/content/drive/MyDrive/Colab Notebooks/Thesis/voice recognition/dataset/195006.wav, segment of test data:11\n",
            "/content/drive/MyDrive/Colab Notebooks/Thesis/voice recognition/dataset/195006.wav, segment of test data:12\n",
            "/content/drive/MyDrive/Colab Notebooks/Thesis/voice recognition/dataset/195006.wav, segment of test data:13\n",
            "/content/drive/MyDrive/Colab Notebooks/Thesis/voice recognition/dataset/195006.wav, segment of test data:14\n",
            "/content/drive/MyDrive/Colab Notebooks/Thesis/voice recognition/dataset/195006.wav, segment of test data:15\n",
            "/content/drive/MyDrive/Colab Notebooks/Thesis/voice recognition/dataset/195006.wav, segment of test data:16\n",
            "/content/drive/MyDrive/Colab Notebooks/Thesis/voice recognition/dataset/195006.wav, segment of test data:17\n",
            "/content/drive/MyDrive/Colab Notebooks/Thesis/voice recognition/dataset/195006.wav, segment of test data:18\n",
            "/content/drive/MyDrive/Colab Notebooks/Thesis/voice recognition/dataset/195006.wav, segment of test data:19\n",
            "/content/drive/MyDrive/Colab Notebooks/Thesis/voice recognition/dataset/195006.wav, segment of test data:20\n",
            "171123\n"
          ]
        },
        {
          "output_type": "stream",
          "name": "stderr",
          "text": [
            "/usr/local/lib/python3.7/dist-packages/librosa/core/audio.py:165: UserWarning: PySoundFile failed. Trying audioread instead.\n",
            "  warnings.warn(\"PySoundFile failed. Trying audioread instead.\")\n"
          ]
        },
        {
          "output_type": "stream",
          "name": "stdout",
          "text": [
            "/content/drive/MyDrive/Colab Notebooks/Thesis/voice recognition/dataset/171123.wav, segment of test data:1\n",
            "/content/drive/MyDrive/Colab Notebooks/Thesis/voice recognition/dataset/171123.wav, segment of test data:2\n",
            "/content/drive/MyDrive/Colab Notebooks/Thesis/voice recognition/dataset/171123.wav, segment of test data:3\n",
            "/content/drive/MyDrive/Colab Notebooks/Thesis/voice recognition/dataset/171123.wav, segment of test data:4\n",
            "/content/drive/MyDrive/Colab Notebooks/Thesis/voice recognition/dataset/171123.wav, segment of test data:5\n",
            "/content/drive/MyDrive/Colab Notebooks/Thesis/voice recognition/dataset/171123.wav, segment of test data:6\n",
            "/content/drive/MyDrive/Colab Notebooks/Thesis/voice recognition/dataset/171123.wav, segment of test data:7\n",
            "/content/drive/MyDrive/Colab Notebooks/Thesis/voice recognition/dataset/171123.wav, segment of test data:8\n",
            "/content/drive/MyDrive/Colab Notebooks/Thesis/voice recognition/dataset/171123.wav, segment of test data:9\n",
            "/content/drive/MyDrive/Colab Notebooks/Thesis/voice recognition/dataset/171123.wav, segment of test data:10\n",
            "/content/drive/MyDrive/Colab Notebooks/Thesis/voice recognition/dataset/171123.wav, segment of test data:11\n",
            "/content/drive/MyDrive/Colab Notebooks/Thesis/voice recognition/dataset/171123.wav, segment of test data:12\n",
            "/content/drive/MyDrive/Colab Notebooks/Thesis/voice recognition/dataset/171123.wav, segment of test data:13\n",
            "/content/drive/MyDrive/Colab Notebooks/Thesis/voice recognition/dataset/171123.wav, segment of test data:14\n",
            "/content/drive/MyDrive/Colab Notebooks/Thesis/voice recognition/dataset/171123.wav, segment of test data:15\n",
            "/content/drive/MyDrive/Colab Notebooks/Thesis/voice recognition/dataset/171123.wav, segment of test data:16\n",
            "/content/drive/MyDrive/Colab Notebooks/Thesis/voice recognition/dataset/171123.wav, segment of test data:17\n",
            "/content/drive/MyDrive/Colab Notebooks/Thesis/voice recognition/dataset/171123.wav, segment of test data:18\n",
            "/content/drive/MyDrive/Colab Notebooks/Thesis/voice recognition/dataset/171123.wav, segment of test data:19\n",
            "/content/drive/MyDrive/Colab Notebooks/Thesis/voice recognition/dataset/171123.wav, segment of test data:20\n",
            "201077\n"
          ]
        },
        {
          "output_type": "stream",
          "name": "stderr",
          "text": [
            "/usr/local/lib/python3.7/dist-packages/librosa/core/audio.py:165: UserWarning: PySoundFile failed. Trying audioread instead.\n",
            "  warnings.warn(\"PySoundFile failed. Trying audioread instead.\")\n"
          ]
        },
        {
          "output_type": "stream",
          "name": "stdout",
          "text": [
            "/content/drive/MyDrive/Colab Notebooks/Thesis/voice recognition/dataset/201077.wav, segment of test data:1\n",
            "/content/drive/MyDrive/Colab Notebooks/Thesis/voice recognition/dataset/201077.wav, segment of test data:2\n",
            "/content/drive/MyDrive/Colab Notebooks/Thesis/voice recognition/dataset/201077.wav, segment of test data:3\n",
            "/content/drive/MyDrive/Colab Notebooks/Thesis/voice recognition/dataset/201077.wav, segment of test data:4\n",
            "/content/drive/MyDrive/Colab Notebooks/Thesis/voice recognition/dataset/201077.wav, segment of test data:5\n",
            "/content/drive/MyDrive/Colab Notebooks/Thesis/voice recognition/dataset/201077.wav, segment of test data:6\n",
            "/content/drive/MyDrive/Colab Notebooks/Thesis/voice recognition/dataset/201077.wav, segment of test data:7\n",
            "/content/drive/MyDrive/Colab Notebooks/Thesis/voice recognition/dataset/201077.wav, segment of test data:8\n",
            "/content/drive/MyDrive/Colab Notebooks/Thesis/voice recognition/dataset/201077.wav, segment of test data:9\n",
            "/content/drive/MyDrive/Colab Notebooks/Thesis/voice recognition/dataset/201077.wav, segment of test data:10\n",
            "/content/drive/MyDrive/Colab Notebooks/Thesis/voice recognition/dataset/201077.wav, segment of test data:11\n",
            "/content/drive/MyDrive/Colab Notebooks/Thesis/voice recognition/dataset/201077.wav, segment of test data:12\n",
            "/content/drive/MyDrive/Colab Notebooks/Thesis/voice recognition/dataset/201077.wav, segment of test data:13\n",
            "/content/drive/MyDrive/Colab Notebooks/Thesis/voice recognition/dataset/201077.wav, segment of test data:14\n",
            "/content/drive/MyDrive/Colab Notebooks/Thesis/voice recognition/dataset/201077.wav, segment of test data:15\n",
            "/content/drive/MyDrive/Colab Notebooks/Thesis/voice recognition/dataset/201077.wav, segment of test data:16\n",
            "/content/drive/MyDrive/Colab Notebooks/Thesis/voice recognition/dataset/201077.wav, segment of test data:17\n",
            "/content/drive/MyDrive/Colab Notebooks/Thesis/voice recognition/dataset/201077.wav, segment of test data:18\n",
            "/content/drive/MyDrive/Colab Notebooks/Thesis/voice recognition/dataset/201077.wav, segment of test data:19\n",
            "/content/drive/MyDrive/Colab Notebooks/Thesis/voice recognition/dataset/201077.wav, segment of test data:20\n",
            "192029\n"
          ]
        },
        {
          "output_type": "stream",
          "name": "stderr",
          "text": [
            "/usr/local/lib/python3.7/dist-packages/librosa/core/audio.py:165: UserWarning: PySoundFile failed. Trying audioread instead.\n",
            "  warnings.warn(\"PySoundFile failed. Trying audioread instead.\")\n"
          ]
        },
        {
          "output_type": "stream",
          "name": "stdout",
          "text": [
            "/content/drive/MyDrive/Colab Notebooks/Thesis/voice recognition/dataset/192029.wav, segment of test data:1\n",
            "/content/drive/MyDrive/Colab Notebooks/Thesis/voice recognition/dataset/192029.wav, segment of test data:2\n",
            "/content/drive/MyDrive/Colab Notebooks/Thesis/voice recognition/dataset/192029.wav, segment of test data:3\n",
            "/content/drive/MyDrive/Colab Notebooks/Thesis/voice recognition/dataset/192029.wav, segment of test data:4\n",
            "/content/drive/MyDrive/Colab Notebooks/Thesis/voice recognition/dataset/192029.wav, segment of test data:5\n",
            "/content/drive/MyDrive/Colab Notebooks/Thesis/voice recognition/dataset/192029.wav, segment of test data:6\n",
            "/content/drive/MyDrive/Colab Notebooks/Thesis/voice recognition/dataset/192029.wav, segment of test data:7\n",
            "/content/drive/MyDrive/Colab Notebooks/Thesis/voice recognition/dataset/192029.wav, segment of test data:8\n",
            "/content/drive/MyDrive/Colab Notebooks/Thesis/voice recognition/dataset/192029.wav, segment of test data:9\n",
            "/content/drive/MyDrive/Colab Notebooks/Thesis/voice recognition/dataset/192029.wav, segment of test data:10\n",
            "/content/drive/MyDrive/Colab Notebooks/Thesis/voice recognition/dataset/192029.wav, segment of test data:11\n",
            "/content/drive/MyDrive/Colab Notebooks/Thesis/voice recognition/dataset/192029.wav, segment of test data:12\n",
            "/content/drive/MyDrive/Colab Notebooks/Thesis/voice recognition/dataset/192029.wav, segment of test data:13\n",
            "/content/drive/MyDrive/Colab Notebooks/Thesis/voice recognition/dataset/192029.wav, segment of test data:14\n",
            "/content/drive/MyDrive/Colab Notebooks/Thesis/voice recognition/dataset/192029.wav, segment of test data:15\n",
            "/content/drive/MyDrive/Colab Notebooks/Thesis/voice recognition/dataset/192029.wav, segment of test data:16\n",
            "/content/drive/MyDrive/Colab Notebooks/Thesis/voice recognition/dataset/192029.wav, segment of test data:17\n",
            "/content/drive/MyDrive/Colab Notebooks/Thesis/voice recognition/dataset/192029.wav, segment of test data:18\n",
            "/content/drive/MyDrive/Colab Notebooks/Thesis/voice recognition/dataset/192029.wav, segment of test data:19\n",
            "/content/drive/MyDrive/Colab Notebooks/Thesis/voice recognition/dataset/192029.wav, segment of test data:20\n",
            "193096\n"
          ]
        },
        {
          "output_type": "stream",
          "name": "stderr",
          "text": [
            "/usr/local/lib/python3.7/dist-packages/librosa/core/audio.py:165: UserWarning: PySoundFile failed. Trying audioread instead.\n",
            "  warnings.warn(\"PySoundFile failed. Trying audioread instead.\")\n"
          ]
        },
        {
          "output_type": "stream",
          "name": "stdout",
          "text": [
            "/content/drive/MyDrive/Colab Notebooks/Thesis/voice recognition/dataset/193096.wav, segment of test data:1\n",
            "/content/drive/MyDrive/Colab Notebooks/Thesis/voice recognition/dataset/193096.wav, segment of test data:2\n",
            "/content/drive/MyDrive/Colab Notebooks/Thesis/voice recognition/dataset/193096.wav, segment of test data:3\n",
            "/content/drive/MyDrive/Colab Notebooks/Thesis/voice recognition/dataset/193096.wav, segment of test data:4\n",
            "/content/drive/MyDrive/Colab Notebooks/Thesis/voice recognition/dataset/193096.wav, segment of test data:5\n",
            "/content/drive/MyDrive/Colab Notebooks/Thesis/voice recognition/dataset/193096.wav, segment of test data:6\n",
            "/content/drive/MyDrive/Colab Notebooks/Thesis/voice recognition/dataset/193096.wav, segment of test data:7\n",
            "/content/drive/MyDrive/Colab Notebooks/Thesis/voice recognition/dataset/193096.wav, segment of test data:8\n",
            "/content/drive/MyDrive/Colab Notebooks/Thesis/voice recognition/dataset/193096.wav, segment of test data:9\n",
            "/content/drive/MyDrive/Colab Notebooks/Thesis/voice recognition/dataset/193096.wav, segment of test data:10\n",
            "/content/drive/MyDrive/Colab Notebooks/Thesis/voice recognition/dataset/193096.wav, segment of test data:11\n",
            "/content/drive/MyDrive/Colab Notebooks/Thesis/voice recognition/dataset/193096.wav, segment of test data:12\n",
            "/content/drive/MyDrive/Colab Notebooks/Thesis/voice recognition/dataset/193096.wav, segment of test data:13\n",
            "/content/drive/MyDrive/Colab Notebooks/Thesis/voice recognition/dataset/193096.wav, segment of test data:14\n",
            "/content/drive/MyDrive/Colab Notebooks/Thesis/voice recognition/dataset/193096.wav, segment of test data:15\n",
            "/content/drive/MyDrive/Colab Notebooks/Thesis/voice recognition/dataset/193096.wav, segment of test data:16\n",
            "/content/drive/MyDrive/Colab Notebooks/Thesis/voice recognition/dataset/193096.wav, segment of test data:17\n",
            "/content/drive/MyDrive/Colab Notebooks/Thesis/voice recognition/dataset/193096.wav, segment of test data:18\n",
            "/content/drive/MyDrive/Colab Notebooks/Thesis/voice recognition/dataset/193096.wav, segment of test data:19\n",
            "/content/drive/MyDrive/Colab Notebooks/Thesis/voice recognition/dataset/193096.wav, segment of test data:20\n",
            "198015\n"
          ]
        },
        {
          "output_type": "stream",
          "name": "stderr",
          "text": [
            "/usr/local/lib/python3.7/dist-packages/librosa/core/audio.py:165: UserWarning: PySoundFile failed. Trying audioread instead.\n",
            "  warnings.warn(\"PySoundFile failed. Trying audioread instead.\")\n"
          ]
        },
        {
          "output_type": "stream",
          "name": "stdout",
          "text": [
            "/content/drive/MyDrive/Colab Notebooks/Thesis/voice recognition/dataset/198015.wav, segment of test data:1\n",
            "/content/drive/MyDrive/Colab Notebooks/Thesis/voice recognition/dataset/198015.wav, segment of test data:2\n",
            "/content/drive/MyDrive/Colab Notebooks/Thesis/voice recognition/dataset/198015.wav, segment of test data:3\n",
            "/content/drive/MyDrive/Colab Notebooks/Thesis/voice recognition/dataset/198015.wav, segment of test data:4\n",
            "/content/drive/MyDrive/Colab Notebooks/Thesis/voice recognition/dataset/198015.wav, segment of test data:5\n",
            "/content/drive/MyDrive/Colab Notebooks/Thesis/voice recognition/dataset/198015.wav, segment of test data:6\n",
            "/content/drive/MyDrive/Colab Notebooks/Thesis/voice recognition/dataset/198015.wav, segment of test data:7\n",
            "/content/drive/MyDrive/Colab Notebooks/Thesis/voice recognition/dataset/198015.wav, segment of test data:8\n",
            "/content/drive/MyDrive/Colab Notebooks/Thesis/voice recognition/dataset/198015.wav, segment of test data:9\n",
            "/content/drive/MyDrive/Colab Notebooks/Thesis/voice recognition/dataset/198015.wav, segment of test data:10\n",
            "/content/drive/MyDrive/Colab Notebooks/Thesis/voice recognition/dataset/198015.wav, segment of test data:11\n",
            "/content/drive/MyDrive/Colab Notebooks/Thesis/voice recognition/dataset/198015.wav, segment of test data:12\n",
            "/content/drive/MyDrive/Colab Notebooks/Thesis/voice recognition/dataset/198015.wav, segment of test data:13\n",
            "/content/drive/MyDrive/Colab Notebooks/Thesis/voice recognition/dataset/198015.wav, segment of test data:14\n",
            "/content/drive/MyDrive/Colab Notebooks/Thesis/voice recognition/dataset/198015.wav, segment of test data:15\n",
            "/content/drive/MyDrive/Colab Notebooks/Thesis/voice recognition/dataset/198015.wav, segment of test data:16\n",
            "/content/drive/MyDrive/Colab Notebooks/Thesis/voice recognition/dataset/198015.wav, segment of test data:17\n",
            "/content/drive/MyDrive/Colab Notebooks/Thesis/voice recognition/dataset/198015.wav, segment of test data:18\n",
            "/content/drive/MyDrive/Colab Notebooks/Thesis/voice recognition/dataset/198015.wav, segment of test data:19\n",
            "/content/drive/MyDrive/Colab Notebooks/Thesis/voice recognition/dataset/198015.wav, segment of test data:20\n",
            "171027\n"
          ]
        },
        {
          "output_type": "stream",
          "name": "stderr",
          "text": [
            "/usr/local/lib/python3.7/dist-packages/librosa/core/audio.py:165: UserWarning: PySoundFile failed. Trying audioread instead.\n",
            "  warnings.warn(\"PySoundFile failed. Trying audioread instead.\")\n"
          ]
        },
        {
          "output_type": "stream",
          "name": "stdout",
          "text": [
            "/content/drive/MyDrive/Colab Notebooks/Thesis/voice recognition/dataset/171027.wav, segment of test data:1\n",
            "/content/drive/MyDrive/Colab Notebooks/Thesis/voice recognition/dataset/171027.wav, segment of test data:2\n",
            "/content/drive/MyDrive/Colab Notebooks/Thesis/voice recognition/dataset/171027.wav, segment of test data:3\n",
            "/content/drive/MyDrive/Colab Notebooks/Thesis/voice recognition/dataset/171027.wav, segment of test data:4\n",
            "/content/drive/MyDrive/Colab Notebooks/Thesis/voice recognition/dataset/171027.wav, segment of test data:5\n",
            "/content/drive/MyDrive/Colab Notebooks/Thesis/voice recognition/dataset/171027.wav, segment of test data:6\n",
            "/content/drive/MyDrive/Colab Notebooks/Thesis/voice recognition/dataset/171027.wav, segment of test data:7\n",
            "/content/drive/MyDrive/Colab Notebooks/Thesis/voice recognition/dataset/171027.wav, segment of test data:8\n",
            "/content/drive/MyDrive/Colab Notebooks/Thesis/voice recognition/dataset/171027.wav, segment of test data:9\n",
            "/content/drive/MyDrive/Colab Notebooks/Thesis/voice recognition/dataset/171027.wav, segment of test data:10\n",
            "/content/drive/MyDrive/Colab Notebooks/Thesis/voice recognition/dataset/171027.wav, segment of test data:11\n",
            "/content/drive/MyDrive/Colab Notebooks/Thesis/voice recognition/dataset/171027.wav, segment of test data:12\n",
            "/content/drive/MyDrive/Colab Notebooks/Thesis/voice recognition/dataset/171027.wav, segment of test data:13\n",
            "/content/drive/MyDrive/Colab Notebooks/Thesis/voice recognition/dataset/171027.wav, segment of test data:14\n",
            "/content/drive/MyDrive/Colab Notebooks/Thesis/voice recognition/dataset/171027.wav, segment of test data:15\n",
            "/content/drive/MyDrive/Colab Notebooks/Thesis/voice recognition/dataset/171027.wav, segment of test data:16\n",
            "/content/drive/MyDrive/Colab Notebooks/Thesis/voice recognition/dataset/171027.wav, segment of test data:17\n",
            "/content/drive/MyDrive/Colab Notebooks/Thesis/voice recognition/dataset/171027.wav, segment of test data:18\n",
            "/content/drive/MyDrive/Colab Notebooks/Thesis/voice recognition/dataset/171027.wav, segment of test data:19\n",
            "/content/drive/MyDrive/Colab Notebooks/Thesis/voice recognition/dataset/171027.wav, segment of test data:20\n",
            "193114\n"
          ]
        },
        {
          "output_type": "stream",
          "name": "stderr",
          "text": [
            "/usr/local/lib/python3.7/dist-packages/librosa/core/audio.py:165: UserWarning: PySoundFile failed. Trying audioread instead.\n",
            "  warnings.warn(\"PySoundFile failed. Trying audioread instead.\")\n"
          ]
        },
        {
          "output_type": "stream",
          "name": "stdout",
          "text": [
            "/content/drive/MyDrive/Colab Notebooks/Thesis/voice recognition/dataset/193114.wav, segment of test data:1\n",
            "/content/drive/MyDrive/Colab Notebooks/Thesis/voice recognition/dataset/193114.wav, segment of test data:2\n",
            "/content/drive/MyDrive/Colab Notebooks/Thesis/voice recognition/dataset/193114.wav, segment of test data:3\n",
            "/content/drive/MyDrive/Colab Notebooks/Thesis/voice recognition/dataset/193114.wav, segment of test data:4\n",
            "/content/drive/MyDrive/Colab Notebooks/Thesis/voice recognition/dataset/193114.wav, segment of test data:5\n",
            "/content/drive/MyDrive/Colab Notebooks/Thesis/voice recognition/dataset/193114.wav, segment of test data:6\n",
            "/content/drive/MyDrive/Colab Notebooks/Thesis/voice recognition/dataset/193114.wav, segment of test data:7\n",
            "/content/drive/MyDrive/Colab Notebooks/Thesis/voice recognition/dataset/193114.wav, segment of test data:8\n",
            "/content/drive/MyDrive/Colab Notebooks/Thesis/voice recognition/dataset/193114.wav, segment of test data:9\n",
            "/content/drive/MyDrive/Colab Notebooks/Thesis/voice recognition/dataset/193114.wav, segment of test data:10\n",
            "/content/drive/MyDrive/Colab Notebooks/Thesis/voice recognition/dataset/193114.wav, segment of test data:11\n",
            "/content/drive/MyDrive/Colab Notebooks/Thesis/voice recognition/dataset/193114.wav, segment of test data:12\n",
            "/content/drive/MyDrive/Colab Notebooks/Thesis/voice recognition/dataset/193114.wav, segment of test data:13\n",
            "/content/drive/MyDrive/Colab Notebooks/Thesis/voice recognition/dataset/193114.wav, segment of test data:14\n",
            "/content/drive/MyDrive/Colab Notebooks/Thesis/voice recognition/dataset/193114.wav, segment of test data:15\n",
            "/content/drive/MyDrive/Colab Notebooks/Thesis/voice recognition/dataset/193114.wav, segment of test data:16\n",
            "/content/drive/MyDrive/Colab Notebooks/Thesis/voice recognition/dataset/193114.wav, segment of test data:17\n",
            "/content/drive/MyDrive/Colab Notebooks/Thesis/voice recognition/dataset/193114.wav, segment of test data:18\n",
            "/content/drive/MyDrive/Colab Notebooks/Thesis/voice recognition/dataset/193114.wav, segment of test data:19\n",
            "/content/drive/MyDrive/Colab Notebooks/Thesis/voice recognition/dataset/193114.wav, segment of test data:20\n",
            "172077\n"
          ]
        },
        {
          "output_type": "stream",
          "name": "stderr",
          "text": [
            "/usr/local/lib/python3.7/dist-packages/librosa/core/audio.py:165: UserWarning: PySoundFile failed. Trying audioread instead.\n",
            "  warnings.warn(\"PySoundFile failed. Trying audioread instead.\")\n"
          ]
        },
        {
          "output_type": "stream",
          "name": "stdout",
          "text": [
            "/content/drive/MyDrive/Colab Notebooks/Thesis/voice recognition/dataset/172077.wav, segment of test data:1\n",
            "/content/drive/MyDrive/Colab Notebooks/Thesis/voice recognition/dataset/172077.wav, segment of test data:2\n",
            "/content/drive/MyDrive/Colab Notebooks/Thesis/voice recognition/dataset/172077.wav, segment of test data:3\n",
            "/content/drive/MyDrive/Colab Notebooks/Thesis/voice recognition/dataset/172077.wav, segment of test data:4\n",
            "/content/drive/MyDrive/Colab Notebooks/Thesis/voice recognition/dataset/172077.wav, segment of test data:5\n",
            "/content/drive/MyDrive/Colab Notebooks/Thesis/voice recognition/dataset/172077.wav, segment of test data:6\n",
            "/content/drive/MyDrive/Colab Notebooks/Thesis/voice recognition/dataset/172077.wav, segment of test data:7\n",
            "/content/drive/MyDrive/Colab Notebooks/Thesis/voice recognition/dataset/172077.wav, segment of test data:8\n",
            "/content/drive/MyDrive/Colab Notebooks/Thesis/voice recognition/dataset/172077.wav, segment of test data:9\n",
            "/content/drive/MyDrive/Colab Notebooks/Thesis/voice recognition/dataset/172077.wav, segment of test data:10\n",
            "/content/drive/MyDrive/Colab Notebooks/Thesis/voice recognition/dataset/172077.wav, segment of test data:11\n",
            "/content/drive/MyDrive/Colab Notebooks/Thesis/voice recognition/dataset/172077.wav, segment of test data:12\n",
            "/content/drive/MyDrive/Colab Notebooks/Thesis/voice recognition/dataset/172077.wav, segment of test data:13\n",
            "/content/drive/MyDrive/Colab Notebooks/Thesis/voice recognition/dataset/172077.wav, segment of test data:14\n",
            "/content/drive/MyDrive/Colab Notebooks/Thesis/voice recognition/dataset/172077.wav, segment of test data:15\n",
            "/content/drive/MyDrive/Colab Notebooks/Thesis/voice recognition/dataset/172077.wav, segment of test data:16\n",
            "/content/drive/MyDrive/Colab Notebooks/Thesis/voice recognition/dataset/172077.wav, segment of test data:17\n",
            "/content/drive/MyDrive/Colab Notebooks/Thesis/voice recognition/dataset/172077.wav, segment of test data:18\n",
            "/content/drive/MyDrive/Colab Notebooks/Thesis/voice recognition/dataset/172077.wav, segment of test data:19\n",
            "/content/drive/MyDrive/Colab Notebooks/Thesis/voice recognition/dataset/172077.wav, segment of test data:20\n",
            "173100\n"
          ]
        },
        {
          "output_type": "stream",
          "name": "stderr",
          "text": [
            "/usr/local/lib/python3.7/dist-packages/librosa/core/audio.py:165: UserWarning: PySoundFile failed. Trying audioread instead.\n",
            "  warnings.warn(\"PySoundFile failed. Trying audioread instead.\")\n"
          ]
        },
        {
          "output_type": "stream",
          "name": "stdout",
          "text": [
            "/content/drive/MyDrive/Colab Notebooks/Thesis/voice recognition/dataset/173100.wav, segment of test data:1\n",
            "/content/drive/MyDrive/Colab Notebooks/Thesis/voice recognition/dataset/173100.wav, segment of test data:2\n",
            "/content/drive/MyDrive/Colab Notebooks/Thesis/voice recognition/dataset/173100.wav, segment of test data:3\n",
            "/content/drive/MyDrive/Colab Notebooks/Thesis/voice recognition/dataset/173100.wav, segment of test data:4\n",
            "/content/drive/MyDrive/Colab Notebooks/Thesis/voice recognition/dataset/173100.wav, segment of test data:5\n",
            "/content/drive/MyDrive/Colab Notebooks/Thesis/voice recognition/dataset/173100.wav, segment of test data:6\n",
            "/content/drive/MyDrive/Colab Notebooks/Thesis/voice recognition/dataset/173100.wav, segment of test data:7\n",
            "/content/drive/MyDrive/Colab Notebooks/Thesis/voice recognition/dataset/173100.wav, segment of test data:8\n",
            "/content/drive/MyDrive/Colab Notebooks/Thesis/voice recognition/dataset/173100.wav, segment of test data:9\n",
            "/content/drive/MyDrive/Colab Notebooks/Thesis/voice recognition/dataset/173100.wav, segment of test data:10\n",
            "/content/drive/MyDrive/Colab Notebooks/Thesis/voice recognition/dataset/173100.wav, segment of test data:11\n",
            "/content/drive/MyDrive/Colab Notebooks/Thesis/voice recognition/dataset/173100.wav, segment of test data:12\n",
            "/content/drive/MyDrive/Colab Notebooks/Thesis/voice recognition/dataset/173100.wav, segment of test data:13\n",
            "/content/drive/MyDrive/Colab Notebooks/Thesis/voice recognition/dataset/173100.wav, segment of test data:14\n",
            "/content/drive/MyDrive/Colab Notebooks/Thesis/voice recognition/dataset/173100.wav, segment of test data:15\n",
            "/content/drive/MyDrive/Colab Notebooks/Thesis/voice recognition/dataset/173100.wav, segment of test data:16\n",
            "/content/drive/MyDrive/Colab Notebooks/Thesis/voice recognition/dataset/173100.wav, segment of test data:17\n",
            "/content/drive/MyDrive/Colab Notebooks/Thesis/voice recognition/dataset/173100.wav, segment of test data:18\n",
            "/content/drive/MyDrive/Colab Notebooks/Thesis/voice recognition/dataset/173100.wav, segment of test data:19\n",
            "/content/drive/MyDrive/Colab Notebooks/Thesis/voice recognition/dataset/173100.wav, segment of test data:20\n",
            "173012\n"
          ]
        },
        {
          "output_type": "stream",
          "name": "stderr",
          "text": [
            "/usr/local/lib/python3.7/dist-packages/librosa/core/audio.py:165: UserWarning: PySoundFile failed. Trying audioread instead.\n",
            "  warnings.warn(\"PySoundFile failed. Trying audioread instead.\")\n"
          ]
        },
        {
          "output_type": "stream",
          "name": "stdout",
          "text": [
            "/content/drive/MyDrive/Colab Notebooks/Thesis/voice recognition/dataset/173012.wav, segment of test data:1\n",
            "/content/drive/MyDrive/Colab Notebooks/Thesis/voice recognition/dataset/173012.wav, segment of test data:2\n",
            "/content/drive/MyDrive/Colab Notebooks/Thesis/voice recognition/dataset/173012.wav, segment of test data:3\n",
            "/content/drive/MyDrive/Colab Notebooks/Thesis/voice recognition/dataset/173012.wav, segment of test data:4\n",
            "/content/drive/MyDrive/Colab Notebooks/Thesis/voice recognition/dataset/173012.wav, segment of test data:5\n",
            "/content/drive/MyDrive/Colab Notebooks/Thesis/voice recognition/dataset/173012.wav, segment of test data:6\n",
            "/content/drive/MyDrive/Colab Notebooks/Thesis/voice recognition/dataset/173012.wav, segment of test data:7\n",
            "/content/drive/MyDrive/Colab Notebooks/Thesis/voice recognition/dataset/173012.wav, segment of test data:8\n",
            "/content/drive/MyDrive/Colab Notebooks/Thesis/voice recognition/dataset/173012.wav, segment of test data:9\n",
            "/content/drive/MyDrive/Colab Notebooks/Thesis/voice recognition/dataset/173012.wav, segment of test data:10\n",
            "/content/drive/MyDrive/Colab Notebooks/Thesis/voice recognition/dataset/173012.wav, segment of test data:11\n",
            "/content/drive/MyDrive/Colab Notebooks/Thesis/voice recognition/dataset/173012.wav, segment of test data:12\n",
            "/content/drive/MyDrive/Colab Notebooks/Thesis/voice recognition/dataset/173012.wav, segment of test data:13\n",
            "/content/drive/MyDrive/Colab Notebooks/Thesis/voice recognition/dataset/173012.wav, segment of test data:14\n",
            "/content/drive/MyDrive/Colab Notebooks/Thesis/voice recognition/dataset/173012.wav, segment of test data:15\n",
            "/content/drive/MyDrive/Colab Notebooks/Thesis/voice recognition/dataset/173012.wav, segment of test data:16\n",
            "/content/drive/MyDrive/Colab Notebooks/Thesis/voice recognition/dataset/173012.wav, segment of test data:17\n",
            "/content/drive/MyDrive/Colab Notebooks/Thesis/voice recognition/dataset/173012.wav, segment of test data:18\n",
            "/content/drive/MyDrive/Colab Notebooks/Thesis/voice recognition/dataset/173012.wav, segment of test data:19\n",
            "/content/drive/MyDrive/Colab Notebooks/Thesis/voice recognition/dataset/173012.wav, segment of test data:20\n",
            "172061\n"
          ]
        },
        {
          "output_type": "stream",
          "name": "stderr",
          "text": [
            "/usr/local/lib/python3.7/dist-packages/librosa/core/audio.py:165: UserWarning: PySoundFile failed. Trying audioread instead.\n",
            "  warnings.warn(\"PySoundFile failed. Trying audioread instead.\")\n"
          ]
        },
        {
          "output_type": "stream",
          "name": "stdout",
          "text": [
            "/content/drive/MyDrive/Colab Notebooks/Thesis/voice recognition/dataset/172061.wav, segment of test data:1\n",
            "/content/drive/MyDrive/Colab Notebooks/Thesis/voice recognition/dataset/172061.wav, segment of test data:2\n",
            "/content/drive/MyDrive/Colab Notebooks/Thesis/voice recognition/dataset/172061.wav, segment of test data:3\n",
            "/content/drive/MyDrive/Colab Notebooks/Thesis/voice recognition/dataset/172061.wav, segment of test data:4\n",
            "/content/drive/MyDrive/Colab Notebooks/Thesis/voice recognition/dataset/172061.wav, segment of test data:5\n",
            "/content/drive/MyDrive/Colab Notebooks/Thesis/voice recognition/dataset/172061.wav, segment of test data:6\n",
            "/content/drive/MyDrive/Colab Notebooks/Thesis/voice recognition/dataset/172061.wav, segment of test data:7\n",
            "/content/drive/MyDrive/Colab Notebooks/Thesis/voice recognition/dataset/172061.wav, segment of test data:8\n",
            "/content/drive/MyDrive/Colab Notebooks/Thesis/voice recognition/dataset/172061.wav, segment of test data:9\n",
            "/content/drive/MyDrive/Colab Notebooks/Thesis/voice recognition/dataset/172061.wav, segment of test data:10\n",
            "/content/drive/MyDrive/Colab Notebooks/Thesis/voice recognition/dataset/172061.wav, segment of test data:11\n",
            "/content/drive/MyDrive/Colab Notebooks/Thesis/voice recognition/dataset/172061.wav, segment of test data:12\n",
            "/content/drive/MyDrive/Colab Notebooks/Thesis/voice recognition/dataset/172061.wav, segment of test data:13\n",
            "/content/drive/MyDrive/Colab Notebooks/Thesis/voice recognition/dataset/172061.wav, segment of test data:14\n",
            "/content/drive/MyDrive/Colab Notebooks/Thesis/voice recognition/dataset/172061.wav, segment of test data:15\n",
            "/content/drive/MyDrive/Colab Notebooks/Thesis/voice recognition/dataset/172061.wav, segment of test data:16\n",
            "/content/drive/MyDrive/Colab Notebooks/Thesis/voice recognition/dataset/172061.wav, segment of test data:17\n",
            "/content/drive/MyDrive/Colab Notebooks/Thesis/voice recognition/dataset/172061.wav, segment of test data:18\n",
            "/content/drive/MyDrive/Colab Notebooks/Thesis/voice recognition/dataset/172061.wav, segment of test data:19\n",
            "/content/drive/MyDrive/Colab Notebooks/Thesis/voice recognition/dataset/172061.wav, segment of test data:20\n",
            "207029\n"
          ]
        },
        {
          "output_type": "stream",
          "name": "stderr",
          "text": [
            "/usr/local/lib/python3.7/dist-packages/librosa/core/audio.py:165: UserWarning: PySoundFile failed. Trying audioread instead.\n",
            "  warnings.warn(\"PySoundFile failed. Trying audioread instead.\")\n"
          ]
        },
        {
          "output_type": "stream",
          "name": "stdout",
          "text": [
            "/content/drive/MyDrive/Colab Notebooks/Thesis/voice recognition/dataset/207029.wav, segment of test data:1\n",
            "/content/drive/MyDrive/Colab Notebooks/Thesis/voice recognition/dataset/207029.wav, segment of test data:2\n",
            "/content/drive/MyDrive/Colab Notebooks/Thesis/voice recognition/dataset/207029.wav, segment of test data:3\n",
            "/content/drive/MyDrive/Colab Notebooks/Thesis/voice recognition/dataset/207029.wav, segment of test data:4\n",
            "/content/drive/MyDrive/Colab Notebooks/Thesis/voice recognition/dataset/207029.wav, segment of test data:5\n",
            "/content/drive/MyDrive/Colab Notebooks/Thesis/voice recognition/dataset/207029.wav, segment of test data:6\n",
            "/content/drive/MyDrive/Colab Notebooks/Thesis/voice recognition/dataset/207029.wav, segment of test data:7\n",
            "/content/drive/MyDrive/Colab Notebooks/Thesis/voice recognition/dataset/207029.wav, segment of test data:8\n",
            "/content/drive/MyDrive/Colab Notebooks/Thesis/voice recognition/dataset/207029.wav, segment of test data:9\n",
            "/content/drive/MyDrive/Colab Notebooks/Thesis/voice recognition/dataset/207029.wav, segment of test data:10\n",
            "/content/drive/MyDrive/Colab Notebooks/Thesis/voice recognition/dataset/207029.wav, segment of test data:11\n",
            "/content/drive/MyDrive/Colab Notebooks/Thesis/voice recognition/dataset/207029.wav, segment of test data:12\n",
            "/content/drive/MyDrive/Colab Notebooks/Thesis/voice recognition/dataset/207029.wav, segment of test data:13\n",
            "/content/drive/MyDrive/Colab Notebooks/Thesis/voice recognition/dataset/207029.wav, segment of test data:14\n",
            "/content/drive/MyDrive/Colab Notebooks/Thesis/voice recognition/dataset/207029.wav, segment of test data:15\n",
            "/content/drive/MyDrive/Colab Notebooks/Thesis/voice recognition/dataset/207029.wav, segment of test data:16\n",
            "/content/drive/MyDrive/Colab Notebooks/Thesis/voice recognition/dataset/207029.wav, segment of test data:17\n",
            "/content/drive/MyDrive/Colab Notebooks/Thesis/voice recognition/dataset/207029.wav, segment of test data:18\n",
            "/content/drive/MyDrive/Colab Notebooks/Thesis/voice recognition/dataset/207029.wav, segment of test data:19\n",
            "/content/drive/MyDrive/Colab Notebooks/Thesis/voice recognition/dataset/207029.wav, segment of test data:20\n",
            "191040\n"
          ]
        },
        {
          "output_type": "stream",
          "name": "stderr",
          "text": [
            "/usr/local/lib/python3.7/dist-packages/librosa/core/audio.py:165: UserWarning: PySoundFile failed. Trying audioread instead.\n",
            "  warnings.warn(\"PySoundFile failed. Trying audioread instead.\")\n"
          ]
        },
        {
          "output_type": "stream",
          "name": "stdout",
          "text": [
            "/content/drive/MyDrive/Colab Notebooks/Thesis/voice recognition/dataset/191040.wav, segment of test data:1\n",
            "/content/drive/MyDrive/Colab Notebooks/Thesis/voice recognition/dataset/191040.wav, segment of test data:2\n",
            "/content/drive/MyDrive/Colab Notebooks/Thesis/voice recognition/dataset/191040.wav, segment of test data:3\n",
            "/content/drive/MyDrive/Colab Notebooks/Thesis/voice recognition/dataset/191040.wav, segment of test data:4\n",
            "/content/drive/MyDrive/Colab Notebooks/Thesis/voice recognition/dataset/191040.wav, segment of test data:5\n",
            "/content/drive/MyDrive/Colab Notebooks/Thesis/voice recognition/dataset/191040.wav, segment of test data:6\n",
            "/content/drive/MyDrive/Colab Notebooks/Thesis/voice recognition/dataset/191040.wav, segment of test data:7\n",
            "/content/drive/MyDrive/Colab Notebooks/Thesis/voice recognition/dataset/191040.wav, segment of test data:8\n",
            "/content/drive/MyDrive/Colab Notebooks/Thesis/voice recognition/dataset/191040.wav, segment of test data:9\n",
            "/content/drive/MyDrive/Colab Notebooks/Thesis/voice recognition/dataset/191040.wav, segment of test data:10\n",
            "/content/drive/MyDrive/Colab Notebooks/Thesis/voice recognition/dataset/191040.wav, segment of test data:11\n",
            "/content/drive/MyDrive/Colab Notebooks/Thesis/voice recognition/dataset/191040.wav, segment of test data:12\n",
            "/content/drive/MyDrive/Colab Notebooks/Thesis/voice recognition/dataset/191040.wav, segment of test data:13\n",
            "/content/drive/MyDrive/Colab Notebooks/Thesis/voice recognition/dataset/191040.wav, segment of test data:14\n",
            "/content/drive/MyDrive/Colab Notebooks/Thesis/voice recognition/dataset/191040.wav, segment of test data:15\n",
            "/content/drive/MyDrive/Colab Notebooks/Thesis/voice recognition/dataset/191040.wav, segment of test data:16\n",
            "/content/drive/MyDrive/Colab Notebooks/Thesis/voice recognition/dataset/191040.wav, segment of test data:17\n",
            "/content/drive/MyDrive/Colab Notebooks/Thesis/voice recognition/dataset/191040.wav, segment of test data:18\n",
            "/content/drive/MyDrive/Colab Notebooks/Thesis/voice recognition/dataset/191040.wav, segment of test data:19\n",
            "/content/drive/MyDrive/Colab Notebooks/Thesis/voice recognition/dataset/191040.wav, segment of test data:20\n",
            "192083\n"
          ]
        },
        {
          "output_type": "stream",
          "name": "stderr",
          "text": [
            "/usr/local/lib/python3.7/dist-packages/librosa/core/audio.py:165: UserWarning: PySoundFile failed. Trying audioread instead.\n",
            "  warnings.warn(\"PySoundFile failed. Trying audioread instead.\")\n"
          ]
        },
        {
          "output_type": "stream",
          "name": "stdout",
          "text": [
            "/content/drive/MyDrive/Colab Notebooks/Thesis/voice recognition/dataset/192083.wav, segment of test data:1\n",
            "/content/drive/MyDrive/Colab Notebooks/Thesis/voice recognition/dataset/192083.wav, segment of test data:2\n",
            "/content/drive/MyDrive/Colab Notebooks/Thesis/voice recognition/dataset/192083.wav, segment of test data:3\n",
            "/content/drive/MyDrive/Colab Notebooks/Thesis/voice recognition/dataset/192083.wav, segment of test data:4\n",
            "/content/drive/MyDrive/Colab Notebooks/Thesis/voice recognition/dataset/192083.wav, segment of test data:5\n",
            "/content/drive/MyDrive/Colab Notebooks/Thesis/voice recognition/dataset/192083.wav, segment of test data:6\n",
            "/content/drive/MyDrive/Colab Notebooks/Thesis/voice recognition/dataset/192083.wav, segment of test data:7\n",
            "/content/drive/MyDrive/Colab Notebooks/Thesis/voice recognition/dataset/192083.wav, segment of test data:8\n",
            "/content/drive/MyDrive/Colab Notebooks/Thesis/voice recognition/dataset/192083.wav, segment of test data:9\n",
            "/content/drive/MyDrive/Colab Notebooks/Thesis/voice recognition/dataset/192083.wav, segment of test data:10\n",
            "/content/drive/MyDrive/Colab Notebooks/Thesis/voice recognition/dataset/192083.wav, segment of test data:11\n",
            "/content/drive/MyDrive/Colab Notebooks/Thesis/voice recognition/dataset/192083.wav, segment of test data:12\n",
            "/content/drive/MyDrive/Colab Notebooks/Thesis/voice recognition/dataset/192083.wav, segment of test data:13\n",
            "/content/drive/MyDrive/Colab Notebooks/Thesis/voice recognition/dataset/192083.wav, segment of test data:14\n",
            "/content/drive/MyDrive/Colab Notebooks/Thesis/voice recognition/dataset/192083.wav, segment of test data:15\n",
            "/content/drive/MyDrive/Colab Notebooks/Thesis/voice recognition/dataset/192083.wav, segment of test data:16\n",
            "/content/drive/MyDrive/Colab Notebooks/Thesis/voice recognition/dataset/192083.wav, segment of test data:17\n",
            "/content/drive/MyDrive/Colab Notebooks/Thesis/voice recognition/dataset/192083.wav, segment of test data:18\n",
            "/content/drive/MyDrive/Colab Notebooks/Thesis/voice recognition/dataset/192083.wav, segment of test data:19\n",
            "/content/drive/MyDrive/Colab Notebooks/Thesis/voice recognition/dataset/192083.wav, segment of test data:20\n",
            "171099\n"
          ]
        },
        {
          "output_type": "stream",
          "name": "stderr",
          "text": [
            "/usr/local/lib/python3.7/dist-packages/librosa/core/audio.py:165: UserWarning: PySoundFile failed. Trying audioread instead.\n",
            "  warnings.warn(\"PySoundFile failed. Trying audioread instead.\")\n"
          ]
        },
        {
          "output_type": "stream",
          "name": "stdout",
          "text": [
            "/content/drive/MyDrive/Colab Notebooks/Thesis/voice recognition/dataset/171099.wav, segment of test data:1\n",
            "/content/drive/MyDrive/Colab Notebooks/Thesis/voice recognition/dataset/171099.wav, segment of test data:2\n",
            "/content/drive/MyDrive/Colab Notebooks/Thesis/voice recognition/dataset/171099.wav, segment of test data:3\n",
            "/content/drive/MyDrive/Colab Notebooks/Thesis/voice recognition/dataset/171099.wav, segment of test data:4\n",
            "/content/drive/MyDrive/Colab Notebooks/Thesis/voice recognition/dataset/171099.wav, segment of test data:5\n",
            "/content/drive/MyDrive/Colab Notebooks/Thesis/voice recognition/dataset/171099.wav, segment of test data:6\n",
            "/content/drive/MyDrive/Colab Notebooks/Thesis/voice recognition/dataset/171099.wav, segment of test data:7\n",
            "/content/drive/MyDrive/Colab Notebooks/Thesis/voice recognition/dataset/171099.wav, segment of test data:8\n",
            "/content/drive/MyDrive/Colab Notebooks/Thesis/voice recognition/dataset/171099.wav, segment of test data:9\n",
            "/content/drive/MyDrive/Colab Notebooks/Thesis/voice recognition/dataset/171099.wav, segment of test data:10\n",
            "/content/drive/MyDrive/Colab Notebooks/Thesis/voice recognition/dataset/171099.wav, segment of test data:11\n",
            "/content/drive/MyDrive/Colab Notebooks/Thesis/voice recognition/dataset/171099.wav, segment of test data:12\n",
            "/content/drive/MyDrive/Colab Notebooks/Thesis/voice recognition/dataset/171099.wav, segment of test data:13\n",
            "/content/drive/MyDrive/Colab Notebooks/Thesis/voice recognition/dataset/171099.wav, segment of test data:14\n",
            "/content/drive/MyDrive/Colab Notebooks/Thesis/voice recognition/dataset/171099.wav, segment of test data:15\n",
            "/content/drive/MyDrive/Colab Notebooks/Thesis/voice recognition/dataset/171099.wav, segment of test data:16\n",
            "/content/drive/MyDrive/Colab Notebooks/Thesis/voice recognition/dataset/171099.wav, segment of test data:17\n",
            "/content/drive/MyDrive/Colab Notebooks/Thesis/voice recognition/dataset/171099.wav, segment of test data:18\n",
            "/content/drive/MyDrive/Colab Notebooks/Thesis/voice recognition/dataset/171099.wav, segment of test data:19\n",
            "/content/drive/MyDrive/Colab Notebooks/Thesis/voice recognition/dataset/171099.wav, segment of test data:20\n",
            "192050\n"
          ]
        },
        {
          "output_type": "stream",
          "name": "stderr",
          "text": [
            "/usr/local/lib/python3.7/dist-packages/librosa/core/audio.py:165: UserWarning: PySoundFile failed. Trying audioread instead.\n",
            "  warnings.warn(\"PySoundFile failed. Trying audioread instead.\")\n"
          ]
        },
        {
          "output_type": "stream",
          "name": "stdout",
          "text": [
            "/content/drive/MyDrive/Colab Notebooks/Thesis/voice recognition/dataset/192050.wav, segment of test data:1\n",
            "/content/drive/MyDrive/Colab Notebooks/Thesis/voice recognition/dataset/192050.wav, segment of test data:2\n",
            "/content/drive/MyDrive/Colab Notebooks/Thesis/voice recognition/dataset/192050.wav, segment of test data:3\n",
            "/content/drive/MyDrive/Colab Notebooks/Thesis/voice recognition/dataset/192050.wav, segment of test data:4\n",
            "/content/drive/MyDrive/Colab Notebooks/Thesis/voice recognition/dataset/192050.wav, segment of test data:5\n",
            "/content/drive/MyDrive/Colab Notebooks/Thesis/voice recognition/dataset/192050.wav, segment of test data:6\n",
            "/content/drive/MyDrive/Colab Notebooks/Thesis/voice recognition/dataset/192050.wav, segment of test data:7\n",
            "/content/drive/MyDrive/Colab Notebooks/Thesis/voice recognition/dataset/192050.wav, segment of test data:8\n",
            "/content/drive/MyDrive/Colab Notebooks/Thesis/voice recognition/dataset/192050.wav, segment of test data:9\n",
            "/content/drive/MyDrive/Colab Notebooks/Thesis/voice recognition/dataset/192050.wav, segment of test data:10\n",
            "/content/drive/MyDrive/Colab Notebooks/Thesis/voice recognition/dataset/192050.wav, segment of test data:11\n",
            "/content/drive/MyDrive/Colab Notebooks/Thesis/voice recognition/dataset/192050.wav, segment of test data:12\n",
            "/content/drive/MyDrive/Colab Notebooks/Thesis/voice recognition/dataset/192050.wav, segment of test data:13\n",
            "/content/drive/MyDrive/Colab Notebooks/Thesis/voice recognition/dataset/192050.wav, segment of test data:14\n",
            "/content/drive/MyDrive/Colab Notebooks/Thesis/voice recognition/dataset/192050.wav, segment of test data:15\n",
            "/content/drive/MyDrive/Colab Notebooks/Thesis/voice recognition/dataset/192050.wav, segment of test data:16\n",
            "/content/drive/MyDrive/Colab Notebooks/Thesis/voice recognition/dataset/192050.wav, segment of test data:17\n",
            "/content/drive/MyDrive/Colab Notebooks/Thesis/voice recognition/dataset/192050.wav, segment of test data:18\n",
            "/content/drive/MyDrive/Colab Notebooks/Thesis/voice recognition/dataset/192050.wav, segment of test data:19\n",
            "/content/drive/MyDrive/Colab Notebooks/Thesis/voice recognition/dataset/192050.wav, segment of test data:20\n",
            "173069\n"
          ]
        },
        {
          "output_type": "stream",
          "name": "stderr",
          "text": [
            "/usr/local/lib/python3.7/dist-packages/librosa/core/audio.py:165: UserWarning: PySoundFile failed. Trying audioread instead.\n",
            "  warnings.warn(\"PySoundFile failed. Trying audioread instead.\")\n"
          ]
        },
        {
          "output_type": "stream",
          "name": "stdout",
          "text": [
            "/content/drive/MyDrive/Colab Notebooks/Thesis/voice recognition/dataset/173069.wav, segment of test data:1\n",
            "/content/drive/MyDrive/Colab Notebooks/Thesis/voice recognition/dataset/173069.wav, segment of test data:2\n",
            "/content/drive/MyDrive/Colab Notebooks/Thesis/voice recognition/dataset/173069.wav, segment of test data:3\n",
            "/content/drive/MyDrive/Colab Notebooks/Thesis/voice recognition/dataset/173069.wav, segment of test data:4\n",
            "/content/drive/MyDrive/Colab Notebooks/Thesis/voice recognition/dataset/173069.wav, segment of test data:5\n",
            "/content/drive/MyDrive/Colab Notebooks/Thesis/voice recognition/dataset/173069.wav, segment of test data:6\n",
            "/content/drive/MyDrive/Colab Notebooks/Thesis/voice recognition/dataset/173069.wav, segment of test data:7\n",
            "/content/drive/MyDrive/Colab Notebooks/Thesis/voice recognition/dataset/173069.wav, segment of test data:8\n",
            "/content/drive/MyDrive/Colab Notebooks/Thesis/voice recognition/dataset/173069.wav, segment of test data:9\n",
            "/content/drive/MyDrive/Colab Notebooks/Thesis/voice recognition/dataset/173069.wav, segment of test data:10\n",
            "/content/drive/MyDrive/Colab Notebooks/Thesis/voice recognition/dataset/173069.wav, segment of test data:11\n",
            "/content/drive/MyDrive/Colab Notebooks/Thesis/voice recognition/dataset/173069.wav, segment of test data:12\n",
            "/content/drive/MyDrive/Colab Notebooks/Thesis/voice recognition/dataset/173069.wav, segment of test data:13\n",
            "/content/drive/MyDrive/Colab Notebooks/Thesis/voice recognition/dataset/173069.wav, segment of test data:14\n",
            "/content/drive/MyDrive/Colab Notebooks/Thesis/voice recognition/dataset/173069.wav, segment of test data:15\n",
            "/content/drive/MyDrive/Colab Notebooks/Thesis/voice recognition/dataset/173069.wav, segment of test data:16\n",
            "/content/drive/MyDrive/Colab Notebooks/Thesis/voice recognition/dataset/173069.wav, segment of test data:17\n",
            "/content/drive/MyDrive/Colab Notebooks/Thesis/voice recognition/dataset/173069.wav, segment of test data:18\n",
            "/content/drive/MyDrive/Colab Notebooks/Thesis/voice recognition/dataset/173069.wav, segment of test data:19\n",
            "/content/drive/MyDrive/Colab Notebooks/Thesis/voice recognition/dataset/173069.wav, segment of test data:20\n",
            "198010\n"
          ]
        },
        {
          "output_type": "stream",
          "name": "stderr",
          "text": [
            "/usr/local/lib/python3.7/dist-packages/librosa/core/audio.py:165: UserWarning: PySoundFile failed. Trying audioread instead.\n",
            "  warnings.warn(\"PySoundFile failed. Trying audioread instead.\")\n"
          ]
        },
        {
          "output_type": "stream",
          "name": "stdout",
          "text": [
            "/content/drive/MyDrive/Colab Notebooks/Thesis/voice recognition/dataset/198010.wav, segment of test data:1\n",
            "/content/drive/MyDrive/Colab Notebooks/Thesis/voice recognition/dataset/198010.wav, segment of test data:2\n",
            "/content/drive/MyDrive/Colab Notebooks/Thesis/voice recognition/dataset/198010.wav, segment of test data:3\n",
            "/content/drive/MyDrive/Colab Notebooks/Thesis/voice recognition/dataset/198010.wav, segment of test data:4\n",
            "/content/drive/MyDrive/Colab Notebooks/Thesis/voice recognition/dataset/198010.wav, segment of test data:5\n",
            "/content/drive/MyDrive/Colab Notebooks/Thesis/voice recognition/dataset/198010.wav, segment of test data:6\n",
            "/content/drive/MyDrive/Colab Notebooks/Thesis/voice recognition/dataset/198010.wav, segment of test data:7\n",
            "/content/drive/MyDrive/Colab Notebooks/Thesis/voice recognition/dataset/198010.wav, segment of test data:8\n",
            "/content/drive/MyDrive/Colab Notebooks/Thesis/voice recognition/dataset/198010.wav, segment of test data:9\n",
            "/content/drive/MyDrive/Colab Notebooks/Thesis/voice recognition/dataset/198010.wav, segment of test data:10\n",
            "/content/drive/MyDrive/Colab Notebooks/Thesis/voice recognition/dataset/198010.wav, segment of test data:11\n",
            "/content/drive/MyDrive/Colab Notebooks/Thesis/voice recognition/dataset/198010.wav, segment of test data:12\n",
            "/content/drive/MyDrive/Colab Notebooks/Thesis/voice recognition/dataset/198010.wav, segment of test data:13\n",
            "/content/drive/MyDrive/Colab Notebooks/Thesis/voice recognition/dataset/198010.wav, segment of test data:14\n",
            "/content/drive/MyDrive/Colab Notebooks/Thesis/voice recognition/dataset/198010.wav, segment of test data:15\n",
            "/content/drive/MyDrive/Colab Notebooks/Thesis/voice recognition/dataset/198010.wav, segment of test data:16\n",
            "/content/drive/MyDrive/Colab Notebooks/Thesis/voice recognition/dataset/198010.wav, segment of test data:17\n",
            "/content/drive/MyDrive/Colab Notebooks/Thesis/voice recognition/dataset/198010.wav, segment of test data:18\n",
            "/content/drive/MyDrive/Colab Notebooks/Thesis/voice recognition/dataset/198010.wav, segment of test data:19\n",
            "/content/drive/MyDrive/Colab Notebooks/Thesis/voice recognition/dataset/198010.wav, segment of test data:20\n",
            "194056\n"
          ]
        },
        {
          "output_type": "stream",
          "name": "stderr",
          "text": [
            "/usr/local/lib/python3.7/dist-packages/librosa/core/audio.py:165: UserWarning: PySoundFile failed. Trying audioread instead.\n",
            "  warnings.warn(\"PySoundFile failed. Trying audioread instead.\")\n"
          ]
        },
        {
          "output_type": "stream",
          "name": "stdout",
          "text": [
            "/content/drive/MyDrive/Colab Notebooks/Thesis/voice recognition/dataset/194056.wav, segment of test data:1\n",
            "/content/drive/MyDrive/Colab Notebooks/Thesis/voice recognition/dataset/194056.wav, segment of test data:2\n",
            "/content/drive/MyDrive/Colab Notebooks/Thesis/voice recognition/dataset/194056.wav, segment of test data:3\n",
            "/content/drive/MyDrive/Colab Notebooks/Thesis/voice recognition/dataset/194056.wav, segment of test data:4\n",
            "/content/drive/MyDrive/Colab Notebooks/Thesis/voice recognition/dataset/194056.wav, segment of test data:5\n",
            "/content/drive/MyDrive/Colab Notebooks/Thesis/voice recognition/dataset/194056.wav, segment of test data:6\n",
            "/content/drive/MyDrive/Colab Notebooks/Thesis/voice recognition/dataset/194056.wav, segment of test data:7\n",
            "/content/drive/MyDrive/Colab Notebooks/Thesis/voice recognition/dataset/194056.wav, segment of test data:8\n",
            "/content/drive/MyDrive/Colab Notebooks/Thesis/voice recognition/dataset/194056.wav, segment of test data:9\n",
            "/content/drive/MyDrive/Colab Notebooks/Thesis/voice recognition/dataset/194056.wav, segment of test data:10\n",
            "/content/drive/MyDrive/Colab Notebooks/Thesis/voice recognition/dataset/194056.wav, segment of test data:11\n",
            "/content/drive/MyDrive/Colab Notebooks/Thesis/voice recognition/dataset/194056.wav, segment of test data:12\n",
            "/content/drive/MyDrive/Colab Notebooks/Thesis/voice recognition/dataset/194056.wav, segment of test data:13\n",
            "/content/drive/MyDrive/Colab Notebooks/Thesis/voice recognition/dataset/194056.wav, segment of test data:14\n",
            "/content/drive/MyDrive/Colab Notebooks/Thesis/voice recognition/dataset/194056.wav, segment of test data:15\n",
            "/content/drive/MyDrive/Colab Notebooks/Thesis/voice recognition/dataset/194056.wav, segment of test data:16\n",
            "/content/drive/MyDrive/Colab Notebooks/Thesis/voice recognition/dataset/194056.wav, segment of test data:17\n",
            "/content/drive/MyDrive/Colab Notebooks/Thesis/voice recognition/dataset/194056.wav, segment of test data:18\n",
            "/content/drive/MyDrive/Colab Notebooks/Thesis/voice recognition/dataset/194056.wav, segment of test data:19\n",
            "/content/drive/MyDrive/Colab Notebooks/Thesis/voice recognition/dataset/194056.wav, segment of test data:20\n",
            "191023\n"
          ]
        },
        {
          "output_type": "stream",
          "name": "stderr",
          "text": [
            "/usr/local/lib/python3.7/dist-packages/librosa/core/audio.py:165: UserWarning: PySoundFile failed. Trying audioread instead.\n",
            "  warnings.warn(\"PySoundFile failed. Trying audioread instead.\")\n"
          ]
        },
        {
          "output_type": "stream",
          "name": "stdout",
          "text": [
            "/content/drive/MyDrive/Colab Notebooks/Thesis/voice recognition/dataset/191023.wav, segment of test data:1\n",
            "/content/drive/MyDrive/Colab Notebooks/Thesis/voice recognition/dataset/191023.wav, segment of test data:2\n",
            "/content/drive/MyDrive/Colab Notebooks/Thesis/voice recognition/dataset/191023.wav, segment of test data:3\n",
            "/content/drive/MyDrive/Colab Notebooks/Thesis/voice recognition/dataset/191023.wav, segment of test data:4\n",
            "/content/drive/MyDrive/Colab Notebooks/Thesis/voice recognition/dataset/191023.wav, segment of test data:5\n",
            "/content/drive/MyDrive/Colab Notebooks/Thesis/voice recognition/dataset/191023.wav, segment of test data:6\n",
            "/content/drive/MyDrive/Colab Notebooks/Thesis/voice recognition/dataset/191023.wav, segment of test data:7\n",
            "/content/drive/MyDrive/Colab Notebooks/Thesis/voice recognition/dataset/191023.wav, segment of test data:8\n",
            "/content/drive/MyDrive/Colab Notebooks/Thesis/voice recognition/dataset/191023.wav, segment of test data:9\n",
            "/content/drive/MyDrive/Colab Notebooks/Thesis/voice recognition/dataset/191023.wav, segment of test data:10\n",
            "/content/drive/MyDrive/Colab Notebooks/Thesis/voice recognition/dataset/191023.wav, segment of test data:11\n",
            "/content/drive/MyDrive/Colab Notebooks/Thesis/voice recognition/dataset/191023.wav, segment of test data:12\n",
            "/content/drive/MyDrive/Colab Notebooks/Thesis/voice recognition/dataset/191023.wav, segment of test data:13\n",
            "/content/drive/MyDrive/Colab Notebooks/Thesis/voice recognition/dataset/191023.wav, segment of test data:14\n",
            "/content/drive/MyDrive/Colab Notebooks/Thesis/voice recognition/dataset/191023.wav, segment of test data:15\n",
            "/content/drive/MyDrive/Colab Notebooks/Thesis/voice recognition/dataset/191023.wav, segment of test data:16\n",
            "/content/drive/MyDrive/Colab Notebooks/Thesis/voice recognition/dataset/191023.wav, segment of test data:17\n",
            "/content/drive/MyDrive/Colab Notebooks/Thesis/voice recognition/dataset/191023.wav, segment of test data:18\n",
            "/content/drive/MyDrive/Colab Notebooks/Thesis/voice recognition/dataset/191023.wav, segment of test data:19\n",
            "/content/drive/MyDrive/Colab Notebooks/Thesis/voice recognition/dataset/191023.wav, segment of test data:20\n",
            "201008\n"
          ]
        },
        {
          "output_type": "stream",
          "name": "stderr",
          "text": [
            "/usr/local/lib/python3.7/dist-packages/librosa/core/audio.py:165: UserWarning: PySoundFile failed. Trying audioread instead.\n",
            "  warnings.warn(\"PySoundFile failed. Trying audioread instead.\")\n"
          ]
        },
        {
          "output_type": "stream",
          "name": "stdout",
          "text": [
            "/content/drive/MyDrive/Colab Notebooks/Thesis/voice recognition/dataset/201008.wav, segment of test data:1\n",
            "/content/drive/MyDrive/Colab Notebooks/Thesis/voice recognition/dataset/201008.wav, segment of test data:2\n",
            "/content/drive/MyDrive/Colab Notebooks/Thesis/voice recognition/dataset/201008.wav, segment of test data:3\n",
            "/content/drive/MyDrive/Colab Notebooks/Thesis/voice recognition/dataset/201008.wav, segment of test data:4\n",
            "/content/drive/MyDrive/Colab Notebooks/Thesis/voice recognition/dataset/201008.wav, segment of test data:5\n",
            "/content/drive/MyDrive/Colab Notebooks/Thesis/voice recognition/dataset/201008.wav, segment of test data:6\n",
            "/content/drive/MyDrive/Colab Notebooks/Thesis/voice recognition/dataset/201008.wav, segment of test data:7\n",
            "/content/drive/MyDrive/Colab Notebooks/Thesis/voice recognition/dataset/201008.wav, segment of test data:8\n",
            "/content/drive/MyDrive/Colab Notebooks/Thesis/voice recognition/dataset/201008.wav, segment of test data:9\n",
            "/content/drive/MyDrive/Colab Notebooks/Thesis/voice recognition/dataset/201008.wav, segment of test data:10\n",
            "/content/drive/MyDrive/Colab Notebooks/Thesis/voice recognition/dataset/201008.wav, segment of test data:11\n",
            "/content/drive/MyDrive/Colab Notebooks/Thesis/voice recognition/dataset/201008.wav, segment of test data:12\n",
            "/content/drive/MyDrive/Colab Notebooks/Thesis/voice recognition/dataset/201008.wav, segment of test data:13\n",
            "/content/drive/MyDrive/Colab Notebooks/Thesis/voice recognition/dataset/201008.wav, segment of test data:14\n",
            "/content/drive/MyDrive/Colab Notebooks/Thesis/voice recognition/dataset/201008.wav, segment of test data:15\n",
            "/content/drive/MyDrive/Colab Notebooks/Thesis/voice recognition/dataset/201008.wav, segment of test data:16\n",
            "/content/drive/MyDrive/Colab Notebooks/Thesis/voice recognition/dataset/201008.wav, segment of test data:17\n",
            "/content/drive/MyDrive/Colab Notebooks/Thesis/voice recognition/dataset/201008.wav, segment of test data:18\n",
            "/content/drive/MyDrive/Colab Notebooks/Thesis/voice recognition/dataset/201008.wav, segment of test data:19\n",
            "/content/drive/MyDrive/Colab Notebooks/Thesis/voice recognition/dataset/201008.wav, segment of test data:20\n",
            "163084\n"
          ]
        },
        {
          "output_type": "stream",
          "name": "stderr",
          "text": [
            "/usr/local/lib/python3.7/dist-packages/librosa/core/audio.py:165: UserWarning: PySoundFile failed. Trying audioread instead.\n",
            "  warnings.warn(\"PySoundFile failed. Trying audioread instead.\")\n"
          ]
        },
        {
          "output_type": "stream",
          "name": "stdout",
          "text": [
            "/content/drive/MyDrive/Colab Notebooks/Thesis/voice recognition/dataset/163084.wav, segment of test data:1\n",
            "/content/drive/MyDrive/Colab Notebooks/Thesis/voice recognition/dataset/163084.wav, segment of test data:2\n",
            "/content/drive/MyDrive/Colab Notebooks/Thesis/voice recognition/dataset/163084.wav, segment of test data:3\n",
            "/content/drive/MyDrive/Colab Notebooks/Thesis/voice recognition/dataset/163084.wav, segment of test data:4\n",
            "/content/drive/MyDrive/Colab Notebooks/Thesis/voice recognition/dataset/163084.wav, segment of test data:5\n",
            "/content/drive/MyDrive/Colab Notebooks/Thesis/voice recognition/dataset/163084.wav, segment of test data:6\n",
            "/content/drive/MyDrive/Colab Notebooks/Thesis/voice recognition/dataset/163084.wav, segment of test data:7\n",
            "/content/drive/MyDrive/Colab Notebooks/Thesis/voice recognition/dataset/163084.wav, segment of test data:8\n",
            "/content/drive/MyDrive/Colab Notebooks/Thesis/voice recognition/dataset/163084.wav, segment of test data:9\n",
            "/content/drive/MyDrive/Colab Notebooks/Thesis/voice recognition/dataset/163084.wav, segment of test data:10\n",
            "/content/drive/MyDrive/Colab Notebooks/Thesis/voice recognition/dataset/163084.wav, segment of test data:11\n",
            "/content/drive/MyDrive/Colab Notebooks/Thesis/voice recognition/dataset/163084.wav, segment of test data:12\n",
            "/content/drive/MyDrive/Colab Notebooks/Thesis/voice recognition/dataset/163084.wav, segment of test data:13\n",
            "/content/drive/MyDrive/Colab Notebooks/Thesis/voice recognition/dataset/163084.wav, segment of test data:14\n",
            "/content/drive/MyDrive/Colab Notebooks/Thesis/voice recognition/dataset/163084.wav, segment of test data:15\n",
            "/content/drive/MyDrive/Colab Notebooks/Thesis/voice recognition/dataset/163084.wav, segment of test data:16\n",
            "/content/drive/MyDrive/Colab Notebooks/Thesis/voice recognition/dataset/163084.wav, segment of test data:17\n",
            "/content/drive/MyDrive/Colab Notebooks/Thesis/voice recognition/dataset/163084.wav, segment of test data:18\n",
            "/content/drive/MyDrive/Colab Notebooks/Thesis/voice recognition/dataset/163084.wav, segment of test data:19\n",
            "/content/drive/MyDrive/Colab Notebooks/Thesis/voice recognition/dataset/163084.wav, segment of test data:20\n",
            "173026\n"
          ]
        },
        {
          "output_type": "stream",
          "name": "stderr",
          "text": [
            "/usr/local/lib/python3.7/dist-packages/librosa/core/audio.py:165: UserWarning: PySoundFile failed. Trying audioread instead.\n",
            "  warnings.warn(\"PySoundFile failed. Trying audioread instead.\")\n"
          ]
        },
        {
          "output_type": "stream",
          "name": "stdout",
          "text": [
            "/content/drive/MyDrive/Colab Notebooks/Thesis/voice recognition/dataset/173026.wav, segment of test data:1\n",
            "/content/drive/MyDrive/Colab Notebooks/Thesis/voice recognition/dataset/173026.wav, segment of test data:2\n",
            "/content/drive/MyDrive/Colab Notebooks/Thesis/voice recognition/dataset/173026.wav, segment of test data:3\n",
            "/content/drive/MyDrive/Colab Notebooks/Thesis/voice recognition/dataset/173026.wav, segment of test data:4\n",
            "/content/drive/MyDrive/Colab Notebooks/Thesis/voice recognition/dataset/173026.wav, segment of test data:5\n",
            "/content/drive/MyDrive/Colab Notebooks/Thesis/voice recognition/dataset/173026.wav, segment of test data:6\n",
            "/content/drive/MyDrive/Colab Notebooks/Thesis/voice recognition/dataset/173026.wav, segment of test data:7\n",
            "/content/drive/MyDrive/Colab Notebooks/Thesis/voice recognition/dataset/173026.wav, segment of test data:8\n",
            "/content/drive/MyDrive/Colab Notebooks/Thesis/voice recognition/dataset/173026.wav, segment of test data:9\n",
            "/content/drive/MyDrive/Colab Notebooks/Thesis/voice recognition/dataset/173026.wav, segment of test data:10\n",
            "/content/drive/MyDrive/Colab Notebooks/Thesis/voice recognition/dataset/173026.wav, segment of test data:11\n",
            "/content/drive/MyDrive/Colab Notebooks/Thesis/voice recognition/dataset/173026.wav, segment of test data:12\n",
            "/content/drive/MyDrive/Colab Notebooks/Thesis/voice recognition/dataset/173026.wav, segment of test data:13\n",
            "/content/drive/MyDrive/Colab Notebooks/Thesis/voice recognition/dataset/173026.wav, segment of test data:14\n",
            "/content/drive/MyDrive/Colab Notebooks/Thesis/voice recognition/dataset/173026.wav, segment of test data:15\n",
            "/content/drive/MyDrive/Colab Notebooks/Thesis/voice recognition/dataset/173026.wav, segment of test data:16\n",
            "/content/drive/MyDrive/Colab Notebooks/Thesis/voice recognition/dataset/173026.wav, segment of test data:17\n",
            "/content/drive/MyDrive/Colab Notebooks/Thesis/voice recognition/dataset/173026.wav, segment of test data:18\n",
            "/content/drive/MyDrive/Colab Notebooks/Thesis/voice recognition/dataset/173026.wav, segment of test data:19\n",
            "/content/drive/MyDrive/Colab Notebooks/Thesis/voice recognition/dataset/173026.wav, segment of test data:20\n",
            "195033\n"
          ]
        },
        {
          "output_type": "stream",
          "name": "stderr",
          "text": [
            "/usr/local/lib/python3.7/dist-packages/librosa/core/audio.py:165: UserWarning: PySoundFile failed. Trying audioread instead.\n",
            "  warnings.warn(\"PySoundFile failed. Trying audioread instead.\")\n"
          ]
        },
        {
          "output_type": "stream",
          "name": "stdout",
          "text": [
            "/content/drive/MyDrive/Colab Notebooks/Thesis/voice recognition/dataset/195033.wav, segment of test data:1\n",
            "/content/drive/MyDrive/Colab Notebooks/Thesis/voice recognition/dataset/195033.wav, segment of test data:2\n",
            "/content/drive/MyDrive/Colab Notebooks/Thesis/voice recognition/dataset/195033.wav, segment of test data:3\n",
            "/content/drive/MyDrive/Colab Notebooks/Thesis/voice recognition/dataset/195033.wav, segment of test data:4\n",
            "/content/drive/MyDrive/Colab Notebooks/Thesis/voice recognition/dataset/195033.wav, segment of test data:5\n",
            "/content/drive/MyDrive/Colab Notebooks/Thesis/voice recognition/dataset/195033.wav, segment of test data:6\n",
            "/content/drive/MyDrive/Colab Notebooks/Thesis/voice recognition/dataset/195033.wav, segment of test data:7\n",
            "/content/drive/MyDrive/Colab Notebooks/Thesis/voice recognition/dataset/195033.wav, segment of test data:8\n",
            "/content/drive/MyDrive/Colab Notebooks/Thesis/voice recognition/dataset/195033.wav, segment of test data:9\n",
            "/content/drive/MyDrive/Colab Notebooks/Thesis/voice recognition/dataset/195033.wav, segment of test data:10\n",
            "/content/drive/MyDrive/Colab Notebooks/Thesis/voice recognition/dataset/195033.wav, segment of test data:11\n",
            "/content/drive/MyDrive/Colab Notebooks/Thesis/voice recognition/dataset/195033.wav, segment of test data:12\n",
            "/content/drive/MyDrive/Colab Notebooks/Thesis/voice recognition/dataset/195033.wav, segment of test data:13\n",
            "/content/drive/MyDrive/Colab Notebooks/Thesis/voice recognition/dataset/195033.wav, segment of test data:14\n",
            "/content/drive/MyDrive/Colab Notebooks/Thesis/voice recognition/dataset/195033.wav, segment of test data:15\n",
            "/content/drive/MyDrive/Colab Notebooks/Thesis/voice recognition/dataset/195033.wav, segment of test data:16\n",
            "/content/drive/MyDrive/Colab Notebooks/Thesis/voice recognition/dataset/195033.wav, segment of test data:17\n",
            "/content/drive/MyDrive/Colab Notebooks/Thesis/voice recognition/dataset/195033.wav, segment of test data:18\n",
            "/content/drive/MyDrive/Colab Notebooks/Thesis/voice recognition/dataset/195033.wav, segment of test data:19\n",
            "/content/drive/MyDrive/Colab Notebooks/Thesis/voice recognition/dataset/195033.wav, segment of test data:20\n",
            "175032\n"
          ]
        },
        {
          "output_type": "stream",
          "name": "stderr",
          "text": [
            "/usr/local/lib/python3.7/dist-packages/librosa/core/audio.py:165: UserWarning: PySoundFile failed. Trying audioread instead.\n",
            "  warnings.warn(\"PySoundFile failed. Trying audioread instead.\")\n"
          ]
        },
        {
          "output_type": "stream",
          "name": "stdout",
          "text": [
            "/content/drive/MyDrive/Colab Notebooks/Thesis/voice recognition/dataset/175032.wav, segment of test data:1\n",
            "/content/drive/MyDrive/Colab Notebooks/Thesis/voice recognition/dataset/175032.wav, segment of test data:2\n",
            "/content/drive/MyDrive/Colab Notebooks/Thesis/voice recognition/dataset/175032.wav, segment of test data:3\n",
            "/content/drive/MyDrive/Colab Notebooks/Thesis/voice recognition/dataset/175032.wav, segment of test data:4\n",
            "/content/drive/MyDrive/Colab Notebooks/Thesis/voice recognition/dataset/175032.wav, segment of test data:5\n",
            "/content/drive/MyDrive/Colab Notebooks/Thesis/voice recognition/dataset/175032.wav, segment of test data:6\n",
            "/content/drive/MyDrive/Colab Notebooks/Thesis/voice recognition/dataset/175032.wav, segment of test data:7\n",
            "/content/drive/MyDrive/Colab Notebooks/Thesis/voice recognition/dataset/175032.wav, segment of test data:8\n",
            "/content/drive/MyDrive/Colab Notebooks/Thesis/voice recognition/dataset/175032.wav, segment of test data:9\n",
            "/content/drive/MyDrive/Colab Notebooks/Thesis/voice recognition/dataset/175032.wav, segment of test data:10\n",
            "/content/drive/MyDrive/Colab Notebooks/Thesis/voice recognition/dataset/175032.wav, segment of test data:11\n",
            "/content/drive/MyDrive/Colab Notebooks/Thesis/voice recognition/dataset/175032.wav, segment of test data:12\n",
            "/content/drive/MyDrive/Colab Notebooks/Thesis/voice recognition/dataset/175032.wav, segment of test data:13\n",
            "/content/drive/MyDrive/Colab Notebooks/Thesis/voice recognition/dataset/175032.wav, segment of test data:14\n",
            "/content/drive/MyDrive/Colab Notebooks/Thesis/voice recognition/dataset/175032.wav, segment of test data:15\n",
            "/content/drive/MyDrive/Colab Notebooks/Thesis/voice recognition/dataset/175032.wav, segment of test data:16\n",
            "/content/drive/MyDrive/Colab Notebooks/Thesis/voice recognition/dataset/175032.wav, segment of test data:17\n",
            "/content/drive/MyDrive/Colab Notebooks/Thesis/voice recognition/dataset/175032.wav, segment of test data:18\n",
            "/content/drive/MyDrive/Colab Notebooks/Thesis/voice recognition/dataset/175032.wav, segment of test data:19\n",
            "/content/drive/MyDrive/Colab Notebooks/Thesis/voice recognition/dataset/175032.wav, segment of test data:20\n",
            "178028\n"
          ]
        },
        {
          "output_type": "stream",
          "name": "stderr",
          "text": [
            "/usr/local/lib/python3.7/dist-packages/librosa/core/audio.py:165: UserWarning: PySoundFile failed. Trying audioread instead.\n",
            "  warnings.warn(\"PySoundFile failed. Trying audioread instead.\")\n"
          ]
        },
        {
          "output_type": "stream",
          "name": "stdout",
          "text": [
            "/content/drive/MyDrive/Colab Notebooks/Thesis/voice recognition/dataset/178028.wav, segment of test data:1\n",
            "/content/drive/MyDrive/Colab Notebooks/Thesis/voice recognition/dataset/178028.wav, segment of test data:2\n",
            "/content/drive/MyDrive/Colab Notebooks/Thesis/voice recognition/dataset/178028.wav, segment of test data:3\n",
            "/content/drive/MyDrive/Colab Notebooks/Thesis/voice recognition/dataset/178028.wav, segment of test data:4\n",
            "/content/drive/MyDrive/Colab Notebooks/Thesis/voice recognition/dataset/178028.wav, segment of test data:5\n",
            "/content/drive/MyDrive/Colab Notebooks/Thesis/voice recognition/dataset/178028.wav, segment of test data:6\n",
            "/content/drive/MyDrive/Colab Notebooks/Thesis/voice recognition/dataset/178028.wav, segment of test data:7\n",
            "/content/drive/MyDrive/Colab Notebooks/Thesis/voice recognition/dataset/178028.wav, segment of test data:8\n",
            "/content/drive/MyDrive/Colab Notebooks/Thesis/voice recognition/dataset/178028.wav, segment of test data:9\n",
            "/content/drive/MyDrive/Colab Notebooks/Thesis/voice recognition/dataset/178028.wav, segment of test data:10\n",
            "/content/drive/MyDrive/Colab Notebooks/Thesis/voice recognition/dataset/178028.wav, segment of test data:11\n",
            "/content/drive/MyDrive/Colab Notebooks/Thesis/voice recognition/dataset/178028.wav, segment of test data:12\n",
            "/content/drive/MyDrive/Colab Notebooks/Thesis/voice recognition/dataset/178028.wav, segment of test data:13\n",
            "/content/drive/MyDrive/Colab Notebooks/Thesis/voice recognition/dataset/178028.wav, segment of test data:14\n",
            "/content/drive/MyDrive/Colab Notebooks/Thesis/voice recognition/dataset/178028.wav, segment of test data:15\n",
            "/content/drive/MyDrive/Colab Notebooks/Thesis/voice recognition/dataset/178028.wav, segment of test data:16\n",
            "/content/drive/MyDrive/Colab Notebooks/Thesis/voice recognition/dataset/178028.wav, segment of test data:17\n",
            "/content/drive/MyDrive/Colab Notebooks/Thesis/voice recognition/dataset/178028.wav, segment of test data:18\n",
            "/content/drive/MyDrive/Colab Notebooks/Thesis/voice recognition/dataset/178028.wav, segment of test data:19\n",
            "/content/drive/MyDrive/Colab Notebooks/Thesis/voice recognition/dataset/178028.wav, segment of test data:20\n",
            "194119\n"
          ]
        },
        {
          "output_type": "stream",
          "name": "stderr",
          "text": [
            "/usr/local/lib/python3.7/dist-packages/librosa/core/audio.py:165: UserWarning: PySoundFile failed. Trying audioread instead.\n",
            "  warnings.warn(\"PySoundFile failed. Trying audioread instead.\")\n"
          ]
        },
        {
          "output_type": "stream",
          "name": "stdout",
          "text": [
            "/content/drive/MyDrive/Colab Notebooks/Thesis/voice recognition/dataset/194119.wav, segment of test data:1\n",
            "/content/drive/MyDrive/Colab Notebooks/Thesis/voice recognition/dataset/194119.wav, segment of test data:2\n",
            "/content/drive/MyDrive/Colab Notebooks/Thesis/voice recognition/dataset/194119.wav, segment of test data:3\n",
            "/content/drive/MyDrive/Colab Notebooks/Thesis/voice recognition/dataset/194119.wav, segment of test data:4\n",
            "/content/drive/MyDrive/Colab Notebooks/Thesis/voice recognition/dataset/194119.wav, segment of test data:5\n",
            "/content/drive/MyDrive/Colab Notebooks/Thesis/voice recognition/dataset/194119.wav, segment of test data:6\n",
            "/content/drive/MyDrive/Colab Notebooks/Thesis/voice recognition/dataset/194119.wav, segment of test data:7\n",
            "/content/drive/MyDrive/Colab Notebooks/Thesis/voice recognition/dataset/194119.wav, segment of test data:8\n",
            "/content/drive/MyDrive/Colab Notebooks/Thesis/voice recognition/dataset/194119.wav, segment of test data:9\n",
            "/content/drive/MyDrive/Colab Notebooks/Thesis/voice recognition/dataset/194119.wav, segment of test data:10\n",
            "/content/drive/MyDrive/Colab Notebooks/Thesis/voice recognition/dataset/194119.wav, segment of test data:11\n",
            "/content/drive/MyDrive/Colab Notebooks/Thesis/voice recognition/dataset/194119.wav, segment of test data:12\n",
            "/content/drive/MyDrive/Colab Notebooks/Thesis/voice recognition/dataset/194119.wav, segment of test data:13\n",
            "/content/drive/MyDrive/Colab Notebooks/Thesis/voice recognition/dataset/194119.wav, segment of test data:14\n",
            "/content/drive/MyDrive/Colab Notebooks/Thesis/voice recognition/dataset/194119.wav, segment of test data:15\n",
            "/content/drive/MyDrive/Colab Notebooks/Thesis/voice recognition/dataset/194119.wav, segment of test data:16\n",
            "/content/drive/MyDrive/Colab Notebooks/Thesis/voice recognition/dataset/194119.wav, segment of test data:17\n",
            "/content/drive/MyDrive/Colab Notebooks/Thesis/voice recognition/dataset/194119.wav, segment of test data:18\n",
            "/content/drive/MyDrive/Colab Notebooks/Thesis/voice recognition/dataset/194119.wav, segment of test data:19\n",
            "/content/drive/MyDrive/Colab Notebooks/Thesis/voice recognition/dataset/194119.wav, segment of test data:20\n",
            "177017\n"
          ]
        },
        {
          "output_type": "stream",
          "name": "stderr",
          "text": [
            "/usr/local/lib/python3.7/dist-packages/librosa/core/audio.py:165: UserWarning: PySoundFile failed. Trying audioread instead.\n",
            "  warnings.warn(\"PySoundFile failed. Trying audioread instead.\")\n"
          ]
        },
        {
          "output_type": "stream",
          "name": "stdout",
          "text": [
            "/content/drive/MyDrive/Colab Notebooks/Thesis/voice recognition/dataset/177017.wav, segment of test data:1\n",
            "/content/drive/MyDrive/Colab Notebooks/Thesis/voice recognition/dataset/177017.wav, segment of test data:2\n",
            "/content/drive/MyDrive/Colab Notebooks/Thesis/voice recognition/dataset/177017.wav, segment of test data:3\n",
            "/content/drive/MyDrive/Colab Notebooks/Thesis/voice recognition/dataset/177017.wav, segment of test data:4\n",
            "/content/drive/MyDrive/Colab Notebooks/Thesis/voice recognition/dataset/177017.wav, segment of test data:5\n",
            "/content/drive/MyDrive/Colab Notebooks/Thesis/voice recognition/dataset/177017.wav, segment of test data:6\n",
            "/content/drive/MyDrive/Colab Notebooks/Thesis/voice recognition/dataset/177017.wav, segment of test data:7\n",
            "/content/drive/MyDrive/Colab Notebooks/Thesis/voice recognition/dataset/177017.wav, segment of test data:8\n",
            "/content/drive/MyDrive/Colab Notebooks/Thesis/voice recognition/dataset/177017.wav, segment of test data:9\n",
            "/content/drive/MyDrive/Colab Notebooks/Thesis/voice recognition/dataset/177017.wav, segment of test data:10\n",
            "/content/drive/MyDrive/Colab Notebooks/Thesis/voice recognition/dataset/177017.wav, segment of test data:11\n",
            "/content/drive/MyDrive/Colab Notebooks/Thesis/voice recognition/dataset/177017.wav, segment of test data:12\n",
            "/content/drive/MyDrive/Colab Notebooks/Thesis/voice recognition/dataset/177017.wav, segment of test data:13\n",
            "/content/drive/MyDrive/Colab Notebooks/Thesis/voice recognition/dataset/177017.wav, segment of test data:14\n",
            "/content/drive/MyDrive/Colab Notebooks/Thesis/voice recognition/dataset/177017.wav, segment of test data:15\n",
            "/content/drive/MyDrive/Colab Notebooks/Thesis/voice recognition/dataset/177017.wav, segment of test data:16\n",
            "/content/drive/MyDrive/Colab Notebooks/Thesis/voice recognition/dataset/177017.wav, segment of test data:17\n",
            "/content/drive/MyDrive/Colab Notebooks/Thesis/voice recognition/dataset/177017.wav, segment of test data:18\n",
            "/content/drive/MyDrive/Colab Notebooks/Thesis/voice recognition/dataset/177017.wav, segment of test data:19\n",
            "/content/drive/MyDrive/Colab Notebooks/Thesis/voice recognition/dataset/177017.wav, segment of test data:20\n",
            "173059\n"
          ]
        },
        {
          "output_type": "stream",
          "name": "stderr",
          "text": [
            "/usr/local/lib/python3.7/dist-packages/librosa/core/audio.py:165: UserWarning: PySoundFile failed. Trying audioread instead.\n",
            "  warnings.warn(\"PySoundFile failed. Trying audioread instead.\")\n"
          ]
        },
        {
          "output_type": "stream",
          "name": "stdout",
          "text": [
            "/content/drive/MyDrive/Colab Notebooks/Thesis/voice recognition/dataset/173059.wav, segment of test data:1\n",
            "/content/drive/MyDrive/Colab Notebooks/Thesis/voice recognition/dataset/173059.wav, segment of test data:2\n",
            "/content/drive/MyDrive/Colab Notebooks/Thesis/voice recognition/dataset/173059.wav, segment of test data:3\n",
            "/content/drive/MyDrive/Colab Notebooks/Thesis/voice recognition/dataset/173059.wav, segment of test data:4\n",
            "/content/drive/MyDrive/Colab Notebooks/Thesis/voice recognition/dataset/173059.wav, segment of test data:5\n",
            "/content/drive/MyDrive/Colab Notebooks/Thesis/voice recognition/dataset/173059.wav, segment of test data:6\n",
            "/content/drive/MyDrive/Colab Notebooks/Thesis/voice recognition/dataset/173059.wav, segment of test data:7\n",
            "/content/drive/MyDrive/Colab Notebooks/Thesis/voice recognition/dataset/173059.wav, segment of test data:8\n",
            "/content/drive/MyDrive/Colab Notebooks/Thesis/voice recognition/dataset/173059.wav, segment of test data:9\n",
            "/content/drive/MyDrive/Colab Notebooks/Thesis/voice recognition/dataset/173059.wav, segment of test data:10\n",
            "/content/drive/MyDrive/Colab Notebooks/Thesis/voice recognition/dataset/173059.wav, segment of test data:11\n",
            "/content/drive/MyDrive/Colab Notebooks/Thesis/voice recognition/dataset/173059.wav, segment of test data:12\n",
            "/content/drive/MyDrive/Colab Notebooks/Thesis/voice recognition/dataset/173059.wav, segment of test data:13\n",
            "/content/drive/MyDrive/Colab Notebooks/Thesis/voice recognition/dataset/173059.wav, segment of test data:14\n",
            "/content/drive/MyDrive/Colab Notebooks/Thesis/voice recognition/dataset/173059.wav, segment of test data:15\n",
            "/content/drive/MyDrive/Colab Notebooks/Thesis/voice recognition/dataset/173059.wav, segment of test data:16\n",
            "/content/drive/MyDrive/Colab Notebooks/Thesis/voice recognition/dataset/173059.wav, segment of test data:17\n",
            "/content/drive/MyDrive/Colab Notebooks/Thesis/voice recognition/dataset/173059.wav, segment of test data:18\n",
            "/content/drive/MyDrive/Colab Notebooks/Thesis/voice recognition/dataset/173059.wav, segment of test data:19\n",
            "/content/drive/MyDrive/Colab Notebooks/Thesis/voice recognition/dataset/173059.wav, segment of test data:20\n",
            "204069\n"
          ]
        },
        {
          "output_type": "stream",
          "name": "stderr",
          "text": [
            "/usr/local/lib/python3.7/dist-packages/librosa/core/audio.py:165: UserWarning: PySoundFile failed. Trying audioread instead.\n",
            "  warnings.warn(\"PySoundFile failed. Trying audioread instead.\")\n"
          ]
        },
        {
          "output_type": "stream",
          "name": "stdout",
          "text": [
            "/content/drive/MyDrive/Colab Notebooks/Thesis/voice recognition/dataset/204069.wav, segment of test data:1\n",
            "/content/drive/MyDrive/Colab Notebooks/Thesis/voice recognition/dataset/204069.wav, segment of test data:2\n",
            "/content/drive/MyDrive/Colab Notebooks/Thesis/voice recognition/dataset/204069.wav, segment of test data:3\n",
            "/content/drive/MyDrive/Colab Notebooks/Thesis/voice recognition/dataset/204069.wav, segment of test data:4\n",
            "/content/drive/MyDrive/Colab Notebooks/Thesis/voice recognition/dataset/204069.wav, segment of test data:5\n",
            "/content/drive/MyDrive/Colab Notebooks/Thesis/voice recognition/dataset/204069.wav, segment of test data:6\n",
            "/content/drive/MyDrive/Colab Notebooks/Thesis/voice recognition/dataset/204069.wav, segment of test data:7\n",
            "/content/drive/MyDrive/Colab Notebooks/Thesis/voice recognition/dataset/204069.wav, segment of test data:8\n",
            "/content/drive/MyDrive/Colab Notebooks/Thesis/voice recognition/dataset/204069.wav, segment of test data:9\n",
            "/content/drive/MyDrive/Colab Notebooks/Thesis/voice recognition/dataset/204069.wav, segment of test data:10\n",
            "/content/drive/MyDrive/Colab Notebooks/Thesis/voice recognition/dataset/204069.wav, segment of test data:11\n",
            "/content/drive/MyDrive/Colab Notebooks/Thesis/voice recognition/dataset/204069.wav, segment of test data:12\n",
            "/content/drive/MyDrive/Colab Notebooks/Thesis/voice recognition/dataset/204069.wav, segment of test data:13\n",
            "/content/drive/MyDrive/Colab Notebooks/Thesis/voice recognition/dataset/204069.wav, segment of test data:14\n",
            "/content/drive/MyDrive/Colab Notebooks/Thesis/voice recognition/dataset/204069.wav, segment of test data:15\n",
            "/content/drive/MyDrive/Colab Notebooks/Thesis/voice recognition/dataset/204069.wav, segment of test data:16\n",
            "/content/drive/MyDrive/Colab Notebooks/Thesis/voice recognition/dataset/204069.wav, segment of test data:17\n",
            "/content/drive/MyDrive/Colab Notebooks/Thesis/voice recognition/dataset/204069.wav, segment of test data:18\n",
            "/content/drive/MyDrive/Colab Notebooks/Thesis/voice recognition/dataset/204069.wav, segment of test data:19\n",
            "/content/drive/MyDrive/Colab Notebooks/Thesis/voice recognition/dataset/204069.wav, segment of test data:20\n",
            "193069\n"
          ]
        },
        {
          "output_type": "stream",
          "name": "stderr",
          "text": [
            "/usr/local/lib/python3.7/dist-packages/librosa/core/audio.py:165: UserWarning: PySoundFile failed. Trying audioread instead.\n",
            "  warnings.warn(\"PySoundFile failed. Trying audioread instead.\")\n"
          ]
        },
        {
          "output_type": "stream",
          "name": "stdout",
          "text": [
            "/content/drive/MyDrive/Colab Notebooks/Thesis/voice recognition/dataset/193069.wav, segment of test data:1\n",
            "/content/drive/MyDrive/Colab Notebooks/Thesis/voice recognition/dataset/193069.wav, segment of test data:2\n",
            "/content/drive/MyDrive/Colab Notebooks/Thesis/voice recognition/dataset/193069.wav, segment of test data:3\n",
            "/content/drive/MyDrive/Colab Notebooks/Thesis/voice recognition/dataset/193069.wav, segment of test data:4\n",
            "/content/drive/MyDrive/Colab Notebooks/Thesis/voice recognition/dataset/193069.wav, segment of test data:5\n",
            "/content/drive/MyDrive/Colab Notebooks/Thesis/voice recognition/dataset/193069.wav, segment of test data:6\n",
            "/content/drive/MyDrive/Colab Notebooks/Thesis/voice recognition/dataset/193069.wav, segment of test data:7\n",
            "/content/drive/MyDrive/Colab Notebooks/Thesis/voice recognition/dataset/193069.wav, segment of test data:8\n",
            "/content/drive/MyDrive/Colab Notebooks/Thesis/voice recognition/dataset/193069.wav, segment of test data:9\n",
            "/content/drive/MyDrive/Colab Notebooks/Thesis/voice recognition/dataset/193069.wav, segment of test data:10\n",
            "/content/drive/MyDrive/Colab Notebooks/Thesis/voice recognition/dataset/193069.wav, segment of test data:11\n",
            "/content/drive/MyDrive/Colab Notebooks/Thesis/voice recognition/dataset/193069.wav, segment of test data:12\n",
            "/content/drive/MyDrive/Colab Notebooks/Thesis/voice recognition/dataset/193069.wav, segment of test data:13\n",
            "/content/drive/MyDrive/Colab Notebooks/Thesis/voice recognition/dataset/193069.wav, segment of test data:14\n",
            "/content/drive/MyDrive/Colab Notebooks/Thesis/voice recognition/dataset/193069.wav, segment of test data:15\n",
            "/content/drive/MyDrive/Colab Notebooks/Thesis/voice recognition/dataset/193069.wav, segment of test data:16\n",
            "/content/drive/MyDrive/Colab Notebooks/Thesis/voice recognition/dataset/193069.wav, segment of test data:17\n",
            "/content/drive/MyDrive/Colab Notebooks/Thesis/voice recognition/dataset/193069.wav, segment of test data:18\n",
            "/content/drive/MyDrive/Colab Notebooks/Thesis/voice recognition/dataset/193069.wav, segment of test data:19\n",
            "/content/drive/MyDrive/Colab Notebooks/Thesis/voice recognition/dataset/193069.wav, segment of test data:20\n",
            "172003\n"
          ]
        },
        {
          "output_type": "stream",
          "name": "stderr",
          "text": [
            "/usr/local/lib/python3.7/dist-packages/librosa/core/audio.py:165: UserWarning: PySoundFile failed. Trying audioread instead.\n",
            "  warnings.warn(\"PySoundFile failed. Trying audioread instead.\")\n"
          ]
        },
        {
          "output_type": "stream",
          "name": "stdout",
          "text": [
            "/content/drive/MyDrive/Colab Notebooks/Thesis/voice recognition/dataset/172003.wav, segment of test data:1\n",
            "/content/drive/MyDrive/Colab Notebooks/Thesis/voice recognition/dataset/172003.wav, segment of test data:2\n",
            "/content/drive/MyDrive/Colab Notebooks/Thesis/voice recognition/dataset/172003.wav, segment of test data:3\n",
            "/content/drive/MyDrive/Colab Notebooks/Thesis/voice recognition/dataset/172003.wav, segment of test data:4\n",
            "/content/drive/MyDrive/Colab Notebooks/Thesis/voice recognition/dataset/172003.wav, segment of test data:5\n",
            "/content/drive/MyDrive/Colab Notebooks/Thesis/voice recognition/dataset/172003.wav, segment of test data:6\n",
            "/content/drive/MyDrive/Colab Notebooks/Thesis/voice recognition/dataset/172003.wav, segment of test data:7\n",
            "/content/drive/MyDrive/Colab Notebooks/Thesis/voice recognition/dataset/172003.wav, segment of test data:8\n",
            "/content/drive/MyDrive/Colab Notebooks/Thesis/voice recognition/dataset/172003.wav, segment of test data:9\n",
            "/content/drive/MyDrive/Colab Notebooks/Thesis/voice recognition/dataset/172003.wav, segment of test data:10\n",
            "/content/drive/MyDrive/Colab Notebooks/Thesis/voice recognition/dataset/172003.wav, segment of test data:11\n",
            "/content/drive/MyDrive/Colab Notebooks/Thesis/voice recognition/dataset/172003.wav, segment of test data:12\n",
            "/content/drive/MyDrive/Colab Notebooks/Thesis/voice recognition/dataset/172003.wav, segment of test data:13\n",
            "/content/drive/MyDrive/Colab Notebooks/Thesis/voice recognition/dataset/172003.wav, segment of test data:14\n",
            "/content/drive/MyDrive/Colab Notebooks/Thesis/voice recognition/dataset/172003.wav, segment of test data:15\n",
            "/content/drive/MyDrive/Colab Notebooks/Thesis/voice recognition/dataset/172003.wav, segment of test data:16\n",
            "/content/drive/MyDrive/Colab Notebooks/Thesis/voice recognition/dataset/172003.wav, segment of test data:17\n",
            "/content/drive/MyDrive/Colab Notebooks/Thesis/voice recognition/dataset/172003.wav, segment of test data:18\n",
            "/content/drive/MyDrive/Colab Notebooks/Thesis/voice recognition/dataset/172003.wav, segment of test data:19\n",
            "/content/drive/MyDrive/Colab Notebooks/Thesis/voice recognition/dataset/172003.wav, segment of test data:20\n",
            "195004\n"
          ]
        },
        {
          "output_type": "stream",
          "name": "stderr",
          "text": [
            "/usr/local/lib/python3.7/dist-packages/librosa/core/audio.py:165: UserWarning: PySoundFile failed. Trying audioread instead.\n",
            "  warnings.warn(\"PySoundFile failed. Trying audioread instead.\")\n"
          ]
        },
        {
          "output_type": "stream",
          "name": "stdout",
          "text": [
            "/content/drive/MyDrive/Colab Notebooks/Thesis/voice recognition/dataset/195004.wav, segment of test data:1\n",
            "/content/drive/MyDrive/Colab Notebooks/Thesis/voice recognition/dataset/195004.wav, segment of test data:2\n",
            "/content/drive/MyDrive/Colab Notebooks/Thesis/voice recognition/dataset/195004.wav, segment of test data:3\n",
            "/content/drive/MyDrive/Colab Notebooks/Thesis/voice recognition/dataset/195004.wav, segment of test data:4\n",
            "/content/drive/MyDrive/Colab Notebooks/Thesis/voice recognition/dataset/195004.wav, segment of test data:5\n",
            "/content/drive/MyDrive/Colab Notebooks/Thesis/voice recognition/dataset/195004.wav, segment of test data:6\n",
            "/content/drive/MyDrive/Colab Notebooks/Thesis/voice recognition/dataset/195004.wav, segment of test data:7\n",
            "/content/drive/MyDrive/Colab Notebooks/Thesis/voice recognition/dataset/195004.wav, segment of test data:8\n",
            "/content/drive/MyDrive/Colab Notebooks/Thesis/voice recognition/dataset/195004.wav, segment of test data:9\n",
            "/content/drive/MyDrive/Colab Notebooks/Thesis/voice recognition/dataset/195004.wav, segment of test data:10\n",
            "/content/drive/MyDrive/Colab Notebooks/Thesis/voice recognition/dataset/195004.wav, segment of test data:11\n",
            "/content/drive/MyDrive/Colab Notebooks/Thesis/voice recognition/dataset/195004.wav, segment of test data:12\n",
            "/content/drive/MyDrive/Colab Notebooks/Thesis/voice recognition/dataset/195004.wav, segment of test data:13\n",
            "/content/drive/MyDrive/Colab Notebooks/Thesis/voice recognition/dataset/195004.wav, segment of test data:14\n",
            "/content/drive/MyDrive/Colab Notebooks/Thesis/voice recognition/dataset/195004.wav, segment of test data:15\n",
            "/content/drive/MyDrive/Colab Notebooks/Thesis/voice recognition/dataset/195004.wav, segment of test data:16\n",
            "/content/drive/MyDrive/Colab Notebooks/Thesis/voice recognition/dataset/195004.wav, segment of test data:17\n",
            "/content/drive/MyDrive/Colab Notebooks/Thesis/voice recognition/dataset/195004.wav, segment of test data:18\n",
            "/content/drive/MyDrive/Colab Notebooks/Thesis/voice recognition/dataset/195004.wav, segment of test data:19\n",
            "/content/drive/MyDrive/Colab Notebooks/Thesis/voice recognition/dataset/195004.wav, segment of test data:20\n",
            "177028\n"
          ]
        },
        {
          "output_type": "stream",
          "name": "stderr",
          "text": [
            "/usr/local/lib/python3.7/dist-packages/librosa/core/audio.py:165: UserWarning: PySoundFile failed. Trying audioread instead.\n",
            "  warnings.warn(\"PySoundFile failed. Trying audioread instead.\")\n"
          ]
        },
        {
          "output_type": "stream",
          "name": "stdout",
          "text": [
            "/content/drive/MyDrive/Colab Notebooks/Thesis/voice recognition/dataset/177028.wav, segment of test data:1\n",
            "/content/drive/MyDrive/Colab Notebooks/Thesis/voice recognition/dataset/177028.wav, segment of test data:2\n",
            "/content/drive/MyDrive/Colab Notebooks/Thesis/voice recognition/dataset/177028.wav, segment of test data:3\n",
            "/content/drive/MyDrive/Colab Notebooks/Thesis/voice recognition/dataset/177028.wav, segment of test data:4\n",
            "/content/drive/MyDrive/Colab Notebooks/Thesis/voice recognition/dataset/177028.wav, segment of test data:5\n",
            "/content/drive/MyDrive/Colab Notebooks/Thesis/voice recognition/dataset/177028.wav, segment of test data:6\n",
            "/content/drive/MyDrive/Colab Notebooks/Thesis/voice recognition/dataset/177028.wav, segment of test data:7\n",
            "/content/drive/MyDrive/Colab Notebooks/Thesis/voice recognition/dataset/177028.wav, segment of test data:8\n",
            "/content/drive/MyDrive/Colab Notebooks/Thesis/voice recognition/dataset/177028.wav, segment of test data:9\n",
            "/content/drive/MyDrive/Colab Notebooks/Thesis/voice recognition/dataset/177028.wav, segment of test data:10\n",
            "/content/drive/MyDrive/Colab Notebooks/Thesis/voice recognition/dataset/177028.wav, segment of test data:11\n",
            "/content/drive/MyDrive/Colab Notebooks/Thesis/voice recognition/dataset/177028.wav, segment of test data:12\n",
            "/content/drive/MyDrive/Colab Notebooks/Thesis/voice recognition/dataset/177028.wav, segment of test data:13\n",
            "/content/drive/MyDrive/Colab Notebooks/Thesis/voice recognition/dataset/177028.wav, segment of test data:14\n",
            "/content/drive/MyDrive/Colab Notebooks/Thesis/voice recognition/dataset/177028.wav, segment of test data:15\n",
            "/content/drive/MyDrive/Colab Notebooks/Thesis/voice recognition/dataset/177028.wav, segment of test data:16\n",
            "/content/drive/MyDrive/Colab Notebooks/Thesis/voice recognition/dataset/177028.wav, segment of test data:17\n",
            "/content/drive/MyDrive/Colab Notebooks/Thesis/voice recognition/dataset/177028.wav, segment of test data:18\n",
            "/content/drive/MyDrive/Colab Notebooks/Thesis/voice recognition/dataset/177028.wav, segment of test data:19\n",
            "/content/drive/MyDrive/Colab Notebooks/Thesis/voice recognition/dataset/177028.wav, segment of test data:20\n",
            "178005\n"
          ]
        },
        {
          "output_type": "stream",
          "name": "stderr",
          "text": [
            "/usr/local/lib/python3.7/dist-packages/librosa/core/audio.py:165: UserWarning: PySoundFile failed. Trying audioread instead.\n",
            "  warnings.warn(\"PySoundFile failed. Trying audioread instead.\")\n"
          ]
        },
        {
          "output_type": "stream",
          "name": "stdout",
          "text": [
            "/content/drive/MyDrive/Colab Notebooks/Thesis/voice recognition/dataset/178005.wav, segment of test data:1\n",
            "/content/drive/MyDrive/Colab Notebooks/Thesis/voice recognition/dataset/178005.wav, segment of test data:2\n",
            "/content/drive/MyDrive/Colab Notebooks/Thesis/voice recognition/dataset/178005.wav, segment of test data:3\n",
            "/content/drive/MyDrive/Colab Notebooks/Thesis/voice recognition/dataset/178005.wav, segment of test data:4\n",
            "/content/drive/MyDrive/Colab Notebooks/Thesis/voice recognition/dataset/178005.wav, segment of test data:5\n",
            "/content/drive/MyDrive/Colab Notebooks/Thesis/voice recognition/dataset/178005.wav, segment of test data:6\n",
            "/content/drive/MyDrive/Colab Notebooks/Thesis/voice recognition/dataset/178005.wav, segment of test data:7\n",
            "/content/drive/MyDrive/Colab Notebooks/Thesis/voice recognition/dataset/178005.wav, segment of test data:8\n",
            "/content/drive/MyDrive/Colab Notebooks/Thesis/voice recognition/dataset/178005.wav, segment of test data:9\n",
            "/content/drive/MyDrive/Colab Notebooks/Thesis/voice recognition/dataset/178005.wav, segment of test data:10\n",
            "/content/drive/MyDrive/Colab Notebooks/Thesis/voice recognition/dataset/178005.wav, segment of test data:11\n",
            "/content/drive/MyDrive/Colab Notebooks/Thesis/voice recognition/dataset/178005.wav, segment of test data:12\n",
            "/content/drive/MyDrive/Colab Notebooks/Thesis/voice recognition/dataset/178005.wav, segment of test data:13\n",
            "/content/drive/MyDrive/Colab Notebooks/Thesis/voice recognition/dataset/178005.wav, segment of test data:14\n",
            "/content/drive/MyDrive/Colab Notebooks/Thesis/voice recognition/dataset/178005.wav, segment of test data:15\n",
            "/content/drive/MyDrive/Colab Notebooks/Thesis/voice recognition/dataset/178005.wav, segment of test data:16\n",
            "/content/drive/MyDrive/Colab Notebooks/Thesis/voice recognition/dataset/178005.wav, segment of test data:17\n",
            "/content/drive/MyDrive/Colab Notebooks/Thesis/voice recognition/dataset/178005.wav, segment of test data:18\n",
            "/content/drive/MyDrive/Colab Notebooks/Thesis/voice recognition/dataset/178005.wav, segment of test data:19\n",
            "/content/drive/MyDrive/Colab Notebooks/Thesis/voice recognition/dataset/178005.wav, segment of test data:20\n",
            "207022\n"
          ]
        },
        {
          "output_type": "stream",
          "name": "stderr",
          "text": [
            "/usr/local/lib/python3.7/dist-packages/librosa/core/audio.py:165: UserWarning: PySoundFile failed. Trying audioread instead.\n",
            "  warnings.warn(\"PySoundFile failed. Trying audioread instead.\")\n"
          ]
        },
        {
          "output_type": "stream",
          "name": "stdout",
          "text": [
            "/content/drive/MyDrive/Colab Notebooks/Thesis/voice recognition/dataset/207022.wav, segment of test data:1\n",
            "/content/drive/MyDrive/Colab Notebooks/Thesis/voice recognition/dataset/207022.wav, segment of test data:2\n",
            "/content/drive/MyDrive/Colab Notebooks/Thesis/voice recognition/dataset/207022.wav, segment of test data:3\n",
            "/content/drive/MyDrive/Colab Notebooks/Thesis/voice recognition/dataset/207022.wav, segment of test data:4\n",
            "/content/drive/MyDrive/Colab Notebooks/Thesis/voice recognition/dataset/207022.wav, segment of test data:5\n",
            "/content/drive/MyDrive/Colab Notebooks/Thesis/voice recognition/dataset/207022.wav, segment of test data:6\n",
            "/content/drive/MyDrive/Colab Notebooks/Thesis/voice recognition/dataset/207022.wav, segment of test data:7\n",
            "/content/drive/MyDrive/Colab Notebooks/Thesis/voice recognition/dataset/207022.wav, segment of test data:8\n",
            "/content/drive/MyDrive/Colab Notebooks/Thesis/voice recognition/dataset/207022.wav, segment of test data:9\n",
            "/content/drive/MyDrive/Colab Notebooks/Thesis/voice recognition/dataset/207022.wav, segment of test data:10\n",
            "/content/drive/MyDrive/Colab Notebooks/Thesis/voice recognition/dataset/207022.wav, segment of test data:11\n",
            "/content/drive/MyDrive/Colab Notebooks/Thesis/voice recognition/dataset/207022.wav, segment of test data:12\n",
            "/content/drive/MyDrive/Colab Notebooks/Thesis/voice recognition/dataset/207022.wav, segment of test data:13\n",
            "/content/drive/MyDrive/Colab Notebooks/Thesis/voice recognition/dataset/207022.wav, segment of test data:14\n",
            "/content/drive/MyDrive/Colab Notebooks/Thesis/voice recognition/dataset/207022.wav, segment of test data:15\n",
            "/content/drive/MyDrive/Colab Notebooks/Thesis/voice recognition/dataset/207022.wav, segment of test data:16\n",
            "/content/drive/MyDrive/Colab Notebooks/Thesis/voice recognition/dataset/207022.wav, segment of test data:17\n",
            "/content/drive/MyDrive/Colab Notebooks/Thesis/voice recognition/dataset/207022.wav, segment of test data:18\n",
            "/content/drive/MyDrive/Colab Notebooks/Thesis/voice recognition/dataset/207022.wav, segment of test data:19\n",
            "/content/drive/MyDrive/Colab Notebooks/Thesis/voice recognition/dataset/207022.wav, segment of test data:20\n",
            "171055\n"
          ]
        },
        {
          "output_type": "stream",
          "name": "stderr",
          "text": [
            "/usr/local/lib/python3.7/dist-packages/librosa/core/audio.py:165: UserWarning: PySoundFile failed. Trying audioread instead.\n",
            "  warnings.warn(\"PySoundFile failed. Trying audioread instead.\")\n"
          ]
        },
        {
          "output_type": "stream",
          "name": "stdout",
          "text": [
            "/content/drive/MyDrive/Colab Notebooks/Thesis/voice recognition/dataset/171055.wav, segment of test data:1\n",
            "/content/drive/MyDrive/Colab Notebooks/Thesis/voice recognition/dataset/171055.wav, segment of test data:2\n",
            "/content/drive/MyDrive/Colab Notebooks/Thesis/voice recognition/dataset/171055.wav, segment of test data:3\n",
            "/content/drive/MyDrive/Colab Notebooks/Thesis/voice recognition/dataset/171055.wav, segment of test data:4\n",
            "/content/drive/MyDrive/Colab Notebooks/Thesis/voice recognition/dataset/171055.wav, segment of test data:5\n",
            "/content/drive/MyDrive/Colab Notebooks/Thesis/voice recognition/dataset/171055.wav, segment of test data:6\n",
            "/content/drive/MyDrive/Colab Notebooks/Thesis/voice recognition/dataset/171055.wav, segment of test data:7\n",
            "/content/drive/MyDrive/Colab Notebooks/Thesis/voice recognition/dataset/171055.wav, segment of test data:8\n",
            "/content/drive/MyDrive/Colab Notebooks/Thesis/voice recognition/dataset/171055.wav, segment of test data:9\n",
            "/content/drive/MyDrive/Colab Notebooks/Thesis/voice recognition/dataset/171055.wav, segment of test data:10\n",
            "/content/drive/MyDrive/Colab Notebooks/Thesis/voice recognition/dataset/171055.wav, segment of test data:11\n",
            "/content/drive/MyDrive/Colab Notebooks/Thesis/voice recognition/dataset/171055.wav, segment of test data:12\n",
            "/content/drive/MyDrive/Colab Notebooks/Thesis/voice recognition/dataset/171055.wav, segment of test data:13\n",
            "/content/drive/MyDrive/Colab Notebooks/Thesis/voice recognition/dataset/171055.wav, segment of test data:14\n",
            "/content/drive/MyDrive/Colab Notebooks/Thesis/voice recognition/dataset/171055.wav, segment of test data:15\n",
            "/content/drive/MyDrive/Colab Notebooks/Thesis/voice recognition/dataset/171055.wav, segment of test data:16\n",
            "/content/drive/MyDrive/Colab Notebooks/Thesis/voice recognition/dataset/171055.wav, segment of test data:17\n",
            "/content/drive/MyDrive/Colab Notebooks/Thesis/voice recognition/dataset/171055.wav, segment of test data:18\n",
            "/content/drive/MyDrive/Colab Notebooks/Thesis/voice recognition/dataset/171055.wav, segment of test data:19\n",
            "/content/drive/MyDrive/Colab Notebooks/Thesis/voice recognition/dataset/171055.wav, segment of test data:20\n",
            "173010\n"
          ]
        },
        {
          "output_type": "stream",
          "name": "stderr",
          "text": [
            "/usr/local/lib/python3.7/dist-packages/librosa/core/audio.py:165: UserWarning: PySoundFile failed. Trying audioread instead.\n",
            "  warnings.warn(\"PySoundFile failed. Trying audioread instead.\")\n"
          ]
        },
        {
          "output_type": "stream",
          "name": "stdout",
          "text": [
            "/content/drive/MyDrive/Colab Notebooks/Thesis/voice recognition/dataset/173010.wav, segment of test data:1\n",
            "/content/drive/MyDrive/Colab Notebooks/Thesis/voice recognition/dataset/173010.wav, segment of test data:2\n",
            "/content/drive/MyDrive/Colab Notebooks/Thesis/voice recognition/dataset/173010.wav, segment of test data:3\n",
            "/content/drive/MyDrive/Colab Notebooks/Thesis/voice recognition/dataset/173010.wav, segment of test data:4\n",
            "/content/drive/MyDrive/Colab Notebooks/Thesis/voice recognition/dataset/173010.wav, segment of test data:5\n",
            "/content/drive/MyDrive/Colab Notebooks/Thesis/voice recognition/dataset/173010.wav, segment of test data:6\n",
            "/content/drive/MyDrive/Colab Notebooks/Thesis/voice recognition/dataset/173010.wav, segment of test data:7\n",
            "/content/drive/MyDrive/Colab Notebooks/Thesis/voice recognition/dataset/173010.wav, segment of test data:8\n",
            "/content/drive/MyDrive/Colab Notebooks/Thesis/voice recognition/dataset/173010.wav, segment of test data:9\n",
            "/content/drive/MyDrive/Colab Notebooks/Thesis/voice recognition/dataset/173010.wav, segment of test data:10\n",
            "/content/drive/MyDrive/Colab Notebooks/Thesis/voice recognition/dataset/173010.wav, segment of test data:11\n",
            "/content/drive/MyDrive/Colab Notebooks/Thesis/voice recognition/dataset/173010.wav, segment of test data:12\n",
            "/content/drive/MyDrive/Colab Notebooks/Thesis/voice recognition/dataset/173010.wav, segment of test data:13\n",
            "/content/drive/MyDrive/Colab Notebooks/Thesis/voice recognition/dataset/173010.wav, segment of test data:14\n",
            "/content/drive/MyDrive/Colab Notebooks/Thesis/voice recognition/dataset/173010.wav, segment of test data:15\n",
            "/content/drive/MyDrive/Colab Notebooks/Thesis/voice recognition/dataset/173010.wav, segment of test data:16\n",
            "/content/drive/MyDrive/Colab Notebooks/Thesis/voice recognition/dataset/173010.wav, segment of test data:17\n",
            "/content/drive/MyDrive/Colab Notebooks/Thesis/voice recognition/dataset/173010.wav, segment of test data:18\n",
            "/content/drive/MyDrive/Colab Notebooks/Thesis/voice recognition/dataset/173010.wav, segment of test data:19\n",
            "/content/drive/MyDrive/Colab Notebooks/Thesis/voice recognition/dataset/173010.wav, segment of test data:20\n",
            "191110\n"
          ]
        },
        {
          "output_type": "stream",
          "name": "stderr",
          "text": [
            "/usr/local/lib/python3.7/dist-packages/librosa/core/audio.py:165: UserWarning: PySoundFile failed. Trying audioread instead.\n",
            "  warnings.warn(\"PySoundFile failed. Trying audioread instead.\")\n"
          ]
        },
        {
          "output_type": "stream",
          "name": "stdout",
          "text": [
            "/content/drive/MyDrive/Colab Notebooks/Thesis/voice recognition/dataset/191110.wav, segment of test data:1\n",
            "/content/drive/MyDrive/Colab Notebooks/Thesis/voice recognition/dataset/191110.wav, segment of test data:2\n",
            "/content/drive/MyDrive/Colab Notebooks/Thesis/voice recognition/dataset/191110.wav, segment of test data:3\n",
            "/content/drive/MyDrive/Colab Notebooks/Thesis/voice recognition/dataset/191110.wav, segment of test data:4\n",
            "/content/drive/MyDrive/Colab Notebooks/Thesis/voice recognition/dataset/191110.wav, segment of test data:5\n",
            "/content/drive/MyDrive/Colab Notebooks/Thesis/voice recognition/dataset/191110.wav, segment of test data:6\n",
            "/content/drive/MyDrive/Colab Notebooks/Thesis/voice recognition/dataset/191110.wav, segment of test data:7\n",
            "/content/drive/MyDrive/Colab Notebooks/Thesis/voice recognition/dataset/191110.wav, segment of test data:8\n",
            "/content/drive/MyDrive/Colab Notebooks/Thesis/voice recognition/dataset/191110.wav, segment of test data:9\n",
            "/content/drive/MyDrive/Colab Notebooks/Thesis/voice recognition/dataset/191110.wav, segment of test data:10\n",
            "/content/drive/MyDrive/Colab Notebooks/Thesis/voice recognition/dataset/191110.wav, segment of test data:11\n",
            "/content/drive/MyDrive/Colab Notebooks/Thesis/voice recognition/dataset/191110.wav, segment of test data:12\n",
            "/content/drive/MyDrive/Colab Notebooks/Thesis/voice recognition/dataset/191110.wav, segment of test data:13\n",
            "/content/drive/MyDrive/Colab Notebooks/Thesis/voice recognition/dataset/191110.wav, segment of test data:14\n",
            "/content/drive/MyDrive/Colab Notebooks/Thesis/voice recognition/dataset/191110.wav, segment of test data:15\n",
            "/content/drive/MyDrive/Colab Notebooks/Thesis/voice recognition/dataset/191110.wav, segment of test data:16\n",
            "/content/drive/MyDrive/Colab Notebooks/Thesis/voice recognition/dataset/191110.wav, segment of test data:17\n",
            "/content/drive/MyDrive/Colab Notebooks/Thesis/voice recognition/dataset/191110.wav, segment of test data:18\n",
            "/content/drive/MyDrive/Colab Notebooks/Thesis/voice recognition/dataset/191110.wav, segment of test data:19\n",
            "/content/drive/MyDrive/Colab Notebooks/Thesis/voice recognition/dataset/191110.wav, segment of test data:20\n",
            "178017\n"
          ]
        },
        {
          "output_type": "stream",
          "name": "stderr",
          "text": [
            "/usr/local/lib/python3.7/dist-packages/librosa/core/audio.py:165: UserWarning: PySoundFile failed. Trying audioread instead.\n",
            "  warnings.warn(\"PySoundFile failed. Trying audioread instead.\")\n"
          ]
        },
        {
          "output_type": "stream",
          "name": "stdout",
          "text": [
            "/content/drive/MyDrive/Colab Notebooks/Thesis/voice recognition/dataset/178017.wav, segment of test data:1\n",
            "/content/drive/MyDrive/Colab Notebooks/Thesis/voice recognition/dataset/178017.wav, segment of test data:2\n",
            "/content/drive/MyDrive/Colab Notebooks/Thesis/voice recognition/dataset/178017.wav, segment of test data:3\n",
            "/content/drive/MyDrive/Colab Notebooks/Thesis/voice recognition/dataset/178017.wav, segment of test data:4\n",
            "/content/drive/MyDrive/Colab Notebooks/Thesis/voice recognition/dataset/178017.wav, segment of test data:5\n",
            "/content/drive/MyDrive/Colab Notebooks/Thesis/voice recognition/dataset/178017.wav, segment of test data:6\n",
            "/content/drive/MyDrive/Colab Notebooks/Thesis/voice recognition/dataset/178017.wav, segment of test data:7\n",
            "/content/drive/MyDrive/Colab Notebooks/Thesis/voice recognition/dataset/178017.wav, segment of test data:8\n",
            "/content/drive/MyDrive/Colab Notebooks/Thesis/voice recognition/dataset/178017.wav, segment of test data:9\n",
            "/content/drive/MyDrive/Colab Notebooks/Thesis/voice recognition/dataset/178017.wav, segment of test data:10\n",
            "/content/drive/MyDrive/Colab Notebooks/Thesis/voice recognition/dataset/178017.wav, segment of test data:11\n",
            "/content/drive/MyDrive/Colab Notebooks/Thesis/voice recognition/dataset/178017.wav, segment of test data:12\n",
            "/content/drive/MyDrive/Colab Notebooks/Thesis/voice recognition/dataset/178017.wav, segment of test data:13\n",
            "/content/drive/MyDrive/Colab Notebooks/Thesis/voice recognition/dataset/178017.wav, segment of test data:14\n",
            "/content/drive/MyDrive/Colab Notebooks/Thesis/voice recognition/dataset/178017.wav, segment of test data:15\n",
            "/content/drive/MyDrive/Colab Notebooks/Thesis/voice recognition/dataset/178017.wav, segment of test data:16\n",
            "/content/drive/MyDrive/Colab Notebooks/Thesis/voice recognition/dataset/178017.wav, segment of test data:17\n",
            "/content/drive/MyDrive/Colab Notebooks/Thesis/voice recognition/dataset/178017.wav, segment of test data:18\n",
            "/content/drive/MyDrive/Colab Notebooks/Thesis/voice recognition/dataset/178017.wav, segment of test data:19\n",
            "/content/drive/MyDrive/Colab Notebooks/Thesis/voice recognition/dataset/178017.wav, segment of test data:20\n",
            "192012\n"
          ]
        },
        {
          "output_type": "stream",
          "name": "stderr",
          "text": [
            "/usr/local/lib/python3.7/dist-packages/librosa/core/audio.py:165: UserWarning: PySoundFile failed. Trying audioread instead.\n",
            "  warnings.warn(\"PySoundFile failed. Trying audioread instead.\")\n"
          ]
        },
        {
          "output_type": "stream",
          "name": "stdout",
          "text": [
            "/content/drive/MyDrive/Colab Notebooks/Thesis/voice recognition/dataset/192012.wav, segment of test data:1\n",
            "/content/drive/MyDrive/Colab Notebooks/Thesis/voice recognition/dataset/192012.wav, segment of test data:2\n",
            "/content/drive/MyDrive/Colab Notebooks/Thesis/voice recognition/dataset/192012.wav, segment of test data:3\n",
            "/content/drive/MyDrive/Colab Notebooks/Thesis/voice recognition/dataset/192012.wav, segment of test data:4\n",
            "/content/drive/MyDrive/Colab Notebooks/Thesis/voice recognition/dataset/192012.wav, segment of test data:5\n",
            "/content/drive/MyDrive/Colab Notebooks/Thesis/voice recognition/dataset/192012.wav, segment of test data:6\n",
            "/content/drive/MyDrive/Colab Notebooks/Thesis/voice recognition/dataset/192012.wav, segment of test data:7\n",
            "/content/drive/MyDrive/Colab Notebooks/Thesis/voice recognition/dataset/192012.wav, segment of test data:8\n",
            "/content/drive/MyDrive/Colab Notebooks/Thesis/voice recognition/dataset/192012.wav, segment of test data:9\n",
            "/content/drive/MyDrive/Colab Notebooks/Thesis/voice recognition/dataset/192012.wav, segment of test data:10\n",
            "/content/drive/MyDrive/Colab Notebooks/Thesis/voice recognition/dataset/192012.wav, segment of test data:11\n",
            "/content/drive/MyDrive/Colab Notebooks/Thesis/voice recognition/dataset/192012.wav, segment of test data:12\n",
            "/content/drive/MyDrive/Colab Notebooks/Thesis/voice recognition/dataset/192012.wav, segment of test data:13\n",
            "/content/drive/MyDrive/Colab Notebooks/Thesis/voice recognition/dataset/192012.wav, segment of test data:14\n",
            "/content/drive/MyDrive/Colab Notebooks/Thesis/voice recognition/dataset/192012.wav, segment of test data:15\n",
            "/content/drive/MyDrive/Colab Notebooks/Thesis/voice recognition/dataset/192012.wav, segment of test data:16\n",
            "/content/drive/MyDrive/Colab Notebooks/Thesis/voice recognition/dataset/192012.wav, segment of test data:17\n",
            "/content/drive/MyDrive/Colab Notebooks/Thesis/voice recognition/dataset/192012.wav, segment of test data:18\n",
            "/content/drive/MyDrive/Colab Notebooks/Thesis/voice recognition/dataset/192012.wav, segment of test data:19\n",
            "/content/drive/MyDrive/Colab Notebooks/Thesis/voice recognition/dataset/192012.wav, segment of test data:20\n",
            "173095\n"
          ]
        },
        {
          "output_type": "stream",
          "name": "stderr",
          "text": [
            "/usr/local/lib/python3.7/dist-packages/librosa/core/audio.py:165: UserWarning: PySoundFile failed. Trying audioread instead.\n",
            "  warnings.warn(\"PySoundFile failed. Trying audioread instead.\")\n"
          ]
        },
        {
          "output_type": "stream",
          "name": "stdout",
          "text": [
            "/content/drive/MyDrive/Colab Notebooks/Thesis/voice recognition/dataset/173095.wav, segment of test data:1\n",
            "/content/drive/MyDrive/Colab Notebooks/Thesis/voice recognition/dataset/173095.wav, segment of test data:2\n",
            "/content/drive/MyDrive/Colab Notebooks/Thesis/voice recognition/dataset/173095.wav, segment of test data:3\n",
            "/content/drive/MyDrive/Colab Notebooks/Thesis/voice recognition/dataset/173095.wav, segment of test data:4\n",
            "/content/drive/MyDrive/Colab Notebooks/Thesis/voice recognition/dataset/173095.wav, segment of test data:5\n",
            "/content/drive/MyDrive/Colab Notebooks/Thesis/voice recognition/dataset/173095.wav, segment of test data:6\n",
            "/content/drive/MyDrive/Colab Notebooks/Thesis/voice recognition/dataset/173095.wav, segment of test data:7\n",
            "/content/drive/MyDrive/Colab Notebooks/Thesis/voice recognition/dataset/173095.wav, segment of test data:8\n",
            "/content/drive/MyDrive/Colab Notebooks/Thesis/voice recognition/dataset/173095.wav, segment of test data:9\n",
            "/content/drive/MyDrive/Colab Notebooks/Thesis/voice recognition/dataset/173095.wav, segment of test data:10\n",
            "/content/drive/MyDrive/Colab Notebooks/Thesis/voice recognition/dataset/173095.wav, segment of test data:11\n",
            "/content/drive/MyDrive/Colab Notebooks/Thesis/voice recognition/dataset/173095.wav, segment of test data:12\n",
            "/content/drive/MyDrive/Colab Notebooks/Thesis/voice recognition/dataset/173095.wav, segment of test data:13\n",
            "/content/drive/MyDrive/Colab Notebooks/Thesis/voice recognition/dataset/173095.wav, segment of test data:14\n",
            "/content/drive/MyDrive/Colab Notebooks/Thesis/voice recognition/dataset/173095.wav, segment of test data:15\n",
            "/content/drive/MyDrive/Colab Notebooks/Thesis/voice recognition/dataset/173095.wav, segment of test data:16\n",
            "/content/drive/MyDrive/Colab Notebooks/Thesis/voice recognition/dataset/173095.wav, segment of test data:17\n",
            "/content/drive/MyDrive/Colab Notebooks/Thesis/voice recognition/dataset/173095.wav, segment of test data:18\n",
            "/content/drive/MyDrive/Colab Notebooks/Thesis/voice recognition/dataset/173095.wav, segment of test data:19\n",
            "/content/drive/MyDrive/Colab Notebooks/Thesis/voice recognition/dataset/173095.wav, segment of test data:20\n",
            "191114\n"
          ]
        },
        {
          "output_type": "stream",
          "name": "stderr",
          "text": [
            "/usr/local/lib/python3.7/dist-packages/librosa/core/audio.py:165: UserWarning: PySoundFile failed. Trying audioread instead.\n",
            "  warnings.warn(\"PySoundFile failed. Trying audioread instead.\")\n"
          ]
        },
        {
          "output_type": "stream",
          "name": "stdout",
          "text": [
            "/content/drive/MyDrive/Colab Notebooks/Thesis/voice recognition/dataset/191114.wav, segment of test data:1\n",
            "/content/drive/MyDrive/Colab Notebooks/Thesis/voice recognition/dataset/191114.wav, segment of test data:2\n",
            "/content/drive/MyDrive/Colab Notebooks/Thesis/voice recognition/dataset/191114.wav, segment of test data:3\n",
            "/content/drive/MyDrive/Colab Notebooks/Thesis/voice recognition/dataset/191114.wav, segment of test data:4\n",
            "/content/drive/MyDrive/Colab Notebooks/Thesis/voice recognition/dataset/191114.wav, segment of test data:5\n",
            "/content/drive/MyDrive/Colab Notebooks/Thesis/voice recognition/dataset/191114.wav, segment of test data:6\n",
            "/content/drive/MyDrive/Colab Notebooks/Thesis/voice recognition/dataset/191114.wav, segment of test data:7\n",
            "/content/drive/MyDrive/Colab Notebooks/Thesis/voice recognition/dataset/191114.wav, segment of test data:8\n",
            "/content/drive/MyDrive/Colab Notebooks/Thesis/voice recognition/dataset/191114.wav, segment of test data:9\n",
            "/content/drive/MyDrive/Colab Notebooks/Thesis/voice recognition/dataset/191114.wav, segment of test data:10\n",
            "/content/drive/MyDrive/Colab Notebooks/Thesis/voice recognition/dataset/191114.wav, segment of test data:11\n",
            "/content/drive/MyDrive/Colab Notebooks/Thesis/voice recognition/dataset/191114.wav, segment of test data:12\n",
            "/content/drive/MyDrive/Colab Notebooks/Thesis/voice recognition/dataset/191114.wav, segment of test data:13\n",
            "/content/drive/MyDrive/Colab Notebooks/Thesis/voice recognition/dataset/191114.wav, segment of test data:14\n",
            "/content/drive/MyDrive/Colab Notebooks/Thesis/voice recognition/dataset/191114.wav, segment of test data:15\n",
            "/content/drive/MyDrive/Colab Notebooks/Thesis/voice recognition/dataset/191114.wav, segment of test data:16\n",
            "/content/drive/MyDrive/Colab Notebooks/Thesis/voice recognition/dataset/191114.wav, segment of test data:17\n",
            "/content/drive/MyDrive/Colab Notebooks/Thesis/voice recognition/dataset/191114.wav, segment of test data:18\n",
            "/content/drive/MyDrive/Colab Notebooks/Thesis/voice recognition/dataset/191114.wav, segment of test data:19\n",
            "/content/drive/MyDrive/Colab Notebooks/Thesis/voice recognition/dataset/191114.wav, segment of test data:20\n",
            "173055\n"
          ]
        },
        {
          "output_type": "stream",
          "name": "stderr",
          "text": [
            "/usr/local/lib/python3.7/dist-packages/librosa/core/audio.py:165: UserWarning: PySoundFile failed. Trying audioread instead.\n",
            "  warnings.warn(\"PySoundFile failed. Trying audioread instead.\")\n"
          ]
        },
        {
          "output_type": "stream",
          "name": "stdout",
          "text": [
            "/content/drive/MyDrive/Colab Notebooks/Thesis/voice recognition/dataset/173055.wav, segment of test data:1\n",
            "/content/drive/MyDrive/Colab Notebooks/Thesis/voice recognition/dataset/173055.wav, segment of test data:2\n",
            "/content/drive/MyDrive/Colab Notebooks/Thesis/voice recognition/dataset/173055.wav, segment of test data:3\n",
            "/content/drive/MyDrive/Colab Notebooks/Thesis/voice recognition/dataset/173055.wav, segment of test data:4\n",
            "/content/drive/MyDrive/Colab Notebooks/Thesis/voice recognition/dataset/173055.wav, segment of test data:5\n",
            "/content/drive/MyDrive/Colab Notebooks/Thesis/voice recognition/dataset/173055.wav, segment of test data:6\n",
            "/content/drive/MyDrive/Colab Notebooks/Thesis/voice recognition/dataset/173055.wav, segment of test data:7\n",
            "/content/drive/MyDrive/Colab Notebooks/Thesis/voice recognition/dataset/173055.wav, segment of test data:8\n",
            "/content/drive/MyDrive/Colab Notebooks/Thesis/voice recognition/dataset/173055.wav, segment of test data:9\n",
            "/content/drive/MyDrive/Colab Notebooks/Thesis/voice recognition/dataset/173055.wav, segment of test data:10\n",
            "/content/drive/MyDrive/Colab Notebooks/Thesis/voice recognition/dataset/173055.wav, segment of test data:11\n",
            "/content/drive/MyDrive/Colab Notebooks/Thesis/voice recognition/dataset/173055.wav, segment of test data:12\n",
            "/content/drive/MyDrive/Colab Notebooks/Thesis/voice recognition/dataset/173055.wav, segment of test data:13\n",
            "/content/drive/MyDrive/Colab Notebooks/Thesis/voice recognition/dataset/173055.wav, segment of test data:14\n",
            "/content/drive/MyDrive/Colab Notebooks/Thesis/voice recognition/dataset/173055.wav, segment of test data:15\n",
            "/content/drive/MyDrive/Colab Notebooks/Thesis/voice recognition/dataset/173055.wav, segment of test data:16\n",
            "/content/drive/MyDrive/Colab Notebooks/Thesis/voice recognition/dataset/173055.wav, segment of test data:17\n",
            "/content/drive/MyDrive/Colab Notebooks/Thesis/voice recognition/dataset/173055.wav, segment of test data:18\n",
            "/content/drive/MyDrive/Colab Notebooks/Thesis/voice recognition/dataset/173055.wav, segment of test data:19\n",
            "/content/drive/MyDrive/Colab Notebooks/Thesis/voice recognition/dataset/173055.wav, segment of test data:20\n",
            "194048\n"
          ]
        },
        {
          "output_type": "stream",
          "name": "stderr",
          "text": [
            "/usr/local/lib/python3.7/dist-packages/librosa/core/audio.py:165: UserWarning: PySoundFile failed. Trying audioread instead.\n",
            "  warnings.warn(\"PySoundFile failed. Trying audioread instead.\")\n"
          ]
        },
        {
          "output_type": "stream",
          "name": "stdout",
          "text": [
            "/content/drive/MyDrive/Colab Notebooks/Thesis/voice recognition/dataset/194048.wav, segment of test data:1\n",
            "/content/drive/MyDrive/Colab Notebooks/Thesis/voice recognition/dataset/194048.wav, segment of test data:2\n",
            "/content/drive/MyDrive/Colab Notebooks/Thesis/voice recognition/dataset/194048.wav, segment of test data:3\n",
            "/content/drive/MyDrive/Colab Notebooks/Thesis/voice recognition/dataset/194048.wav, segment of test data:4\n",
            "/content/drive/MyDrive/Colab Notebooks/Thesis/voice recognition/dataset/194048.wav, segment of test data:5\n",
            "/content/drive/MyDrive/Colab Notebooks/Thesis/voice recognition/dataset/194048.wav, segment of test data:6\n",
            "/content/drive/MyDrive/Colab Notebooks/Thesis/voice recognition/dataset/194048.wav, segment of test data:7\n",
            "/content/drive/MyDrive/Colab Notebooks/Thesis/voice recognition/dataset/194048.wav, segment of test data:8\n",
            "/content/drive/MyDrive/Colab Notebooks/Thesis/voice recognition/dataset/194048.wav, segment of test data:9\n",
            "/content/drive/MyDrive/Colab Notebooks/Thesis/voice recognition/dataset/194048.wav, segment of test data:10\n",
            "/content/drive/MyDrive/Colab Notebooks/Thesis/voice recognition/dataset/194048.wav, segment of test data:11\n",
            "/content/drive/MyDrive/Colab Notebooks/Thesis/voice recognition/dataset/194048.wav, segment of test data:12\n",
            "/content/drive/MyDrive/Colab Notebooks/Thesis/voice recognition/dataset/194048.wav, segment of test data:13\n",
            "/content/drive/MyDrive/Colab Notebooks/Thesis/voice recognition/dataset/194048.wav, segment of test data:14\n",
            "/content/drive/MyDrive/Colab Notebooks/Thesis/voice recognition/dataset/194048.wav, segment of test data:15\n",
            "/content/drive/MyDrive/Colab Notebooks/Thesis/voice recognition/dataset/194048.wav, segment of test data:16\n",
            "/content/drive/MyDrive/Colab Notebooks/Thesis/voice recognition/dataset/194048.wav, segment of test data:17\n",
            "/content/drive/MyDrive/Colab Notebooks/Thesis/voice recognition/dataset/194048.wav, segment of test data:18\n",
            "/content/drive/MyDrive/Colab Notebooks/Thesis/voice recognition/dataset/194048.wav, segment of test data:19\n",
            "/content/drive/MyDrive/Colab Notebooks/Thesis/voice recognition/dataset/194048.wav, segment of test data:20\n",
            "177004\n"
          ]
        },
        {
          "output_type": "stream",
          "name": "stderr",
          "text": [
            "/usr/local/lib/python3.7/dist-packages/librosa/core/audio.py:165: UserWarning: PySoundFile failed. Trying audioread instead.\n",
            "  warnings.warn(\"PySoundFile failed. Trying audioread instead.\")\n"
          ]
        },
        {
          "output_type": "stream",
          "name": "stdout",
          "text": [
            "/content/drive/MyDrive/Colab Notebooks/Thesis/voice recognition/dataset/177004.wav, segment of test data:1\n",
            "/content/drive/MyDrive/Colab Notebooks/Thesis/voice recognition/dataset/177004.wav, segment of test data:2\n",
            "/content/drive/MyDrive/Colab Notebooks/Thesis/voice recognition/dataset/177004.wav, segment of test data:3\n",
            "/content/drive/MyDrive/Colab Notebooks/Thesis/voice recognition/dataset/177004.wav, segment of test data:4\n",
            "/content/drive/MyDrive/Colab Notebooks/Thesis/voice recognition/dataset/177004.wav, segment of test data:5\n",
            "/content/drive/MyDrive/Colab Notebooks/Thesis/voice recognition/dataset/177004.wav, segment of test data:6\n",
            "/content/drive/MyDrive/Colab Notebooks/Thesis/voice recognition/dataset/177004.wav, segment of test data:7\n",
            "/content/drive/MyDrive/Colab Notebooks/Thesis/voice recognition/dataset/177004.wav, segment of test data:8\n",
            "/content/drive/MyDrive/Colab Notebooks/Thesis/voice recognition/dataset/177004.wav, segment of test data:9\n",
            "/content/drive/MyDrive/Colab Notebooks/Thesis/voice recognition/dataset/177004.wav, segment of test data:10\n",
            "/content/drive/MyDrive/Colab Notebooks/Thesis/voice recognition/dataset/177004.wav, segment of test data:11\n",
            "/content/drive/MyDrive/Colab Notebooks/Thesis/voice recognition/dataset/177004.wav, segment of test data:12\n",
            "/content/drive/MyDrive/Colab Notebooks/Thesis/voice recognition/dataset/177004.wav, segment of test data:13\n",
            "/content/drive/MyDrive/Colab Notebooks/Thesis/voice recognition/dataset/177004.wav, segment of test data:14\n",
            "/content/drive/MyDrive/Colab Notebooks/Thesis/voice recognition/dataset/177004.wav, segment of test data:15\n",
            "/content/drive/MyDrive/Colab Notebooks/Thesis/voice recognition/dataset/177004.wav, segment of test data:16\n",
            "/content/drive/MyDrive/Colab Notebooks/Thesis/voice recognition/dataset/177004.wav, segment of test data:17\n",
            "/content/drive/MyDrive/Colab Notebooks/Thesis/voice recognition/dataset/177004.wav, segment of test data:18\n",
            "/content/drive/MyDrive/Colab Notebooks/Thesis/voice recognition/dataset/177004.wav, segment of test data:19\n",
            "/content/drive/MyDrive/Colab Notebooks/Thesis/voice recognition/dataset/177004.wav, segment of test data:20\n",
            "163097\n"
          ]
        },
        {
          "output_type": "stream",
          "name": "stderr",
          "text": [
            "/usr/local/lib/python3.7/dist-packages/librosa/core/audio.py:165: UserWarning: PySoundFile failed. Trying audioread instead.\n",
            "  warnings.warn(\"PySoundFile failed. Trying audioread instead.\")\n"
          ]
        },
        {
          "output_type": "stream",
          "name": "stdout",
          "text": [
            "/content/drive/MyDrive/Colab Notebooks/Thesis/voice recognition/dataset/163097.wav, segment of test data:1\n",
            "/content/drive/MyDrive/Colab Notebooks/Thesis/voice recognition/dataset/163097.wav, segment of test data:2\n",
            "/content/drive/MyDrive/Colab Notebooks/Thesis/voice recognition/dataset/163097.wav, segment of test data:3\n",
            "/content/drive/MyDrive/Colab Notebooks/Thesis/voice recognition/dataset/163097.wav, segment of test data:4\n",
            "/content/drive/MyDrive/Colab Notebooks/Thesis/voice recognition/dataset/163097.wav, segment of test data:5\n",
            "/content/drive/MyDrive/Colab Notebooks/Thesis/voice recognition/dataset/163097.wav, segment of test data:6\n",
            "/content/drive/MyDrive/Colab Notebooks/Thesis/voice recognition/dataset/163097.wav, segment of test data:7\n",
            "/content/drive/MyDrive/Colab Notebooks/Thesis/voice recognition/dataset/163097.wav, segment of test data:8\n",
            "/content/drive/MyDrive/Colab Notebooks/Thesis/voice recognition/dataset/163097.wav, segment of test data:9\n",
            "/content/drive/MyDrive/Colab Notebooks/Thesis/voice recognition/dataset/163097.wav, segment of test data:10\n",
            "/content/drive/MyDrive/Colab Notebooks/Thesis/voice recognition/dataset/163097.wav, segment of test data:11\n",
            "/content/drive/MyDrive/Colab Notebooks/Thesis/voice recognition/dataset/163097.wav, segment of test data:12\n",
            "/content/drive/MyDrive/Colab Notebooks/Thesis/voice recognition/dataset/163097.wav, segment of test data:13\n",
            "/content/drive/MyDrive/Colab Notebooks/Thesis/voice recognition/dataset/163097.wav, segment of test data:14\n",
            "/content/drive/MyDrive/Colab Notebooks/Thesis/voice recognition/dataset/163097.wav, segment of test data:15\n",
            "/content/drive/MyDrive/Colab Notebooks/Thesis/voice recognition/dataset/163097.wav, segment of test data:16\n",
            "/content/drive/MyDrive/Colab Notebooks/Thesis/voice recognition/dataset/163097.wav, segment of test data:17\n",
            "/content/drive/MyDrive/Colab Notebooks/Thesis/voice recognition/dataset/163097.wav, segment of test data:18\n",
            "/content/drive/MyDrive/Colab Notebooks/Thesis/voice recognition/dataset/163097.wav, segment of test data:19\n",
            "/content/drive/MyDrive/Colab Notebooks/Thesis/voice recognition/dataset/163097.wav, segment of test data:20\n",
            "177014\n"
          ]
        },
        {
          "output_type": "stream",
          "name": "stderr",
          "text": [
            "/usr/local/lib/python3.7/dist-packages/librosa/core/audio.py:165: UserWarning: PySoundFile failed. Trying audioread instead.\n",
            "  warnings.warn(\"PySoundFile failed. Trying audioread instead.\")\n"
          ]
        },
        {
          "output_type": "stream",
          "name": "stdout",
          "text": [
            "/content/drive/MyDrive/Colab Notebooks/Thesis/voice recognition/dataset/177014.wav, segment of test data:1\n",
            "/content/drive/MyDrive/Colab Notebooks/Thesis/voice recognition/dataset/177014.wav, segment of test data:2\n",
            "/content/drive/MyDrive/Colab Notebooks/Thesis/voice recognition/dataset/177014.wav, segment of test data:3\n",
            "/content/drive/MyDrive/Colab Notebooks/Thesis/voice recognition/dataset/177014.wav, segment of test data:4\n",
            "/content/drive/MyDrive/Colab Notebooks/Thesis/voice recognition/dataset/177014.wav, segment of test data:5\n",
            "/content/drive/MyDrive/Colab Notebooks/Thesis/voice recognition/dataset/177014.wav, segment of test data:6\n",
            "/content/drive/MyDrive/Colab Notebooks/Thesis/voice recognition/dataset/177014.wav, segment of test data:7\n",
            "/content/drive/MyDrive/Colab Notebooks/Thesis/voice recognition/dataset/177014.wav, segment of test data:8\n",
            "/content/drive/MyDrive/Colab Notebooks/Thesis/voice recognition/dataset/177014.wav, segment of test data:9\n",
            "/content/drive/MyDrive/Colab Notebooks/Thesis/voice recognition/dataset/177014.wav, segment of test data:10\n",
            "/content/drive/MyDrive/Colab Notebooks/Thesis/voice recognition/dataset/177014.wav, segment of test data:11\n",
            "/content/drive/MyDrive/Colab Notebooks/Thesis/voice recognition/dataset/177014.wav, segment of test data:12\n",
            "/content/drive/MyDrive/Colab Notebooks/Thesis/voice recognition/dataset/177014.wav, segment of test data:13\n",
            "/content/drive/MyDrive/Colab Notebooks/Thesis/voice recognition/dataset/177014.wav, segment of test data:14\n",
            "/content/drive/MyDrive/Colab Notebooks/Thesis/voice recognition/dataset/177014.wav, segment of test data:15\n",
            "/content/drive/MyDrive/Colab Notebooks/Thesis/voice recognition/dataset/177014.wav, segment of test data:16\n",
            "/content/drive/MyDrive/Colab Notebooks/Thesis/voice recognition/dataset/177014.wav, segment of test data:17\n",
            "/content/drive/MyDrive/Colab Notebooks/Thesis/voice recognition/dataset/177014.wav, segment of test data:18\n",
            "/content/drive/MyDrive/Colab Notebooks/Thesis/voice recognition/dataset/177014.wav, segment of test data:19\n",
            "/content/drive/MyDrive/Colab Notebooks/Thesis/voice recognition/dataset/177014.wav, segment of test data:20\n",
            "172013\n"
          ]
        },
        {
          "output_type": "stream",
          "name": "stderr",
          "text": [
            "/usr/local/lib/python3.7/dist-packages/librosa/core/audio.py:165: UserWarning: PySoundFile failed. Trying audioread instead.\n",
            "  warnings.warn(\"PySoundFile failed. Trying audioread instead.\")\n"
          ]
        },
        {
          "output_type": "stream",
          "name": "stdout",
          "text": [
            "/content/drive/MyDrive/Colab Notebooks/Thesis/voice recognition/dataset/172013.wav, segment of test data:1\n",
            "/content/drive/MyDrive/Colab Notebooks/Thesis/voice recognition/dataset/172013.wav, segment of test data:2\n",
            "/content/drive/MyDrive/Colab Notebooks/Thesis/voice recognition/dataset/172013.wav, segment of test data:3\n",
            "/content/drive/MyDrive/Colab Notebooks/Thesis/voice recognition/dataset/172013.wav, segment of test data:4\n",
            "/content/drive/MyDrive/Colab Notebooks/Thesis/voice recognition/dataset/172013.wav, segment of test data:5\n",
            "/content/drive/MyDrive/Colab Notebooks/Thesis/voice recognition/dataset/172013.wav, segment of test data:6\n",
            "/content/drive/MyDrive/Colab Notebooks/Thesis/voice recognition/dataset/172013.wav, segment of test data:7\n",
            "/content/drive/MyDrive/Colab Notebooks/Thesis/voice recognition/dataset/172013.wav, segment of test data:8\n",
            "/content/drive/MyDrive/Colab Notebooks/Thesis/voice recognition/dataset/172013.wav, segment of test data:9\n",
            "/content/drive/MyDrive/Colab Notebooks/Thesis/voice recognition/dataset/172013.wav, segment of test data:10\n",
            "/content/drive/MyDrive/Colab Notebooks/Thesis/voice recognition/dataset/172013.wav, segment of test data:11\n",
            "/content/drive/MyDrive/Colab Notebooks/Thesis/voice recognition/dataset/172013.wav, segment of test data:12\n",
            "/content/drive/MyDrive/Colab Notebooks/Thesis/voice recognition/dataset/172013.wav, segment of test data:13\n",
            "/content/drive/MyDrive/Colab Notebooks/Thesis/voice recognition/dataset/172013.wav, segment of test data:14\n",
            "/content/drive/MyDrive/Colab Notebooks/Thesis/voice recognition/dataset/172013.wav, segment of test data:15\n",
            "/content/drive/MyDrive/Colab Notebooks/Thesis/voice recognition/dataset/172013.wav, segment of test data:16\n",
            "/content/drive/MyDrive/Colab Notebooks/Thesis/voice recognition/dataset/172013.wav, segment of test data:17\n",
            "/content/drive/MyDrive/Colab Notebooks/Thesis/voice recognition/dataset/172013.wav, segment of test data:18\n",
            "/content/drive/MyDrive/Colab Notebooks/Thesis/voice recognition/dataset/172013.wav, segment of test data:19\n",
            "/content/drive/MyDrive/Colab Notebooks/Thesis/voice recognition/dataset/172013.wav, segment of test data:20\n",
            "177013\n"
          ]
        },
        {
          "output_type": "stream",
          "name": "stderr",
          "text": [
            "/usr/local/lib/python3.7/dist-packages/librosa/core/audio.py:165: UserWarning: PySoundFile failed. Trying audioread instead.\n",
            "  warnings.warn(\"PySoundFile failed. Trying audioread instead.\")\n"
          ]
        },
        {
          "output_type": "stream",
          "name": "stdout",
          "text": [
            "/content/drive/MyDrive/Colab Notebooks/Thesis/voice recognition/dataset/177013.wav, segment of test data:1\n",
            "/content/drive/MyDrive/Colab Notebooks/Thesis/voice recognition/dataset/177013.wav, segment of test data:2\n",
            "/content/drive/MyDrive/Colab Notebooks/Thesis/voice recognition/dataset/177013.wav, segment of test data:3\n",
            "/content/drive/MyDrive/Colab Notebooks/Thesis/voice recognition/dataset/177013.wav, segment of test data:4\n",
            "/content/drive/MyDrive/Colab Notebooks/Thesis/voice recognition/dataset/177013.wav, segment of test data:5\n",
            "/content/drive/MyDrive/Colab Notebooks/Thesis/voice recognition/dataset/177013.wav, segment of test data:6\n",
            "/content/drive/MyDrive/Colab Notebooks/Thesis/voice recognition/dataset/177013.wav, segment of test data:7\n",
            "/content/drive/MyDrive/Colab Notebooks/Thesis/voice recognition/dataset/177013.wav, segment of test data:8\n",
            "/content/drive/MyDrive/Colab Notebooks/Thesis/voice recognition/dataset/177013.wav, segment of test data:9\n",
            "/content/drive/MyDrive/Colab Notebooks/Thesis/voice recognition/dataset/177013.wav, segment of test data:10\n",
            "/content/drive/MyDrive/Colab Notebooks/Thesis/voice recognition/dataset/177013.wav, segment of test data:11\n",
            "/content/drive/MyDrive/Colab Notebooks/Thesis/voice recognition/dataset/177013.wav, segment of test data:12\n",
            "/content/drive/MyDrive/Colab Notebooks/Thesis/voice recognition/dataset/177013.wav, segment of test data:13\n",
            "/content/drive/MyDrive/Colab Notebooks/Thesis/voice recognition/dataset/177013.wav, segment of test data:14\n",
            "/content/drive/MyDrive/Colab Notebooks/Thesis/voice recognition/dataset/177013.wav, segment of test data:15\n",
            "/content/drive/MyDrive/Colab Notebooks/Thesis/voice recognition/dataset/177013.wav, segment of test data:16\n",
            "/content/drive/MyDrive/Colab Notebooks/Thesis/voice recognition/dataset/177013.wav, segment of test data:17\n",
            "/content/drive/MyDrive/Colab Notebooks/Thesis/voice recognition/dataset/177013.wav, segment of test data:18\n",
            "/content/drive/MyDrive/Colab Notebooks/Thesis/voice recognition/dataset/177013.wav, segment of test data:19\n",
            "/content/drive/MyDrive/Colab Notebooks/Thesis/voice recognition/dataset/177013.wav, segment of test data:20\n",
            "173074\n"
          ]
        },
        {
          "output_type": "stream",
          "name": "stderr",
          "text": [
            "/usr/local/lib/python3.7/dist-packages/librosa/core/audio.py:165: UserWarning: PySoundFile failed. Trying audioread instead.\n",
            "  warnings.warn(\"PySoundFile failed. Trying audioread instead.\")\n"
          ]
        },
        {
          "output_type": "stream",
          "name": "stdout",
          "text": [
            "/content/drive/MyDrive/Colab Notebooks/Thesis/voice recognition/dataset/173074.wav, segment of test data:1\n",
            "/content/drive/MyDrive/Colab Notebooks/Thesis/voice recognition/dataset/173074.wav, segment of test data:2\n",
            "/content/drive/MyDrive/Colab Notebooks/Thesis/voice recognition/dataset/173074.wav, segment of test data:3\n",
            "/content/drive/MyDrive/Colab Notebooks/Thesis/voice recognition/dataset/173074.wav, segment of test data:4\n",
            "/content/drive/MyDrive/Colab Notebooks/Thesis/voice recognition/dataset/173074.wav, segment of test data:5\n",
            "/content/drive/MyDrive/Colab Notebooks/Thesis/voice recognition/dataset/173074.wav, segment of test data:6\n",
            "/content/drive/MyDrive/Colab Notebooks/Thesis/voice recognition/dataset/173074.wav, segment of test data:7\n",
            "/content/drive/MyDrive/Colab Notebooks/Thesis/voice recognition/dataset/173074.wav, segment of test data:8\n",
            "/content/drive/MyDrive/Colab Notebooks/Thesis/voice recognition/dataset/173074.wav, segment of test data:9\n",
            "/content/drive/MyDrive/Colab Notebooks/Thesis/voice recognition/dataset/173074.wav, segment of test data:10\n",
            "/content/drive/MyDrive/Colab Notebooks/Thesis/voice recognition/dataset/173074.wav, segment of test data:11\n",
            "/content/drive/MyDrive/Colab Notebooks/Thesis/voice recognition/dataset/173074.wav, segment of test data:12\n",
            "/content/drive/MyDrive/Colab Notebooks/Thesis/voice recognition/dataset/173074.wav, segment of test data:13\n",
            "/content/drive/MyDrive/Colab Notebooks/Thesis/voice recognition/dataset/173074.wav, segment of test data:14\n",
            "/content/drive/MyDrive/Colab Notebooks/Thesis/voice recognition/dataset/173074.wav, segment of test data:15\n",
            "/content/drive/MyDrive/Colab Notebooks/Thesis/voice recognition/dataset/173074.wav, segment of test data:16\n",
            "/content/drive/MyDrive/Colab Notebooks/Thesis/voice recognition/dataset/173074.wav, segment of test data:17\n",
            "/content/drive/MyDrive/Colab Notebooks/Thesis/voice recognition/dataset/173074.wav, segment of test data:18\n",
            "/content/drive/MyDrive/Colab Notebooks/Thesis/voice recognition/dataset/173074.wav, segment of test data:19\n",
            "/content/drive/MyDrive/Colab Notebooks/Thesis/voice recognition/dataset/173074.wav, segment of test data:20\n",
            "163069\n"
          ]
        },
        {
          "output_type": "stream",
          "name": "stderr",
          "text": [
            "/usr/local/lib/python3.7/dist-packages/librosa/core/audio.py:165: UserWarning: PySoundFile failed. Trying audioread instead.\n",
            "  warnings.warn(\"PySoundFile failed. Trying audioread instead.\")\n"
          ]
        },
        {
          "output_type": "stream",
          "name": "stdout",
          "text": [
            "/content/drive/MyDrive/Colab Notebooks/Thesis/voice recognition/dataset/163069.wav, segment of test data:1\n",
            "/content/drive/MyDrive/Colab Notebooks/Thesis/voice recognition/dataset/163069.wav, segment of test data:2\n",
            "/content/drive/MyDrive/Colab Notebooks/Thesis/voice recognition/dataset/163069.wav, segment of test data:3\n",
            "/content/drive/MyDrive/Colab Notebooks/Thesis/voice recognition/dataset/163069.wav, segment of test data:4\n",
            "/content/drive/MyDrive/Colab Notebooks/Thesis/voice recognition/dataset/163069.wav, segment of test data:5\n",
            "/content/drive/MyDrive/Colab Notebooks/Thesis/voice recognition/dataset/163069.wav, segment of test data:6\n",
            "/content/drive/MyDrive/Colab Notebooks/Thesis/voice recognition/dataset/163069.wav, segment of test data:7\n",
            "/content/drive/MyDrive/Colab Notebooks/Thesis/voice recognition/dataset/163069.wav, segment of test data:8\n",
            "/content/drive/MyDrive/Colab Notebooks/Thesis/voice recognition/dataset/163069.wav, segment of test data:9\n",
            "/content/drive/MyDrive/Colab Notebooks/Thesis/voice recognition/dataset/163069.wav, segment of test data:10\n",
            "/content/drive/MyDrive/Colab Notebooks/Thesis/voice recognition/dataset/163069.wav, segment of test data:11\n",
            "/content/drive/MyDrive/Colab Notebooks/Thesis/voice recognition/dataset/163069.wav, segment of test data:12\n",
            "/content/drive/MyDrive/Colab Notebooks/Thesis/voice recognition/dataset/163069.wav, segment of test data:13\n",
            "/content/drive/MyDrive/Colab Notebooks/Thesis/voice recognition/dataset/163069.wav, segment of test data:14\n",
            "/content/drive/MyDrive/Colab Notebooks/Thesis/voice recognition/dataset/163069.wav, segment of test data:15\n",
            "/content/drive/MyDrive/Colab Notebooks/Thesis/voice recognition/dataset/163069.wav, segment of test data:16\n",
            "/content/drive/MyDrive/Colab Notebooks/Thesis/voice recognition/dataset/163069.wav, segment of test data:17\n",
            "/content/drive/MyDrive/Colab Notebooks/Thesis/voice recognition/dataset/163069.wav, segment of test data:18\n",
            "/content/drive/MyDrive/Colab Notebooks/Thesis/voice recognition/dataset/163069.wav, segment of test data:19\n",
            "/content/drive/MyDrive/Colab Notebooks/Thesis/voice recognition/dataset/163069.wav, segment of test data:20\n",
            "173029\n"
          ]
        },
        {
          "output_type": "stream",
          "name": "stderr",
          "text": [
            "/usr/local/lib/python3.7/dist-packages/librosa/core/audio.py:165: UserWarning: PySoundFile failed. Trying audioread instead.\n",
            "  warnings.warn(\"PySoundFile failed. Trying audioread instead.\")\n"
          ]
        },
        {
          "output_type": "stream",
          "name": "stdout",
          "text": [
            "/content/drive/MyDrive/Colab Notebooks/Thesis/voice recognition/dataset/173029.wav, segment of test data:1\n",
            "/content/drive/MyDrive/Colab Notebooks/Thesis/voice recognition/dataset/173029.wav, segment of test data:2\n",
            "/content/drive/MyDrive/Colab Notebooks/Thesis/voice recognition/dataset/173029.wav, segment of test data:3\n",
            "/content/drive/MyDrive/Colab Notebooks/Thesis/voice recognition/dataset/173029.wav, segment of test data:4\n",
            "/content/drive/MyDrive/Colab Notebooks/Thesis/voice recognition/dataset/173029.wav, segment of test data:5\n",
            "/content/drive/MyDrive/Colab Notebooks/Thesis/voice recognition/dataset/173029.wav, segment of test data:6\n",
            "/content/drive/MyDrive/Colab Notebooks/Thesis/voice recognition/dataset/173029.wav, segment of test data:7\n",
            "/content/drive/MyDrive/Colab Notebooks/Thesis/voice recognition/dataset/173029.wav, segment of test data:8\n",
            "/content/drive/MyDrive/Colab Notebooks/Thesis/voice recognition/dataset/173029.wav, segment of test data:9\n",
            "/content/drive/MyDrive/Colab Notebooks/Thesis/voice recognition/dataset/173029.wav, segment of test data:10\n",
            "/content/drive/MyDrive/Colab Notebooks/Thesis/voice recognition/dataset/173029.wav, segment of test data:11\n",
            "/content/drive/MyDrive/Colab Notebooks/Thesis/voice recognition/dataset/173029.wav, segment of test data:12\n",
            "/content/drive/MyDrive/Colab Notebooks/Thesis/voice recognition/dataset/173029.wav, segment of test data:13\n",
            "/content/drive/MyDrive/Colab Notebooks/Thesis/voice recognition/dataset/173029.wav, segment of test data:14\n",
            "/content/drive/MyDrive/Colab Notebooks/Thesis/voice recognition/dataset/173029.wav, segment of test data:15\n",
            "/content/drive/MyDrive/Colab Notebooks/Thesis/voice recognition/dataset/173029.wav, segment of test data:16\n",
            "/content/drive/MyDrive/Colab Notebooks/Thesis/voice recognition/dataset/173029.wav, segment of test data:17\n",
            "/content/drive/MyDrive/Colab Notebooks/Thesis/voice recognition/dataset/173029.wav, segment of test data:18\n",
            "/content/drive/MyDrive/Colab Notebooks/Thesis/voice recognition/dataset/173029.wav, segment of test data:19\n",
            "/content/drive/MyDrive/Colab Notebooks/Thesis/voice recognition/dataset/173029.wav, segment of test data:20\n",
            "173015\n"
          ]
        },
        {
          "output_type": "stream",
          "name": "stderr",
          "text": [
            "/usr/local/lib/python3.7/dist-packages/librosa/core/audio.py:165: UserWarning: PySoundFile failed. Trying audioread instead.\n",
            "  warnings.warn(\"PySoundFile failed. Trying audioread instead.\")\n"
          ]
        },
        {
          "output_type": "stream",
          "name": "stdout",
          "text": [
            "/content/drive/MyDrive/Colab Notebooks/Thesis/voice recognition/dataset/173015.wav, segment of test data:1\n",
            "/content/drive/MyDrive/Colab Notebooks/Thesis/voice recognition/dataset/173015.wav, segment of test data:2\n",
            "/content/drive/MyDrive/Colab Notebooks/Thesis/voice recognition/dataset/173015.wav, segment of test data:3\n",
            "/content/drive/MyDrive/Colab Notebooks/Thesis/voice recognition/dataset/173015.wav, segment of test data:4\n",
            "/content/drive/MyDrive/Colab Notebooks/Thesis/voice recognition/dataset/173015.wav, segment of test data:5\n",
            "/content/drive/MyDrive/Colab Notebooks/Thesis/voice recognition/dataset/173015.wav, segment of test data:6\n",
            "/content/drive/MyDrive/Colab Notebooks/Thesis/voice recognition/dataset/173015.wav, segment of test data:7\n",
            "/content/drive/MyDrive/Colab Notebooks/Thesis/voice recognition/dataset/173015.wav, segment of test data:8\n",
            "/content/drive/MyDrive/Colab Notebooks/Thesis/voice recognition/dataset/173015.wav, segment of test data:9\n",
            "/content/drive/MyDrive/Colab Notebooks/Thesis/voice recognition/dataset/173015.wav, segment of test data:10\n",
            "/content/drive/MyDrive/Colab Notebooks/Thesis/voice recognition/dataset/173015.wav, segment of test data:11\n",
            "/content/drive/MyDrive/Colab Notebooks/Thesis/voice recognition/dataset/173015.wav, segment of test data:12\n",
            "/content/drive/MyDrive/Colab Notebooks/Thesis/voice recognition/dataset/173015.wav, segment of test data:13\n",
            "/content/drive/MyDrive/Colab Notebooks/Thesis/voice recognition/dataset/173015.wav, segment of test data:14\n",
            "/content/drive/MyDrive/Colab Notebooks/Thesis/voice recognition/dataset/173015.wav, segment of test data:15\n",
            "/content/drive/MyDrive/Colab Notebooks/Thesis/voice recognition/dataset/173015.wav, segment of test data:16\n",
            "/content/drive/MyDrive/Colab Notebooks/Thesis/voice recognition/dataset/173015.wav, segment of test data:17\n",
            "/content/drive/MyDrive/Colab Notebooks/Thesis/voice recognition/dataset/173015.wav, segment of test data:18\n",
            "/content/drive/MyDrive/Colab Notebooks/Thesis/voice recognition/dataset/173015.wav, segment of test data:19\n",
            "/content/drive/MyDrive/Colab Notebooks/Thesis/voice recognition/dataset/173015.wav, segment of test data:20\n",
            "172022\n"
          ]
        },
        {
          "output_type": "stream",
          "name": "stderr",
          "text": [
            "/usr/local/lib/python3.7/dist-packages/librosa/core/audio.py:165: UserWarning: PySoundFile failed. Trying audioread instead.\n",
            "  warnings.warn(\"PySoundFile failed. Trying audioread instead.\")\n"
          ]
        },
        {
          "output_type": "stream",
          "name": "stdout",
          "text": [
            "/content/drive/MyDrive/Colab Notebooks/Thesis/voice recognition/dataset/172022.wav, segment of test data:1\n",
            "/content/drive/MyDrive/Colab Notebooks/Thesis/voice recognition/dataset/172022.wav, segment of test data:2\n",
            "/content/drive/MyDrive/Colab Notebooks/Thesis/voice recognition/dataset/172022.wav, segment of test data:3\n",
            "/content/drive/MyDrive/Colab Notebooks/Thesis/voice recognition/dataset/172022.wav, segment of test data:4\n",
            "/content/drive/MyDrive/Colab Notebooks/Thesis/voice recognition/dataset/172022.wav, segment of test data:5\n",
            "/content/drive/MyDrive/Colab Notebooks/Thesis/voice recognition/dataset/172022.wav, segment of test data:6\n",
            "/content/drive/MyDrive/Colab Notebooks/Thesis/voice recognition/dataset/172022.wav, segment of test data:7\n",
            "/content/drive/MyDrive/Colab Notebooks/Thesis/voice recognition/dataset/172022.wav, segment of test data:8\n",
            "/content/drive/MyDrive/Colab Notebooks/Thesis/voice recognition/dataset/172022.wav, segment of test data:9\n",
            "/content/drive/MyDrive/Colab Notebooks/Thesis/voice recognition/dataset/172022.wav, segment of test data:10\n",
            "/content/drive/MyDrive/Colab Notebooks/Thesis/voice recognition/dataset/172022.wav, segment of test data:11\n",
            "/content/drive/MyDrive/Colab Notebooks/Thesis/voice recognition/dataset/172022.wav, segment of test data:12\n",
            "/content/drive/MyDrive/Colab Notebooks/Thesis/voice recognition/dataset/172022.wav, segment of test data:13\n",
            "/content/drive/MyDrive/Colab Notebooks/Thesis/voice recognition/dataset/172022.wav, segment of test data:14\n",
            "/content/drive/MyDrive/Colab Notebooks/Thesis/voice recognition/dataset/172022.wav, segment of test data:15\n",
            "/content/drive/MyDrive/Colab Notebooks/Thesis/voice recognition/dataset/172022.wav, segment of test data:16\n",
            "/content/drive/MyDrive/Colab Notebooks/Thesis/voice recognition/dataset/172022.wav, segment of test data:17\n",
            "/content/drive/MyDrive/Colab Notebooks/Thesis/voice recognition/dataset/172022.wav, segment of test data:18\n",
            "/content/drive/MyDrive/Colab Notebooks/Thesis/voice recognition/dataset/172022.wav, segment of test data:19\n",
            "/content/drive/MyDrive/Colab Notebooks/Thesis/voice recognition/dataset/172022.wav, segment of test data:20\n",
            "191016\n"
          ]
        },
        {
          "output_type": "stream",
          "name": "stderr",
          "text": [
            "/usr/local/lib/python3.7/dist-packages/librosa/core/audio.py:165: UserWarning: PySoundFile failed. Trying audioread instead.\n",
            "  warnings.warn(\"PySoundFile failed. Trying audioread instead.\")\n"
          ]
        },
        {
          "output_type": "stream",
          "name": "stdout",
          "text": [
            "/content/drive/MyDrive/Colab Notebooks/Thesis/voice recognition/dataset/191016.wav, segment of test data:1\n",
            "/content/drive/MyDrive/Colab Notebooks/Thesis/voice recognition/dataset/191016.wav, segment of test data:2\n",
            "/content/drive/MyDrive/Colab Notebooks/Thesis/voice recognition/dataset/191016.wav, segment of test data:3\n",
            "/content/drive/MyDrive/Colab Notebooks/Thesis/voice recognition/dataset/191016.wav, segment of test data:4\n",
            "/content/drive/MyDrive/Colab Notebooks/Thesis/voice recognition/dataset/191016.wav, segment of test data:5\n",
            "/content/drive/MyDrive/Colab Notebooks/Thesis/voice recognition/dataset/191016.wav, segment of test data:6\n",
            "/content/drive/MyDrive/Colab Notebooks/Thesis/voice recognition/dataset/191016.wav, segment of test data:7\n",
            "/content/drive/MyDrive/Colab Notebooks/Thesis/voice recognition/dataset/191016.wav, segment of test data:8\n",
            "/content/drive/MyDrive/Colab Notebooks/Thesis/voice recognition/dataset/191016.wav, segment of test data:9\n",
            "/content/drive/MyDrive/Colab Notebooks/Thesis/voice recognition/dataset/191016.wav, segment of test data:10\n",
            "/content/drive/MyDrive/Colab Notebooks/Thesis/voice recognition/dataset/191016.wav, segment of test data:11\n",
            "/content/drive/MyDrive/Colab Notebooks/Thesis/voice recognition/dataset/191016.wav, segment of test data:12\n",
            "/content/drive/MyDrive/Colab Notebooks/Thesis/voice recognition/dataset/191016.wav, segment of test data:13\n",
            "/content/drive/MyDrive/Colab Notebooks/Thesis/voice recognition/dataset/191016.wav, segment of test data:14\n",
            "/content/drive/MyDrive/Colab Notebooks/Thesis/voice recognition/dataset/191016.wav, segment of test data:15\n",
            "/content/drive/MyDrive/Colab Notebooks/Thesis/voice recognition/dataset/191016.wav, segment of test data:16\n",
            "/content/drive/MyDrive/Colab Notebooks/Thesis/voice recognition/dataset/191016.wav, segment of test data:17\n",
            "/content/drive/MyDrive/Colab Notebooks/Thesis/voice recognition/dataset/191016.wav, segment of test data:18\n",
            "/content/drive/MyDrive/Colab Notebooks/Thesis/voice recognition/dataset/191016.wav, segment of test data:19\n",
            "/content/drive/MyDrive/Colab Notebooks/Thesis/voice recognition/dataset/191016.wav, segment of test data:20\n",
            "163094\n"
          ]
        },
        {
          "output_type": "stream",
          "name": "stderr",
          "text": [
            "/usr/local/lib/python3.7/dist-packages/librosa/core/audio.py:165: UserWarning: PySoundFile failed. Trying audioread instead.\n",
            "  warnings.warn(\"PySoundFile failed. Trying audioread instead.\")\n"
          ]
        },
        {
          "output_type": "stream",
          "name": "stdout",
          "text": [
            "/content/drive/MyDrive/Colab Notebooks/Thesis/voice recognition/dataset/163094.wav, segment of test data:1\n",
            "/content/drive/MyDrive/Colab Notebooks/Thesis/voice recognition/dataset/163094.wav, segment of test data:2\n",
            "/content/drive/MyDrive/Colab Notebooks/Thesis/voice recognition/dataset/163094.wav, segment of test data:3\n",
            "/content/drive/MyDrive/Colab Notebooks/Thesis/voice recognition/dataset/163094.wav, segment of test data:4\n",
            "/content/drive/MyDrive/Colab Notebooks/Thesis/voice recognition/dataset/163094.wav, segment of test data:5\n",
            "/content/drive/MyDrive/Colab Notebooks/Thesis/voice recognition/dataset/163094.wav, segment of test data:6\n",
            "/content/drive/MyDrive/Colab Notebooks/Thesis/voice recognition/dataset/163094.wav, segment of test data:7\n",
            "/content/drive/MyDrive/Colab Notebooks/Thesis/voice recognition/dataset/163094.wav, segment of test data:8\n",
            "/content/drive/MyDrive/Colab Notebooks/Thesis/voice recognition/dataset/163094.wav, segment of test data:9\n",
            "/content/drive/MyDrive/Colab Notebooks/Thesis/voice recognition/dataset/163094.wav, segment of test data:10\n",
            "/content/drive/MyDrive/Colab Notebooks/Thesis/voice recognition/dataset/163094.wav, segment of test data:11\n",
            "/content/drive/MyDrive/Colab Notebooks/Thesis/voice recognition/dataset/163094.wav, segment of test data:12\n",
            "/content/drive/MyDrive/Colab Notebooks/Thesis/voice recognition/dataset/163094.wav, segment of test data:13\n",
            "/content/drive/MyDrive/Colab Notebooks/Thesis/voice recognition/dataset/163094.wav, segment of test data:14\n",
            "/content/drive/MyDrive/Colab Notebooks/Thesis/voice recognition/dataset/163094.wav, segment of test data:15\n",
            "/content/drive/MyDrive/Colab Notebooks/Thesis/voice recognition/dataset/163094.wav, segment of test data:16\n",
            "/content/drive/MyDrive/Colab Notebooks/Thesis/voice recognition/dataset/163094.wav, segment of test data:17\n",
            "/content/drive/MyDrive/Colab Notebooks/Thesis/voice recognition/dataset/163094.wav, segment of test data:18\n",
            "/content/drive/MyDrive/Colab Notebooks/Thesis/voice recognition/dataset/163094.wav, segment of test data:19\n",
            "/content/drive/MyDrive/Colab Notebooks/Thesis/voice recognition/dataset/163094.wav, segment of test data:20\n",
            "173073\n"
          ]
        },
        {
          "output_type": "stream",
          "name": "stderr",
          "text": [
            "/usr/local/lib/python3.7/dist-packages/librosa/core/audio.py:165: UserWarning: PySoundFile failed. Trying audioread instead.\n",
            "  warnings.warn(\"PySoundFile failed. Trying audioread instead.\")\n"
          ]
        },
        {
          "output_type": "stream",
          "name": "stdout",
          "text": [
            "/content/drive/MyDrive/Colab Notebooks/Thesis/voice recognition/dataset/173073.wav, segment of test data:1\n",
            "/content/drive/MyDrive/Colab Notebooks/Thesis/voice recognition/dataset/173073.wav, segment of test data:2\n",
            "/content/drive/MyDrive/Colab Notebooks/Thesis/voice recognition/dataset/173073.wav, segment of test data:3\n",
            "/content/drive/MyDrive/Colab Notebooks/Thesis/voice recognition/dataset/173073.wav, segment of test data:4\n",
            "/content/drive/MyDrive/Colab Notebooks/Thesis/voice recognition/dataset/173073.wav, segment of test data:5\n",
            "/content/drive/MyDrive/Colab Notebooks/Thesis/voice recognition/dataset/173073.wav, segment of test data:6\n",
            "/content/drive/MyDrive/Colab Notebooks/Thesis/voice recognition/dataset/173073.wav, segment of test data:7\n",
            "/content/drive/MyDrive/Colab Notebooks/Thesis/voice recognition/dataset/173073.wav, segment of test data:8\n",
            "/content/drive/MyDrive/Colab Notebooks/Thesis/voice recognition/dataset/173073.wav, segment of test data:9\n",
            "/content/drive/MyDrive/Colab Notebooks/Thesis/voice recognition/dataset/173073.wav, segment of test data:10\n",
            "/content/drive/MyDrive/Colab Notebooks/Thesis/voice recognition/dataset/173073.wav, segment of test data:11\n",
            "/content/drive/MyDrive/Colab Notebooks/Thesis/voice recognition/dataset/173073.wav, segment of test data:12\n",
            "/content/drive/MyDrive/Colab Notebooks/Thesis/voice recognition/dataset/173073.wav, segment of test data:13\n",
            "/content/drive/MyDrive/Colab Notebooks/Thesis/voice recognition/dataset/173073.wav, segment of test data:14\n",
            "/content/drive/MyDrive/Colab Notebooks/Thesis/voice recognition/dataset/173073.wav, segment of test data:15\n",
            "/content/drive/MyDrive/Colab Notebooks/Thesis/voice recognition/dataset/173073.wav, segment of test data:16\n",
            "/content/drive/MyDrive/Colab Notebooks/Thesis/voice recognition/dataset/173073.wav, segment of test data:17\n",
            "/content/drive/MyDrive/Colab Notebooks/Thesis/voice recognition/dataset/173073.wav, segment of test data:18\n",
            "/content/drive/MyDrive/Colab Notebooks/Thesis/voice recognition/dataset/173073.wav, segment of test data:19\n",
            "/content/drive/MyDrive/Colab Notebooks/Thesis/voice recognition/dataset/173073.wav, segment of test data:20\n",
            "193052\n"
          ]
        },
        {
          "output_type": "stream",
          "name": "stderr",
          "text": [
            "/usr/local/lib/python3.7/dist-packages/librosa/core/audio.py:165: UserWarning: PySoundFile failed. Trying audioread instead.\n",
            "  warnings.warn(\"PySoundFile failed. Trying audioread instead.\")\n"
          ]
        },
        {
          "output_type": "stream",
          "name": "stdout",
          "text": [
            "/content/drive/MyDrive/Colab Notebooks/Thesis/voice recognition/dataset/193052.wav, segment of test data:1\n",
            "/content/drive/MyDrive/Colab Notebooks/Thesis/voice recognition/dataset/193052.wav, segment of test data:2\n",
            "/content/drive/MyDrive/Colab Notebooks/Thesis/voice recognition/dataset/193052.wav, segment of test data:3\n",
            "/content/drive/MyDrive/Colab Notebooks/Thesis/voice recognition/dataset/193052.wav, segment of test data:4\n",
            "/content/drive/MyDrive/Colab Notebooks/Thesis/voice recognition/dataset/193052.wav, segment of test data:5\n",
            "/content/drive/MyDrive/Colab Notebooks/Thesis/voice recognition/dataset/193052.wav, segment of test data:6\n",
            "/content/drive/MyDrive/Colab Notebooks/Thesis/voice recognition/dataset/193052.wav, segment of test data:7\n",
            "/content/drive/MyDrive/Colab Notebooks/Thesis/voice recognition/dataset/193052.wav, segment of test data:8\n",
            "/content/drive/MyDrive/Colab Notebooks/Thesis/voice recognition/dataset/193052.wav, segment of test data:9\n",
            "/content/drive/MyDrive/Colab Notebooks/Thesis/voice recognition/dataset/193052.wav, segment of test data:10\n",
            "/content/drive/MyDrive/Colab Notebooks/Thesis/voice recognition/dataset/193052.wav, segment of test data:11\n",
            "/content/drive/MyDrive/Colab Notebooks/Thesis/voice recognition/dataset/193052.wav, segment of test data:12\n",
            "/content/drive/MyDrive/Colab Notebooks/Thesis/voice recognition/dataset/193052.wav, segment of test data:13\n",
            "/content/drive/MyDrive/Colab Notebooks/Thesis/voice recognition/dataset/193052.wav, segment of test data:14\n",
            "/content/drive/MyDrive/Colab Notebooks/Thesis/voice recognition/dataset/193052.wav, segment of test data:15\n",
            "/content/drive/MyDrive/Colab Notebooks/Thesis/voice recognition/dataset/193052.wav, segment of test data:16\n",
            "/content/drive/MyDrive/Colab Notebooks/Thesis/voice recognition/dataset/193052.wav, segment of test data:17\n",
            "/content/drive/MyDrive/Colab Notebooks/Thesis/voice recognition/dataset/193052.wav, segment of test data:18\n",
            "/content/drive/MyDrive/Colab Notebooks/Thesis/voice recognition/dataset/193052.wav, segment of test data:19\n",
            "/content/drive/MyDrive/Colab Notebooks/Thesis/voice recognition/dataset/193052.wav, segment of test data:20\n",
            "194025\n"
          ]
        },
        {
          "output_type": "stream",
          "name": "stderr",
          "text": [
            "/usr/local/lib/python3.7/dist-packages/librosa/core/audio.py:165: UserWarning: PySoundFile failed. Trying audioread instead.\n",
            "  warnings.warn(\"PySoundFile failed. Trying audioread instead.\")\n"
          ]
        },
        {
          "output_type": "stream",
          "name": "stdout",
          "text": [
            "/content/drive/MyDrive/Colab Notebooks/Thesis/voice recognition/dataset/194025.wav, segment of test data:1\n",
            "/content/drive/MyDrive/Colab Notebooks/Thesis/voice recognition/dataset/194025.wav, segment of test data:2\n",
            "/content/drive/MyDrive/Colab Notebooks/Thesis/voice recognition/dataset/194025.wav, segment of test data:3\n",
            "/content/drive/MyDrive/Colab Notebooks/Thesis/voice recognition/dataset/194025.wav, segment of test data:4\n",
            "/content/drive/MyDrive/Colab Notebooks/Thesis/voice recognition/dataset/194025.wav, segment of test data:5\n",
            "/content/drive/MyDrive/Colab Notebooks/Thesis/voice recognition/dataset/194025.wav, segment of test data:6\n",
            "/content/drive/MyDrive/Colab Notebooks/Thesis/voice recognition/dataset/194025.wav, segment of test data:7\n",
            "/content/drive/MyDrive/Colab Notebooks/Thesis/voice recognition/dataset/194025.wav, segment of test data:8\n",
            "/content/drive/MyDrive/Colab Notebooks/Thesis/voice recognition/dataset/194025.wav, segment of test data:9\n",
            "/content/drive/MyDrive/Colab Notebooks/Thesis/voice recognition/dataset/194025.wav, segment of test data:10\n",
            "/content/drive/MyDrive/Colab Notebooks/Thesis/voice recognition/dataset/194025.wav, segment of test data:11\n",
            "/content/drive/MyDrive/Colab Notebooks/Thesis/voice recognition/dataset/194025.wav, segment of test data:12\n",
            "/content/drive/MyDrive/Colab Notebooks/Thesis/voice recognition/dataset/194025.wav, segment of test data:13\n",
            "/content/drive/MyDrive/Colab Notebooks/Thesis/voice recognition/dataset/194025.wav, segment of test data:14\n",
            "/content/drive/MyDrive/Colab Notebooks/Thesis/voice recognition/dataset/194025.wav, segment of test data:15\n",
            "/content/drive/MyDrive/Colab Notebooks/Thesis/voice recognition/dataset/194025.wav, segment of test data:16\n",
            "/content/drive/MyDrive/Colab Notebooks/Thesis/voice recognition/dataset/194025.wav, segment of test data:17\n",
            "/content/drive/MyDrive/Colab Notebooks/Thesis/voice recognition/dataset/194025.wav, segment of test data:18\n",
            "/content/drive/MyDrive/Colab Notebooks/Thesis/voice recognition/dataset/194025.wav, segment of test data:19\n",
            "/content/drive/MyDrive/Colab Notebooks/Thesis/voice recognition/dataset/194025.wav, segment of test data:20\n",
            "197005\n"
          ]
        },
        {
          "output_type": "stream",
          "name": "stderr",
          "text": [
            "/usr/local/lib/python3.7/dist-packages/librosa/core/audio.py:165: UserWarning: PySoundFile failed. Trying audioread instead.\n",
            "  warnings.warn(\"PySoundFile failed. Trying audioread instead.\")\n"
          ]
        },
        {
          "output_type": "stream",
          "name": "stdout",
          "text": [
            "/content/drive/MyDrive/Colab Notebooks/Thesis/voice recognition/dataset/197005.wav, segment of test data:1\n",
            "/content/drive/MyDrive/Colab Notebooks/Thesis/voice recognition/dataset/197005.wav, segment of test data:2\n",
            "/content/drive/MyDrive/Colab Notebooks/Thesis/voice recognition/dataset/197005.wav, segment of test data:3\n",
            "/content/drive/MyDrive/Colab Notebooks/Thesis/voice recognition/dataset/197005.wav, segment of test data:4\n",
            "/content/drive/MyDrive/Colab Notebooks/Thesis/voice recognition/dataset/197005.wav, segment of test data:5\n",
            "/content/drive/MyDrive/Colab Notebooks/Thesis/voice recognition/dataset/197005.wav, segment of test data:6\n",
            "/content/drive/MyDrive/Colab Notebooks/Thesis/voice recognition/dataset/197005.wav, segment of test data:7\n",
            "/content/drive/MyDrive/Colab Notebooks/Thesis/voice recognition/dataset/197005.wav, segment of test data:8\n",
            "/content/drive/MyDrive/Colab Notebooks/Thesis/voice recognition/dataset/197005.wav, segment of test data:9\n",
            "/content/drive/MyDrive/Colab Notebooks/Thesis/voice recognition/dataset/197005.wav, segment of test data:10\n",
            "/content/drive/MyDrive/Colab Notebooks/Thesis/voice recognition/dataset/197005.wav, segment of test data:11\n",
            "/content/drive/MyDrive/Colab Notebooks/Thesis/voice recognition/dataset/197005.wav, segment of test data:12\n",
            "/content/drive/MyDrive/Colab Notebooks/Thesis/voice recognition/dataset/197005.wav, segment of test data:13\n",
            "/content/drive/MyDrive/Colab Notebooks/Thesis/voice recognition/dataset/197005.wav, segment of test data:14\n",
            "/content/drive/MyDrive/Colab Notebooks/Thesis/voice recognition/dataset/197005.wav, segment of test data:15\n",
            "/content/drive/MyDrive/Colab Notebooks/Thesis/voice recognition/dataset/197005.wav, segment of test data:16\n",
            "/content/drive/MyDrive/Colab Notebooks/Thesis/voice recognition/dataset/197005.wav, segment of test data:17\n",
            "/content/drive/MyDrive/Colab Notebooks/Thesis/voice recognition/dataset/197005.wav, segment of test data:18\n",
            "/content/drive/MyDrive/Colab Notebooks/Thesis/voice recognition/dataset/197005.wav, segment of test data:19\n",
            "/content/drive/MyDrive/Colab Notebooks/Thesis/voice recognition/dataset/197005.wav, segment of test data:20\n",
            "204022\n"
          ]
        },
        {
          "output_type": "stream",
          "name": "stderr",
          "text": [
            "/usr/local/lib/python3.7/dist-packages/librosa/core/audio.py:165: UserWarning: PySoundFile failed. Trying audioread instead.\n",
            "  warnings.warn(\"PySoundFile failed. Trying audioread instead.\")\n"
          ]
        },
        {
          "output_type": "stream",
          "name": "stdout",
          "text": [
            "/content/drive/MyDrive/Colab Notebooks/Thesis/voice recognition/dataset/204022.wav, segment of test data:1\n",
            "/content/drive/MyDrive/Colab Notebooks/Thesis/voice recognition/dataset/204022.wav, segment of test data:2\n",
            "/content/drive/MyDrive/Colab Notebooks/Thesis/voice recognition/dataset/204022.wav, segment of test data:3\n",
            "/content/drive/MyDrive/Colab Notebooks/Thesis/voice recognition/dataset/204022.wav, segment of test data:4\n",
            "/content/drive/MyDrive/Colab Notebooks/Thesis/voice recognition/dataset/204022.wav, segment of test data:5\n",
            "/content/drive/MyDrive/Colab Notebooks/Thesis/voice recognition/dataset/204022.wav, segment of test data:6\n",
            "/content/drive/MyDrive/Colab Notebooks/Thesis/voice recognition/dataset/204022.wav, segment of test data:7\n",
            "/content/drive/MyDrive/Colab Notebooks/Thesis/voice recognition/dataset/204022.wav, segment of test data:8\n",
            "/content/drive/MyDrive/Colab Notebooks/Thesis/voice recognition/dataset/204022.wav, segment of test data:9\n",
            "/content/drive/MyDrive/Colab Notebooks/Thesis/voice recognition/dataset/204022.wav, segment of test data:10\n",
            "/content/drive/MyDrive/Colab Notebooks/Thesis/voice recognition/dataset/204022.wav, segment of test data:11\n",
            "/content/drive/MyDrive/Colab Notebooks/Thesis/voice recognition/dataset/204022.wav, segment of test data:12\n",
            "/content/drive/MyDrive/Colab Notebooks/Thesis/voice recognition/dataset/204022.wav, segment of test data:13\n",
            "/content/drive/MyDrive/Colab Notebooks/Thesis/voice recognition/dataset/204022.wav, segment of test data:14\n",
            "/content/drive/MyDrive/Colab Notebooks/Thesis/voice recognition/dataset/204022.wav, segment of test data:15\n",
            "/content/drive/MyDrive/Colab Notebooks/Thesis/voice recognition/dataset/204022.wav, segment of test data:16\n",
            "/content/drive/MyDrive/Colab Notebooks/Thesis/voice recognition/dataset/204022.wav, segment of test data:17\n",
            "/content/drive/MyDrive/Colab Notebooks/Thesis/voice recognition/dataset/204022.wav, segment of test data:18\n",
            "/content/drive/MyDrive/Colab Notebooks/Thesis/voice recognition/dataset/204022.wav, segment of test data:19\n",
            "/content/drive/MyDrive/Colab Notebooks/Thesis/voice recognition/dataset/204022.wav, segment of test data:20\n",
            "174082\n"
          ]
        },
        {
          "output_type": "stream",
          "name": "stderr",
          "text": [
            "/usr/local/lib/python3.7/dist-packages/librosa/core/audio.py:165: UserWarning: PySoundFile failed. Trying audioread instead.\n",
            "  warnings.warn(\"PySoundFile failed. Trying audioread instead.\")\n"
          ]
        },
        {
          "output_type": "stream",
          "name": "stdout",
          "text": [
            "/content/drive/MyDrive/Colab Notebooks/Thesis/voice recognition/dataset/174082.wav, segment of test data:1\n",
            "/content/drive/MyDrive/Colab Notebooks/Thesis/voice recognition/dataset/174082.wav, segment of test data:2\n",
            "/content/drive/MyDrive/Colab Notebooks/Thesis/voice recognition/dataset/174082.wav, segment of test data:3\n",
            "/content/drive/MyDrive/Colab Notebooks/Thesis/voice recognition/dataset/174082.wav, segment of test data:4\n",
            "/content/drive/MyDrive/Colab Notebooks/Thesis/voice recognition/dataset/174082.wav, segment of test data:5\n",
            "/content/drive/MyDrive/Colab Notebooks/Thesis/voice recognition/dataset/174082.wav, segment of test data:6\n",
            "/content/drive/MyDrive/Colab Notebooks/Thesis/voice recognition/dataset/174082.wav, segment of test data:7\n",
            "/content/drive/MyDrive/Colab Notebooks/Thesis/voice recognition/dataset/174082.wav, segment of test data:8\n",
            "/content/drive/MyDrive/Colab Notebooks/Thesis/voice recognition/dataset/174082.wav, segment of test data:9\n",
            "/content/drive/MyDrive/Colab Notebooks/Thesis/voice recognition/dataset/174082.wav, segment of test data:10\n",
            "/content/drive/MyDrive/Colab Notebooks/Thesis/voice recognition/dataset/174082.wav, segment of test data:11\n",
            "/content/drive/MyDrive/Colab Notebooks/Thesis/voice recognition/dataset/174082.wav, segment of test data:12\n",
            "/content/drive/MyDrive/Colab Notebooks/Thesis/voice recognition/dataset/174082.wav, segment of test data:13\n",
            "/content/drive/MyDrive/Colab Notebooks/Thesis/voice recognition/dataset/174082.wav, segment of test data:14\n",
            "/content/drive/MyDrive/Colab Notebooks/Thesis/voice recognition/dataset/174082.wav, segment of test data:15\n",
            "/content/drive/MyDrive/Colab Notebooks/Thesis/voice recognition/dataset/174082.wav, segment of test data:16\n",
            "/content/drive/MyDrive/Colab Notebooks/Thesis/voice recognition/dataset/174082.wav, segment of test data:17\n",
            "/content/drive/MyDrive/Colab Notebooks/Thesis/voice recognition/dataset/174082.wav, segment of test data:18\n",
            "/content/drive/MyDrive/Colab Notebooks/Thesis/voice recognition/dataset/174082.wav, segment of test data:19\n",
            "/content/drive/MyDrive/Colab Notebooks/Thesis/voice recognition/dataset/174082.wav, segment of test data:20\n",
            "177019\n"
          ]
        },
        {
          "output_type": "stream",
          "name": "stderr",
          "text": [
            "/usr/local/lib/python3.7/dist-packages/librosa/core/audio.py:165: UserWarning: PySoundFile failed. Trying audioread instead.\n",
            "  warnings.warn(\"PySoundFile failed. Trying audioread instead.\")\n"
          ]
        },
        {
          "output_type": "stream",
          "name": "stdout",
          "text": [
            "/content/drive/MyDrive/Colab Notebooks/Thesis/voice recognition/dataset/177019.wav, segment of test data:1\n",
            "/content/drive/MyDrive/Colab Notebooks/Thesis/voice recognition/dataset/177019.wav, segment of test data:2\n",
            "/content/drive/MyDrive/Colab Notebooks/Thesis/voice recognition/dataset/177019.wav, segment of test data:3\n",
            "/content/drive/MyDrive/Colab Notebooks/Thesis/voice recognition/dataset/177019.wav, segment of test data:4\n",
            "/content/drive/MyDrive/Colab Notebooks/Thesis/voice recognition/dataset/177019.wav, segment of test data:5\n",
            "/content/drive/MyDrive/Colab Notebooks/Thesis/voice recognition/dataset/177019.wav, segment of test data:6\n",
            "/content/drive/MyDrive/Colab Notebooks/Thesis/voice recognition/dataset/177019.wav, segment of test data:7\n",
            "/content/drive/MyDrive/Colab Notebooks/Thesis/voice recognition/dataset/177019.wav, segment of test data:8\n",
            "/content/drive/MyDrive/Colab Notebooks/Thesis/voice recognition/dataset/177019.wav, segment of test data:9\n",
            "/content/drive/MyDrive/Colab Notebooks/Thesis/voice recognition/dataset/177019.wav, segment of test data:10\n",
            "/content/drive/MyDrive/Colab Notebooks/Thesis/voice recognition/dataset/177019.wav, segment of test data:11\n",
            "/content/drive/MyDrive/Colab Notebooks/Thesis/voice recognition/dataset/177019.wav, segment of test data:12\n",
            "/content/drive/MyDrive/Colab Notebooks/Thesis/voice recognition/dataset/177019.wav, segment of test data:13\n",
            "/content/drive/MyDrive/Colab Notebooks/Thesis/voice recognition/dataset/177019.wav, segment of test data:14\n",
            "/content/drive/MyDrive/Colab Notebooks/Thesis/voice recognition/dataset/177019.wav, segment of test data:15\n",
            "/content/drive/MyDrive/Colab Notebooks/Thesis/voice recognition/dataset/177019.wav, segment of test data:16\n",
            "/content/drive/MyDrive/Colab Notebooks/Thesis/voice recognition/dataset/177019.wav, segment of test data:17\n",
            "/content/drive/MyDrive/Colab Notebooks/Thesis/voice recognition/dataset/177019.wav, segment of test data:18\n",
            "/content/drive/MyDrive/Colab Notebooks/Thesis/voice recognition/dataset/177019.wav, segment of test data:19\n",
            "/content/drive/MyDrive/Colab Notebooks/Thesis/voice recognition/dataset/177019.wav, segment of test data:20\n",
            "173063\n"
          ]
        },
        {
          "output_type": "stream",
          "name": "stderr",
          "text": [
            "/usr/local/lib/python3.7/dist-packages/librosa/core/audio.py:165: UserWarning: PySoundFile failed. Trying audioread instead.\n",
            "  warnings.warn(\"PySoundFile failed. Trying audioread instead.\")\n"
          ]
        },
        {
          "output_type": "stream",
          "name": "stdout",
          "text": [
            "/content/drive/MyDrive/Colab Notebooks/Thesis/voice recognition/dataset/173063.wav, segment of test data:1\n",
            "/content/drive/MyDrive/Colab Notebooks/Thesis/voice recognition/dataset/173063.wav, segment of test data:2\n",
            "/content/drive/MyDrive/Colab Notebooks/Thesis/voice recognition/dataset/173063.wav, segment of test data:3\n",
            "/content/drive/MyDrive/Colab Notebooks/Thesis/voice recognition/dataset/173063.wav, segment of test data:4\n",
            "/content/drive/MyDrive/Colab Notebooks/Thesis/voice recognition/dataset/173063.wav, segment of test data:5\n",
            "/content/drive/MyDrive/Colab Notebooks/Thesis/voice recognition/dataset/173063.wav, segment of test data:6\n",
            "/content/drive/MyDrive/Colab Notebooks/Thesis/voice recognition/dataset/173063.wav, segment of test data:7\n",
            "/content/drive/MyDrive/Colab Notebooks/Thesis/voice recognition/dataset/173063.wav, segment of test data:8\n",
            "/content/drive/MyDrive/Colab Notebooks/Thesis/voice recognition/dataset/173063.wav, segment of test data:9\n",
            "/content/drive/MyDrive/Colab Notebooks/Thesis/voice recognition/dataset/173063.wav, segment of test data:10\n",
            "/content/drive/MyDrive/Colab Notebooks/Thesis/voice recognition/dataset/173063.wav, segment of test data:11\n",
            "/content/drive/MyDrive/Colab Notebooks/Thesis/voice recognition/dataset/173063.wav, segment of test data:12\n",
            "/content/drive/MyDrive/Colab Notebooks/Thesis/voice recognition/dataset/173063.wav, segment of test data:13\n",
            "/content/drive/MyDrive/Colab Notebooks/Thesis/voice recognition/dataset/173063.wav, segment of test data:14\n",
            "/content/drive/MyDrive/Colab Notebooks/Thesis/voice recognition/dataset/173063.wav, segment of test data:15\n",
            "/content/drive/MyDrive/Colab Notebooks/Thesis/voice recognition/dataset/173063.wav, segment of test data:16\n",
            "/content/drive/MyDrive/Colab Notebooks/Thesis/voice recognition/dataset/173063.wav, segment of test data:17\n",
            "/content/drive/MyDrive/Colab Notebooks/Thesis/voice recognition/dataset/173063.wav, segment of test data:18\n",
            "/content/drive/MyDrive/Colab Notebooks/Thesis/voice recognition/dataset/173063.wav, segment of test data:19\n",
            "/content/drive/MyDrive/Colab Notebooks/Thesis/voice recognition/dataset/173063.wav, segment of test data:20\n",
            "173003\n"
          ]
        },
        {
          "output_type": "stream",
          "name": "stderr",
          "text": [
            "/usr/local/lib/python3.7/dist-packages/librosa/core/audio.py:165: UserWarning: PySoundFile failed. Trying audioread instead.\n",
            "  warnings.warn(\"PySoundFile failed. Trying audioread instead.\")\n"
          ]
        },
        {
          "output_type": "stream",
          "name": "stdout",
          "text": [
            "/content/drive/MyDrive/Colab Notebooks/Thesis/voice recognition/dataset/173003.wav, segment of test data:1\n",
            "/content/drive/MyDrive/Colab Notebooks/Thesis/voice recognition/dataset/173003.wav, segment of test data:2\n",
            "/content/drive/MyDrive/Colab Notebooks/Thesis/voice recognition/dataset/173003.wav, segment of test data:3\n",
            "/content/drive/MyDrive/Colab Notebooks/Thesis/voice recognition/dataset/173003.wav, segment of test data:4\n",
            "/content/drive/MyDrive/Colab Notebooks/Thesis/voice recognition/dataset/173003.wav, segment of test data:5\n",
            "/content/drive/MyDrive/Colab Notebooks/Thesis/voice recognition/dataset/173003.wav, segment of test data:6\n",
            "/content/drive/MyDrive/Colab Notebooks/Thesis/voice recognition/dataset/173003.wav, segment of test data:7\n",
            "/content/drive/MyDrive/Colab Notebooks/Thesis/voice recognition/dataset/173003.wav, segment of test data:8\n",
            "/content/drive/MyDrive/Colab Notebooks/Thesis/voice recognition/dataset/173003.wav, segment of test data:9\n",
            "/content/drive/MyDrive/Colab Notebooks/Thesis/voice recognition/dataset/173003.wav, segment of test data:10\n",
            "/content/drive/MyDrive/Colab Notebooks/Thesis/voice recognition/dataset/173003.wav, segment of test data:11\n",
            "/content/drive/MyDrive/Colab Notebooks/Thesis/voice recognition/dataset/173003.wav, segment of test data:12\n",
            "/content/drive/MyDrive/Colab Notebooks/Thesis/voice recognition/dataset/173003.wav, segment of test data:13\n",
            "/content/drive/MyDrive/Colab Notebooks/Thesis/voice recognition/dataset/173003.wav, segment of test data:14\n",
            "/content/drive/MyDrive/Colab Notebooks/Thesis/voice recognition/dataset/173003.wav, segment of test data:15\n",
            "/content/drive/MyDrive/Colab Notebooks/Thesis/voice recognition/dataset/173003.wav, segment of test data:16\n",
            "/content/drive/MyDrive/Colab Notebooks/Thesis/voice recognition/dataset/173003.wav, segment of test data:17\n",
            "/content/drive/MyDrive/Colab Notebooks/Thesis/voice recognition/dataset/173003.wav, segment of test data:18\n",
            "/content/drive/MyDrive/Colab Notebooks/Thesis/voice recognition/dataset/173003.wav, segment of test data:19\n",
            "/content/drive/MyDrive/Colab Notebooks/Thesis/voice recognition/dataset/173003.wav, segment of test data:20\n",
            "164104\n",
            "/content/drive/MyDrive/Colab Notebooks/Thesis/voice recognition/dataset/164104.wav, segment of test data:1\n",
            "/content/drive/MyDrive/Colab Notebooks/Thesis/voice recognition/dataset/164104.wav, segment of test data:2\n",
            "/content/drive/MyDrive/Colab Notebooks/Thesis/voice recognition/dataset/164104.wav, segment of test data:3\n",
            "/content/drive/MyDrive/Colab Notebooks/Thesis/voice recognition/dataset/164104.wav, segment of test data:4\n",
            "/content/drive/MyDrive/Colab Notebooks/Thesis/voice recognition/dataset/164104.wav, segment of test data:5\n",
            "/content/drive/MyDrive/Colab Notebooks/Thesis/voice recognition/dataset/164104.wav, segment of test data:6\n",
            "/content/drive/MyDrive/Colab Notebooks/Thesis/voice recognition/dataset/164104.wav, segment of test data:7\n",
            "/content/drive/MyDrive/Colab Notebooks/Thesis/voice recognition/dataset/164104.wav, segment of test data:8\n",
            "/content/drive/MyDrive/Colab Notebooks/Thesis/voice recognition/dataset/164104.wav, segment of test data:9\n",
            "/content/drive/MyDrive/Colab Notebooks/Thesis/voice recognition/dataset/164104.wav, segment of test data:10\n",
            "/content/drive/MyDrive/Colab Notebooks/Thesis/voice recognition/dataset/164104.wav, segment of test data:11\n",
            "/content/drive/MyDrive/Colab Notebooks/Thesis/voice recognition/dataset/164104.wav, segment of test data:12\n",
            "/content/drive/MyDrive/Colab Notebooks/Thesis/voice recognition/dataset/164104.wav, segment of test data:13\n",
            "/content/drive/MyDrive/Colab Notebooks/Thesis/voice recognition/dataset/164104.wav, segment of test data:14\n",
            "/content/drive/MyDrive/Colab Notebooks/Thesis/voice recognition/dataset/164104.wav, segment of test data:15\n",
            "/content/drive/MyDrive/Colab Notebooks/Thesis/voice recognition/dataset/164104.wav, segment of test data:16\n",
            "/content/drive/MyDrive/Colab Notebooks/Thesis/voice recognition/dataset/164104.wav, segment of test data:17\n",
            "/content/drive/MyDrive/Colab Notebooks/Thesis/voice recognition/dataset/164104.wav, segment of test data:18\n",
            "/content/drive/MyDrive/Colab Notebooks/Thesis/voice recognition/dataset/164104.wav, segment of test data:19\n",
            "/content/drive/MyDrive/Colab Notebooks/Thesis/voice recognition/dataset/164104.wav, segment of test data:20\n",
            "194026\n"
          ]
        },
        {
          "output_type": "stream",
          "name": "stderr",
          "text": [
            "/usr/local/lib/python3.7/dist-packages/librosa/core/audio.py:165: UserWarning: PySoundFile failed. Trying audioread instead.\n",
            "  warnings.warn(\"PySoundFile failed. Trying audioread instead.\")\n"
          ]
        },
        {
          "output_type": "stream",
          "name": "stdout",
          "text": [
            "/content/drive/MyDrive/Colab Notebooks/Thesis/voice recognition/dataset/194026.wav, segment of test data:1\n",
            "/content/drive/MyDrive/Colab Notebooks/Thesis/voice recognition/dataset/194026.wav, segment of test data:2\n",
            "/content/drive/MyDrive/Colab Notebooks/Thesis/voice recognition/dataset/194026.wav, segment of test data:3\n",
            "/content/drive/MyDrive/Colab Notebooks/Thesis/voice recognition/dataset/194026.wav, segment of test data:4\n",
            "/content/drive/MyDrive/Colab Notebooks/Thesis/voice recognition/dataset/194026.wav, segment of test data:5\n",
            "/content/drive/MyDrive/Colab Notebooks/Thesis/voice recognition/dataset/194026.wav, segment of test data:6\n",
            "/content/drive/MyDrive/Colab Notebooks/Thesis/voice recognition/dataset/194026.wav, segment of test data:7\n",
            "/content/drive/MyDrive/Colab Notebooks/Thesis/voice recognition/dataset/194026.wav, segment of test data:8\n",
            "/content/drive/MyDrive/Colab Notebooks/Thesis/voice recognition/dataset/194026.wav, segment of test data:9\n",
            "/content/drive/MyDrive/Colab Notebooks/Thesis/voice recognition/dataset/194026.wav, segment of test data:10\n",
            "/content/drive/MyDrive/Colab Notebooks/Thesis/voice recognition/dataset/194026.wav, segment of test data:11\n",
            "/content/drive/MyDrive/Colab Notebooks/Thesis/voice recognition/dataset/194026.wav, segment of test data:12\n",
            "/content/drive/MyDrive/Colab Notebooks/Thesis/voice recognition/dataset/194026.wav, segment of test data:13\n",
            "/content/drive/MyDrive/Colab Notebooks/Thesis/voice recognition/dataset/194026.wav, segment of test data:14\n",
            "/content/drive/MyDrive/Colab Notebooks/Thesis/voice recognition/dataset/194026.wav, segment of test data:15\n",
            "/content/drive/MyDrive/Colab Notebooks/Thesis/voice recognition/dataset/194026.wav, segment of test data:16\n",
            "/content/drive/MyDrive/Colab Notebooks/Thesis/voice recognition/dataset/194026.wav, segment of test data:17\n",
            "/content/drive/MyDrive/Colab Notebooks/Thesis/voice recognition/dataset/194026.wav, segment of test data:18\n",
            "/content/drive/MyDrive/Colab Notebooks/Thesis/voice recognition/dataset/194026.wav, segment of test data:19\n",
            "/content/drive/MyDrive/Colab Notebooks/Thesis/voice recognition/dataset/194026.wav, segment of test data:20\n",
            "162054\n"
          ]
        },
        {
          "output_type": "stream",
          "name": "stderr",
          "text": [
            "/usr/local/lib/python3.7/dist-packages/librosa/core/audio.py:165: UserWarning: PySoundFile failed. Trying audioread instead.\n",
            "  warnings.warn(\"PySoundFile failed. Trying audioread instead.\")\n"
          ]
        },
        {
          "output_type": "stream",
          "name": "stdout",
          "text": [
            "/content/drive/MyDrive/Colab Notebooks/Thesis/voice recognition/dataset/162054.wav, segment of test data:1\n",
            "/content/drive/MyDrive/Colab Notebooks/Thesis/voice recognition/dataset/162054.wav, segment of test data:2\n",
            "/content/drive/MyDrive/Colab Notebooks/Thesis/voice recognition/dataset/162054.wav, segment of test data:3\n",
            "/content/drive/MyDrive/Colab Notebooks/Thesis/voice recognition/dataset/162054.wav, segment of test data:4\n",
            "/content/drive/MyDrive/Colab Notebooks/Thesis/voice recognition/dataset/162054.wav, segment of test data:5\n",
            "/content/drive/MyDrive/Colab Notebooks/Thesis/voice recognition/dataset/162054.wav, segment of test data:6\n",
            "/content/drive/MyDrive/Colab Notebooks/Thesis/voice recognition/dataset/162054.wav, segment of test data:7\n",
            "/content/drive/MyDrive/Colab Notebooks/Thesis/voice recognition/dataset/162054.wav, segment of test data:8\n",
            "/content/drive/MyDrive/Colab Notebooks/Thesis/voice recognition/dataset/162054.wav, segment of test data:9\n",
            "/content/drive/MyDrive/Colab Notebooks/Thesis/voice recognition/dataset/162054.wav, segment of test data:10\n",
            "/content/drive/MyDrive/Colab Notebooks/Thesis/voice recognition/dataset/162054.wav, segment of test data:11\n",
            "/content/drive/MyDrive/Colab Notebooks/Thesis/voice recognition/dataset/162054.wav, segment of test data:12\n",
            "/content/drive/MyDrive/Colab Notebooks/Thesis/voice recognition/dataset/162054.wav, segment of test data:13\n",
            "/content/drive/MyDrive/Colab Notebooks/Thesis/voice recognition/dataset/162054.wav, segment of test data:14\n",
            "/content/drive/MyDrive/Colab Notebooks/Thesis/voice recognition/dataset/162054.wav, segment of test data:15\n",
            "/content/drive/MyDrive/Colab Notebooks/Thesis/voice recognition/dataset/162054.wav, segment of test data:16\n",
            "/content/drive/MyDrive/Colab Notebooks/Thesis/voice recognition/dataset/162054.wav, segment of test data:17\n",
            "/content/drive/MyDrive/Colab Notebooks/Thesis/voice recognition/dataset/162054.wav, segment of test data:18\n",
            "/content/drive/MyDrive/Colab Notebooks/Thesis/voice recognition/dataset/162054.wav, segment of test data:19\n",
            "/content/drive/MyDrive/Colab Notebooks/Thesis/voice recognition/dataset/162054.wav, segment of test data:20\n",
            "164107\n",
            "/content/drive/MyDrive/Colab Notebooks/Thesis/voice recognition/dataset/164107.wav, segment of test data:1\n",
            "/content/drive/MyDrive/Colab Notebooks/Thesis/voice recognition/dataset/164107.wav, segment of test data:2\n",
            "/content/drive/MyDrive/Colab Notebooks/Thesis/voice recognition/dataset/164107.wav, segment of test data:3\n",
            "/content/drive/MyDrive/Colab Notebooks/Thesis/voice recognition/dataset/164107.wav, segment of test data:4\n",
            "/content/drive/MyDrive/Colab Notebooks/Thesis/voice recognition/dataset/164107.wav, segment of test data:5\n",
            "/content/drive/MyDrive/Colab Notebooks/Thesis/voice recognition/dataset/164107.wav, segment of test data:6\n",
            "/content/drive/MyDrive/Colab Notebooks/Thesis/voice recognition/dataset/164107.wav, segment of test data:7\n",
            "/content/drive/MyDrive/Colab Notebooks/Thesis/voice recognition/dataset/164107.wav, segment of test data:8\n",
            "/content/drive/MyDrive/Colab Notebooks/Thesis/voice recognition/dataset/164107.wav, segment of test data:9\n",
            "/content/drive/MyDrive/Colab Notebooks/Thesis/voice recognition/dataset/164107.wav, segment of test data:10\n",
            "/content/drive/MyDrive/Colab Notebooks/Thesis/voice recognition/dataset/164107.wav, segment of test data:11\n",
            "/content/drive/MyDrive/Colab Notebooks/Thesis/voice recognition/dataset/164107.wav, segment of test data:12\n",
            "/content/drive/MyDrive/Colab Notebooks/Thesis/voice recognition/dataset/164107.wav, segment of test data:13\n",
            "/content/drive/MyDrive/Colab Notebooks/Thesis/voice recognition/dataset/164107.wav, segment of test data:14\n",
            "/content/drive/MyDrive/Colab Notebooks/Thesis/voice recognition/dataset/164107.wav, segment of test data:15\n",
            "/content/drive/MyDrive/Colab Notebooks/Thesis/voice recognition/dataset/164107.wav, segment of test data:16\n",
            "/content/drive/MyDrive/Colab Notebooks/Thesis/voice recognition/dataset/164107.wav, segment of test data:17\n",
            "/content/drive/MyDrive/Colab Notebooks/Thesis/voice recognition/dataset/164107.wav, segment of test data:18\n",
            "/content/drive/MyDrive/Colab Notebooks/Thesis/voice recognition/dataset/164107.wav, segment of test data:19\n",
            "/content/drive/MyDrive/Colab Notebooks/Thesis/voice recognition/dataset/164107.wav, segment of test data:20\n",
            "191015\n"
          ]
        },
        {
          "output_type": "stream",
          "name": "stderr",
          "text": [
            "/usr/local/lib/python3.7/dist-packages/librosa/core/audio.py:165: UserWarning: PySoundFile failed. Trying audioread instead.\n",
            "  warnings.warn(\"PySoundFile failed. Trying audioread instead.\")\n"
          ]
        },
        {
          "output_type": "stream",
          "name": "stdout",
          "text": [
            "/content/drive/MyDrive/Colab Notebooks/Thesis/voice recognition/dataset/191015.wav, segment of test data:1\n",
            "/content/drive/MyDrive/Colab Notebooks/Thesis/voice recognition/dataset/191015.wav, segment of test data:2\n",
            "/content/drive/MyDrive/Colab Notebooks/Thesis/voice recognition/dataset/191015.wav, segment of test data:3\n",
            "/content/drive/MyDrive/Colab Notebooks/Thesis/voice recognition/dataset/191015.wav, segment of test data:4\n",
            "/content/drive/MyDrive/Colab Notebooks/Thesis/voice recognition/dataset/191015.wav, segment of test data:5\n",
            "/content/drive/MyDrive/Colab Notebooks/Thesis/voice recognition/dataset/191015.wav, segment of test data:6\n",
            "/content/drive/MyDrive/Colab Notebooks/Thesis/voice recognition/dataset/191015.wav, segment of test data:7\n",
            "/content/drive/MyDrive/Colab Notebooks/Thesis/voice recognition/dataset/191015.wav, segment of test data:8\n",
            "/content/drive/MyDrive/Colab Notebooks/Thesis/voice recognition/dataset/191015.wav, segment of test data:9\n",
            "/content/drive/MyDrive/Colab Notebooks/Thesis/voice recognition/dataset/191015.wav, segment of test data:10\n",
            "/content/drive/MyDrive/Colab Notebooks/Thesis/voice recognition/dataset/191015.wav, segment of test data:11\n",
            "/content/drive/MyDrive/Colab Notebooks/Thesis/voice recognition/dataset/191015.wav, segment of test data:12\n",
            "/content/drive/MyDrive/Colab Notebooks/Thesis/voice recognition/dataset/191015.wav, segment of test data:13\n",
            "/content/drive/MyDrive/Colab Notebooks/Thesis/voice recognition/dataset/191015.wav, segment of test data:14\n",
            "/content/drive/MyDrive/Colab Notebooks/Thesis/voice recognition/dataset/191015.wav, segment of test data:15\n",
            "/content/drive/MyDrive/Colab Notebooks/Thesis/voice recognition/dataset/191015.wav, segment of test data:16\n",
            "/content/drive/MyDrive/Colab Notebooks/Thesis/voice recognition/dataset/191015.wav, segment of test data:17\n",
            "/content/drive/MyDrive/Colab Notebooks/Thesis/voice recognition/dataset/191015.wav, segment of test data:18\n",
            "/content/drive/MyDrive/Colab Notebooks/Thesis/voice recognition/dataset/191015.wav, segment of test data:19\n",
            "/content/drive/MyDrive/Colab Notebooks/Thesis/voice recognition/dataset/191015.wav, segment of test data:20\n",
            "171056\n"
          ]
        },
        {
          "output_type": "stream",
          "name": "stderr",
          "text": [
            "/usr/local/lib/python3.7/dist-packages/librosa/core/audio.py:165: UserWarning: PySoundFile failed. Trying audioread instead.\n",
            "  warnings.warn(\"PySoundFile failed. Trying audioread instead.\")\n"
          ]
        },
        {
          "output_type": "stream",
          "name": "stdout",
          "text": [
            "/content/drive/MyDrive/Colab Notebooks/Thesis/voice recognition/dataset/171056.wav, segment of test data:1\n",
            "/content/drive/MyDrive/Colab Notebooks/Thesis/voice recognition/dataset/171056.wav, segment of test data:2\n",
            "/content/drive/MyDrive/Colab Notebooks/Thesis/voice recognition/dataset/171056.wav, segment of test data:3\n",
            "/content/drive/MyDrive/Colab Notebooks/Thesis/voice recognition/dataset/171056.wav, segment of test data:4\n",
            "/content/drive/MyDrive/Colab Notebooks/Thesis/voice recognition/dataset/171056.wav, segment of test data:5\n",
            "/content/drive/MyDrive/Colab Notebooks/Thesis/voice recognition/dataset/171056.wav, segment of test data:6\n",
            "/content/drive/MyDrive/Colab Notebooks/Thesis/voice recognition/dataset/171056.wav, segment of test data:7\n",
            "/content/drive/MyDrive/Colab Notebooks/Thesis/voice recognition/dataset/171056.wav, segment of test data:8\n",
            "/content/drive/MyDrive/Colab Notebooks/Thesis/voice recognition/dataset/171056.wav, segment of test data:9\n",
            "/content/drive/MyDrive/Colab Notebooks/Thesis/voice recognition/dataset/171056.wav, segment of test data:10\n",
            "/content/drive/MyDrive/Colab Notebooks/Thesis/voice recognition/dataset/171056.wav, segment of test data:11\n",
            "/content/drive/MyDrive/Colab Notebooks/Thesis/voice recognition/dataset/171056.wav, segment of test data:12\n",
            "/content/drive/MyDrive/Colab Notebooks/Thesis/voice recognition/dataset/171056.wav, segment of test data:13\n",
            "/content/drive/MyDrive/Colab Notebooks/Thesis/voice recognition/dataset/171056.wav, segment of test data:14\n",
            "/content/drive/MyDrive/Colab Notebooks/Thesis/voice recognition/dataset/171056.wav, segment of test data:15\n",
            "/content/drive/MyDrive/Colab Notebooks/Thesis/voice recognition/dataset/171056.wav, segment of test data:16\n",
            "/content/drive/MyDrive/Colab Notebooks/Thesis/voice recognition/dataset/171056.wav, segment of test data:17\n",
            "/content/drive/MyDrive/Colab Notebooks/Thesis/voice recognition/dataset/171056.wav, segment of test data:18\n",
            "/content/drive/MyDrive/Colab Notebooks/Thesis/voice recognition/dataset/171056.wav, segment of test data:19\n",
            "/content/drive/MyDrive/Colab Notebooks/Thesis/voice recognition/dataset/171056.wav, segment of test data:20\n",
            "173038\n"
          ]
        },
        {
          "output_type": "stream",
          "name": "stderr",
          "text": [
            "/usr/local/lib/python3.7/dist-packages/librosa/core/audio.py:165: UserWarning: PySoundFile failed. Trying audioread instead.\n",
            "  warnings.warn(\"PySoundFile failed. Trying audioread instead.\")\n"
          ]
        },
        {
          "output_type": "stream",
          "name": "stdout",
          "text": [
            "/content/drive/MyDrive/Colab Notebooks/Thesis/voice recognition/dataset/173038.wav, segment of test data:1\n",
            "/content/drive/MyDrive/Colab Notebooks/Thesis/voice recognition/dataset/173038.wav, segment of test data:2\n",
            "/content/drive/MyDrive/Colab Notebooks/Thesis/voice recognition/dataset/173038.wav, segment of test data:3\n",
            "/content/drive/MyDrive/Colab Notebooks/Thesis/voice recognition/dataset/173038.wav, segment of test data:4\n",
            "/content/drive/MyDrive/Colab Notebooks/Thesis/voice recognition/dataset/173038.wav, segment of test data:5\n",
            "/content/drive/MyDrive/Colab Notebooks/Thesis/voice recognition/dataset/173038.wav, segment of test data:6\n",
            "/content/drive/MyDrive/Colab Notebooks/Thesis/voice recognition/dataset/173038.wav, segment of test data:7\n",
            "/content/drive/MyDrive/Colab Notebooks/Thesis/voice recognition/dataset/173038.wav, segment of test data:8\n",
            "/content/drive/MyDrive/Colab Notebooks/Thesis/voice recognition/dataset/173038.wav, segment of test data:9\n",
            "/content/drive/MyDrive/Colab Notebooks/Thesis/voice recognition/dataset/173038.wav, segment of test data:10\n",
            "/content/drive/MyDrive/Colab Notebooks/Thesis/voice recognition/dataset/173038.wav, segment of test data:11\n",
            "/content/drive/MyDrive/Colab Notebooks/Thesis/voice recognition/dataset/173038.wav, segment of test data:12\n",
            "/content/drive/MyDrive/Colab Notebooks/Thesis/voice recognition/dataset/173038.wav, segment of test data:13\n",
            "/content/drive/MyDrive/Colab Notebooks/Thesis/voice recognition/dataset/173038.wav, segment of test data:14\n",
            "/content/drive/MyDrive/Colab Notebooks/Thesis/voice recognition/dataset/173038.wav, segment of test data:15\n",
            "/content/drive/MyDrive/Colab Notebooks/Thesis/voice recognition/dataset/173038.wav, segment of test data:16\n",
            "/content/drive/MyDrive/Colab Notebooks/Thesis/voice recognition/dataset/173038.wav, segment of test data:17\n",
            "/content/drive/MyDrive/Colab Notebooks/Thesis/voice recognition/dataset/173038.wav, segment of test data:18\n",
            "/content/drive/MyDrive/Colab Notebooks/Thesis/voice recognition/dataset/173038.wav, segment of test data:19\n",
            "/content/drive/MyDrive/Colab Notebooks/Thesis/voice recognition/dataset/173038.wav, segment of test data:20\n",
            "194043\n"
          ]
        },
        {
          "output_type": "stream",
          "name": "stderr",
          "text": [
            "/usr/local/lib/python3.7/dist-packages/librosa/core/audio.py:165: UserWarning: PySoundFile failed. Trying audioread instead.\n",
            "  warnings.warn(\"PySoundFile failed. Trying audioread instead.\")\n"
          ]
        },
        {
          "output_type": "stream",
          "name": "stdout",
          "text": [
            "/content/drive/MyDrive/Colab Notebooks/Thesis/voice recognition/dataset/194043.wav, segment of test data:1\n",
            "/content/drive/MyDrive/Colab Notebooks/Thesis/voice recognition/dataset/194043.wav, segment of test data:2\n",
            "/content/drive/MyDrive/Colab Notebooks/Thesis/voice recognition/dataset/194043.wav, segment of test data:3\n",
            "/content/drive/MyDrive/Colab Notebooks/Thesis/voice recognition/dataset/194043.wav, segment of test data:4\n",
            "/content/drive/MyDrive/Colab Notebooks/Thesis/voice recognition/dataset/194043.wav, segment of test data:5\n",
            "/content/drive/MyDrive/Colab Notebooks/Thesis/voice recognition/dataset/194043.wav, segment of test data:6\n",
            "/content/drive/MyDrive/Colab Notebooks/Thesis/voice recognition/dataset/194043.wav, segment of test data:7\n",
            "/content/drive/MyDrive/Colab Notebooks/Thesis/voice recognition/dataset/194043.wav, segment of test data:8\n",
            "/content/drive/MyDrive/Colab Notebooks/Thesis/voice recognition/dataset/194043.wav, segment of test data:9\n",
            "/content/drive/MyDrive/Colab Notebooks/Thesis/voice recognition/dataset/194043.wav, segment of test data:10\n",
            "/content/drive/MyDrive/Colab Notebooks/Thesis/voice recognition/dataset/194043.wav, segment of test data:11\n",
            "/content/drive/MyDrive/Colab Notebooks/Thesis/voice recognition/dataset/194043.wav, segment of test data:12\n",
            "/content/drive/MyDrive/Colab Notebooks/Thesis/voice recognition/dataset/194043.wav, segment of test data:13\n",
            "/content/drive/MyDrive/Colab Notebooks/Thesis/voice recognition/dataset/194043.wav, segment of test data:14\n",
            "/content/drive/MyDrive/Colab Notebooks/Thesis/voice recognition/dataset/194043.wav, segment of test data:15\n",
            "/content/drive/MyDrive/Colab Notebooks/Thesis/voice recognition/dataset/194043.wav, segment of test data:16\n",
            "/content/drive/MyDrive/Colab Notebooks/Thesis/voice recognition/dataset/194043.wav, segment of test data:17\n",
            "/content/drive/MyDrive/Colab Notebooks/Thesis/voice recognition/dataset/194043.wav, segment of test data:18\n",
            "/content/drive/MyDrive/Colab Notebooks/Thesis/voice recognition/dataset/194043.wav, segment of test data:19\n",
            "/content/drive/MyDrive/Colab Notebooks/Thesis/voice recognition/dataset/194043.wav, segment of test data:20\n",
            "199006\n"
          ]
        },
        {
          "output_type": "stream",
          "name": "stderr",
          "text": [
            "/usr/local/lib/python3.7/dist-packages/librosa/core/audio.py:165: UserWarning: PySoundFile failed. Trying audioread instead.\n",
            "  warnings.warn(\"PySoundFile failed. Trying audioread instead.\")\n"
          ]
        },
        {
          "output_type": "stream",
          "name": "stdout",
          "text": [
            "/content/drive/MyDrive/Colab Notebooks/Thesis/voice recognition/dataset/199006.wav, segment of test data:1\n",
            "/content/drive/MyDrive/Colab Notebooks/Thesis/voice recognition/dataset/199006.wav, segment of test data:2\n",
            "/content/drive/MyDrive/Colab Notebooks/Thesis/voice recognition/dataset/199006.wav, segment of test data:3\n",
            "/content/drive/MyDrive/Colab Notebooks/Thesis/voice recognition/dataset/199006.wav, segment of test data:4\n",
            "/content/drive/MyDrive/Colab Notebooks/Thesis/voice recognition/dataset/199006.wav, segment of test data:5\n",
            "/content/drive/MyDrive/Colab Notebooks/Thesis/voice recognition/dataset/199006.wav, segment of test data:6\n",
            "/content/drive/MyDrive/Colab Notebooks/Thesis/voice recognition/dataset/199006.wav, segment of test data:7\n",
            "/content/drive/MyDrive/Colab Notebooks/Thesis/voice recognition/dataset/199006.wav, segment of test data:8\n",
            "/content/drive/MyDrive/Colab Notebooks/Thesis/voice recognition/dataset/199006.wav, segment of test data:9\n",
            "/content/drive/MyDrive/Colab Notebooks/Thesis/voice recognition/dataset/199006.wav, segment of test data:10\n",
            "/content/drive/MyDrive/Colab Notebooks/Thesis/voice recognition/dataset/199006.wav, segment of test data:11\n",
            "/content/drive/MyDrive/Colab Notebooks/Thesis/voice recognition/dataset/199006.wav, segment of test data:12\n",
            "/content/drive/MyDrive/Colab Notebooks/Thesis/voice recognition/dataset/199006.wav, segment of test data:13\n",
            "/content/drive/MyDrive/Colab Notebooks/Thesis/voice recognition/dataset/199006.wav, segment of test data:14\n",
            "/content/drive/MyDrive/Colab Notebooks/Thesis/voice recognition/dataset/199006.wav, segment of test data:15\n",
            "/content/drive/MyDrive/Colab Notebooks/Thesis/voice recognition/dataset/199006.wav, segment of test data:16\n",
            "/content/drive/MyDrive/Colab Notebooks/Thesis/voice recognition/dataset/199006.wav, segment of test data:17\n",
            "/content/drive/MyDrive/Colab Notebooks/Thesis/voice recognition/dataset/199006.wav, segment of test data:18\n",
            "/content/drive/MyDrive/Colab Notebooks/Thesis/voice recognition/dataset/199006.wav, segment of test data:19\n",
            "/content/drive/MyDrive/Colab Notebooks/Thesis/voice recognition/dataset/199006.wav, segment of test data:20\n",
            "173064\n"
          ]
        },
        {
          "output_type": "stream",
          "name": "stderr",
          "text": [
            "/usr/local/lib/python3.7/dist-packages/librosa/core/audio.py:165: UserWarning: PySoundFile failed. Trying audioread instead.\n",
            "  warnings.warn(\"PySoundFile failed. Trying audioread instead.\")\n"
          ]
        },
        {
          "output_type": "stream",
          "name": "stdout",
          "text": [
            "/content/drive/MyDrive/Colab Notebooks/Thesis/voice recognition/dataset/173064.wav, segment of test data:1\n",
            "/content/drive/MyDrive/Colab Notebooks/Thesis/voice recognition/dataset/173064.wav, segment of test data:2\n",
            "/content/drive/MyDrive/Colab Notebooks/Thesis/voice recognition/dataset/173064.wav, segment of test data:3\n",
            "/content/drive/MyDrive/Colab Notebooks/Thesis/voice recognition/dataset/173064.wav, segment of test data:4\n",
            "/content/drive/MyDrive/Colab Notebooks/Thesis/voice recognition/dataset/173064.wav, segment of test data:5\n",
            "/content/drive/MyDrive/Colab Notebooks/Thesis/voice recognition/dataset/173064.wav, segment of test data:6\n",
            "/content/drive/MyDrive/Colab Notebooks/Thesis/voice recognition/dataset/173064.wav, segment of test data:7\n",
            "/content/drive/MyDrive/Colab Notebooks/Thesis/voice recognition/dataset/173064.wav, segment of test data:8\n",
            "/content/drive/MyDrive/Colab Notebooks/Thesis/voice recognition/dataset/173064.wav, segment of test data:9\n",
            "/content/drive/MyDrive/Colab Notebooks/Thesis/voice recognition/dataset/173064.wav, segment of test data:10\n",
            "/content/drive/MyDrive/Colab Notebooks/Thesis/voice recognition/dataset/173064.wav, segment of test data:11\n",
            "/content/drive/MyDrive/Colab Notebooks/Thesis/voice recognition/dataset/173064.wav, segment of test data:12\n",
            "/content/drive/MyDrive/Colab Notebooks/Thesis/voice recognition/dataset/173064.wav, segment of test data:13\n",
            "/content/drive/MyDrive/Colab Notebooks/Thesis/voice recognition/dataset/173064.wav, segment of test data:14\n",
            "/content/drive/MyDrive/Colab Notebooks/Thesis/voice recognition/dataset/173064.wav, segment of test data:15\n",
            "/content/drive/MyDrive/Colab Notebooks/Thesis/voice recognition/dataset/173064.wav, segment of test data:16\n",
            "/content/drive/MyDrive/Colab Notebooks/Thesis/voice recognition/dataset/173064.wav, segment of test data:17\n",
            "/content/drive/MyDrive/Colab Notebooks/Thesis/voice recognition/dataset/173064.wav, segment of test data:18\n",
            "/content/drive/MyDrive/Colab Notebooks/Thesis/voice recognition/dataset/173064.wav, segment of test data:19\n",
            "/content/drive/MyDrive/Colab Notebooks/Thesis/voice recognition/dataset/173064.wav, segment of test data:20\n",
            "164055\n"
          ]
        },
        {
          "output_type": "stream",
          "name": "stderr",
          "text": [
            "/usr/local/lib/python3.7/dist-packages/librosa/core/audio.py:165: UserWarning: PySoundFile failed. Trying audioread instead.\n",
            "  warnings.warn(\"PySoundFile failed. Trying audioread instead.\")\n"
          ]
        },
        {
          "output_type": "stream",
          "name": "stdout",
          "text": [
            "/content/drive/MyDrive/Colab Notebooks/Thesis/voice recognition/dataset/164055.wav, segment of test data:1\n",
            "/content/drive/MyDrive/Colab Notebooks/Thesis/voice recognition/dataset/164055.wav, segment of test data:2\n",
            "/content/drive/MyDrive/Colab Notebooks/Thesis/voice recognition/dataset/164055.wav, segment of test data:3\n",
            "/content/drive/MyDrive/Colab Notebooks/Thesis/voice recognition/dataset/164055.wav, segment of test data:4\n",
            "/content/drive/MyDrive/Colab Notebooks/Thesis/voice recognition/dataset/164055.wav, segment of test data:5\n",
            "/content/drive/MyDrive/Colab Notebooks/Thesis/voice recognition/dataset/164055.wav, segment of test data:6\n",
            "/content/drive/MyDrive/Colab Notebooks/Thesis/voice recognition/dataset/164055.wav, segment of test data:7\n",
            "/content/drive/MyDrive/Colab Notebooks/Thesis/voice recognition/dataset/164055.wav, segment of test data:8\n",
            "/content/drive/MyDrive/Colab Notebooks/Thesis/voice recognition/dataset/164055.wav, segment of test data:9\n",
            "/content/drive/MyDrive/Colab Notebooks/Thesis/voice recognition/dataset/164055.wav, segment of test data:10\n",
            "/content/drive/MyDrive/Colab Notebooks/Thesis/voice recognition/dataset/164055.wav, segment of test data:11\n",
            "/content/drive/MyDrive/Colab Notebooks/Thesis/voice recognition/dataset/164055.wav, segment of test data:12\n",
            "/content/drive/MyDrive/Colab Notebooks/Thesis/voice recognition/dataset/164055.wav, segment of test data:13\n",
            "/content/drive/MyDrive/Colab Notebooks/Thesis/voice recognition/dataset/164055.wav, segment of test data:14\n",
            "/content/drive/MyDrive/Colab Notebooks/Thesis/voice recognition/dataset/164055.wav, segment of test data:15\n",
            "/content/drive/MyDrive/Colab Notebooks/Thesis/voice recognition/dataset/164055.wav, segment of test data:16\n",
            "/content/drive/MyDrive/Colab Notebooks/Thesis/voice recognition/dataset/164055.wav, segment of test data:17\n",
            "/content/drive/MyDrive/Colab Notebooks/Thesis/voice recognition/dataset/164055.wav, segment of test data:18\n",
            "/content/drive/MyDrive/Colab Notebooks/Thesis/voice recognition/dataset/164055.wav, segment of test data:19\n",
            "/content/drive/MyDrive/Colab Notebooks/Thesis/voice recognition/dataset/164055.wav, segment of test data:20\n",
            "173054\n"
          ]
        },
        {
          "output_type": "stream",
          "name": "stderr",
          "text": [
            "/usr/local/lib/python3.7/dist-packages/librosa/core/audio.py:165: UserWarning: PySoundFile failed. Trying audioread instead.\n",
            "  warnings.warn(\"PySoundFile failed. Trying audioread instead.\")\n"
          ]
        },
        {
          "output_type": "stream",
          "name": "stdout",
          "text": [
            "/content/drive/MyDrive/Colab Notebooks/Thesis/voice recognition/dataset/173054.wav, segment of test data:1\n",
            "/content/drive/MyDrive/Colab Notebooks/Thesis/voice recognition/dataset/173054.wav, segment of test data:2\n",
            "/content/drive/MyDrive/Colab Notebooks/Thesis/voice recognition/dataset/173054.wav, segment of test data:3\n",
            "/content/drive/MyDrive/Colab Notebooks/Thesis/voice recognition/dataset/173054.wav, segment of test data:4\n",
            "/content/drive/MyDrive/Colab Notebooks/Thesis/voice recognition/dataset/173054.wav, segment of test data:5\n",
            "/content/drive/MyDrive/Colab Notebooks/Thesis/voice recognition/dataset/173054.wav, segment of test data:6\n",
            "/content/drive/MyDrive/Colab Notebooks/Thesis/voice recognition/dataset/173054.wav, segment of test data:7\n",
            "/content/drive/MyDrive/Colab Notebooks/Thesis/voice recognition/dataset/173054.wav, segment of test data:8\n",
            "/content/drive/MyDrive/Colab Notebooks/Thesis/voice recognition/dataset/173054.wav, segment of test data:9\n",
            "/content/drive/MyDrive/Colab Notebooks/Thesis/voice recognition/dataset/173054.wav, segment of test data:10\n",
            "/content/drive/MyDrive/Colab Notebooks/Thesis/voice recognition/dataset/173054.wav, segment of test data:11\n",
            "/content/drive/MyDrive/Colab Notebooks/Thesis/voice recognition/dataset/173054.wav, segment of test data:12\n",
            "/content/drive/MyDrive/Colab Notebooks/Thesis/voice recognition/dataset/173054.wav, segment of test data:13\n",
            "/content/drive/MyDrive/Colab Notebooks/Thesis/voice recognition/dataset/173054.wav, segment of test data:14\n",
            "/content/drive/MyDrive/Colab Notebooks/Thesis/voice recognition/dataset/173054.wav, segment of test data:15\n",
            "/content/drive/MyDrive/Colab Notebooks/Thesis/voice recognition/dataset/173054.wav, segment of test data:16\n",
            "/content/drive/MyDrive/Colab Notebooks/Thesis/voice recognition/dataset/173054.wav, segment of test data:17\n",
            "/content/drive/MyDrive/Colab Notebooks/Thesis/voice recognition/dataset/173054.wav, segment of test data:18\n",
            "/content/drive/MyDrive/Colab Notebooks/Thesis/voice recognition/dataset/173054.wav, segment of test data:19\n",
            "/content/drive/MyDrive/Colab Notebooks/Thesis/voice recognition/dataset/173054.wav, segment of test data:20\n",
            "204120\n"
          ]
        },
        {
          "output_type": "stream",
          "name": "stderr",
          "text": [
            "/usr/local/lib/python3.7/dist-packages/librosa/core/audio.py:165: UserWarning: PySoundFile failed. Trying audioread instead.\n",
            "  warnings.warn(\"PySoundFile failed. Trying audioread instead.\")\n"
          ]
        },
        {
          "output_type": "stream",
          "name": "stdout",
          "text": [
            "/content/drive/MyDrive/Colab Notebooks/Thesis/voice recognition/dataset/204120.wav, segment of test data:1\n",
            "/content/drive/MyDrive/Colab Notebooks/Thesis/voice recognition/dataset/204120.wav, segment of test data:2\n",
            "/content/drive/MyDrive/Colab Notebooks/Thesis/voice recognition/dataset/204120.wav, segment of test data:3\n",
            "/content/drive/MyDrive/Colab Notebooks/Thesis/voice recognition/dataset/204120.wav, segment of test data:4\n",
            "/content/drive/MyDrive/Colab Notebooks/Thesis/voice recognition/dataset/204120.wav, segment of test data:5\n",
            "/content/drive/MyDrive/Colab Notebooks/Thesis/voice recognition/dataset/204120.wav, segment of test data:6\n",
            "/content/drive/MyDrive/Colab Notebooks/Thesis/voice recognition/dataset/204120.wav, segment of test data:7\n",
            "/content/drive/MyDrive/Colab Notebooks/Thesis/voice recognition/dataset/204120.wav, segment of test data:8\n",
            "/content/drive/MyDrive/Colab Notebooks/Thesis/voice recognition/dataset/204120.wav, segment of test data:9\n",
            "/content/drive/MyDrive/Colab Notebooks/Thesis/voice recognition/dataset/204120.wav, segment of test data:10\n",
            "/content/drive/MyDrive/Colab Notebooks/Thesis/voice recognition/dataset/204120.wav, segment of test data:11\n",
            "/content/drive/MyDrive/Colab Notebooks/Thesis/voice recognition/dataset/204120.wav, segment of test data:12\n",
            "/content/drive/MyDrive/Colab Notebooks/Thesis/voice recognition/dataset/204120.wav, segment of test data:13\n",
            "/content/drive/MyDrive/Colab Notebooks/Thesis/voice recognition/dataset/204120.wav, segment of test data:14\n",
            "/content/drive/MyDrive/Colab Notebooks/Thesis/voice recognition/dataset/204120.wav, segment of test data:15\n",
            "/content/drive/MyDrive/Colab Notebooks/Thesis/voice recognition/dataset/204120.wav, segment of test data:16\n",
            "/content/drive/MyDrive/Colab Notebooks/Thesis/voice recognition/dataset/204120.wav, segment of test data:17\n",
            "/content/drive/MyDrive/Colab Notebooks/Thesis/voice recognition/dataset/204120.wav, segment of test data:18\n",
            "/content/drive/MyDrive/Colab Notebooks/Thesis/voice recognition/dataset/204120.wav, segment of test data:19\n",
            "/content/drive/MyDrive/Colab Notebooks/Thesis/voice recognition/dataset/204120.wav, segment of test data:20\n",
            "173077\n"
          ]
        },
        {
          "output_type": "stream",
          "name": "stderr",
          "text": [
            "/usr/local/lib/python3.7/dist-packages/librosa/core/audio.py:165: UserWarning: PySoundFile failed. Trying audioread instead.\n",
            "  warnings.warn(\"PySoundFile failed. Trying audioread instead.\")\n"
          ]
        },
        {
          "output_type": "stream",
          "name": "stdout",
          "text": [
            "/content/drive/MyDrive/Colab Notebooks/Thesis/voice recognition/dataset/173077.wav, segment of test data:1\n",
            "/content/drive/MyDrive/Colab Notebooks/Thesis/voice recognition/dataset/173077.wav, segment of test data:2\n",
            "/content/drive/MyDrive/Colab Notebooks/Thesis/voice recognition/dataset/173077.wav, segment of test data:3\n",
            "/content/drive/MyDrive/Colab Notebooks/Thesis/voice recognition/dataset/173077.wav, segment of test data:4\n",
            "/content/drive/MyDrive/Colab Notebooks/Thesis/voice recognition/dataset/173077.wav, segment of test data:5\n",
            "/content/drive/MyDrive/Colab Notebooks/Thesis/voice recognition/dataset/173077.wav, segment of test data:6\n",
            "/content/drive/MyDrive/Colab Notebooks/Thesis/voice recognition/dataset/173077.wav, segment of test data:7\n",
            "/content/drive/MyDrive/Colab Notebooks/Thesis/voice recognition/dataset/173077.wav, segment of test data:8\n",
            "/content/drive/MyDrive/Colab Notebooks/Thesis/voice recognition/dataset/173077.wav, segment of test data:9\n",
            "/content/drive/MyDrive/Colab Notebooks/Thesis/voice recognition/dataset/173077.wav, segment of test data:10\n",
            "/content/drive/MyDrive/Colab Notebooks/Thesis/voice recognition/dataset/173077.wav, segment of test data:11\n",
            "/content/drive/MyDrive/Colab Notebooks/Thesis/voice recognition/dataset/173077.wav, segment of test data:12\n",
            "/content/drive/MyDrive/Colab Notebooks/Thesis/voice recognition/dataset/173077.wav, segment of test data:13\n",
            "/content/drive/MyDrive/Colab Notebooks/Thesis/voice recognition/dataset/173077.wav, segment of test data:14\n",
            "/content/drive/MyDrive/Colab Notebooks/Thesis/voice recognition/dataset/173077.wav, segment of test data:15\n",
            "/content/drive/MyDrive/Colab Notebooks/Thesis/voice recognition/dataset/173077.wav, segment of test data:16\n",
            "/content/drive/MyDrive/Colab Notebooks/Thesis/voice recognition/dataset/173077.wav, segment of test data:17\n",
            "/content/drive/MyDrive/Colab Notebooks/Thesis/voice recognition/dataset/173077.wav, segment of test data:18\n",
            "/content/drive/MyDrive/Colab Notebooks/Thesis/voice recognition/dataset/173077.wav, segment of test data:19\n",
            "/content/drive/MyDrive/Colab Notebooks/Thesis/voice recognition/dataset/173077.wav, segment of test data:20\n",
            "172025\n"
          ]
        },
        {
          "output_type": "stream",
          "name": "stderr",
          "text": [
            "/usr/local/lib/python3.7/dist-packages/librosa/core/audio.py:165: UserWarning: PySoundFile failed. Trying audioread instead.\n",
            "  warnings.warn(\"PySoundFile failed. Trying audioread instead.\")\n"
          ]
        },
        {
          "output_type": "stream",
          "name": "stdout",
          "text": [
            "/content/drive/MyDrive/Colab Notebooks/Thesis/voice recognition/dataset/172025.wav, segment of test data:1\n",
            "/content/drive/MyDrive/Colab Notebooks/Thesis/voice recognition/dataset/172025.wav, segment of test data:2\n",
            "/content/drive/MyDrive/Colab Notebooks/Thesis/voice recognition/dataset/172025.wav, segment of test data:3\n",
            "/content/drive/MyDrive/Colab Notebooks/Thesis/voice recognition/dataset/172025.wav, segment of test data:4\n",
            "/content/drive/MyDrive/Colab Notebooks/Thesis/voice recognition/dataset/172025.wav, segment of test data:5\n",
            "/content/drive/MyDrive/Colab Notebooks/Thesis/voice recognition/dataset/172025.wav, segment of test data:6\n",
            "/content/drive/MyDrive/Colab Notebooks/Thesis/voice recognition/dataset/172025.wav, segment of test data:7\n",
            "/content/drive/MyDrive/Colab Notebooks/Thesis/voice recognition/dataset/172025.wav, segment of test data:8\n",
            "/content/drive/MyDrive/Colab Notebooks/Thesis/voice recognition/dataset/172025.wav, segment of test data:9\n",
            "/content/drive/MyDrive/Colab Notebooks/Thesis/voice recognition/dataset/172025.wav, segment of test data:10\n",
            "/content/drive/MyDrive/Colab Notebooks/Thesis/voice recognition/dataset/172025.wav, segment of test data:11\n",
            "/content/drive/MyDrive/Colab Notebooks/Thesis/voice recognition/dataset/172025.wav, segment of test data:12\n",
            "/content/drive/MyDrive/Colab Notebooks/Thesis/voice recognition/dataset/172025.wav, segment of test data:13\n",
            "/content/drive/MyDrive/Colab Notebooks/Thesis/voice recognition/dataset/172025.wav, segment of test data:14\n",
            "/content/drive/MyDrive/Colab Notebooks/Thesis/voice recognition/dataset/172025.wav, segment of test data:15\n",
            "/content/drive/MyDrive/Colab Notebooks/Thesis/voice recognition/dataset/172025.wav, segment of test data:16\n",
            "/content/drive/MyDrive/Colab Notebooks/Thesis/voice recognition/dataset/172025.wav, segment of test data:17\n",
            "/content/drive/MyDrive/Colab Notebooks/Thesis/voice recognition/dataset/172025.wav, segment of test data:18\n",
            "/content/drive/MyDrive/Colab Notebooks/Thesis/voice recognition/dataset/172025.wav, segment of test data:19\n",
            "/content/drive/MyDrive/Colab Notebooks/Thesis/voice recognition/dataset/172025.wav, segment of test data:20\n",
            "172106\n"
          ]
        },
        {
          "output_type": "stream",
          "name": "stderr",
          "text": [
            "/usr/local/lib/python3.7/dist-packages/librosa/core/audio.py:165: UserWarning: PySoundFile failed. Trying audioread instead.\n",
            "  warnings.warn(\"PySoundFile failed. Trying audioread instead.\")\n"
          ]
        },
        {
          "output_type": "stream",
          "name": "stdout",
          "text": [
            "/content/drive/MyDrive/Colab Notebooks/Thesis/voice recognition/dataset/172106.wav, segment of test data:1\n",
            "/content/drive/MyDrive/Colab Notebooks/Thesis/voice recognition/dataset/172106.wav, segment of test data:2\n",
            "/content/drive/MyDrive/Colab Notebooks/Thesis/voice recognition/dataset/172106.wav, segment of test data:3\n",
            "/content/drive/MyDrive/Colab Notebooks/Thesis/voice recognition/dataset/172106.wav, segment of test data:4\n",
            "/content/drive/MyDrive/Colab Notebooks/Thesis/voice recognition/dataset/172106.wav, segment of test data:5\n",
            "/content/drive/MyDrive/Colab Notebooks/Thesis/voice recognition/dataset/172106.wav, segment of test data:6\n",
            "/content/drive/MyDrive/Colab Notebooks/Thesis/voice recognition/dataset/172106.wav, segment of test data:7\n",
            "/content/drive/MyDrive/Colab Notebooks/Thesis/voice recognition/dataset/172106.wav, segment of test data:8\n",
            "/content/drive/MyDrive/Colab Notebooks/Thesis/voice recognition/dataset/172106.wav, segment of test data:9\n",
            "/content/drive/MyDrive/Colab Notebooks/Thesis/voice recognition/dataset/172106.wav, segment of test data:10\n",
            "/content/drive/MyDrive/Colab Notebooks/Thesis/voice recognition/dataset/172106.wav, segment of test data:11\n",
            "/content/drive/MyDrive/Colab Notebooks/Thesis/voice recognition/dataset/172106.wav, segment of test data:12\n",
            "/content/drive/MyDrive/Colab Notebooks/Thesis/voice recognition/dataset/172106.wav, segment of test data:13\n",
            "/content/drive/MyDrive/Colab Notebooks/Thesis/voice recognition/dataset/172106.wav, segment of test data:14\n",
            "/content/drive/MyDrive/Colab Notebooks/Thesis/voice recognition/dataset/172106.wav, segment of test data:15\n",
            "/content/drive/MyDrive/Colab Notebooks/Thesis/voice recognition/dataset/172106.wav, segment of test data:16\n",
            "/content/drive/MyDrive/Colab Notebooks/Thesis/voice recognition/dataset/172106.wav, segment of test data:17\n",
            "/content/drive/MyDrive/Colab Notebooks/Thesis/voice recognition/dataset/172106.wav, segment of test data:18\n",
            "/content/drive/MyDrive/Colab Notebooks/Thesis/voice recognition/dataset/172106.wav, segment of test data:19\n",
            "/content/drive/MyDrive/Colab Notebooks/Thesis/voice recognition/dataset/172106.wav, segment of test data:20\n",
            "178010\n"
          ]
        },
        {
          "output_type": "stream",
          "name": "stderr",
          "text": [
            "/usr/local/lib/python3.7/dist-packages/librosa/core/audio.py:165: UserWarning: PySoundFile failed. Trying audioread instead.\n",
            "  warnings.warn(\"PySoundFile failed. Trying audioread instead.\")\n"
          ]
        },
        {
          "output_type": "stream",
          "name": "stdout",
          "text": [
            "/content/drive/MyDrive/Colab Notebooks/Thesis/voice recognition/dataset/178010.wav, segment of test data:1\n",
            "/content/drive/MyDrive/Colab Notebooks/Thesis/voice recognition/dataset/178010.wav, segment of test data:2\n",
            "/content/drive/MyDrive/Colab Notebooks/Thesis/voice recognition/dataset/178010.wav, segment of test data:3\n",
            "/content/drive/MyDrive/Colab Notebooks/Thesis/voice recognition/dataset/178010.wav, segment of test data:4\n",
            "/content/drive/MyDrive/Colab Notebooks/Thesis/voice recognition/dataset/178010.wav, segment of test data:5\n",
            "/content/drive/MyDrive/Colab Notebooks/Thesis/voice recognition/dataset/178010.wav, segment of test data:6\n",
            "/content/drive/MyDrive/Colab Notebooks/Thesis/voice recognition/dataset/178010.wav, segment of test data:7\n",
            "/content/drive/MyDrive/Colab Notebooks/Thesis/voice recognition/dataset/178010.wav, segment of test data:8\n",
            "/content/drive/MyDrive/Colab Notebooks/Thesis/voice recognition/dataset/178010.wav, segment of test data:9\n",
            "/content/drive/MyDrive/Colab Notebooks/Thesis/voice recognition/dataset/178010.wav, segment of test data:10\n",
            "/content/drive/MyDrive/Colab Notebooks/Thesis/voice recognition/dataset/178010.wav, segment of test data:11\n",
            "/content/drive/MyDrive/Colab Notebooks/Thesis/voice recognition/dataset/178010.wav, segment of test data:12\n",
            "/content/drive/MyDrive/Colab Notebooks/Thesis/voice recognition/dataset/178010.wav, segment of test data:13\n",
            "/content/drive/MyDrive/Colab Notebooks/Thesis/voice recognition/dataset/178010.wav, segment of test data:14\n",
            "/content/drive/MyDrive/Colab Notebooks/Thesis/voice recognition/dataset/178010.wav, segment of test data:15\n",
            "/content/drive/MyDrive/Colab Notebooks/Thesis/voice recognition/dataset/178010.wav, segment of test data:16\n",
            "/content/drive/MyDrive/Colab Notebooks/Thesis/voice recognition/dataset/178010.wav, segment of test data:17\n",
            "/content/drive/MyDrive/Colab Notebooks/Thesis/voice recognition/dataset/178010.wav, segment of test data:18\n",
            "/content/drive/MyDrive/Colab Notebooks/Thesis/voice recognition/dataset/178010.wav, segment of test data:19\n",
            "/content/drive/MyDrive/Colab Notebooks/Thesis/voice recognition/dataset/178010.wav, segment of test data:20\n",
            "174107\n"
          ]
        },
        {
          "output_type": "stream",
          "name": "stderr",
          "text": [
            "/usr/local/lib/python3.7/dist-packages/librosa/core/audio.py:165: UserWarning: PySoundFile failed. Trying audioread instead.\n",
            "  warnings.warn(\"PySoundFile failed. Trying audioread instead.\")\n"
          ]
        },
        {
          "output_type": "stream",
          "name": "stdout",
          "text": [
            "/content/drive/MyDrive/Colab Notebooks/Thesis/voice recognition/dataset/174107.wav, segment of test data:1\n",
            "/content/drive/MyDrive/Colab Notebooks/Thesis/voice recognition/dataset/174107.wav, segment of test data:2\n",
            "/content/drive/MyDrive/Colab Notebooks/Thesis/voice recognition/dataset/174107.wav, segment of test data:3\n",
            "/content/drive/MyDrive/Colab Notebooks/Thesis/voice recognition/dataset/174107.wav, segment of test data:4\n",
            "/content/drive/MyDrive/Colab Notebooks/Thesis/voice recognition/dataset/174107.wav, segment of test data:5\n",
            "/content/drive/MyDrive/Colab Notebooks/Thesis/voice recognition/dataset/174107.wav, segment of test data:6\n",
            "/content/drive/MyDrive/Colab Notebooks/Thesis/voice recognition/dataset/174107.wav, segment of test data:7\n",
            "/content/drive/MyDrive/Colab Notebooks/Thesis/voice recognition/dataset/174107.wav, segment of test data:8\n",
            "/content/drive/MyDrive/Colab Notebooks/Thesis/voice recognition/dataset/174107.wav, segment of test data:9\n",
            "/content/drive/MyDrive/Colab Notebooks/Thesis/voice recognition/dataset/174107.wav, segment of test data:10\n",
            "/content/drive/MyDrive/Colab Notebooks/Thesis/voice recognition/dataset/174107.wav, segment of test data:11\n",
            "/content/drive/MyDrive/Colab Notebooks/Thesis/voice recognition/dataset/174107.wav, segment of test data:12\n",
            "/content/drive/MyDrive/Colab Notebooks/Thesis/voice recognition/dataset/174107.wav, segment of test data:13\n",
            "/content/drive/MyDrive/Colab Notebooks/Thesis/voice recognition/dataset/174107.wav, segment of test data:14\n",
            "/content/drive/MyDrive/Colab Notebooks/Thesis/voice recognition/dataset/174107.wav, segment of test data:15\n",
            "/content/drive/MyDrive/Colab Notebooks/Thesis/voice recognition/dataset/174107.wav, segment of test data:16\n",
            "/content/drive/MyDrive/Colab Notebooks/Thesis/voice recognition/dataset/174107.wav, segment of test data:17\n",
            "/content/drive/MyDrive/Colab Notebooks/Thesis/voice recognition/dataset/174107.wav, segment of test data:18\n",
            "/content/drive/MyDrive/Colab Notebooks/Thesis/voice recognition/dataset/174107.wav, segment of test data:19\n",
            "/content/drive/MyDrive/Colab Notebooks/Thesis/voice recognition/dataset/174107.wav, segment of test data:20\n",
            "194014\n"
          ]
        },
        {
          "output_type": "stream",
          "name": "stderr",
          "text": [
            "/usr/local/lib/python3.7/dist-packages/librosa/core/audio.py:165: UserWarning: PySoundFile failed. Trying audioread instead.\n",
            "  warnings.warn(\"PySoundFile failed. Trying audioread instead.\")\n"
          ]
        },
        {
          "output_type": "stream",
          "name": "stdout",
          "text": [
            "/content/drive/MyDrive/Colab Notebooks/Thesis/voice recognition/dataset/194014.wav, segment of test data:1\n",
            "/content/drive/MyDrive/Colab Notebooks/Thesis/voice recognition/dataset/194014.wav, segment of test data:2\n",
            "/content/drive/MyDrive/Colab Notebooks/Thesis/voice recognition/dataset/194014.wav, segment of test data:3\n",
            "/content/drive/MyDrive/Colab Notebooks/Thesis/voice recognition/dataset/194014.wav, segment of test data:4\n",
            "/content/drive/MyDrive/Colab Notebooks/Thesis/voice recognition/dataset/194014.wav, segment of test data:5\n",
            "/content/drive/MyDrive/Colab Notebooks/Thesis/voice recognition/dataset/194014.wav, segment of test data:6\n",
            "/content/drive/MyDrive/Colab Notebooks/Thesis/voice recognition/dataset/194014.wav, segment of test data:7\n",
            "/content/drive/MyDrive/Colab Notebooks/Thesis/voice recognition/dataset/194014.wav, segment of test data:8\n",
            "/content/drive/MyDrive/Colab Notebooks/Thesis/voice recognition/dataset/194014.wav, segment of test data:9\n",
            "/content/drive/MyDrive/Colab Notebooks/Thesis/voice recognition/dataset/194014.wav, segment of test data:10\n",
            "/content/drive/MyDrive/Colab Notebooks/Thesis/voice recognition/dataset/194014.wav, segment of test data:11\n",
            "/content/drive/MyDrive/Colab Notebooks/Thesis/voice recognition/dataset/194014.wav, segment of test data:12\n",
            "/content/drive/MyDrive/Colab Notebooks/Thesis/voice recognition/dataset/194014.wav, segment of test data:13\n",
            "/content/drive/MyDrive/Colab Notebooks/Thesis/voice recognition/dataset/194014.wav, segment of test data:14\n",
            "/content/drive/MyDrive/Colab Notebooks/Thesis/voice recognition/dataset/194014.wav, segment of test data:15\n",
            "/content/drive/MyDrive/Colab Notebooks/Thesis/voice recognition/dataset/194014.wav, segment of test data:16\n",
            "/content/drive/MyDrive/Colab Notebooks/Thesis/voice recognition/dataset/194014.wav, segment of test data:17\n",
            "/content/drive/MyDrive/Colab Notebooks/Thesis/voice recognition/dataset/194014.wav, segment of test data:18\n",
            "/content/drive/MyDrive/Colab Notebooks/Thesis/voice recognition/dataset/194014.wav, segment of test data:19\n",
            "/content/drive/MyDrive/Colab Notebooks/Thesis/voice recognition/dataset/194014.wav, segment of test data:20\n",
            "164050\n",
            "/content/drive/MyDrive/Colab Notebooks/Thesis/voice recognition/dataset/164050.wav, segment of test data:1\n",
            "/content/drive/MyDrive/Colab Notebooks/Thesis/voice recognition/dataset/164050.wav, segment of test data:2\n",
            "/content/drive/MyDrive/Colab Notebooks/Thesis/voice recognition/dataset/164050.wav, segment of test data:3\n",
            "/content/drive/MyDrive/Colab Notebooks/Thesis/voice recognition/dataset/164050.wav, segment of test data:4\n",
            "/content/drive/MyDrive/Colab Notebooks/Thesis/voice recognition/dataset/164050.wav, segment of test data:5\n",
            "/content/drive/MyDrive/Colab Notebooks/Thesis/voice recognition/dataset/164050.wav, segment of test data:6\n",
            "/content/drive/MyDrive/Colab Notebooks/Thesis/voice recognition/dataset/164050.wav, segment of test data:7\n",
            "/content/drive/MyDrive/Colab Notebooks/Thesis/voice recognition/dataset/164050.wav, segment of test data:8\n",
            "/content/drive/MyDrive/Colab Notebooks/Thesis/voice recognition/dataset/164050.wav, segment of test data:9\n",
            "/content/drive/MyDrive/Colab Notebooks/Thesis/voice recognition/dataset/164050.wav, segment of test data:10\n",
            "/content/drive/MyDrive/Colab Notebooks/Thesis/voice recognition/dataset/164050.wav, segment of test data:11\n",
            "/content/drive/MyDrive/Colab Notebooks/Thesis/voice recognition/dataset/164050.wav, segment of test data:12\n",
            "/content/drive/MyDrive/Colab Notebooks/Thesis/voice recognition/dataset/164050.wav, segment of test data:13\n",
            "/content/drive/MyDrive/Colab Notebooks/Thesis/voice recognition/dataset/164050.wav, segment of test data:14\n",
            "/content/drive/MyDrive/Colab Notebooks/Thesis/voice recognition/dataset/164050.wav, segment of test data:15\n",
            "/content/drive/MyDrive/Colab Notebooks/Thesis/voice recognition/dataset/164050.wav, segment of test data:16\n",
            "/content/drive/MyDrive/Colab Notebooks/Thesis/voice recognition/dataset/164050.wav, segment of test data:17\n",
            "/content/drive/MyDrive/Colab Notebooks/Thesis/voice recognition/dataset/164050.wav, segment of test data:18\n",
            "/content/drive/MyDrive/Colab Notebooks/Thesis/voice recognition/dataset/164050.wav, segment of test data:19\n",
            "/content/drive/MyDrive/Colab Notebooks/Thesis/voice recognition/dataset/164050.wav, segment of test data:20\n",
            "178014\n"
          ]
        },
        {
          "output_type": "stream",
          "name": "stderr",
          "text": [
            "/usr/local/lib/python3.7/dist-packages/librosa/core/audio.py:165: UserWarning: PySoundFile failed. Trying audioread instead.\n",
            "  warnings.warn(\"PySoundFile failed. Trying audioread instead.\")\n"
          ]
        },
        {
          "output_type": "stream",
          "name": "stdout",
          "text": [
            "/content/drive/MyDrive/Colab Notebooks/Thesis/voice recognition/dataset/178014.wav, segment of test data:1\n",
            "/content/drive/MyDrive/Colab Notebooks/Thesis/voice recognition/dataset/178014.wav, segment of test data:2\n",
            "/content/drive/MyDrive/Colab Notebooks/Thesis/voice recognition/dataset/178014.wav, segment of test data:3\n",
            "/content/drive/MyDrive/Colab Notebooks/Thesis/voice recognition/dataset/178014.wav, segment of test data:4\n",
            "/content/drive/MyDrive/Colab Notebooks/Thesis/voice recognition/dataset/178014.wav, segment of test data:5\n",
            "/content/drive/MyDrive/Colab Notebooks/Thesis/voice recognition/dataset/178014.wav, segment of test data:6\n",
            "/content/drive/MyDrive/Colab Notebooks/Thesis/voice recognition/dataset/178014.wav, segment of test data:7\n",
            "/content/drive/MyDrive/Colab Notebooks/Thesis/voice recognition/dataset/178014.wav, segment of test data:8\n",
            "/content/drive/MyDrive/Colab Notebooks/Thesis/voice recognition/dataset/178014.wav, segment of test data:9\n",
            "/content/drive/MyDrive/Colab Notebooks/Thesis/voice recognition/dataset/178014.wav, segment of test data:10\n",
            "/content/drive/MyDrive/Colab Notebooks/Thesis/voice recognition/dataset/178014.wav, segment of test data:11\n",
            "/content/drive/MyDrive/Colab Notebooks/Thesis/voice recognition/dataset/178014.wav, segment of test data:12\n",
            "/content/drive/MyDrive/Colab Notebooks/Thesis/voice recognition/dataset/178014.wav, segment of test data:13\n",
            "/content/drive/MyDrive/Colab Notebooks/Thesis/voice recognition/dataset/178014.wav, segment of test data:14\n",
            "/content/drive/MyDrive/Colab Notebooks/Thesis/voice recognition/dataset/178014.wav, segment of test data:15\n",
            "/content/drive/MyDrive/Colab Notebooks/Thesis/voice recognition/dataset/178014.wav, segment of test data:16\n",
            "/content/drive/MyDrive/Colab Notebooks/Thesis/voice recognition/dataset/178014.wav, segment of test data:17\n",
            "/content/drive/MyDrive/Colab Notebooks/Thesis/voice recognition/dataset/178014.wav, segment of test data:18\n",
            "/content/drive/MyDrive/Colab Notebooks/Thesis/voice recognition/dataset/178014.wav, segment of test data:19\n",
            "/content/drive/MyDrive/Colab Notebooks/Thesis/voice recognition/dataset/178014.wav, segment of test data:20\n",
            "172014\n"
          ]
        },
        {
          "output_type": "stream",
          "name": "stderr",
          "text": [
            "/usr/local/lib/python3.7/dist-packages/librosa/core/audio.py:165: UserWarning: PySoundFile failed. Trying audioread instead.\n",
            "  warnings.warn(\"PySoundFile failed. Trying audioread instead.\")\n"
          ]
        },
        {
          "output_type": "stream",
          "name": "stdout",
          "text": [
            "/content/drive/MyDrive/Colab Notebooks/Thesis/voice recognition/dataset/172014.wav, segment of test data:1\n",
            "/content/drive/MyDrive/Colab Notebooks/Thesis/voice recognition/dataset/172014.wav, segment of test data:2\n",
            "/content/drive/MyDrive/Colab Notebooks/Thesis/voice recognition/dataset/172014.wav, segment of test data:3\n",
            "/content/drive/MyDrive/Colab Notebooks/Thesis/voice recognition/dataset/172014.wav, segment of test data:4\n",
            "/content/drive/MyDrive/Colab Notebooks/Thesis/voice recognition/dataset/172014.wav, segment of test data:5\n",
            "/content/drive/MyDrive/Colab Notebooks/Thesis/voice recognition/dataset/172014.wav, segment of test data:6\n",
            "/content/drive/MyDrive/Colab Notebooks/Thesis/voice recognition/dataset/172014.wav, segment of test data:7\n",
            "/content/drive/MyDrive/Colab Notebooks/Thesis/voice recognition/dataset/172014.wav, segment of test data:8\n",
            "/content/drive/MyDrive/Colab Notebooks/Thesis/voice recognition/dataset/172014.wav, segment of test data:9\n",
            "/content/drive/MyDrive/Colab Notebooks/Thesis/voice recognition/dataset/172014.wav, segment of test data:10\n",
            "/content/drive/MyDrive/Colab Notebooks/Thesis/voice recognition/dataset/172014.wav, segment of test data:11\n",
            "/content/drive/MyDrive/Colab Notebooks/Thesis/voice recognition/dataset/172014.wav, segment of test data:12\n",
            "/content/drive/MyDrive/Colab Notebooks/Thesis/voice recognition/dataset/172014.wav, segment of test data:13\n",
            "/content/drive/MyDrive/Colab Notebooks/Thesis/voice recognition/dataset/172014.wav, segment of test data:14\n",
            "/content/drive/MyDrive/Colab Notebooks/Thesis/voice recognition/dataset/172014.wav, segment of test data:15\n",
            "/content/drive/MyDrive/Colab Notebooks/Thesis/voice recognition/dataset/172014.wav, segment of test data:16\n",
            "/content/drive/MyDrive/Colab Notebooks/Thesis/voice recognition/dataset/172014.wav, segment of test data:17\n",
            "/content/drive/MyDrive/Colab Notebooks/Thesis/voice recognition/dataset/172014.wav, segment of test data:18\n",
            "/content/drive/MyDrive/Colab Notebooks/Thesis/voice recognition/dataset/172014.wav, segment of test data:19\n",
            "/content/drive/MyDrive/Colab Notebooks/Thesis/voice recognition/dataset/172014.wav, segment of test data:20\n",
            "194011\n"
          ]
        },
        {
          "output_type": "stream",
          "name": "stderr",
          "text": [
            "/usr/local/lib/python3.7/dist-packages/librosa/core/audio.py:165: UserWarning: PySoundFile failed. Trying audioread instead.\n",
            "  warnings.warn(\"PySoundFile failed. Trying audioread instead.\")\n"
          ]
        },
        {
          "output_type": "stream",
          "name": "stdout",
          "text": [
            "/content/drive/MyDrive/Colab Notebooks/Thesis/voice recognition/dataset/194011.wav, segment of test data:1\n",
            "/content/drive/MyDrive/Colab Notebooks/Thesis/voice recognition/dataset/194011.wav, segment of test data:2\n",
            "/content/drive/MyDrive/Colab Notebooks/Thesis/voice recognition/dataset/194011.wav, segment of test data:3\n",
            "/content/drive/MyDrive/Colab Notebooks/Thesis/voice recognition/dataset/194011.wav, segment of test data:4\n",
            "/content/drive/MyDrive/Colab Notebooks/Thesis/voice recognition/dataset/194011.wav, segment of test data:5\n",
            "/content/drive/MyDrive/Colab Notebooks/Thesis/voice recognition/dataset/194011.wav, segment of test data:6\n",
            "/content/drive/MyDrive/Colab Notebooks/Thesis/voice recognition/dataset/194011.wav, segment of test data:7\n",
            "/content/drive/MyDrive/Colab Notebooks/Thesis/voice recognition/dataset/194011.wav, segment of test data:8\n",
            "/content/drive/MyDrive/Colab Notebooks/Thesis/voice recognition/dataset/194011.wav, segment of test data:9\n",
            "/content/drive/MyDrive/Colab Notebooks/Thesis/voice recognition/dataset/194011.wav, segment of test data:10\n",
            "/content/drive/MyDrive/Colab Notebooks/Thesis/voice recognition/dataset/194011.wav, segment of test data:11\n",
            "/content/drive/MyDrive/Colab Notebooks/Thesis/voice recognition/dataset/194011.wav, segment of test data:12\n",
            "/content/drive/MyDrive/Colab Notebooks/Thesis/voice recognition/dataset/194011.wav, segment of test data:13\n",
            "/content/drive/MyDrive/Colab Notebooks/Thesis/voice recognition/dataset/194011.wav, segment of test data:14\n",
            "/content/drive/MyDrive/Colab Notebooks/Thesis/voice recognition/dataset/194011.wav, segment of test data:15\n",
            "/content/drive/MyDrive/Colab Notebooks/Thesis/voice recognition/dataset/194011.wav, segment of test data:16\n",
            "/content/drive/MyDrive/Colab Notebooks/Thesis/voice recognition/dataset/194011.wav, segment of test data:17\n",
            "/content/drive/MyDrive/Colab Notebooks/Thesis/voice recognition/dataset/194011.wav, segment of test data:18\n",
            "/content/drive/MyDrive/Colab Notebooks/Thesis/voice recognition/dataset/194011.wav, segment of test data:19\n",
            "/content/drive/MyDrive/Colab Notebooks/Thesis/voice recognition/dataset/194011.wav, segment of test data:20\n",
            "162064\n"
          ]
        },
        {
          "output_type": "stream",
          "name": "stderr",
          "text": [
            "/usr/local/lib/python3.7/dist-packages/librosa/core/audio.py:165: UserWarning: PySoundFile failed. Trying audioread instead.\n",
            "  warnings.warn(\"PySoundFile failed. Trying audioread instead.\")\n"
          ]
        },
        {
          "output_type": "stream",
          "name": "stdout",
          "text": [
            "/content/drive/MyDrive/Colab Notebooks/Thesis/voice recognition/dataset/162064.wav, segment of test data:1\n",
            "/content/drive/MyDrive/Colab Notebooks/Thesis/voice recognition/dataset/162064.wav, segment of test data:2\n",
            "/content/drive/MyDrive/Colab Notebooks/Thesis/voice recognition/dataset/162064.wav, segment of test data:3\n",
            "/content/drive/MyDrive/Colab Notebooks/Thesis/voice recognition/dataset/162064.wav, segment of test data:4\n",
            "/content/drive/MyDrive/Colab Notebooks/Thesis/voice recognition/dataset/162064.wav, segment of test data:5\n",
            "/content/drive/MyDrive/Colab Notebooks/Thesis/voice recognition/dataset/162064.wav, segment of test data:6\n",
            "/content/drive/MyDrive/Colab Notebooks/Thesis/voice recognition/dataset/162064.wav, segment of test data:7\n",
            "/content/drive/MyDrive/Colab Notebooks/Thesis/voice recognition/dataset/162064.wav, segment of test data:8\n",
            "/content/drive/MyDrive/Colab Notebooks/Thesis/voice recognition/dataset/162064.wav, segment of test data:9\n",
            "/content/drive/MyDrive/Colab Notebooks/Thesis/voice recognition/dataset/162064.wav, segment of test data:10\n",
            "/content/drive/MyDrive/Colab Notebooks/Thesis/voice recognition/dataset/162064.wav, segment of test data:11\n",
            "/content/drive/MyDrive/Colab Notebooks/Thesis/voice recognition/dataset/162064.wav, segment of test data:12\n",
            "/content/drive/MyDrive/Colab Notebooks/Thesis/voice recognition/dataset/162064.wav, segment of test data:13\n",
            "/content/drive/MyDrive/Colab Notebooks/Thesis/voice recognition/dataset/162064.wav, segment of test data:14\n",
            "/content/drive/MyDrive/Colab Notebooks/Thesis/voice recognition/dataset/162064.wav, segment of test data:15\n",
            "/content/drive/MyDrive/Colab Notebooks/Thesis/voice recognition/dataset/162064.wav, segment of test data:16\n",
            "/content/drive/MyDrive/Colab Notebooks/Thesis/voice recognition/dataset/162064.wav, segment of test data:17\n",
            "/content/drive/MyDrive/Colab Notebooks/Thesis/voice recognition/dataset/162064.wav, segment of test data:18\n",
            "/content/drive/MyDrive/Colab Notebooks/Thesis/voice recognition/dataset/162064.wav, segment of test data:19\n",
            "/content/drive/MyDrive/Colab Notebooks/Thesis/voice recognition/dataset/162064.wav, segment of test data:20\n",
            "192011\n"
          ]
        },
        {
          "output_type": "stream",
          "name": "stderr",
          "text": [
            "/usr/local/lib/python3.7/dist-packages/librosa/core/audio.py:165: UserWarning: PySoundFile failed. Trying audioread instead.\n",
            "  warnings.warn(\"PySoundFile failed. Trying audioread instead.\")\n"
          ]
        },
        {
          "output_type": "stream",
          "name": "stdout",
          "text": [
            "/content/drive/MyDrive/Colab Notebooks/Thesis/voice recognition/dataset/192011.wav, segment of test data:1\n",
            "/content/drive/MyDrive/Colab Notebooks/Thesis/voice recognition/dataset/192011.wav, segment of test data:2\n",
            "/content/drive/MyDrive/Colab Notebooks/Thesis/voice recognition/dataset/192011.wav, segment of test data:3\n",
            "/content/drive/MyDrive/Colab Notebooks/Thesis/voice recognition/dataset/192011.wav, segment of test data:4\n",
            "/content/drive/MyDrive/Colab Notebooks/Thesis/voice recognition/dataset/192011.wav, segment of test data:5\n",
            "/content/drive/MyDrive/Colab Notebooks/Thesis/voice recognition/dataset/192011.wav, segment of test data:6\n",
            "/content/drive/MyDrive/Colab Notebooks/Thesis/voice recognition/dataset/192011.wav, segment of test data:7\n",
            "/content/drive/MyDrive/Colab Notebooks/Thesis/voice recognition/dataset/192011.wav, segment of test data:8\n",
            "/content/drive/MyDrive/Colab Notebooks/Thesis/voice recognition/dataset/192011.wav, segment of test data:9\n",
            "/content/drive/MyDrive/Colab Notebooks/Thesis/voice recognition/dataset/192011.wav, segment of test data:10\n",
            "/content/drive/MyDrive/Colab Notebooks/Thesis/voice recognition/dataset/192011.wav, segment of test data:11\n",
            "/content/drive/MyDrive/Colab Notebooks/Thesis/voice recognition/dataset/192011.wav, segment of test data:12\n",
            "/content/drive/MyDrive/Colab Notebooks/Thesis/voice recognition/dataset/192011.wav, segment of test data:13\n",
            "/content/drive/MyDrive/Colab Notebooks/Thesis/voice recognition/dataset/192011.wav, segment of test data:14\n",
            "/content/drive/MyDrive/Colab Notebooks/Thesis/voice recognition/dataset/192011.wav, segment of test data:15\n",
            "/content/drive/MyDrive/Colab Notebooks/Thesis/voice recognition/dataset/192011.wav, segment of test data:16\n",
            "/content/drive/MyDrive/Colab Notebooks/Thesis/voice recognition/dataset/192011.wav, segment of test data:17\n",
            "/content/drive/MyDrive/Colab Notebooks/Thesis/voice recognition/dataset/192011.wav, segment of test data:18\n",
            "/content/drive/MyDrive/Colab Notebooks/Thesis/voice recognition/dataset/192011.wav, segment of test data:19\n",
            "/content/drive/MyDrive/Colab Notebooks/Thesis/voice recognition/dataset/192011.wav, segment of test data:20\n",
            "172029\n"
          ]
        },
        {
          "output_type": "stream",
          "name": "stderr",
          "text": [
            "/usr/local/lib/python3.7/dist-packages/librosa/core/audio.py:165: UserWarning: PySoundFile failed. Trying audioread instead.\n",
            "  warnings.warn(\"PySoundFile failed. Trying audioread instead.\")\n"
          ]
        },
        {
          "output_type": "stream",
          "name": "stdout",
          "text": [
            "/content/drive/MyDrive/Colab Notebooks/Thesis/voice recognition/dataset/172029.wav, segment of test data:1\n",
            "/content/drive/MyDrive/Colab Notebooks/Thesis/voice recognition/dataset/172029.wav, segment of test data:2\n",
            "/content/drive/MyDrive/Colab Notebooks/Thesis/voice recognition/dataset/172029.wav, segment of test data:3\n",
            "/content/drive/MyDrive/Colab Notebooks/Thesis/voice recognition/dataset/172029.wav, segment of test data:4\n",
            "/content/drive/MyDrive/Colab Notebooks/Thesis/voice recognition/dataset/172029.wav, segment of test data:5\n",
            "/content/drive/MyDrive/Colab Notebooks/Thesis/voice recognition/dataset/172029.wav, segment of test data:6\n",
            "/content/drive/MyDrive/Colab Notebooks/Thesis/voice recognition/dataset/172029.wav, segment of test data:7\n",
            "/content/drive/MyDrive/Colab Notebooks/Thesis/voice recognition/dataset/172029.wav, segment of test data:8\n",
            "/content/drive/MyDrive/Colab Notebooks/Thesis/voice recognition/dataset/172029.wav, segment of test data:9\n",
            "/content/drive/MyDrive/Colab Notebooks/Thesis/voice recognition/dataset/172029.wav, segment of test data:10\n",
            "/content/drive/MyDrive/Colab Notebooks/Thesis/voice recognition/dataset/172029.wav, segment of test data:11\n",
            "/content/drive/MyDrive/Colab Notebooks/Thesis/voice recognition/dataset/172029.wav, segment of test data:12\n",
            "/content/drive/MyDrive/Colab Notebooks/Thesis/voice recognition/dataset/172029.wav, segment of test data:13\n",
            "/content/drive/MyDrive/Colab Notebooks/Thesis/voice recognition/dataset/172029.wav, segment of test data:14\n",
            "/content/drive/MyDrive/Colab Notebooks/Thesis/voice recognition/dataset/172029.wav, segment of test data:15\n",
            "/content/drive/MyDrive/Colab Notebooks/Thesis/voice recognition/dataset/172029.wav, segment of test data:16\n",
            "/content/drive/MyDrive/Colab Notebooks/Thesis/voice recognition/dataset/172029.wav, segment of test data:17\n",
            "/content/drive/MyDrive/Colab Notebooks/Thesis/voice recognition/dataset/172029.wav, segment of test data:18\n",
            "/content/drive/MyDrive/Colab Notebooks/Thesis/voice recognition/dataset/172029.wav, segment of test data:19\n",
            "/content/drive/MyDrive/Colab Notebooks/Thesis/voice recognition/dataset/172029.wav, segment of test data:20\n",
            "164002\n",
            "/content/drive/MyDrive/Colab Notebooks/Thesis/voice recognition/dataset/164002.wav, segment of test data:1\n",
            "/content/drive/MyDrive/Colab Notebooks/Thesis/voice recognition/dataset/164002.wav, segment of test data:2\n",
            "/content/drive/MyDrive/Colab Notebooks/Thesis/voice recognition/dataset/164002.wav, segment of test data:3\n",
            "/content/drive/MyDrive/Colab Notebooks/Thesis/voice recognition/dataset/164002.wav, segment of test data:4\n",
            "/content/drive/MyDrive/Colab Notebooks/Thesis/voice recognition/dataset/164002.wav, segment of test data:5\n",
            "/content/drive/MyDrive/Colab Notebooks/Thesis/voice recognition/dataset/164002.wav, segment of test data:6\n",
            "/content/drive/MyDrive/Colab Notebooks/Thesis/voice recognition/dataset/164002.wav, segment of test data:7\n",
            "/content/drive/MyDrive/Colab Notebooks/Thesis/voice recognition/dataset/164002.wav, segment of test data:8\n",
            "/content/drive/MyDrive/Colab Notebooks/Thesis/voice recognition/dataset/164002.wav, segment of test data:9\n",
            "/content/drive/MyDrive/Colab Notebooks/Thesis/voice recognition/dataset/164002.wav, segment of test data:10\n",
            "/content/drive/MyDrive/Colab Notebooks/Thesis/voice recognition/dataset/164002.wav, segment of test data:11\n",
            "/content/drive/MyDrive/Colab Notebooks/Thesis/voice recognition/dataset/164002.wav, segment of test data:12\n",
            "/content/drive/MyDrive/Colab Notebooks/Thesis/voice recognition/dataset/164002.wav, segment of test data:13\n",
            "/content/drive/MyDrive/Colab Notebooks/Thesis/voice recognition/dataset/164002.wav, segment of test data:14\n",
            "/content/drive/MyDrive/Colab Notebooks/Thesis/voice recognition/dataset/164002.wav, segment of test data:15\n",
            "/content/drive/MyDrive/Colab Notebooks/Thesis/voice recognition/dataset/164002.wav, segment of test data:16\n",
            "/content/drive/MyDrive/Colab Notebooks/Thesis/voice recognition/dataset/164002.wav, segment of test data:17\n",
            "/content/drive/MyDrive/Colab Notebooks/Thesis/voice recognition/dataset/164002.wav, segment of test data:18\n",
            "/content/drive/MyDrive/Colab Notebooks/Thesis/voice recognition/dataset/164002.wav, segment of test data:19\n",
            "/content/drive/MyDrive/Colab Notebooks/Thesis/voice recognition/dataset/164002.wav, segment of test data:20\n",
            "162065\n"
          ]
        },
        {
          "output_type": "stream",
          "name": "stderr",
          "text": [
            "/usr/local/lib/python3.7/dist-packages/librosa/core/audio.py:165: UserWarning: PySoundFile failed. Trying audioread instead.\n",
            "  warnings.warn(\"PySoundFile failed. Trying audioread instead.\")\n"
          ]
        },
        {
          "output_type": "stream",
          "name": "stdout",
          "text": [
            "/content/drive/MyDrive/Colab Notebooks/Thesis/voice recognition/dataset/162065.wav, segment of test data:1\n",
            "/content/drive/MyDrive/Colab Notebooks/Thesis/voice recognition/dataset/162065.wav, segment of test data:2\n",
            "/content/drive/MyDrive/Colab Notebooks/Thesis/voice recognition/dataset/162065.wav, segment of test data:3\n",
            "/content/drive/MyDrive/Colab Notebooks/Thesis/voice recognition/dataset/162065.wav, segment of test data:4\n",
            "/content/drive/MyDrive/Colab Notebooks/Thesis/voice recognition/dataset/162065.wav, segment of test data:5\n",
            "/content/drive/MyDrive/Colab Notebooks/Thesis/voice recognition/dataset/162065.wav, segment of test data:6\n",
            "/content/drive/MyDrive/Colab Notebooks/Thesis/voice recognition/dataset/162065.wav, segment of test data:7\n",
            "/content/drive/MyDrive/Colab Notebooks/Thesis/voice recognition/dataset/162065.wav, segment of test data:8\n",
            "/content/drive/MyDrive/Colab Notebooks/Thesis/voice recognition/dataset/162065.wav, segment of test data:9\n",
            "/content/drive/MyDrive/Colab Notebooks/Thesis/voice recognition/dataset/162065.wav, segment of test data:10\n",
            "/content/drive/MyDrive/Colab Notebooks/Thesis/voice recognition/dataset/162065.wav, segment of test data:11\n",
            "/content/drive/MyDrive/Colab Notebooks/Thesis/voice recognition/dataset/162065.wav, segment of test data:12\n",
            "/content/drive/MyDrive/Colab Notebooks/Thesis/voice recognition/dataset/162065.wav, segment of test data:13\n",
            "/content/drive/MyDrive/Colab Notebooks/Thesis/voice recognition/dataset/162065.wav, segment of test data:14\n",
            "/content/drive/MyDrive/Colab Notebooks/Thesis/voice recognition/dataset/162065.wav, segment of test data:15\n",
            "/content/drive/MyDrive/Colab Notebooks/Thesis/voice recognition/dataset/162065.wav, segment of test data:16\n",
            "/content/drive/MyDrive/Colab Notebooks/Thesis/voice recognition/dataset/162065.wav, segment of test data:17\n",
            "/content/drive/MyDrive/Colab Notebooks/Thesis/voice recognition/dataset/162065.wav, segment of test data:18\n",
            "/content/drive/MyDrive/Colab Notebooks/Thesis/voice recognition/dataset/162065.wav, segment of test data:19\n",
            "/content/drive/MyDrive/Colab Notebooks/Thesis/voice recognition/dataset/162065.wav, segment of test data:20\n",
            "164006\n",
            "/content/drive/MyDrive/Colab Notebooks/Thesis/voice recognition/dataset/164006.wav, segment of test data:1\n",
            "/content/drive/MyDrive/Colab Notebooks/Thesis/voice recognition/dataset/164006.wav, segment of test data:2\n",
            "/content/drive/MyDrive/Colab Notebooks/Thesis/voice recognition/dataset/164006.wav, segment of test data:3\n",
            "/content/drive/MyDrive/Colab Notebooks/Thesis/voice recognition/dataset/164006.wav, segment of test data:4\n",
            "/content/drive/MyDrive/Colab Notebooks/Thesis/voice recognition/dataset/164006.wav, segment of test data:5\n",
            "/content/drive/MyDrive/Colab Notebooks/Thesis/voice recognition/dataset/164006.wav, segment of test data:6\n",
            "/content/drive/MyDrive/Colab Notebooks/Thesis/voice recognition/dataset/164006.wav, segment of test data:7\n",
            "/content/drive/MyDrive/Colab Notebooks/Thesis/voice recognition/dataset/164006.wav, segment of test data:8\n",
            "/content/drive/MyDrive/Colab Notebooks/Thesis/voice recognition/dataset/164006.wav, segment of test data:9\n",
            "/content/drive/MyDrive/Colab Notebooks/Thesis/voice recognition/dataset/164006.wav, segment of test data:10\n",
            "/content/drive/MyDrive/Colab Notebooks/Thesis/voice recognition/dataset/164006.wav, segment of test data:11\n",
            "/content/drive/MyDrive/Colab Notebooks/Thesis/voice recognition/dataset/164006.wav, segment of test data:12\n",
            "/content/drive/MyDrive/Colab Notebooks/Thesis/voice recognition/dataset/164006.wav, segment of test data:13\n",
            "/content/drive/MyDrive/Colab Notebooks/Thesis/voice recognition/dataset/164006.wav, segment of test data:14\n",
            "/content/drive/MyDrive/Colab Notebooks/Thesis/voice recognition/dataset/164006.wav, segment of test data:15\n",
            "/content/drive/MyDrive/Colab Notebooks/Thesis/voice recognition/dataset/164006.wav, segment of test data:16\n",
            "/content/drive/MyDrive/Colab Notebooks/Thesis/voice recognition/dataset/164006.wav, segment of test data:17\n",
            "/content/drive/MyDrive/Colab Notebooks/Thesis/voice recognition/dataset/164006.wav, segment of test data:18\n",
            "/content/drive/MyDrive/Colab Notebooks/Thesis/voice recognition/dataset/164006.wav, segment of test data:19\n",
            "/content/drive/MyDrive/Colab Notebooks/Thesis/voice recognition/dataset/164006.wav, segment of test data:20\n",
            "163031\n"
          ]
        },
        {
          "output_type": "stream",
          "name": "stderr",
          "text": [
            "/usr/local/lib/python3.7/dist-packages/librosa/core/audio.py:165: UserWarning: PySoundFile failed. Trying audioread instead.\n",
            "  warnings.warn(\"PySoundFile failed. Trying audioread instead.\")\n"
          ]
        },
        {
          "output_type": "stream",
          "name": "stdout",
          "text": [
            "/content/drive/MyDrive/Colab Notebooks/Thesis/voice recognition/dataset/163031.wav, segment of test data:1\n",
            "/content/drive/MyDrive/Colab Notebooks/Thesis/voice recognition/dataset/163031.wav, segment of test data:2\n",
            "/content/drive/MyDrive/Colab Notebooks/Thesis/voice recognition/dataset/163031.wav, segment of test data:3\n",
            "/content/drive/MyDrive/Colab Notebooks/Thesis/voice recognition/dataset/163031.wav, segment of test data:4\n",
            "/content/drive/MyDrive/Colab Notebooks/Thesis/voice recognition/dataset/163031.wav, segment of test data:5\n",
            "/content/drive/MyDrive/Colab Notebooks/Thesis/voice recognition/dataset/163031.wav, segment of test data:6\n",
            "/content/drive/MyDrive/Colab Notebooks/Thesis/voice recognition/dataset/163031.wav, segment of test data:7\n",
            "/content/drive/MyDrive/Colab Notebooks/Thesis/voice recognition/dataset/163031.wav, segment of test data:8\n",
            "/content/drive/MyDrive/Colab Notebooks/Thesis/voice recognition/dataset/163031.wav, segment of test data:9\n",
            "/content/drive/MyDrive/Colab Notebooks/Thesis/voice recognition/dataset/163031.wav, segment of test data:10\n",
            "/content/drive/MyDrive/Colab Notebooks/Thesis/voice recognition/dataset/163031.wav, segment of test data:11\n",
            "/content/drive/MyDrive/Colab Notebooks/Thesis/voice recognition/dataset/163031.wav, segment of test data:12\n",
            "/content/drive/MyDrive/Colab Notebooks/Thesis/voice recognition/dataset/163031.wav, segment of test data:13\n",
            "/content/drive/MyDrive/Colab Notebooks/Thesis/voice recognition/dataset/163031.wav, segment of test data:14\n",
            "/content/drive/MyDrive/Colab Notebooks/Thesis/voice recognition/dataset/163031.wav, segment of test data:15\n",
            "/content/drive/MyDrive/Colab Notebooks/Thesis/voice recognition/dataset/163031.wav, segment of test data:16\n",
            "/content/drive/MyDrive/Colab Notebooks/Thesis/voice recognition/dataset/163031.wav, segment of test data:17\n",
            "/content/drive/MyDrive/Colab Notebooks/Thesis/voice recognition/dataset/163031.wav, segment of test data:18\n",
            "/content/drive/MyDrive/Colab Notebooks/Thesis/voice recognition/dataset/163031.wav, segment of test data:19\n",
            "/content/drive/MyDrive/Colab Notebooks/Thesis/voice recognition/dataset/163031.wav, segment of test data:20\n",
            "164067\n",
            "/content/drive/MyDrive/Colab Notebooks/Thesis/voice recognition/dataset/164067.wav, segment of test data:1\n",
            "/content/drive/MyDrive/Colab Notebooks/Thesis/voice recognition/dataset/164067.wav, segment of test data:2\n",
            "/content/drive/MyDrive/Colab Notebooks/Thesis/voice recognition/dataset/164067.wav, segment of test data:3\n",
            "/content/drive/MyDrive/Colab Notebooks/Thesis/voice recognition/dataset/164067.wav, segment of test data:4\n",
            "/content/drive/MyDrive/Colab Notebooks/Thesis/voice recognition/dataset/164067.wav, segment of test data:5\n",
            "/content/drive/MyDrive/Colab Notebooks/Thesis/voice recognition/dataset/164067.wav, segment of test data:6\n",
            "/content/drive/MyDrive/Colab Notebooks/Thesis/voice recognition/dataset/164067.wav, segment of test data:7\n",
            "/content/drive/MyDrive/Colab Notebooks/Thesis/voice recognition/dataset/164067.wav, segment of test data:8\n",
            "/content/drive/MyDrive/Colab Notebooks/Thesis/voice recognition/dataset/164067.wav, segment of test data:9\n",
            "/content/drive/MyDrive/Colab Notebooks/Thesis/voice recognition/dataset/164067.wav, segment of test data:10\n",
            "/content/drive/MyDrive/Colab Notebooks/Thesis/voice recognition/dataset/164067.wav, segment of test data:11\n",
            "/content/drive/MyDrive/Colab Notebooks/Thesis/voice recognition/dataset/164067.wav, segment of test data:12\n",
            "/content/drive/MyDrive/Colab Notebooks/Thesis/voice recognition/dataset/164067.wav, segment of test data:13\n",
            "/content/drive/MyDrive/Colab Notebooks/Thesis/voice recognition/dataset/164067.wav, segment of test data:14\n",
            "/content/drive/MyDrive/Colab Notebooks/Thesis/voice recognition/dataset/164067.wav, segment of test data:15\n",
            "/content/drive/MyDrive/Colab Notebooks/Thesis/voice recognition/dataset/164067.wav, segment of test data:16\n",
            "/content/drive/MyDrive/Colab Notebooks/Thesis/voice recognition/dataset/164067.wav, segment of test data:17\n",
            "/content/drive/MyDrive/Colab Notebooks/Thesis/voice recognition/dataset/164067.wav, segment of test data:18\n",
            "/content/drive/MyDrive/Colab Notebooks/Thesis/voice recognition/dataset/164067.wav, segment of test data:19\n",
            "/content/drive/MyDrive/Colab Notebooks/Thesis/voice recognition/dataset/164067.wav, segment of test data:20\n",
            "162108\n"
          ]
        },
        {
          "output_type": "stream",
          "name": "stderr",
          "text": [
            "/usr/local/lib/python3.7/dist-packages/librosa/core/audio.py:165: UserWarning: PySoundFile failed. Trying audioread instead.\n",
            "  warnings.warn(\"PySoundFile failed. Trying audioread instead.\")\n"
          ]
        },
        {
          "output_type": "stream",
          "name": "stdout",
          "text": [
            "/content/drive/MyDrive/Colab Notebooks/Thesis/voice recognition/dataset/162108.wav, segment of test data:1\n",
            "/content/drive/MyDrive/Colab Notebooks/Thesis/voice recognition/dataset/162108.wav, segment of test data:2\n",
            "/content/drive/MyDrive/Colab Notebooks/Thesis/voice recognition/dataset/162108.wav, segment of test data:3\n",
            "/content/drive/MyDrive/Colab Notebooks/Thesis/voice recognition/dataset/162108.wav, segment of test data:4\n",
            "/content/drive/MyDrive/Colab Notebooks/Thesis/voice recognition/dataset/162108.wav, segment of test data:5\n",
            "/content/drive/MyDrive/Colab Notebooks/Thesis/voice recognition/dataset/162108.wav, segment of test data:6\n",
            "/content/drive/MyDrive/Colab Notebooks/Thesis/voice recognition/dataset/162108.wav, segment of test data:7\n",
            "/content/drive/MyDrive/Colab Notebooks/Thesis/voice recognition/dataset/162108.wav, segment of test data:8\n",
            "/content/drive/MyDrive/Colab Notebooks/Thesis/voice recognition/dataset/162108.wav, segment of test data:9\n",
            "/content/drive/MyDrive/Colab Notebooks/Thesis/voice recognition/dataset/162108.wav, segment of test data:10\n",
            "/content/drive/MyDrive/Colab Notebooks/Thesis/voice recognition/dataset/162108.wav, segment of test data:11\n",
            "/content/drive/MyDrive/Colab Notebooks/Thesis/voice recognition/dataset/162108.wav, segment of test data:12\n",
            "/content/drive/MyDrive/Colab Notebooks/Thesis/voice recognition/dataset/162108.wav, segment of test data:13\n",
            "/content/drive/MyDrive/Colab Notebooks/Thesis/voice recognition/dataset/162108.wav, segment of test data:14\n",
            "/content/drive/MyDrive/Colab Notebooks/Thesis/voice recognition/dataset/162108.wav, segment of test data:15\n",
            "/content/drive/MyDrive/Colab Notebooks/Thesis/voice recognition/dataset/162108.wav, segment of test data:16\n",
            "/content/drive/MyDrive/Colab Notebooks/Thesis/voice recognition/dataset/162108.wav, segment of test data:17\n",
            "/content/drive/MyDrive/Colab Notebooks/Thesis/voice recognition/dataset/162108.wav, segment of test data:18\n",
            "/content/drive/MyDrive/Colab Notebooks/Thesis/voice recognition/dataset/162108.wav, segment of test data:19\n",
            "/content/drive/MyDrive/Colab Notebooks/Thesis/voice recognition/dataset/162108.wav, segment of test data:20\n",
            "163047\n"
          ]
        },
        {
          "output_type": "stream",
          "name": "stderr",
          "text": [
            "/usr/local/lib/python3.7/dist-packages/librosa/core/audio.py:165: UserWarning: PySoundFile failed. Trying audioread instead.\n",
            "  warnings.warn(\"PySoundFile failed. Trying audioread instead.\")\n"
          ]
        },
        {
          "output_type": "stream",
          "name": "stdout",
          "text": [
            "/content/drive/MyDrive/Colab Notebooks/Thesis/voice recognition/dataset/163047.wav, segment of test data:1\n",
            "/content/drive/MyDrive/Colab Notebooks/Thesis/voice recognition/dataset/163047.wav, segment of test data:2\n",
            "/content/drive/MyDrive/Colab Notebooks/Thesis/voice recognition/dataset/163047.wav, segment of test data:3\n",
            "/content/drive/MyDrive/Colab Notebooks/Thesis/voice recognition/dataset/163047.wav, segment of test data:4\n",
            "/content/drive/MyDrive/Colab Notebooks/Thesis/voice recognition/dataset/163047.wav, segment of test data:5\n",
            "/content/drive/MyDrive/Colab Notebooks/Thesis/voice recognition/dataset/163047.wav, segment of test data:6\n",
            "/content/drive/MyDrive/Colab Notebooks/Thesis/voice recognition/dataset/163047.wav, segment of test data:7\n",
            "/content/drive/MyDrive/Colab Notebooks/Thesis/voice recognition/dataset/163047.wav, segment of test data:8\n",
            "/content/drive/MyDrive/Colab Notebooks/Thesis/voice recognition/dataset/163047.wav, segment of test data:9\n",
            "/content/drive/MyDrive/Colab Notebooks/Thesis/voice recognition/dataset/163047.wav, segment of test data:10\n",
            "/content/drive/MyDrive/Colab Notebooks/Thesis/voice recognition/dataset/163047.wav, segment of test data:11\n",
            "/content/drive/MyDrive/Colab Notebooks/Thesis/voice recognition/dataset/163047.wav, segment of test data:12\n",
            "/content/drive/MyDrive/Colab Notebooks/Thesis/voice recognition/dataset/163047.wav, segment of test data:13\n",
            "/content/drive/MyDrive/Colab Notebooks/Thesis/voice recognition/dataset/163047.wav, segment of test data:14\n",
            "/content/drive/MyDrive/Colab Notebooks/Thesis/voice recognition/dataset/163047.wav, segment of test data:15\n",
            "/content/drive/MyDrive/Colab Notebooks/Thesis/voice recognition/dataset/163047.wav, segment of test data:16\n",
            "/content/drive/MyDrive/Colab Notebooks/Thesis/voice recognition/dataset/163047.wav, segment of test data:17\n",
            "/content/drive/MyDrive/Colab Notebooks/Thesis/voice recognition/dataset/163047.wav, segment of test data:18\n",
            "/content/drive/MyDrive/Colab Notebooks/Thesis/voice recognition/dataset/163047.wav, segment of test data:19\n",
            "/content/drive/MyDrive/Colab Notebooks/Thesis/voice recognition/dataset/163047.wav, segment of test data:20\n",
            "164113\n",
            "/content/drive/MyDrive/Colab Notebooks/Thesis/voice recognition/dataset/164113.wav, segment of test data:1\n",
            "/content/drive/MyDrive/Colab Notebooks/Thesis/voice recognition/dataset/164113.wav, segment of test data:2\n",
            "/content/drive/MyDrive/Colab Notebooks/Thesis/voice recognition/dataset/164113.wav, segment of test data:3\n",
            "/content/drive/MyDrive/Colab Notebooks/Thesis/voice recognition/dataset/164113.wav, segment of test data:4\n",
            "/content/drive/MyDrive/Colab Notebooks/Thesis/voice recognition/dataset/164113.wav, segment of test data:5\n",
            "/content/drive/MyDrive/Colab Notebooks/Thesis/voice recognition/dataset/164113.wav, segment of test data:6\n",
            "/content/drive/MyDrive/Colab Notebooks/Thesis/voice recognition/dataset/164113.wav, segment of test data:7\n",
            "/content/drive/MyDrive/Colab Notebooks/Thesis/voice recognition/dataset/164113.wav, segment of test data:8\n",
            "/content/drive/MyDrive/Colab Notebooks/Thesis/voice recognition/dataset/164113.wav, segment of test data:9\n",
            "/content/drive/MyDrive/Colab Notebooks/Thesis/voice recognition/dataset/164113.wav, segment of test data:10\n",
            "/content/drive/MyDrive/Colab Notebooks/Thesis/voice recognition/dataset/164113.wav, segment of test data:11\n",
            "/content/drive/MyDrive/Colab Notebooks/Thesis/voice recognition/dataset/164113.wav, segment of test data:12\n",
            "/content/drive/MyDrive/Colab Notebooks/Thesis/voice recognition/dataset/164113.wav, segment of test data:13\n",
            "/content/drive/MyDrive/Colab Notebooks/Thesis/voice recognition/dataset/164113.wav, segment of test data:14\n",
            "/content/drive/MyDrive/Colab Notebooks/Thesis/voice recognition/dataset/164113.wav, segment of test data:15\n",
            "/content/drive/MyDrive/Colab Notebooks/Thesis/voice recognition/dataset/164113.wav, segment of test data:16\n",
            "/content/drive/MyDrive/Colab Notebooks/Thesis/voice recognition/dataset/164113.wav, segment of test data:17\n",
            "/content/drive/MyDrive/Colab Notebooks/Thesis/voice recognition/dataset/164113.wav, segment of test data:18\n",
            "/content/drive/MyDrive/Colab Notebooks/Thesis/voice recognition/dataset/164113.wav, segment of test data:19\n",
            "/content/drive/MyDrive/Colab Notebooks/Thesis/voice recognition/dataset/164113.wav, segment of test data:20\n",
            "164088\n",
            "/content/drive/MyDrive/Colab Notebooks/Thesis/voice recognition/dataset/164088.wav, segment of test data:1\n",
            "/content/drive/MyDrive/Colab Notebooks/Thesis/voice recognition/dataset/164088.wav, segment of test data:2\n",
            "/content/drive/MyDrive/Colab Notebooks/Thesis/voice recognition/dataset/164088.wav, segment of test data:3\n",
            "/content/drive/MyDrive/Colab Notebooks/Thesis/voice recognition/dataset/164088.wav, segment of test data:4\n",
            "/content/drive/MyDrive/Colab Notebooks/Thesis/voice recognition/dataset/164088.wav, segment of test data:5\n",
            "/content/drive/MyDrive/Colab Notebooks/Thesis/voice recognition/dataset/164088.wav, segment of test data:6\n",
            "/content/drive/MyDrive/Colab Notebooks/Thesis/voice recognition/dataset/164088.wav, segment of test data:7\n",
            "/content/drive/MyDrive/Colab Notebooks/Thesis/voice recognition/dataset/164088.wav, segment of test data:8\n",
            "/content/drive/MyDrive/Colab Notebooks/Thesis/voice recognition/dataset/164088.wav, segment of test data:9\n",
            "/content/drive/MyDrive/Colab Notebooks/Thesis/voice recognition/dataset/164088.wav, segment of test data:10\n",
            "/content/drive/MyDrive/Colab Notebooks/Thesis/voice recognition/dataset/164088.wav, segment of test data:11\n",
            "/content/drive/MyDrive/Colab Notebooks/Thesis/voice recognition/dataset/164088.wav, segment of test data:12\n",
            "/content/drive/MyDrive/Colab Notebooks/Thesis/voice recognition/dataset/164088.wav, segment of test data:13\n",
            "/content/drive/MyDrive/Colab Notebooks/Thesis/voice recognition/dataset/164088.wav, segment of test data:14\n",
            "/content/drive/MyDrive/Colab Notebooks/Thesis/voice recognition/dataset/164088.wav, segment of test data:15\n",
            "/content/drive/MyDrive/Colab Notebooks/Thesis/voice recognition/dataset/164088.wav, segment of test data:16\n",
            "/content/drive/MyDrive/Colab Notebooks/Thesis/voice recognition/dataset/164088.wav, segment of test data:17\n",
            "/content/drive/MyDrive/Colab Notebooks/Thesis/voice recognition/dataset/164088.wav, segment of test data:18\n",
            "/content/drive/MyDrive/Colab Notebooks/Thesis/voice recognition/dataset/164088.wav, segment of test data:19\n",
            "/content/drive/MyDrive/Colab Notebooks/Thesis/voice recognition/dataset/164088.wav, segment of test data:20\n",
            "165005\n",
            "/content/drive/MyDrive/Colab Notebooks/Thesis/voice recognition/dataset/165005.wav, segment of test data:1\n",
            "/content/drive/MyDrive/Colab Notebooks/Thesis/voice recognition/dataset/165005.wav, segment of test data:2\n",
            "/content/drive/MyDrive/Colab Notebooks/Thesis/voice recognition/dataset/165005.wav, segment of test data:3\n",
            "/content/drive/MyDrive/Colab Notebooks/Thesis/voice recognition/dataset/165005.wav, segment of test data:4\n",
            "/content/drive/MyDrive/Colab Notebooks/Thesis/voice recognition/dataset/165005.wav, segment of test data:5\n",
            "/content/drive/MyDrive/Colab Notebooks/Thesis/voice recognition/dataset/165005.wav, segment of test data:6\n",
            "/content/drive/MyDrive/Colab Notebooks/Thesis/voice recognition/dataset/165005.wav, segment of test data:7\n",
            "/content/drive/MyDrive/Colab Notebooks/Thesis/voice recognition/dataset/165005.wav, segment of test data:8\n",
            "/content/drive/MyDrive/Colab Notebooks/Thesis/voice recognition/dataset/165005.wav, segment of test data:9\n",
            "/content/drive/MyDrive/Colab Notebooks/Thesis/voice recognition/dataset/165005.wav, segment of test data:10\n",
            "/content/drive/MyDrive/Colab Notebooks/Thesis/voice recognition/dataset/165005.wav, segment of test data:11\n",
            "/content/drive/MyDrive/Colab Notebooks/Thesis/voice recognition/dataset/165005.wav, segment of test data:12\n",
            "/content/drive/MyDrive/Colab Notebooks/Thesis/voice recognition/dataset/165005.wav, segment of test data:13\n",
            "/content/drive/MyDrive/Colab Notebooks/Thesis/voice recognition/dataset/165005.wav, segment of test data:14\n",
            "/content/drive/MyDrive/Colab Notebooks/Thesis/voice recognition/dataset/165005.wav, segment of test data:15\n",
            "/content/drive/MyDrive/Colab Notebooks/Thesis/voice recognition/dataset/165005.wav, segment of test data:16\n",
            "/content/drive/MyDrive/Colab Notebooks/Thesis/voice recognition/dataset/165005.wav, segment of test data:17\n",
            "/content/drive/MyDrive/Colab Notebooks/Thesis/voice recognition/dataset/165005.wav, segment of test data:18\n",
            "/content/drive/MyDrive/Colab Notebooks/Thesis/voice recognition/dataset/165005.wav, segment of test data:19\n",
            "/content/drive/MyDrive/Colab Notebooks/Thesis/voice recognition/dataset/165005.wav, segment of test data:20\n",
            "161091\n",
            "/content/drive/MyDrive/Colab Notebooks/Thesis/voice recognition/dataset/161091.wav, segment of test data:1\n",
            "/content/drive/MyDrive/Colab Notebooks/Thesis/voice recognition/dataset/161091.wav, segment of test data:2\n",
            "/content/drive/MyDrive/Colab Notebooks/Thesis/voice recognition/dataset/161091.wav, segment of test data:3\n",
            "/content/drive/MyDrive/Colab Notebooks/Thesis/voice recognition/dataset/161091.wav, segment of test data:4\n",
            "/content/drive/MyDrive/Colab Notebooks/Thesis/voice recognition/dataset/161091.wav, segment of test data:5\n",
            "/content/drive/MyDrive/Colab Notebooks/Thesis/voice recognition/dataset/161091.wav, segment of test data:6\n",
            "/content/drive/MyDrive/Colab Notebooks/Thesis/voice recognition/dataset/161091.wav, segment of test data:7\n",
            "/content/drive/MyDrive/Colab Notebooks/Thesis/voice recognition/dataset/161091.wav, segment of test data:8\n",
            "/content/drive/MyDrive/Colab Notebooks/Thesis/voice recognition/dataset/161091.wav, segment of test data:9\n",
            "/content/drive/MyDrive/Colab Notebooks/Thesis/voice recognition/dataset/161091.wav, segment of test data:10\n",
            "/content/drive/MyDrive/Colab Notebooks/Thesis/voice recognition/dataset/161091.wav, segment of test data:11\n",
            "/content/drive/MyDrive/Colab Notebooks/Thesis/voice recognition/dataset/161091.wav, segment of test data:12\n",
            "/content/drive/MyDrive/Colab Notebooks/Thesis/voice recognition/dataset/161091.wav, segment of test data:13\n",
            "/content/drive/MyDrive/Colab Notebooks/Thesis/voice recognition/dataset/161091.wav, segment of test data:14\n",
            "/content/drive/MyDrive/Colab Notebooks/Thesis/voice recognition/dataset/161091.wav, segment of test data:15\n",
            "/content/drive/MyDrive/Colab Notebooks/Thesis/voice recognition/dataset/161091.wav, segment of test data:16\n",
            "/content/drive/MyDrive/Colab Notebooks/Thesis/voice recognition/dataset/161091.wav, segment of test data:17\n",
            "/content/drive/MyDrive/Colab Notebooks/Thesis/voice recognition/dataset/161091.wav, segment of test data:18\n",
            "/content/drive/MyDrive/Colab Notebooks/Thesis/voice recognition/dataset/161091.wav, segment of test data:19\n",
            "/content/drive/MyDrive/Colab Notebooks/Thesis/voice recognition/dataset/161091.wav, segment of test data:20\n",
            "165046\n",
            "/content/drive/MyDrive/Colab Notebooks/Thesis/voice recognition/dataset/165046.wav, segment of test data:1\n",
            "/content/drive/MyDrive/Colab Notebooks/Thesis/voice recognition/dataset/165046.wav, segment of test data:2\n",
            "/content/drive/MyDrive/Colab Notebooks/Thesis/voice recognition/dataset/165046.wav, segment of test data:3\n",
            "/content/drive/MyDrive/Colab Notebooks/Thesis/voice recognition/dataset/165046.wav, segment of test data:4\n",
            "/content/drive/MyDrive/Colab Notebooks/Thesis/voice recognition/dataset/165046.wav, segment of test data:5\n",
            "/content/drive/MyDrive/Colab Notebooks/Thesis/voice recognition/dataset/165046.wav, segment of test data:6\n",
            "/content/drive/MyDrive/Colab Notebooks/Thesis/voice recognition/dataset/165046.wav, segment of test data:7\n",
            "/content/drive/MyDrive/Colab Notebooks/Thesis/voice recognition/dataset/165046.wav, segment of test data:8\n",
            "/content/drive/MyDrive/Colab Notebooks/Thesis/voice recognition/dataset/165046.wav, segment of test data:9\n",
            "/content/drive/MyDrive/Colab Notebooks/Thesis/voice recognition/dataset/165046.wav, segment of test data:10\n",
            "/content/drive/MyDrive/Colab Notebooks/Thesis/voice recognition/dataset/165046.wav, segment of test data:11\n",
            "/content/drive/MyDrive/Colab Notebooks/Thesis/voice recognition/dataset/165046.wav, segment of test data:12\n",
            "/content/drive/MyDrive/Colab Notebooks/Thesis/voice recognition/dataset/165046.wav, segment of test data:13\n",
            "/content/drive/MyDrive/Colab Notebooks/Thesis/voice recognition/dataset/165046.wav, segment of test data:14\n",
            "/content/drive/MyDrive/Colab Notebooks/Thesis/voice recognition/dataset/165046.wav, segment of test data:15\n",
            "/content/drive/MyDrive/Colab Notebooks/Thesis/voice recognition/dataset/165046.wav, segment of test data:16\n",
            "/content/drive/MyDrive/Colab Notebooks/Thesis/voice recognition/dataset/165046.wav, segment of test data:17\n",
            "/content/drive/MyDrive/Colab Notebooks/Thesis/voice recognition/dataset/165046.wav, segment of test data:18\n",
            "/content/drive/MyDrive/Colab Notebooks/Thesis/voice recognition/dataset/165046.wav, segment of test data:19\n",
            "/content/drive/MyDrive/Colab Notebooks/Thesis/voice recognition/dataset/165046.wav, segment of test data:20\n",
            "204110\n"
          ]
        },
        {
          "output_type": "stream",
          "name": "stderr",
          "text": [
            "/usr/local/lib/python3.7/dist-packages/librosa/core/audio.py:165: UserWarning: PySoundFile failed. Trying audioread instead.\n",
            "  warnings.warn(\"PySoundFile failed. Trying audioread instead.\")\n"
          ]
        },
        {
          "output_type": "stream",
          "name": "stdout",
          "text": [
            "/content/drive/MyDrive/Colab Notebooks/Thesis/voice recognition/dataset/204110.wav, segment of test data:1\n",
            "/content/drive/MyDrive/Colab Notebooks/Thesis/voice recognition/dataset/204110.wav, segment of test data:2\n",
            "/content/drive/MyDrive/Colab Notebooks/Thesis/voice recognition/dataset/204110.wav, segment of test data:3\n",
            "/content/drive/MyDrive/Colab Notebooks/Thesis/voice recognition/dataset/204110.wav, segment of test data:4\n",
            "/content/drive/MyDrive/Colab Notebooks/Thesis/voice recognition/dataset/204110.wav, segment of test data:5\n",
            "/content/drive/MyDrive/Colab Notebooks/Thesis/voice recognition/dataset/204110.wav, segment of test data:6\n",
            "/content/drive/MyDrive/Colab Notebooks/Thesis/voice recognition/dataset/204110.wav, segment of test data:7\n",
            "/content/drive/MyDrive/Colab Notebooks/Thesis/voice recognition/dataset/204110.wav, segment of test data:8\n",
            "/content/drive/MyDrive/Colab Notebooks/Thesis/voice recognition/dataset/204110.wav, segment of test data:9\n",
            "/content/drive/MyDrive/Colab Notebooks/Thesis/voice recognition/dataset/204110.wav, segment of test data:10\n",
            "/content/drive/MyDrive/Colab Notebooks/Thesis/voice recognition/dataset/204110.wav, segment of test data:11\n",
            "/content/drive/MyDrive/Colab Notebooks/Thesis/voice recognition/dataset/204110.wav, segment of test data:12\n",
            "/content/drive/MyDrive/Colab Notebooks/Thesis/voice recognition/dataset/204110.wav, segment of test data:13\n",
            "/content/drive/MyDrive/Colab Notebooks/Thesis/voice recognition/dataset/204110.wav, segment of test data:14\n",
            "/content/drive/MyDrive/Colab Notebooks/Thesis/voice recognition/dataset/204110.wav, segment of test data:15\n",
            "/content/drive/MyDrive/Colab Notebooks/Thesis/voice recognition/dataset/204110.wav, segment of test data:16\n",
            "/content/drive/MyDrive/Colab Notebooks/Thesis/voice recognition/dataset/204110.wav, segment of test data:17\n",
            "/content/drive/MyDrive/Colab Notebooks/Thesis/voice recognition/dataset/204110.wav, segment of test data:18\n",
            "/content/drive/MyDrive/Colab Notebooks/Thesis/voice recognition/dataset/204110.wav, segment of test data:19\n",
            "/content/drive/MyDrive/Colab Notebooks/Thesis/voice recognition/dataset/204110.wav, segment of test data:20\n",
            "194061\n"
          ]
        },
        {
          "output_type": "stream",
          "name": "stderr",
          "text": [
            "/usr/local/lib/python3.7/dist-packages/librosa/core/audio.py:165: UserWarning: PySoundFile failed. Trying audioread instead.\n",
            "  warnings.warn(\"PySoundFile failed. Trying audioread instead.\")\n"
          ]
        },
        {
          "output_type": "stream",
          "name": "stdout",
          "text": [
            "/content/drive/MyDrive/Colab Notebooks/Thesis/voice recognition/dataset/194061.wav, segment of test data:1\n",
            "/content/drive/MyDrive/Colab Notebooks/Thesis/voice recognition/dataset/194061.wav, segment of test data:2\n",
            "/content/drive/MyDrive/Colab Notebooks/Thesis/voice recognition/dataset/194061.wav, segment of test data:3\n",
            "/content/drive/MyDrive/Colab Notebooks/Thesis/voice recognition/dataset/194061.wav, segment of test data:4\n",
            "/content/drive/MyDrive/Colab Notebooks/Thesis/voice recognition/dataset/194061.wav, segment of test data:5\n",
            "/content/drive/MyDrive/Colab Notebooks/Thesis/voice recognition/dataset/194061.wav, segment of test data:6\n",
            "/content/drive/MyDrive/Colab Notebooks/Thesis/voice recognition/dataset/194061.wav, segment of test data:7\n",
            "/content/drive/MyDrive/Colab Notebooks/Thesis/voice recognition/dataset/194061.wav, segment of test data:8\n",
            "/content/drive/MyDrive/Colab Notebooks/Thesis/voice recognition/dataset/194061.wav, segment of test data:9\n",
            "/content/drive/MyDrive/Colab Notebooks/Thesis/voice recognition/dataset/194061.wav, segment of test data:10\n",
            "/content/drive/MyDrive/Colab Notebooks/Thesis/voice recognition/dataset/194061.wav, segment of test data:11\n",
            "/content/drive/MyDrive/Colab Notebooks/Thesis/voice recognition/dataset/194061.wav, segment of test data:12\n",
            "/content/drive/MyDrive/Colab Notebooks/Thesis/voice recognition/dataset/194061.wav, segment of test data:13\n",
            "/content/drive/MyDrive/Colab Notebooks/Thesis/voice recognition/dataset/194061.wav, segment of test data:14\n",
            "/content/drive/MyDrive/Colab Notebooks/Thesis/voice recognition/dataset/194061.wav, segment of test data:15\n",
            "/content/drive/MyDrive/Colab Notebooks/Thesis/voice recognition/dataset/194061.wav, segment of test data:16\n",
            "/content/drive/MyDrive/Colab Notebooks/Thesis/voice recognition/dataset/194061.wav, segment of test data:17\n",
            "/content/drive/MyDrive/Colab Notebooks/Thesis/voice recognition/dataset/194061.wav, segment of test data:18\n",
            "/content/drive/MyDrive/Colab Notebooks/Thesis/voice recognition/dataset/194061.wav, segment of test data:19\n",
            "/content/drive/MyDrive/Colab Notebooks/Thesis/voice recognition/dataset/194061.wav, segment of test data:20\n",
            "173099\n"
          ]
        },
        {
          "output_type": "stream",
          "name": "stderr",
          "text": [
            "/usr/local/lib/python3.7/dist-packages/librosa/core/audio.py:165: UserWarning: PySoundFile failed. Trying audioread instead.\n",
            "  warnings.warn(\"PySoundFile failed. Trying audioread instead.\")\n"
          ]
        },
        {
          "output_type": "stream",
          "name": "stdout",
          "text": [
            "/content/drive/MyDrive/Colab Notebooks/Thesis/voice recognition/dataset/173099.wav, segment of test data:1\n",
            "/content/drive/MyDrive/Colab Notebooks/Thesis/voice recognition/dataset/173099.wav, segment of test data:2\n",
            "/content/drive/MyDrive/Colab Notebooks/Thesis/voice recognition/dataset/173099.wav, segment of test data:3\n",
            "/content/drive/MyDrive/Colab Notebooks/Thesis/voice recognition/dataset/173099.wav, segment of test data:4\n",
            "/content/drive/MyDrive/Colab Notebooks/Thesis/voice recognition/dataset/173099.wav, segment of test data:5\n",
            "/content/drive/MyDrive/Colab Notebooks/Thesis/voice recognition/dataset/173099.wav, segment of test data:6\n",
            "/content/drive/MyDrive/Colab Notebooks/Thesis/voice recognition/dataset/173099.wav, segment of test data:7\n",
            "/content/drive/MyDrive/Colab Notebooks/Thesis/voice recognition/dataset/173099.wav, segment of test data:8\n",
            "/content/drive/MyDrive/Colab Notebooks/Thesis/voice recognition/dataset/173099.wav, segment of test data:9\n",
            "/content/drive/MyDrive/Colab Notebooks/Thesis/voice recognition/dataset/173099.wav, segment of test data:10\n",
            "/content/drive/MyDrive/Colab Notebooks/Thesis/voice recognition/dataset/173099.wav, segment of test data:11\n",
            "/content/drive/MyDrive/Colab Notebooks/Thesis/voice recognition/dataset/173099.wav, segment of test data:12\n",
            "/content/drive/MyDrive/Colab Notebooks/Thesis/voice recognition/dataset/173099.wav, segment of test data:13\n",
            "/content/drive/MyDrive/Colab Notebooks/Thesis/voice recognition/dataset/173099.wav, segment of test data:14\n",
            "/content/drive/MyDrive/Colab Notebooks/Thesis/voice recognition/dataset/173099.wav, segment of test data:15\n",
            "/content/drive/MyDrive/Colab Notebooks/Thesis/voice recognition/dataset/173099.wav, segment of test data:16\n",
            "/content/drive/MyDrive/Colab Notebooks/Thesis/voice recognition/dataset/173099.wav, segment of test data:17\n",
            "/content/drive/MyDrive/Colab Notebooks/Thesis/voice recognition/dataset/173099.wav, segment of test data:18\n",
            "/content/drive/MyDrive/Colab Notebooks/Thesis/voice recognition/dataset/173099.wav, segment of test data:19\n",
            "/content/drive/MyDrive/Colab Notebooks/Thesis/voice recognition/dataset/173099.wav, segment of test data:20\n",
            "164011\n",
            "/content/drive/MyDrive/Colab Notebooks/Thesis/voice recognition/dataset/164011.wav, segment of test data:1\n",
            "/content/drive/MyDrive/Colab Notebooks/Thesis/voice recognition/dataset/164011.wav, segment of test data:2\n",
            "/content/drive/MyDrive/Colab Notebooks/Thesis/voice recognition/dataset/164011.wav, segment of test data:3\n",
            "/content/drive/MyDrive/Colab Notebooks/Thesis/voice recognition/dataset/164011.wav, segment of test data:4\n",
            "/content/drive/MyDrive/Colab Notebooks/Thesis/voice recognition/dataset/164011.wav, segment of test data:5\n",
            "/content/drive/MyDrive/Colab Notebooks/Thesis/voice recognition/dataset/164011.wav, segment of test data:6\n",
            "/content/drive/MyDrive/Colab Notebooks/Thesis/voice recognition/dataset/164011.wav, segment of test data:7\n",
            "/content/drive/MyDrive/Colab Notebooks/Thesis/voice recognition/dataset/164011.wav, segment of test data:8\n",
            "/content/drive/MyDrive/Colab Notebooks/Thesis/voice recognition/dataset/164011.wav, segment of test data:9\n",
            "/content/drive/MyDrive/Colab Notebooks/Thesis/voice recognition/dataset/164011.wav, segment of test data:10\n",
            "/content/drive/MyDrive/Colab Notebooks/Thesis/voice recognition/dataset/164011.wav, segment of test data:11\n",
            "/content/drive/MyDrive/Colab Notebooks/Thesis/voice recognition/dataset/164011.wav, segment of test data:12\n",
            "/content/drive/MyDrive/Colab Notebooks/Thesis/voice recognition/dataset/164011.wav, segment of test data:13\n",
            "/content/drive/MyDrive/Colab Notebooks/Thesis/voice recognition/dataset/164011.wav, segment of test data:14\n",
            "/content/drive/MyDrive/Colab Notebooks/Thesis/voice recognition/dataset/164011.wav, segment of test data:15\n",
            "/content/drive/MyDrive/Colab Notebooks/Thesis/voice recognition/dataset/164011.wav, segment of test data:16\n",
            "/content/drive/MyDrive/Colab Notebooks/Thesis/voice recognition/dataset/164011.wav, segment of test data:17\n",
            "/content/drive/MyDrive/Colab Notebooks/Thesis/voice recognition/dataset/164011.wav, segment of test data:18\n",
            "/content/drive/MyDrive/Colab Notebooks/Thesis/voice recognition/dataset/164011.wav, segment of test data:19\n",
            "/content/drive/MyDrive/Colab Notebooks/Thesis/voice recognition/dataset/164011.wav, segment of test data:20\n",
            "174038\n"
          ]
        },
        {
          "output_type": "stream",
          "name": "stderr",
          "text": [
            "/usr/local/lib/python3.7/dist-packages/librosa/core/audio.py:165: UserWarning: PySoundFile failed. Trying audioread instead.\n",
            "  warnings.warn(\"PySoundFile failed. Trying audioread instead.\")\n"
          ]
        },
        {
          "output_type": "stream",
          "name": "stdout",
          "text": [
            "/content/drive/MyDrive/Colab Notebooks/Thesis/voice recognition/dataset/174038.wav, segment of test data:1\n",
            "/content/drive/MyDrive/Colab Notebooks/Thesis/voice recognition/dataset/174038.wav, segment of test data:2\n",
            "/content/drive/MyDrive/Colab Notebooks/Thesis/voice recognition/dataset/174038.wav, segment of test data:3\n",
            "/content/drive/MyDrive/Colab Notebooks/Thesis/voice recognition/dataset/174038.wav, segment of test data:4\n",
            "/content/drive/MyDrive/Colab Notebooks/Thesis/voice recognition/dataset/174038.wav, segment of test data:5\n",
            "/content/drive/MyDrive/Colab Notebooks/Thesis/voice recognition/dataset/174038.wav, segment of test data:6\n",
            "/content/drive/MyDrive/Colab Notebooks/Thesis/voice recognition/dataset/174038.wav, segment of test data:7\n",
            "/content/drive/MyDrive/Colab Notebooks/Thesis/voice recognition/dataset/174038.wav, segment of test data:8\n",
            "/content/drive/MyDrive/Colab Notebooks/Thesis/voice recognition/dataset/174038.wav, segment of test data:9\n",
            "/content/drive/MyDrive/Colab Notebooks/Thesis/voice recognition/dataset/174038.wav, segment of test data:10\n",
            "/content/drive/MyDrive/Colab Notebooks/Thesis/voice recognition/dataset/174038.wav, segment of test data:11\n",
            "/content/drive/MyDrive/Colab Notebooks/Thesis/voice recognition/dataset/174038.wav, segment of test data:12\n",
            "/content/drive/MyDrive/Colab Notebooks/Thesis/voice recognition/dataset/174038.wav, segment of test data:13\n",
            "/content/drive/MyDrive/Colab Notebooks/Thesis/voice recognition/dataset/174038.wav, segment of test data:14\n",
            "/content/drive/MyDrive/Colab Notebooks/Thesis/voice recognition/dataset/174038.wav, segment of test data:15\n",
            "/content/drive/MyDrive/Colab Notebooks/Thesis/voice recognition/dataset/174038.wav, segment of test data:16\n",
            "/content/drive/MyDrive/Colab Notebooks/Thesis/voice recognition/dataset/174038.wav, segment of test data:17\n",
            "/content/drive/MyDrive/Colab Notebooks/Thesis/voice recognition/dataset/174038.wav, segment of test data:18\n",
            "/content/drive/MyDrive/Colab Notebooks/Thesis/voice recognition/dataset/174038.wav, segment of test data:19\n",
            "/content/drive/MyDrive/Colab Notebooks/Thesis/voice recognition/dataset/174038.wav, segment of test data:20\n",
            "164045\n",
            "/content/drive/MyDrive/Colab Notebooks/Thesis/voice recognition/dataset/164045.wav, segment of test data:1\n",
            "/content/drive/MyDrive/Colab Notebooks/Thesis/voice recognition/dataset/164045.wav, segment of test data:2\n",
            "/content/drive/MyDrive/Colab Notebooks/Thesis/voice recognition/dataset/164045.wav, segment of test data:3\n",
            "/content/drive/MyDrive/Colab Notebooks/Thesis/voice recognition/dataset/164045.wav, segment of test data:4\n",
            "/content/drive/MyDrive/Colab Notebooks/Thesis/voice recognition/dataset/164045.wav, segment of test data:5\n",
            "/content/drive/MyDrive/Colab Notebooks/Thesis/voice recognition/dataset/164045.wav, segment of test data:6\n",
            "/content/drive/MyDrive/Colab Notebooks/Thesis/voice recognition/dataset/164045.wav, segment of test data:7\n",
            "/content/drive/MyDrive/Colab Notebooks/Thesis/voice recognition/dataset/164045.wav, segment of test data:8\n",
            "/content/drive/MyDrive/Colab Notebooks/Thesis/voice recognition/dataset/164045.wav, segment of test data:9\n",
            "/content/drive/MyDrive/Colab Notebooks/Thesis/voice recognition/dataset/164045.wav, segment of test data:10\n",
            "/content/drive/MyDrive/Colab Notebooks/Thesis/voice recognition/dataset/164045.wav, segment of test data:11\n",
            "/content/drive/MyDrive/Colab Notebooks/Thesis/voice recognition/dataset/164045.wav, segment of test data:12\n",
            "/content/drive/MyDrive/Colab Notebooks/Thesis/voice recognition/dataset/164045.wav, segment of test data:13\n",
            "/content/drive/MyDrive/Colab Notebooks/Thesis/voice recognition/dataset/164045.wav, segment of test data:14\n",
            "/content/drive/MyDrive/Colab Notebooks/Thesis/voice recognition/dataset/164045.wav, segment of test data:15\n",
            "/content/drive/MyDrive/Colab Notebooks/Thesis/voice recognition/dataset/164045.wav, segment of test data:16\n",
            "/content/drive/MyDrive/Colab Notebooks/Thesis/voice recognition/dataset/164045.wav, segment of test data:17\n",
            "/content/drive/MyDrive/Colab Notebooks/Thesis/voice recognition/dataset/164045.wav, segment of test data:18\n",
            "/content/drive/MyDrive/Colab Notebooks/Thesis/voice recognition/dataset/164045.wav, segment of test data:19\n",
            "/content/drive/MyDrive/Colab Notebooks/Thesis/voice recognition/dataset/164045.wav, segment of test data:20\n",
            "193086\n"
          ]
        },
        {
          "output_type": "stream",
          "name": "stderr",
          "text": [
            "/usr/local/lib/python3.7/dist-packages/librosa/core/audio.py:165: UserWarning: PySoundFile failed. Trying audioread instead.\n",
            "  warnings.warn(\"PySoundFile failed. Trying audioread instead.\")\n"
          ]
        },
        {
          "output_type": "stream",
          "name": "stdout",
          "text": [
            "/content/drive/MyDrive/Colab Notebooks/Thesis/voice recognition/dataset/193086.wav, segment of test data:1\n",
            "/content/drive/MyDrive/Colab Notebooks/Thesis/voice recognition/dataset/193086.wav, segment of test data:2\n",
            "/content/drive/MyDrive/Colab Notebooks/Thesis/voice recognition/dataset/193086.wav, segment of test data:3\n",
            "/content/drive/MyDrive/Colab Notebooks/Thesis/voice recognition/dataset/193086.wav, segment of test data:4\n",
            "/content/drive/MyDrive/Colab Notebooks/Thesis/voice recognition/dataset/193086.wav, segment of test data:5\n",
            "/content/drive/MyDrive/Colab Notebooks/Thesis/voice recognition/dataset/193086.wav, segment of test data:6\n",
            "/content/drive/MyDrive/Colab Notebooks/Thesis/voice recognition/dataset/193086.wav, segment of test data:7\n",
            "/content/drive/MyDrive/Colab Notebooks/Thesis/voice recognition/dataset/193086.wav, segment of test data:8\n",
            "/content/drive/MyDrive/Colab Notebooks/Thesis/voice recognition/dataset/193086.wav, segment of test data:9\n",
            "/content/drive/MyDrive/Colab Notebooks/Thesis/voice recognition/dataset/193086.wav, segment of test data:10\n",
            "/content/drive/MyDrive/Colab Notebooks/Thesis/voice recognition/dataset/193086.wav, segment of test data:11\n",
            "/content/drive/MyDrive/Colab Notebooks/Thesis/voice recognition/dataset/193086.wav, segment of test data:12\n",
            "/content/drive/MyDrive/Colab Notebooks/Thesis/voice recognition/dataset/193086.wav, segment of test data:13\n",
            "/content/drive/MyDrive/Colab Notebooks/Thesis/voice recognition/dataset/193086.wav, segment of test data:14\n",
            "/content/drive/MyDrive/Colab Notebooks/Thesis/voice recognition/dataset/193086.wav, segment of test data:15\n",
            "/content/drive/MyDrive/Colab Notebooks/Thesis/voice recognition/dataset/193086.wav, segment of test data:16\n",
            "/content/drive/MyDrive/Colab Notebooks/Thesis/voice recognition/dataset/193086.wav, segment of test data:17\n",
            "/content/drive/MyDrive/Colab Notebooks/Thesis/voice recognition/dataset/193086.wav, segment of test data:18\n",
            "/content/drive/MyDrive/Colab Notebooks/Thesis/voice recognition/dataset/193086.wav, segment of test data:19\n",
            "/content/drive/MyDrive/Colab Notebooks/Thesis/voice recognition/dataset/193086.wav, segment of test data:20\n",
            "209012\n"
          ]
        },
        {
          "output_type": "stream",
          "name": "stderr",
          "text": [
            "/usr/local/lib/python3.7/dist-packages/librosa/core/audio.py:165: UserWarning: PySoundFile failed. Trying audioread instead.\n",
            "  warnings.warn(\"PySoundFile failed. Trying audioread instead.\")\n"
          ]
        },
        {
          "output_type": "stream",
          "name": "stdout",
          "text": [
            "/content/drive/MyDrive/Colab Notebooks/Thesis/voice recognition/dataset/209012.wav, segment of test data:1\n",
            "/content/drive/MyDrive/Colab Notebooks/Thesis/voice recognition/dataset/209012.wav, segment of test data:2\n",
            "/content/drive/MyDrive/Colab Notebooks/Thesis/voice recognition/dataset/209012.wav, segment of test data:3\n",
            "/content/drive/MyDrive/Colab Notebooks/Thesis/voice recognition/dataset/209012.wav, segment of test data:4\n",
            "/content/drive/MyDrive/Colab Notebooks/Thesis/voice recognition/dataset/209012.wav, segment of test data:5\n",
            "/content/drive/MyDrive/Colab Notebooks/Thesis/voice recognition/dataset/209012.wav, segment of test data:6\n",
            "/content/drive/MyDrive/Colab Notebooks/Thesis/voice recognition/dataset/209012.wav, segment of test data:7\n",
            "/content/drive/MyDrive/Colab Notebooks/Thesis/voice recognition/dataset/209012.wav, segment of test data:8\n",
            "/content/drive/MyDrive/Colab Notebooks/Thesis/voice recognition/dataset/209012.wav, segment of test data:9\n",
            "/content/drive/MyDrive/Colab Notebooks/Thesis/voice recognition/dataset/209012.wav, segment of test data:10\n",
            "/content/drive/MyDrive/Colab Notebooks/Thesis/voice recognition/dataset/209012.wav, segment of test data:11\n",
            "/content/drive/MyDrive/Colab Notebooks/Thesis/voice recognition/dataset/209012.wav, segment of test data:12\n",
            "/content/drive/MyDrive/Colab Notebooks/Thesis/voice recognition/dataset/209012.wav, segment of test data:13\n",
            "/content/drive/MyDrive/Colab Notebooks/Thesis/voice recognition/dataset/209012.wav, segment of test data:14\n",
            "/content/drive/MyDrive/Colab Notebooks/Thesis/voice recognition/dataset/209012.wav, segment of test data:15\n",
            "/content/drive/MyDrive/Colab Notebooks/Thesis/voice recognition/dataset/209012.wav, segment of test data:16\n",
            "/content/drive/MyDrive/Colab Notebooks/Thesis/voice recognition/dataset/209012.wav, segment of test data:17\n",
            "/content/drive/MyDrive/Colab Notebooks/Thesis/voice recognition/dataset/209012.wav, segment of test data:18\n",
            "/content/drive/MyDrive/Colab Notebooks/Thesis/voice recognition/dataset/209012.wav, segment of test data:19\n",
            "/content/drive/MyDrive/Colab Notebooks/Thesis/voice recognition/dataset/209012.wav, segment of test data:20\n",
            "164108\n",
            "/content/drive/MyDrive/Colab Notebooks/Thesis/voice recognition/dataset/164108.wav, segment of test data:1\n",
            "/content/drive/MyDrive/Colab Notebooks/Thesis/voice recognition/dataset/164108.wav, segment of test data:2\n",
            "/content/drive/MyDrive/Colab Notebooks/Thesis/voice recognition/dataset/164108.wav, segment of test data:3\n",
            "/content/drive/MyDrive/Colab Notebooks/Thesis/voice recognition/dataset/164108.wav, segment of test data:4\n",
            "/content/drive/MyDrive/Colab Notebooks/Thesis/voice recognition/dataset/164108.wav, segment of test data:5\n",
            "/content/drive/MyDrive/Colab Notebooks/Thesis/voice recognition/dataset/164108.wav, segment of test data:6\n",
            "/content/drive/MyDrive/Colab Notebooks/Thesis/voice recognition/dataset/164108.wav, segment of test data:7\n",
            "/content/drive/MyDrive/Colab Notebooks/Thesis/voice recognition/dataset/164108.wav, segment of test data:8\n",
            "/content/drive/MyDrive/Colab Notebooks/Thesis/voice recognition/dataset/164108.wav, segment of test data:9\n",
            "/content/drive/MyDrive/Colab Notebooks/Thesis/voice recognition/dataset/164108.wav, segment of test data:10\n",
            "/content/drive/MyDrive/Colab Notebooks/Thesis/voice recognition/dataset/164108.wav, segment of test data:11\n",
            "/content/drive/MyDrive/Colab Notebooks/Thesis/voice recognition/dataset/164108.wav, segment of test data:12\n",
            "/content/drive/MyDrive/Colab Notebooks/Thesis/voice recognition/dataset/164108.wav, segment of test data:13\n",
            "/content/drive/MyDrive/Colab Notebooks/Thesis/voice recognition/dataset/164108.wav, segment of test data:14\n",
            "/content/drive/MyDrive/Colab Notebooks/Thesis/voice recognition/dataset/164108.wav, segment of test data:15\n",
            "/content/drive/MyDrive/Colab Notebooks/Thesis/voice recognition/dataset/164108.wav, segment of test data:16\n",
            "/content/drive/MyDrive/Colab Notebooks/Thesis/voice recognition/dataset/164108.wav, segment of test data:17\n",
            "/content/drive/MyDrive/Colab Notebooks/Thesis/voice recognition/dataset/164108.wav, segment of test data:18\n",
            "/content/drive/MyDrive/Colab Notebooks/Thesis/voice recognition/dataset/164108.wav, segment of test data:19\n",
            "/content/drive/MyDrive/Colab Notebooks/Thesis/voice recognition/dataset/164108.wav, segment of test data:20\n",
            "164025\n"
          ]
        },
        {
          "output_type": "stream",
          "name": "stderr",
          "text": [
            "/usr/local/lib/python3.7/dist-packages/librosa/core/audio.py:165: UserWarning: PySoundFile failed. Trying audioread instead.\n",
            "  warnings.warn(\"PySoundFile failed. Trying audioread instead.\")\n"
          ]
        },
        {
          "output_type": "stream",
          "name": "stdout",
          "text": [
            "/content/drive/MyDrive/Colab Notebooks/Thesis/voice recognition/dataset/164025.wav, segment of test data:1\n",
            "/content/drive/MyDrive/Colab Notebooks/Thesis/voice recognition/dataset/164025.wav, segment of test data:2\n",
            "/content/drive/MyDrive/Colab Notebooks/Thesis/voice recognition/dataset/164025.wav, segment of test data:3\n",
            "/content/drive/MyDrive/Colab Notebooks/Thesis/voice recognition/dataset/164025.wav, segment of test data:4\n",
            "/content/drive/MyDrive/Colab Notebooks/Thesis/voice recognition/dataset/164025.wav, segment of test data:5\n",
            "/content/drive/MyDrive/Colab Notebooks/Thesis/voice recognition/dataset/164025.wav, segment of test data:6\n",
            "/content/drive/MyDrive/Colab Notebooks/Thesis/voice recognition/dataset/164025.wav, segment of test data:7\n",
            "/content/drive/MyDrive/Colab Notebooks/Thesis/voice recognition/dataset/164025.wav, segment of test data:8\n",
            "/content/drive/MyDrive/Colab Notebooks/Thesis/voice recognition/dataset/164025.wav, segment of test data:9\n",
            "/content/drive/MyDrive/Colab Notebooks/Thesis/voice recognition/dataset/164025.wav, segment of test data:10\n",
            "/content/drive/MyDrive/Colab Notebooks/Thesis/voice recognition/dataset/164025.wav, segment of test data:11\n",
            "/content/drive/MyDrive/Colab Notebooks/Thesis/voice recognition/dataset/164025.wav, segment of test data:12\n",
            "/content/drive/MyDrive/Colab Notebooks/Thesis/voice recognition/dataset/164025.wav, segment of test data:13\n",
            "/content/drive/MyDrive/Colab Notebooks/Thesis/voice recognition/dataset/164025.wav, segment of test data:14\n",
            "/content/drive/MyDrive/Colab Notebooks/Thesis/voice recognition/dataset/164025.wav, segment of test data:15\n",
            "/content/drive/MyDrive/Colab Notebooks/Thesis/voice recognition/dataset/164025.wav, segment of test data:16\n",
            "/content/drive/MyDrive/Colab Notebooks/Thesis/voice recognition/dataset/164025.wav, segment of test data:17\n",
            "/content/drive/MyDrive/Colab Notebooks/Thesis/voice recognition/dataset/164025.wav, segment of test data:18\n",
            "/content/drive/MyDrive/Colab Notebooks/Thesis/voice recognition/dataset/164025.wav, segment of test data:19\n",
            "/content/drive/MyDrive/Colab Notebooks/Thesis/voice recognition/dataset/164025.wav, segment of test data:20\n",
            "174077\n",
            "/content/drive/MyDrive/Colab Notebooks/Thesis/voice recognition/dataset/174077.wav, segment of test data:1\n",
            "/content/drive/MyDrive/Colab Notebooks/Thesis/voice recognition/dataset/174077.wav, segment of test data:2\n",
            "/content/drive/MyDrive/Colab Notebooks/Thesis/voice recognition/dataset/174077.wav, segment of test data:3\n",
            "/content/drive/MyDrive/Colab Notebooks/Thesis/voice recognition/dataset/174077.wav, segment of test data:4\n",
            "/content/drive/MyDrive/Colab Notebooks/Thesis/voice recognition/dataset/174077.wav, segment of test data:5\n",
            "/content/drive/MyDrive/Colab Notebooks/Thesis/voice recognition/dataset/174077.wav, segment of test data:6\n",
            "/content/drive/MyDrive/Colab Notebooks/Thesis/voice recognition/dataset/174077.wav, segment of test data:7\n",
            "/content/drive/MyDrive/Colab Notebooks/Thesis/voice recognition/dataset/174077.wav, segment of test data:8\n",
            "/content/drive/MyDrive/Colab Notebooks/Thesis/voice recognition/dataset/174077.wav, segment of test data:9\n",
            "/content/drive/MyDrive/Colab Notebooks/Thesis/voice recognition/dataset/174077.wav, segment of test data:10\n",
            "/content/drive/MyDrive/Colab Notebooks/Thesis/voice recognition/dataset/174077.wav, segment of test data:11\n",
            "/content/drive/MyDrive/Colab Notebooks/Thesis/voice recognition/dataset/174077.wav, segment of test data:12\n",
            "/content/drive/MyDrive/Colab Notebooks/Thesis/voice recognition/dataset/174077.wav, segment of test data:13\n",
            "/content/drive/MyDrive/Colab Notebooks/Thesis/voice recognition/dataset/174077.wav, segment of test data:14\n",
            "/content/drive/MyDrive/Colab Notebooks/Thesis/voice recognition/dataset/174077.wav, segment of test data:15\n",
            "/content/drive/MyDrive/Colab Notebooks/Thesis/voice recognition/dataset/174077.wav, segment of test data:16\n",
            "/content/drive/MyDrive/Colab Notebooks/Thesis/voice recognition/dataset/174077.wav, segment of test data:17\n",
            "/content/drive/MyDrive/Colab Notebooks/Thesis/voice recognition/dataset/174077.wav, segment of test data:18\n",
            "/content/drive/MyDrive/Colab Notebooks/Thesis/voice recognition/dataset/174077.wav, segment of test data:19\n",
            "/content/drive/MyDrive/Colab Notebooks/Thesis/voice recognition/dataset/174077.wav, segment of test data:20\n",
            "162105\n"
          ]
        },
        {
          "output_type": "stream",
          "name": "stderr",
          "text": [
            "/usr/local/lib/python3.7/dist-packages/librosa/core/audio.py:165: UserWarning: PySoundFile failed. Trying audioread instead.\n",
            "  warnings.warn(\"PySoundFile failed. Trying audioread instead.\")\n"
          ]
        },
        {
          "output_type": "stream",
          "name": "stdout",
          "text": [
            "/content/drive/MyDrive/Colab Notebooks/Thesis/voice recognition/dataset/162105.wav, segment of test data:1\n",
            "/content/drive/MyDrive/Colab Notebooks/Thesis/voice recognition/dataset/162105.wav, segment of test data:2\n",
            "/content/drive/MyDrive/Colab Notebooks/Thesis/voice recognition/dataset/162105.wav, segment of test data:3\n",
            "/content/drive/MyDrive/Colab Notebooks/Thesis/voice recognition/dataset/162105.wav, segment of test data:4\n",
            "/content/drive/MyDrive/Colab Notebooks/Thesis/voice recognition/dataset/162105.wav, segment of test data:5\n",
            "/content/drive/MyDrive/Colab Notebooks/Thesis/voice recognition/dataset/162105.wav, segment of test data:6\n",
            "/content/drive/MyDrive/Colab Notebooks/Thesis/voice recognition/dataset/162105.wav, segment of test data:7\n",
            "/content/drive/MyDrive/Colab Notebooks/Thesis/voice recognition/dataset/162105.wav, segment of test data:8\n",
            "/content/drive/MyDrive/Colab Notebooks/Thesis/voice recognition/dataset/162105.wav, segment of test data:9\n",
            "/content/drive/MyDrive/Colab Notebooks/Thesis/voice recognition/dataset/162105.wav, segment of test data:10\n",
            "/content/drive/MyDrive/Colab Notebooks/Thesis/voice recognition/dataset/162105.wav, segment of test data:11\n",
            "/content/drive/MyDrive/Colab Notebooks/Thesis/voice recognition/dataset/162105.wav, segment of test data:12\n",
            "/content/drive/MyDrive/Colab Notebooks/Thesis/voice recognition/dataset/162105.wav, segment of test data:13\n",
            "/content/drive/MyDrive/Colab Notebooks/Thesis/voice recognition/dataset/162105.wav, segment of test data:14\n",
            "/content/drive/MyDrive/Colab Notebooks/Thesis/voice recognition/dataset/162105.wav, segment of test data:15\n",
            "/content/drive/MyDrive/Colab Notebooks/Thesis/voice recognition/dataset/162105.wav, segment of test data:16\n",
            "/content/drive/MyDrive/Colab Notebooks/Thesis/voice recognition/dataset/162105.wav, segment of test data:17\n",
            "/content/drive/MyDrive/Colab Notebooks/Thesis/voice recognition/dataset/162105.wav, segment of test data:18\n",
            "/content/drive/MyDrive/Colab Notebooks/Thesis/voice recognition/dataset/162105.wav, segment of test data:19\n",
            "/content/drive/MyDrive/Colab Notebooks/Thesis/voice recognition/dataset/162105.wav, segment of test data:20\n",
            "164101\n"
          ]
        },
        {
          "output_type": "stream",
          "name": "stderr",
          "text": [
            "/usr/local/lib/python3.7/dist-packages/librosa/core/audio.py:165: UserWarning: PySoundFile failed. Trying audioread instead.\n",
            "  warnings.warn(\"PySoundFile failed. Trying audioread instead.\")\n"
          ]
        },
        {
          "output_type": "stream",
          "name": "stdout",
          "text": [
            "/content/drive/MyDrive/Colab Notebooks/Thesis/voice recognition/dataset/164101.wav, segment of test data:1\n",
            "/content/drive/MyDrive/Colab Notebooks/Thesis/voice recognition/dataset/164101.wav, segment of test data:2\n",
            "/content/drive/MyDrive/Colab Notebooks/Thesis/voice recognition/dataset/164101.wav, segment of test data:3\n",
            "/content/drive/MyDrive/Colab Notebooks/Thesis/voice recognition/dataset/164101.wav, segment of test data:4\n",
            "/content/drive/MyDrive/Colab Notebooks/Thesis/voice recognition/dataset/164101.wav, segment of test data:5\n",
            "/content/drive/MyDrive/Colab Notebooks/Thesis/voice recognition/dataset/164101.wav, segment of test data:6\n",
            "/content/drive/MyDrive/Colab Notebooks/Thesis/voice recognition/dataset/164101.wav, segment of test data:7\n",
            "/content/drive/MyDrive/Colab Notebooks/Thesis/voice recognition/dataset/164101.wav, segment of test data:8\n",
            "/content/drive/MyDrive/Colab Notebooks/Thesis/voice recognition/dataset/164101.wav, segment of test data:9\n",
            "/content/drive/MyDrive/Colab Notebooks/Thesis/voice recognition/dataset/164101.wav, segment of test data:10\n",
            "/content/drive/MyDrive/Colab Notebooks/Thesis/voice recognition/dataset/164101.wav, segment of test data:11\n",
            "/content/drive/MyDrive/Colab Notebooks/Thesis/voice recognition/dataset/164101.wav, segment of test data:12\n",
            "/content/drive/MyDrive/Colab Notebooks/Thesis/voice recognition/dataset/164101.wav, segment of test data:13\n",
            "/content/drive/MyDrive/Colab Notebooks/Thesis/voice recognition/dataset/164101.wav, segment of test data:14\n",
            "/content/drive/MyDrive/Colab Notebooks/Thesis/voice recognition/dataset/164101.wav, segment of test data:15\n",
            "/content/drive/MyDrive/Colab Notebooks/Thesis/voice recognition/dataset/164101.wav, segment of test data:16\n",
            "/content/drive/MyDrive/Colab Notebooks/Thesis/voice recognition/dataset/164101.wav, segment of test data:17\n",
            "/content/drive/MyDrive/Colab Notebooks/Thesis/voice recognition/dataset/164101.wav, segment of test data:18\n",
            "/content/drive/MyDrive/Colab Notebooks/Thesis/voice recognition/dataset/164101.wav, segment of test data:19\n",
            "/content/drive/MyDrive/Colab Notebooks/Thesis/voice recognition/dataset/164101.wav, segment of test data:20\n",
            "165022\n",
            "/content/drive/MyDrive/Colab Notebooks/Thesis/voice recognition/dataset/165022.wav, segment of test data:1\n",
            "/content/drive/MyDrive/Colab Notebooks/Thesis/voice recognition/dataset/165022.wav, segment of test data:2\n",
            "/content/drive/MyDrive/Colab Notebooks/Thesis/voice recognition/dataset/165022.wav, segment of test data:3\n",
            "/content/drive/MyDrive/Colab Notebooks/Thesis/voice recognition/dataset/165022.wav, segment of test data:4\n",
            "/content/drive/MyDrive/Colab Notebooks/Thesis/voice recognition/dataset/165022.wav, segment of test data:5\n",
            "/content/drive/MyDrive/Colab Notebooks/Thesis/voice recognition/dataset/165022.wav, segment of test data:6\n",
            "/content/drive/MyDrive/Colab Notebooks/Thesis/voice recognition/dataset/165022.wav, segment of test data:7\n",
            "/content/drive/MyDrive/Colab Notebooks/Thesis/voice recognition/dataset/165022.wav, segment of test data:8\n",
            "/content/drive/MyDrive/Colab Notebooks/Thesis/voice recognition/dataset/165022.wav, segment of test data:9\n",
            "/content/drive/MyDrive/Colab Notebooks/Thesis/voice recognition/dataset/165022.wav, segment of test data:10\n",
            "/content/drive/MyDrive/Colab Notebooks/Thesis/voice recognition/dataset/165022.wav, segment of test data:11\n",
            "/content/drive/MyDrive/Colab Notebooks/Thesis/voice recognition/dataset/165022.wav, segment of test data:12\n",
            "/content/drive/MyDrive/Colab Notebooks/Thesis/voice recognition/dataset/165022.wav, segment of test data:13\n",
            "/content/drive/MyDrive/Colab Notebooks/Thesis/voice recognition/dataset/165022.wav, segment of test data:14\n",
            "/content/drive/MyDrive/Colab Notebooks/Thesis/voice recognition/dataset/165022.wav, segment of test data:15\n",
            "/content/drive/MyDrive/Colab Notebooks/Thesis/voice recognition/dataset/165022.wav, segment of test data:16\n",
            "/content/drive/MyDrive/Colab Notebooks/Thesis/voice recognition/dataset/165022.wav, segment of test data:17\n",
            "/content/drive/MyDrive/Colab Notebooks/Thesis/voice recognition/dataset/165022.wav, segment of test data:18\n",
            "/content/drive/MyDrive/Colab Notebooks/Thesis/voice recognition/dataset/165022.wav, segment of test data:19\n",
            "/content/drive/MyDrive/Colab Notebooks/Thesis/voice recognition/dataset/165022.wav, segment of test data:20\n",
            "174045\n"
          ]
        },
        {
          "output_type": "stream",
          "name": "stderr",
          "text": [
            "/usr/local/lib/python3.7/dist-packages/librosa/core/audio.py:165: UserWarning: PySoundFile failed. Trying audioread instead.\n",
            "  warnings.warn(\"PySoundFile failed. Trying audioread instead.\")\n"
          ]
        },
        {
          "output_type": "stream",
          "name": "stdout",
          "text": [
            "/content/drive/MyDrive/Colab Notebooks/Thesis/voice recognition/dataset/174045.wav, segment of test data:1\n",
            "/content/drive/MyDrive/Colab Notebooks/Thesis/voice recognition/dataset/174045.wav, segment of test data:2\n",
            "/content/drive/MyDrive/Colab Notebooks/Thesis/voice recognition/dataset/174045.wav, segment of test data:3\n",
            "/content/drive/MyDrive/Colab Notebooks/Thesis/voice recognition/dataset/174045.wav, segment of test data:4\n",
            "/content/drive/MyDrive/Colab Notebooks/Thesis/voice recognition/dataset/174045.wav, segment of test data:5\n",
            "/content/drive/MyDrive/Colab Notebooks/Thesis/voice recognition/dataset/174045.wav, segment of test data:6\n",
            "/content/drive/MyDrive/Colab Notebooks/Thesis/voice recognition/dataset/174045.wav, segment of test data:7\n",
            "/content/drive/MyDrive/Colab Notebooks/Thesis/voice recognition/dataset/174045.wav, segment of test data:8\n",
            "/content/drive/MyDrive/Colab Notebooks/Thesis/voice recognition/dataset/174045.wav, segment of test data:9\n",
            "/content/drive/MyDrive/Colab Notebooks/Thesis/voice recognition/dataset/174045.wav, segment of test data:10\n",
            "/content/drive/MyDrive/Colab Notebooks/Thesis/voice recognition/dataset/174045.wav, segment of test data:11\n",
            "/content/drive/MyDrive/Colab Notebooks/Thesis/voice recognition/dataset/174045.wav, segment of test data:12\n",
            "/content/drive/MyDrive/Colab Notebooks/Thesis/voice recognition/dataset/174045.wav, segment of test data:13\n",
            "/content/drive/MyDrive/Colab Notebooks/Thesis/voice recognition/dataset/174045.wav, segment of test data:14\n",
            "/content/drive/MyDrive/Colab Notebooks/Thesis/voice recognition/dataset/174045.wav, segment of test data:15\n",
            "/content/drive/MyDrive/Colab Notebooks/Thesis/voice recognition/dataset/174045.wav, segment of test data:16\n",
            "/content/drive/MyDrive/Colab Notebooks/Thesis/voice recognition/dataset/174045.wav, segment of test data:17\n",
            "/content/drive/MyDrive/Colab Notebooks/Thesis/voice recognition/dataset/174045.wav, segment of test data:18\n",
            "/content/drive/MyDrive/Colab Notebooks/Thesis/voice recognition/dataset/174045.wav, segment of test data:19\n",
            "/content/drive/MyDrive/Colab Notebooks/Thesis/voice recognition/dataset/174045.wav, segment of test data:20\n",
            "164086\n"
          ]
        },
        {
          "output_type": "stream",
          "name": "stderr",
          "text": [
            "/usr/local/lib/python3.7/dist-packages/librosa/core/audio.py:165: UserWarning: PySoundFile failed. Trying audioread instead.\n",
            "  warnings.warn(\"PySoundFile failed. Trying audioread instead.\")\n"
          ]
        },
        {
          "output_type": "stream",
          "name": "stdout",
          "text": [
            "/content/drive/MyDrive/Colab Notebooks/Thesis/voice recognition/dataset/164086.wav, segment of test data:1\n",
            "/content/drive/MyDrive/Colab Notebooks/Thesis/voice recognition/dataset/164086.wav, segment of test data:2\n",
            "/content/drive/MyDrive/Colab Notebooks/Thesis/voice recognition/dataset/164086.wav, segment of test data:3\n",
            "/content/drive/MyDrive/Colab Notebooks/Thesis/voice recognition/dataset/164086.wav, segment of test data:4\n",
            "/content/drive/MyDrive/Colab Notebooks/Thesis/voice recognition/dataset/164086.wav, segment of test data:5\n",
            "/content/drive/MyDrive/Colab Notebooks/Thesis/voice recognition/dataset/164086.wav, segment of test data:6\n",
            "/content/drive/MyDrive/Colab Notebooks/Thesis/voice recognition/dataset/164086.wav, segment of test data:7\n",
            "/content/drive/MyDrive/Colab Notebooks/Thesis/voice recognition/dataset/164086.wav, segment of test data:8\n",
            "/content/drive/MyDrive/Colab Notebooks/Thesis/voice recognition/dataset/164086.wav, segment of test data:9\n",
            "/content/drive/MyDrive/Colab Notebooks/Thesis/voice recognition/dataset/164086.wav, segment of test data:10\n",
            "/content/drive/MyDrive/Colab Notebooks/Thesis/voice recognition/dataset/164086.wav, segment of test data:11\n",
            "/content/drive/MyDrive/Colab Notebooks/Thesis/voice recognition/dataset/164086.wav, segment of test data:12\n",
            "/content/drive/MyDrive/Colab Notebooks/Thesis/voice recognition/dataset/164086.wav, segment of test data:13\n",
            "/content/drive/MyDrive/Colab Notebooks/Thesis/voice recognition/dataset/164086.wav, segment of test data:14\n",
            "/content/drive/MyDrive/Colab Notebooks/Thesis/voice recognition/dataset/164086.wav, segment of test data:15\n",
            "/content/drive/MyDrive/Colab Notebooks/Thesis/voice recognition/dataset/164086.wav, segment of test data:16\n",
            "/content/drive/MyDrive/Colab Notebooks/Thesis/voice recognition/dataset/164086.wav, segment of test data:17\n",
            "/content/drive/MyDrive/Colab Notebooks/Thesis/voice recognition/dataset/164086.wav, segment of test data:18\n",
            "/content/drive/MyDrive/Colab Notebooks/Thesis/voice recognition/dataset/164086.wav, segment of test data:19\n",
            "/content/drive/MyDrive/Colab Notebooks/Thesis/voice recognition/dataset/164086.wav, segment of test data:20\n",
            "164109\n"
          ]
        },
        {
          "output_type": "stream",
          "name": "stderr",
          "text": [
            "/usr/local/lib/python3.7/dist-packages/librosa/core/audio.py:165: UserWarning: PySoundFile failed. Trying audioread instead.\n",
            "  warnings.warn(\"PySoundFile failed. Trying audioread instead.\")\n"
          ]
        },
        {
          "output_type": "stream",
          "name": "stdout",
          "text": [
            "/content/drive/MyDrive/Colab Notebooks/Thesis/voice recognition/dataset/164109.wav, segment of test data:1\n",
            "/content/drive/MyDrive/Colab Notebooks/Thesis/voice recognition/dataset/164109.wav, segment of test data:2\n",
            "/content/drive/MyDrive/Colab Notebooks/Thesis/voice recognition/dataset/164109.wav, segment of test data:3\n",
            "/content/drive/MyDrive/Colab Notebooks/Thesis/voice recognition/dataset/164109.wav, segment of test data:4\n",
            "/content/drive/MyDrive/Colab Notebooks/Thesis/voice recognition/dataset/164109.wav, segment of test data:5\n",
            "/content/drive/MyDrive/Colab Notebooks/Thesis/voice recognition/dataset/164109.wav, segment of test data:6\n",
            "/content/drive/MyDrive/Colab Notebooks/Thesis/voice recognition/dataset/164109.wav, segment of test data:7\n",
            "/content/drive/MyDrive/Colab Notebooks/Thesis/voice recognition/dataset/164109.wav, segment of test data:8\n",
            "/content/drive/MyDrive/Colab Notebooks/Thesis/voice recognition/dataset/164109.wav, segment of test data:9\n",
            "/content/drive/MyDrive/Colab Notebooks/Thesis/voice recognition/dataset/164109.wav, segment of test data:10\n",
            "/content/drive/MyDrive/Colab Notebooks/Thesis/voice recognition/dataset/164109.wav, segment of test data:11\n",
            "/content/drive/MyDrive/Colab Notebooks/Thesis/voice recognition/dataset/164109.wav, segment of test data:12\n",
            "/content/drive/MyDrive/Colab Notebooks/Thesis/voice recognition/dataset/164109.wav, segment of test data:13\n",
            "/content/drive/MyDrive/Colab Notebooks/Thesis/voice recognition/dataset/164109.wav, segment of test data:14\n",
            "/content/drive/MyDrive/Colab Notebooks/Thesis/voice recognition/dataset/164109.wav, segment of test data:15\n",
            "/content/drive/MyDrive/Colab Notebooks/Thesis/voice recognition/dataset/164109.wav, segment of test data:16\n",
            "/content/drive/MyDrive/Colab Notebooks/Thesis/voice recognition/dataset/164109.wav, segment of test data:17\n",
            "/content/drive/MyDrive/Colab Notebooks/Thesis/voice recognition/dataset/164109.wav, segment of test data:18\n",
            "/content/drive/MyDrive/Colab Notebooks/Thesis/voice recognition/dataset/164109.wav, segment of test data:19\n",
            "/content/drive/MyDrive/Colab Notebooks/Thesis/voice recognition/dataset/164109.wav, segment of test data:20\n",
            "194052\n"
          ]
        },
        {
          "output_type": "stream",
          "name": "stderr",
          "text": [
            "/usr/local/lib/python3.7/dist-packages/librosa/core/audio.py:165: UserWarning: PySoundFile failed. Trying audioread instead.\n",
            "  warnings.warn(\"PySoundFile failed. Trying audioread instead.\")\n"
          ]
        },
        {
          "output_type": "stream",
          "name": "stdout",
          "text": [
            "/content/drive/MyDrive/Colab Notebooks/Thesis/voice recognition/dataset/194052.wav, segment of test data:1\n",
            "/content/drive/MyDrive/Colab Notebooks/Thesis/voice recognition/dataset/194052.wav, segment of test data:2\n",
            "/content/drive/MyDrive/Colab Notebooks/Thesis/voice recognition/dataset/194052.wav, segment of test data:3\n",
            "/content/drive/MyDrive/Colab Notebooks/Thesis/voice recognition/dataset/194052.wav, segment of test data:4\n",
            "/content/drive/MyDrive/Colab Notebooks/Thesis/voice recognition/dataset/194052.wav, segment of test data:5\n",
            "/content/drive/MyDrive/Colab Notebooks/Thesis/voice recognition/dataset/194052.wav, segment of test data:6\n",
            "/content/drive/MyDrive/Colab Notebooks/Thesis/voice recognition/dataset/194052.wav, segment of test data:7\n",
            "/content/drive/MyDrive/Colab Notebooks/Thesis/voice recognition/dataset/194052.wav, segment of test data:8\n",
            "/content/drive/MyDrive/Colab Notebooks/Thesis/voice recognition/dataset/194052.wav, segment of test data:9\n",
            "/content/drive/MyDrive/Colab Notebooks/Thesis/voice recognition/dataset/194052.wav, segment of test data:10\n",
            "/content/drive/MyDrive/Colab Notebooks/Thesis/voice recognition/dataset/194052.wav, segment of test data:11\n",
            "/content/drive/MyDrive/Colab Notebooks/Thesis/voice recognition/dataset/194052.wav, segment of test data:12\n",
            "/content/drive/MyDrive/Colab Notebooks/Thesis/voice recognition/dataset/194052.wav, segment of test data:13\n",
            "/content/drive/MyDrive/Colab Notebooks/Thesis/voice recognition/dataset/194052.wav, segment of test data:14\n",
            "/content/drive/MyDrive/Colab Notebooks/Thesis/voice recognition/dataset/194052.wav, segment of test data:15\n",
            "/content/drive/MyDrive/Colab Notebooks/Thesis/voice recognition/dataset/194052.wav, segment of test data:16\n",
            "/content/drive/MyDrive/Colab Notebooks/Thesis/voice recognition/dataset/194052.wav, segment of test data:17\n",
            "/content/drive/MyDrive/Colab Notebooks/Thesis/voice recognition/dataset/194052.wav, segment of test data:18\n",
            "/content/drive/MyDrive/Colab Notebooks/Thesis/voice recognition/dataset/194052.wav, segment of test data:19\n",
            "/content/drive/MyDrive/Colab Notebooks/Thesis/voice recognition/dataset/194052.wav, segment of test data:20\n",
            "164120\n"
          ]
        },
        {
          "output_type": "stream",
          "name": "stderr",
          "text": [
            "/usr/local/lib/python3.7/dist-packages/librosa/core/audio.py:165: UserWarning: PySoundFile failed. Trying audioread instead.\n",
            "  warnings.warn(\"PySoundFile failed. Trying audioread instead.\")\n"
          ]
        },
        {
          "output_type": "stream",
          "name": "stdout",
          "text": [
            "/content/drive/MyDrive/Colab Notebooks/Thesis/voice recognition/dataset/164120.wav, segment of test data:1\n",
            "/content/drive/MyDrive/Colab Notebooks/Thesis/voice recognition/dataset/164120.wav, segment of test data:2\n",
            "/content/drive/MyDrive/Colab Notebooks/Thesis/voice recognition/dataset/164120.wav, segment of test data:3\n",
            "/content/drive/MyDrive/Colab Notebooks/Thesis/voice recognition/dataset/164120.wav, segment of test data:4\n",
            "/content/drive/MyDrive/Colab Notebooks/Thesis/voice recognition/dataset/164120.wav, segment of test data:5\n",
            "/content/drive/MyDrive/Colab Notebooks/Thesis/voice recognition/dataset/164120.wav, segment of test data:6\n",
            "/content/drive/MyDrive/Colab Notebooks/Thesis/voice recognition/dataset/164120.wav, segment of test data:7\n",
            "/content/drive/MyDrive/Colab Notebooks/Thesis/voice recognition/dataset/164120.wav, segment of test data:8\n",
            "/content/drive/MyDrive/Colab Notebooks/Thesis/voice recognition/dataset/164120.wav, segment of test data:9\n",
            "/content/drive/MyDrive/Colab Notebooks/Thesis/voice recognition/dataset/164120.wav, segment of test data:10\n",
            "/content/drive/MyDrive/Colab Notebooks/Thesis/voice recognition/dataset/164120.wav, segment of test data:11\n",
            "/content/drive/MyDrive/Colab Notebooks/Thesis/voice recognition/dataset/164120.wav, segment of test data:12\n",
            "/content/drive/MyDrive/Colab Notebooks/Thesis/voice recognition/dataset/164120.wav, segment of test data:13\n",
            "/content/drive/MyDrive/Colab Notebooks/Thesis/voice recognition/dataset/164120.wav, segment of test data:14\n",
            "/content/drive/MyDrive/Colab Notebooks/Thesis/voice recognition/dataset/164120.wav, segment of test data:15\n",
            "/content/drive/MyDrive/Colab Notebooks/Thesis/voice recognition/dataset/164120.wav, segment of test data:16\n",
            "/content/drive/MyDrive/Colab Notebooks/Thesis/voice recognition/dataset/164120.wav, segment of test data:17\n",
            "/content/drive/MyDrive/Colab Notebooks/Thesis/voice recognition/dataset/164120.wav, segment of test data:18\n",
            "/content/drive/MyDrive/Colab Notebooks/Thesis/voice recognition/dataset/164120.wav, segment of test data:19\n",
            "/content/drive/MyDrive/Colab Notebooks/Thesis/voice recognition/dataset/164120.wav, segment of test data:20\n",
            "164078\n"
          ]
        },
        {
          "output_type": "stream",
          "name": "stderr",
          "text": [
            "/usr/local/lib/python3.7/dist-packages/librosa/core/audio.py:165: UserWarning: PySoundFile failed. Trying audioread instead.\n",
            "  warnings.warn(\"PySoundFile failed. Trying audioread instead.\")\n"
          ]
        },
        {
          "output_type": "stream",
          "name": "stdout",
          "text": [
            "/content/drive/MyDrive/Colab Notebooks/Thesis/voice recognition/dataset/164078.wav, segment of test data:1\n",
            "/content/drive/MyDrive/Colab Notebooks/Thesis/voice recognition/dataset/164078.wav, segment of test data:2\n",
            "/content/drive/MyDrive/Colab Notebooks/Thesis/voice recognition/dataset/164078.wav, segment of test data:3\n",
            "/content/drive/MyDrive/Colab Notebooks/Thesis/voice recognition/dataset/164078.wav, segment of test data:4\n",
            "/content/drive/MyDrive/Colab Notebooks/Thesis/voice recognition/dataset/164078.wav, segment of test data:5\n",
            "/content/drive/MyDrive/Colab Notebooks/Thesis/voice recognition/dataset/164078.wav, segment of test data:6\n",
            "/content/drive/MyDrive/Colab Notebooks/Thesis/voice recognition/dataset/164078.wav, segment of test data:7\n",
            "/content/drive/MyDrive/Colab Notebooks/Thesis/voice recognition/dataset/164078.wav, segment of test data:8\n",
            "/content/drive/MyDrive/Colab Notebooks/Thesis/voice recognition/dataset/164078.wav, segment of test data:9\n",
            "/content/drive/MyDrive/Colab Notebooks/Thesis/voice recognition/dataset/164078.wav, segment of test data:10\n",
            "/content/drive/MyDrive/Colab Notebooks/Thesis/voice recognition/dataset/164078.wav, segment of test data:11\n",
            "/content/drive/MyDrive/Colab Notebooks/Thesis/voice recognition/dataset/164078.wav, segment of test data:12\n",
            "/content/drive/MyDrive/Colab Notebooks/Thesis/voice recognition/dataset/164078.wav, segment of test data:13\n",
            "/content/drive/MyDrive/Colab Notebooks/Thesis/voice recognition/dataset/164078.wav, segment of test data:14\n",
            "/content/drive/MyDrive/Colab Notebooks/Thesis/voice recognition/dataset/164078.wav, segment of test data:15\n",
            "/content/drive/MyDrive/Colab Notebooks/Thesis/voice recognition/dataset/164078.wav, segment of test data:16\n",
            "/content/drive/MyDrive/Colab Notebooks/Thesis/voice recognition/dataset/164078.wav, segment of test data:17\n",
            "/content/drive/MyDrive/Colab Notebooks/Thesis/voice recognition/dataset/164078.wav, segment of test data:18\n",
            "/content/drive/MyDrive/Colab Notebooks/Thesis/voice recognition/dataset/164078.wav, segment of test data:19\n",
            "/content/drive/MyDrive/Colab Notebooks/Thesis/voice recognition/dataset/164078.wav, segment of test data:20\n",
            "164073\n"
          ]
        },
        {
          "output_type": "stream",
          "name": "stderr",
          "text": [
            "/usr/local/lib/python3.7/dist-packages/librosa/core/audio.py:165: UserWarning: PySoundFile failed. Trying audioread instead.\n",
            "  warnings.warn(\"PySoundFile failed. Trying audioread instead.\")\n"
          ]
        },
        {
          "output_type": "stream",
          "name": "stdout",
          "text": [
            "/content/drive/MyDrive/Colab Notebooks/Thesis/voice recognition/dataset/164073.wav, segment of test data:1\n",
            "/content/drive/MyDrive/Colab Notebooks/Thesis/voice recognition/dataset/164073.wav, segment of test data:2\n",
            "/content/drive/MyDrive/Colab Notebooks/Thesis/voice recognition/dataset/164073.wav, segment of test data:3\n",
            "/content/drive/MyDrive/Colab Notebooks/Thesis/voice recognition/dataset/164073.wav, segment of test data:4\n",
            "/content/drive/MyDrive/Colab Notebooks/Thesis/voice recognition/dataset/164073.wav, segment of test data:5\n",
            "/content/drive/MyDrive/Colab Notebooks/Thesis/voice recognition/dataset/164073.wav, segment of test data:6\n",
            "/content/drive/MyDrive/Colab Notebooks/Thesis/voice recognition/dataset/164073.wav, segment of test data:7\n",
            "/content/drive/MyDrive/Colab Notebooks/Thesis/voice recognition/dataset/164073.wav, segment of test data:8\n",
            "/content/drive/MyDrive/Colab Notebooks/Thesis/voice recognition/dataset/164073.wav, segment of test data:9\n",
            "/content/drive/MyDrive/Colab Notebooks/Thesis/voice recognition/dataset/164073.wav, segment of test data:10\n",
            "/content/drive/MyDrive/Colab Notebooks/Thesis/voice recognition/dataset/164073.wav, segment of test data:11\n",
            "/content/drive/MyDrive/Colab Notebooks/Thesis/voice recognition/dataset/164073.wav, segment of test data:12\n",
            "/content/drive/MyDrive/Colab Notebooks/Thesis/voice recognition/dataset/164073.wav, segment of test data:13\n",
            "/content/drive/MyDrive/Colab Notebooks/Thesis/voice recognition/dataset/164073.wav, segment of test data:14\n",
            "/content/drive/MyDrive/Colab Notebooks/Thesis/voice recognition/dataset/164073.wav, segment of test data:15\n",
            "/content/drive/MyDrive/Colab Notebooks/Thesis/voice recognition/dataset/164073.wav, segment of test data:16\n",
            "/content/drive/MyDrive/Colab Notebooks/Thesis/voice recognition/dataset/164073.wav, segment of test data:17\n",
            "/content/drive/MyDrive/Colab Notebooks/Thesis/voice recognition/dataset/164073.wav, segment of test data:18\n",
            "/content/drive/MyDrive/Colab Notebooks/Thesis/voice recognition/dataset/164073.wav, segment of test data:19\n",
            "/content/drive/MyDrive/Colab Notebooks/Thesis/voice recognition/dataset/164073.wav, segment of test data:20\n",
            "174030\n",
            "/content/drive/MyDrive/Colab Notebooks/Thesis/voice recognition/dataset/174030.wav, segment of test data:1\n",
            "/content/drive/MyDrive/Colab Notebooks/Thesis/voice recognition/dataset/174030.wav, segment of test data:2\n",
            "/content/drive/MyDrive/Colab Notebooks/Thesis/voice recognition/dataset/174030.wav, segment of test data:3\n",
            "/content/drive/MyDrive/Colab Notebooks/Thesis/voice recognition/dataset/174030.wav, segment of test data:4\n",
            "/content/drive/MyDrive/Colab Notebooks/Thesis/voice recognition/dataset/174030.wav, segment of test data:5\n",
            "/content/drive/MyDrive/Colab Notebooks/Thesis/voice recognition/dataset/174030.wav, segment of test data:6\n",
            "/content/drive/MyDrive/Colab Notebooks/Thesis/voice recognition/dataset/174030.wav, segment of test data:7\n",
            "/content/drive/MyDrive/Colab Notebooks/Thesis/voice recognition/dataset/174030.wav, segment of test data:8\n",
            "/content/drive/MyDrive/Colab Notebooks/Thesis/voice recognition/dataset/174030.wav, segment of test data:9\n",
            "/content/drive/MyDrive/Colab Notebooks/Thesis/voice recognition/dataset/174030.wav, segment of test data:10\n",
            "/content/drive/MyDrive/Colab Notebooks/Thesis/voice recognition/dataset/174030.wav, segment of test data:11\n",
            "/content/drive/MyDrive/Colab Notebooks/Thesis/voice recognition/dataset/174030.wav, segment of test data:12\n",
            "/content/drive/MyDrive/Colab Notebooks/Thesis/voice recognition/dataset/174030.wav, segment of test data:13\n",
            "/content/drive/MyDrive/Colab Notebooks/Thesis/voice recognition/dataset/174030.wav, segment of test data:14\n",
            "/content/drive/MyDrive/Colab Notebooks/Thesis/voice recognition/dataset/174030.wav, segment of test data:15\n",
            "/content/drive/MyDrive/Colab Notebooks/Thesis/voice recognition/dataset/174030.wav, segment of test data:16\n",
            "/content/drive/MyDrive/Colab Notebooks/Thesis/voice recognition/dataset/174030.wav, segment of test data:17\n",
            "/content/drive/MyDrive/Colab Notebooks/Thesis/voice recognition/dataset/174030.wav, segment of test data:18\n",
            "/content/drive/MyDrive/Colab Notebooks/Thesis/voice recognition/dataset/174030.wav, segment of test data:19\n",
            "/content/drive/MyDrive/Colab Notebooks/Thesis/voice recognition/dataset/174030.wav, segment of test data:20\n",
            "164119\n"
          ]
        },
        {
          "output_type": "stream",
          "name": "stderr",
          "text": [
            "/usr/local/lib/python3.7/dist-packages/librosa/core/audio.py:165: UserWarning: PySoundFile failed. Trying audioread instead.\n",
            "  warnings.warn(\"PySoundFile failed. Trying audioread instead.\")\n"
          ]
        },
        {
          "output_type": "stream",
          "name": "stdout",
          "text": [
            "/content/drive/MyDrive/Colab Notebooks/Thesis/voice recognition/dataset/164119.wav, segment of test data:1\n",
            "/content/drive/MyDrive/Colab Notebooks/Thesis/voice recognition/dataset/164119.wav, segment of test data:2\n",
            "/content/drive/MyDrive/Colab Notebooks/Thesis/voice recognition/dataset/164119.wav, segment of test data:3\n",
            "/content/drive/MyDrive/Colab Notebooks/Thesis/voice recognition/dataset/164119.wav, segment of test data:4\n",
            "/content/drive/MyDrive/Colab Notebooks/Thesis/voice recognition/dataset/164119.wav, segment of test data:5\n",
            "/content/drive/MyDrive/Colab Notebooks/Thesis/voice recognition/dataset/164119.wav, segment of test data:6\n",
            "/content/drive/MyDrive/Colab Notebooks/Thesis/voice recognition/dataset/164119.wav, segment of test data:7\n",
            "/content/drive/MyDrive/Colab Notebooks/Thesis/voice recognition/dataset/164119.wav, segment of test data:8\n",
            "/content/drive/MyDrive/Colab Notebooks/Thesis/voice recognition/dataset/164119.wav, segment of test data:9\n",
            "/content/drive/MyDrive/Colab Notebooks/Thesis/voice recognition/dataset/164119.wav, segment of test data:10\n",
            "/content/drive/MyDrive/Colab Notebooks/Thesis/voice recognition/dataset/164119.wav, segment of test data:11\n",
            "/content/drive/MyDrive/Colab Notebooks/Thesis/voice recognition/dataset/164119.wav, segment of test data:12\n",
            "/content/drive/MyDrive/Colab Notebooks/Thesis/voice recognition/dataset/164119.wav, segment of test data:13\n",
            "/content/drive/MyDrive/Colab Notebooks/Thesis/voice recognition/dataset/164119.wav, segment of test data:14\n",
            "/content/drive/MyDrive/Colab Notebooks/Thesis/voice recognition/dataset/164119.wav, segment of test data:15\n",
            "/content/drive/MyDrive/Colab Notebooks/Thesis/voice recognition/dataset/164119.wav, segment of test data:16\n",
            "/content/drive/MyDrive/Colab Notebooks/Thesis/voice recognition/dataset/164119.wav, segment of test data:17\n",
            "/content/drive/MyDrive/Colab Notebooks/Thesis/voice recognition/dataset/164119.wav, segment of test data:18\n",
            "/content/drive/MyDrive/Colab Notebooks/Thesis/voice recognition/dataset/164119.wav, segment of test data:19\n",
            "/content/drive/MyDrive/Colab Notebooks/Thesis/voice recognition/dataset/164119.wav, segment of test data:20\n",
            "204112\n"
          ]
        },
        {
          "output_type": "stream",
          "name": "stderr",
          "text": [
            "/usr/local/lib/python3.7/dist-packages/librosa/core/audio.py:165: UserWarning: PySoundFile failed. Trying audioread instead.\n",
            "  warnings.warn(\"PySoundFile failed. Trying audioread instead.\")\n"
          ]
        },
        {
          "output_type": "stream",
          "name": "stdout",
          "text": [
            "/content/drive/MyDrive/Colab Notebooks/Thesis/voice recognition/dataset/204112.wav, segment of test data:1\n",
            "/content/drive/MyDrive/Colab Notebooks/Thesis/voice recognition/dataset/204112.wav, segment of test data:2\n",
            "/content/drive/MyDrive/Colab Notebooks/Thesis/voice recognition/dataset/204112.wav, segment of test data:3\n",
            "/content/drive/MyDrive/Colab Notebooks/Thesis/voice recognition/dataset/204112.wav, segment of test data:4\n",
            "/content/drive/MyDrive/Colab Notebooks/Thesis/voice recognition/dataset/204112.wav, segment of test data:5\n",
            "/content/drive/MyDrive/Colab Notebooks/Thesis/voice recognition/dataset/204112.wav, segment of test data:6\n",
            "/content/drive/MyDrive/Colab Notebooks/Thesis/voice recognition/dataset/204112.wav, segment of test data:7\n",
            "/content/drive/MyDrive/Colab Notebooks/Thesis/voice recognition/dataset/204112.wav, segment of test data:8\n",
            "/content/drive/MyDrive/Colab Notebooks/Thesis/voice recognition/dataset/204112.wav, segment of test data:9\n",
            "/content/drive/MyDrive/Colab Notebooks/Thesis/voice recognition/dataset/204112.wav, segment of test data:10\n",
            "/content/drive/MyDrive/Colab Notebooks/Thesis/voice recognition/dataset/204112.wav, segment of test data:11\n",
            "/content/drive/MyDrive/Colab Notebooks/Thesis/voice recognition/dataset/204112.wav, segment of test data:12\n",
            "/content/drive/MyDrive/Colab Notebooks/Thesis/voice recognition/dataset/204112.wav, segment of test data:13\n",
            "/content/drive/MyDrive/Colab Notebooks/Thesis/voice recognition/dataset/204112.wav, segment of test data:14\n",
            "/content/drive/MyDrive/Colab Notebooks/Thesis/voice recognition/dataset/204112.wav, segment of test data:15\n",
            "/content/drive/MyDrive/Colab Notebooks/Thesis/voice recognition/dataset/204112.wav, segment of test data:16\n",
            "/content/drive/MyDrive/Colab Notebooks/Thesis/voice recognition/dataset/204112.wav, segment of test data:17\n",
            "/content/drive/MyDrive/Colab Notebooks/Thesis/voice recognition/dataset/204112.wav, segment of test data:18\n",
            "/content/drive/MyDrive/Colab Notebooks/Thesis/voice recognition/dataset/204112.wav, segment of test data:19\n",
            "/content/drive/MyDrive/Colab Notebooks/Thesis/voice recognition/dataset/204112.wav, segment of test data:20\n",
            "164093\n",
            "/content/drive/MyDrive/Colab Notebooks/Thesis/voice recognition/dataset/164093.wav, segment of test data:1\n",
            "/content/drive/MyDrive/Colab Notebooks/Thesis/voice recognition/dataset/164093.wav, segment of test data:2\n",
            "/content/drive/MyDrive/Colab Notebooks/Thesis/voice recognition/dataset/164093.wav, segment of test data:3\n",
            "/content/drive/MyDrive/Colab Notebooks/Thesis/voice recognition/dataset/164093.wav, segment of test data:4\n",
            "/content/drive/MyDrive/Colab Notebooks/Thesis/voice recognition/dataset/164093.wav, segment of test data:5\n",
            "/content/drive/MyDrive/Colab Notebooks/Thesis/voice recognition/dataset/164093.wav, segment of test data:6\n",
            "/content/drive/MyDrive/Colab Notebooks/Thesis/voice recognition/dataset/164093.wav, segment of test data:7\n",
            "/content/drive/MyDrive/Colab Notebooks/Thesis/voice recognition/dataset/164093.wav, segment of test data:8\n",
            "/content/drive/MyDrive/Colab Notebooks/Thesis/voice recognition/dataset/164093.wav, segment of test data:9\n",
            "/content/drive/MyDrive/Colab Notebooks/Thesis/voice recognition/dataset/164093.wav, segment of test data:10\n",
            "/content/drive/MyDrive/Colab Notebooks/Thesis/voice recognition/dataset/164093.wav, segment of test data:11\n",
            "/content/drive/MyDrive/Colab Notebooks/Thesis/voice recognition/dataset/164093.wav, segment of test data:12\n",
            "/content/drive/MyDrive/Colab Notebooks/Thesis/voice recognition/dataset/164093.wav, segment of test data:13\n",
            "/content/drive/MyDrive/Colab Notebooks/Thesis/voice recognition/dataset/164093.wav, segment of test data:14\n",
            "/content/drive/MyDrive/Colab Notebooks/Thesis/voice recognition/dataset/164093.wav, segment of test data:15\n",
            "/content/drive/MyDrive/Colab Notebooks/Thesis/voice recognition/dataset/164093.wav, segment of test data:16\n",
            "/content/drive/MyDrive/Colab Notebooks/Thesis/voice recognition/dataset/164093.wav, segment of test data:17\n",
            "/content/drive/MyDrive/Colab Notebooks/Thesis/voice recognition/dataset/164093.wav, segment of test data:18\n",
            "/content/drive/MyDrive/Colab Notebooks/Thesis/voice recognition/dataset/164093.wav, segment of test data:19\n",
            "/content/drive/MyDrive/Colab Notebooks/Thesis/voice recognition/dataset/164093.wav, segment of test data:20\n",
            "164040\n",
            "/content/drive/MyDrive/Colab Notebooks/Thesis/voice recognition/dataset/164040.wav, segment of test data:1\n",
            "/content/drive/MyDrive/Colab Notebooks/Thesis/voice recognition/dataset/164040.wav, segment of test data:2\n",
            "/content/drive/MyDrive/Colab Notebooks/Thesis/voice recognition/dataset/164040.wav, segment of test data:3\n",
            "/content/drive/MyDrive/Colab Notebooks/Thesis/voice recognition/dataset/164040.wav, segment of test data:4\n",
            "/content/drive/MyDrive/Colab Notebooks/Thesis/voice recognition/dataset/164040.wav, segment of test data:5\n",
            "/content/drive/MyDrive/Colab Notebooks/Thesis/voice recognition/dataset/164040.wav, segment of test data:6\n",
            "/content/drive/MyDrive/Colab Notebooks/Thesis/voice recognition/dataset/164040.wav, segment of test data:7\n",
            "/content/drive/MyDrive/Colab Notebooks/Thesis/voice recognition/dataset/164040.wav, segment of test data:8\n",
            "/content/drive/MyDrive/Colab Notebooks/Thesis/voice recognition/dataset/164040.wav, segment of test data:9\n",
            "/content/drive/MyDrive/Colab Notebooks/Thesis/voice recognition/dataset/164040.wav, segment of test data:10\n",
            "/content/drive/MyDrive/Colab Notebooks/Thesis/voice recognition/dataset/164040.wav, segment of test data:11\n",
            "/content/drive/MyDrive/Colab Notebooks/Thesis/voice recognition/dataset/164040.wav, segment of test data:12\n",
            "/content/drive/MyDrive/Colab Notebooks/Thesis/voice recognition/dataset/164040.wav, segment of test data:13\n",
            "/content/drive/MyDrive/Colab Notebooks/Thesis/voice recognition/dataset/164040.wav, segment of test data:14\n",
            "/content/drive/MyDrive/Colab Notebooks/Thesis/voice recognition/dataset/164040.wav, segment of test data:15\n",
            "/content/drive/MyDrive/Colab Notebooks/Thesis/voice recognition/dataset/164040.wav, segment of test data:16\n",
            "/content/drive/MyDrive/Colab Notebooks/Thesis/voice recognition/dataset/164040.wav, segment of test data:17\n",
            "/content/drive/MyDrive/Colab Notebooks/Thesis/voice recognition/dataset/164040.wav, segment of test data:18\n",
            "/content/drive/MyDrive/Colab Notebooks/Thesis/voice recognition/dataset/164040.wav, segment of test data:19\n",
            "/content/drive/MyDrive/Colab Notebooks/Thesis/voice recognition/dataset/164040.wav, segment of test data:20\n",
            "173009\n",
            "/content/drive/MyDrive/Colab Notebooks/Thesis/voice recognition/dataset/173009.wav, segment of test data:1\n",
            "/content/drive/MyDrive/Colab Notebooks/Thesis/voice recognition/dataset/173009.wav, segment of test data:2\n",
            "/content/drive/MyDrive/Colab Notebooks/Thesis/voice recognition/dataset/173009.wav, segment of test data:3\n",
            "/content/drive/MyDrive/Colab Notebooks/Thesis/voice recognition/dataset/173009.wav, segment of test data:4\n",
            "/content/drive/MyDrive/Colab Notebooks/Thesis/voice recognition/dataset/173009.wav, segment of test data:5\n",
            "/content/drive/MyDrive/Colab Notebooks/Thesis/voice recognition/dataset/173009.wav, segment of test data:6\n",
            "/content/drive/MyDrive/Colab Notebooks/Thesis/voice recognition/dataset/173009.wav, segment of test data:7\n",
            "/content/drive/MyDrive/Colab Notebooks/Thesis/voice recognition/dataset/173009.wav, segment of test data:8\n",
            "/content/drive/MyDrive/Colab Notebooks/Thesis/voice recognition/dataset/173009.wav, segment of test data:9\n",
            "/content/drive/MyDrive/Colab Notebooks/Thesis/voice recognition/dataset/173009.wav, segment of test data:10\n",
            "/content/drive/MyDrive/Colab Notebooks/Thesis/voice recognition/dataset/173009.wav, segment of test data:11\n",
            "/content/drive/MyDrive/Colab Notebooks/Thesis/voice recognition/dataset/173009.wav, segment of test data:12\n",
            "/content/drive/MyDrive/Colab Notebooks/Thesis/voice recognition/dataset/173009.wav, segment of test data:13\n",
            "/content/drive/MyDrive/Colab Notebooks/Thesis/voice recognition/dataset/173009.wav, segment of test data:14\n",
            "/content/drive/MyDrive/Colab Notebooks/Thesis/voice recognition/dataset/173009.wav, segment of test data:15\n",
            "/content/drive/MyDrive/Colab Notebooks/Thesis/voice recognition/dataset/173009.wav, segment of test data:16\n",
            "/content/drive/MyDrive/Colab Notebooks/Thesis/voice recognition/dataset/173009.wav, segment of test data:17\n",
            "/content/drive/MyDrive/Colab Notebooks/Thesis/voice recognition/dataset/173009.wav, segment of test data:18\n",
            "/content/drive/MyDrive/Colab Notebooks/Thesis/voice recognition/dataset/173009.wav, segment of test data:19\n",
            "/content/drive/MyDrive/Colab Notebooks/Thesis/voice recognition/dataset/173009.wav, segment of test data:20\n",
            "164080\n"
          ]
        },
        {
          "output_type": "stream",
          "name": "stderr",
          "text": [
            "/usr/local/lib/python3.7/dist-packages/librosa/core/audio.py:165: UserWarning: PySoundFile failed. Trying audioread instead.\n",
            "  warnings.warn(\"PySoundFile failed. Trying audioread instead.\")\n"
          ]
        },
        {
          "output_type": "stream",
          "name": "stdout",
          "text": [
            "/content/drive/MyDrive/Colab Notebooks/Thesis/voice recognition/dataset/164080.wav, segment of test data:1\n",
            "/content/drive/MyDrive/Colab Notebooks/Thesis/voice recognition/dataset/164080.wav, segment of test data:2\n",
            "/content/drive/MyDrive/Colab Notebooks/Thesis/voice recognition/dataset/164080.wav, segment of test data:3\n",
            "/content/drive/MyDrive/Colab Notebooks/Thesis/voice recognition/dataset/164080.wav, segment of test data:4\n",
            "/content/drive/MyDrive/Colab Notebooks/Thesis/voice recognition/dataset/164080.wav, segment of test data:5\n",
            "/content/drive/MyDrive/Colab Notebooks/Thesis/voice recognition/dataset/164080.wav, segment of test data:6\n",
            "/content/drive/MyDrive/Colab Notebooks/Thesis/voice recognition/dataset/164080.wav, segment of test data:7\n",
            "/content/drive/MyDrive/Colab Notebooks/Thesis/voice recognition/dataset/164080.wav, segment of test data:8\n",
            "/content/drive/MyDrive/Colab Notebooks/Thesis/voice recognition/dataset/164080.wav, segment of test data:9\n",
            "/content/drive/MyDrive/Colab Notebooks/Thesis/voice recognition/dataset/164080.wav, segment of test data:10\n",
            "/content/drive/MyDrive/Colab Notebooks/Thesis/voice recognition/dataset/164080.wav, segment of test data:11\n",
            "/content/drive/MyDrive/Colab Notebooks/Thesis/voice recognition/dataset/164080.wav, segment of test data:12\n",
            "/content/drive/MyDrive/Colab Notebooks/Thesis/voice recognition/dataset/164080.wav, segment of test data:13\n",
            "/content/drive/MyDrive/Colab Notebooks/Thesis/voice recognition/dataset/164080.wav, segment of test data:14\n",
            "/content/drive/MyDrive/Colab Notebooks/Thesis/voice recognition/dataset/164080.wav, segment of test data:15\n",
            "/content/drive/MyDrive/Colab Notebooks/Thesis/voice recognition/dataset/164080.wav, segment of test data:16\n",
            "/content/drive/MyDrive/Colab Notebooks/Thesis/voice recognition/dataset/164080.wav, segment of test data:17\n",
            "/content/drive/MyDrive/Colab Notebooks/Thesis/voice recognition/dataset/164080.wav, segment of test data:18\n",
            "/content/drive/MyDrive/Colab Notebooks/Thesis/voice recognition/dataset/164080.wav, segment of test data:19\n",
            "/content/drive/MyDrive/Colab Notebooks/Thesis/voice recognition/dataset/164080.wav, segment of test data:20\n",
            "164100\n",
            "/content/drive/MyDrive/Colab Notebooks/Thesis/voice recognition/dataset/164100.wav, segment of test data:1\n",
            "/content/drive/MyDrive/Colab Notebooks/Thesis/voice recognition/dataset/164100.wav, segment of test data:2\n",
            "/content/drive/MyDrive/Colab Notebooks/Thesis/voice recognition/dataset/164100.wav, segment of test data:3\n",
            "/content/drive/MyDrive/Colab Notebooks/Thesis/voice recognition/dataset/164100.wav, segment of test data:4\n",
            "/content/drive/MyDrive/Colab Notebooks/Thesis/voice recognition/dataset/164100.wav, segment of test data:5\n",
            "/content/drive/MyDrive/Colab Notebooks/Thesis/voice recognition/dataset/164100.wav, segment of test data:6\n",
            "/content/drive/MyDrive/Colab Notebooks/Thesis/voice recognition/dataset/164100.wav, segment of test data:7\n",
            "/content/drive/MyDrive/Colab Notebooks/Thesis/voice recognition/dataset/164100.wav, segment of test data:8\n",
            "/content/drive/MyDrive/Colab Notebooks/Thesis/voice recognition/dataset/164100.wav, segment of test data:9\n",
            "/content/drive/MyDrive/Colab Notebooks/Thesis/voice recognition/dataset/164100.wav, segment of test data:10\n",
            "/content/drive/MyDrive/Colab Notebooks/Thesis/voice recognition/dataset/164100.wav, segment of test data:11\n",
            "/content/drive/MyDrive/Colab Notebooks/Thesis/voice recognition/dataset/164100.wav, segment of test data:12\n",
            "/content/drive/MyDrive/Colab Notebooks/Thesis/voice recognition/dataset/164100.wav, segment of test data:13\n",
            "/content/drive/MyDrive/Colab Notebooks/Thesis/voice recognition/dataset/164100.wav, segment of test data:14\n",
            "/content/drive/MyDrive/Colab Notebooks/Thesis/voice recognition/dataset/164100.wav, segment of test data:15\n",
            "/content/drive/MyDrive/Colab Notebooks/Thesis/voice recognition/dataset/164100.wav, segment of test data:16\n",
            "/content/drive/MyDrive/Colab Notebooks/Thesis/voice recognition/dataset/164100.wav, segment of test data:17\n",
            "/content/drive/MyDrive/Colab Notebooks/Thesis/voice recognition/dataset/164100.wav, segment of test data:18\n",
            "/content/drive/MyDrive/Colab Notebooks/Thesis/voice recognition/dataset/164100.wav, segment of test data:19\n",
            "/content/drive/MyDrive/Colab Notebooks/Thesis/voice recognition/dataset/164100.wav, segment of test data:20\n",
            "192106\n"
          ]
        },
        {
          "output_type": "stream",
          "name": "stderr",
          "text": [
            "/usr/local/lib/python3.7/dist-packages/librosa/core/audio.py:165: UserWarning: PySoundFile failed. Trying audioread instead.\n",
            "  warnings.warn(\"PySoundFile failed. Trying audioread instead.\")\n"
          ]
        },
        {
          "output_type": "stream",
          "name": "stdout",
          "text": [
            "/content/drive/MyDrive/Colab Notebooks/Thesis/voice recognition/dataset/192106.wav, segment of test data:1\n",
            "/content/drive/MyDrive/Colab Notebooks/Thesis/voice recognition/dataset/192106.wav, segment of test data:2\n",
            "/content/drive/MyDrive/Colab Notebooks/Thesis/voice recognition/dataset/192106.wav, segment of test data:3\n",
            "/content/drive/MyDrive/Colab Notebooks/Thesis/voice recognition/dataset/192106.wav, segment of test data:4\n",
            "/content/drive/MyDrive/Colab Notebooks/Thesis/voice recognition/dataset/192106.wav, segment of test data:5\n",
            "/content/drive/MyDrive/Colab Notebooks/Thesis/voice recognition/dataset/192106.wav, segment of test data:6\n",
            "/content/drive/MyDrive/Colab Notebooks/Thesis/voice recognition/dataset/192106.wav, segment of test data:7\n",
            "/content/drive/MyDrive/Colab Notebooks/Thesis/voice recognition/dataset/192106.wav, segment of test data:8\n",
            "/content/drive/MyDrive/Colab Notebooks/Thesis/voice recognition/dataset/192106.wav, segment of test data:9\n",
            "/content/drive/MyDrive/Colab Notebooks/Thesis/voice recognition/dataset/192106.wav, segment of test data:10\n",
            "/content/drive/MyDrive/Colab Notebooks/Thesis/voice recognition/dataset/192106.wav, segment of test data:11\n",
            "/content/drive/MyDrive/Colab Notebooks/Thesis/voice recognition/dataset/192106.wav, segment of test data:12\n",
            "/content/drive/MyDrive/Colab Notebooks/Thesis/voice recognition/dataset/192106.wav, segment of test data:13\n",
            "/content/drive/MyDrive/Colab Notebooks/Thesis/voice recognition/dataset/192106.wav, segment of test data:14\n",
            "/content/drive/MyDrive/Colab Notebooks/Thesis/voice recognition/dataset/192106.wav, segment of test data:15\n",
            "/content/drive/MyDrive/Colab Notebooks/Thesis/voice recognition/dataset/192106.wav, segment of test data:16\n",
            "/content/drive/MyDrive/Colab Notebooks/Thesis/voice recognition/dataset/192106.wav, segment of test data:17\n",
            "/content/drive/MyDrive/Colab Notebooks/Thesis/voice recognition/dataset/192106.wav, segment of test data:18\n",
            "/content/drive/MyDrive/Colab Notebooks/Thesis/voice recognition/dataset/192106.wav, segment of test data:19\n",
            "/content/drive/MyDrive/Colab Notebooks/Thesis/voice recognition/dataset/192106.wav, segment of test data:20\n",
            "204083\n"
          ]
        },
        {
          "output_type": "stream",
          "name": "stderr",
          "text": [
            "/usr/local/lib/python3.7/dist-packages/librosa/core/audio.py:165: UserWarning: PySoundFile failed. Trying audioread instead.\n",
            "  warnings.warn(\"PySoundFile failed. Trying audioread instead.\")\n"
          ]
        },
        {
          "output_type": "stream",
          "name": "stdout",
          "text": [
            "/content/drive/MyDrive/Colab Notebooks/Thesis/voice recognition/dataset/204083.wav, segment of test data:1\n",
            "/content/drive/MyDrive/Colab Notebooks/Thesis/voice recognition/dataset/204083.wav, segment of test data:2\n",
            "/content/drive/MyDrive/Colab Notebooks/Thesis/voice recognition/dataset/204083.wav, segment of test data:3\n",
            "/content/drive/MyDrive/Colab Notebooks/Thesis/voice recognition/dataset/204083.wav, segment of test data:4\n",
            "/content/drive/MyDrive/Colab Notebooks/Thesis/voice recognition/dataset/204083.wav, segment of test data:5\n",
            "/content/drive/MyDrive/Colab Notebooks/Thesis/voice recognition/dataset/204083.wav, segment of test data:6\n",
            "/content/drive/MyDrive/Colab Notebooks/Thesis/voice recognition/dataset/204083.wav, segment of test data:7\n",
            "/content/drive/MyDrive/Colab Notebooks/Thesis/voice recognition/dataset/204083.wav, segment of test data:8\n",
            "/content/drive/MyDrive/Colab Notebooks/Thesis/voice recognition/dataset/204083.wav, segment of test data:9\n",
            "/content/drive/MyDrive/Colab Notebooks/Thesis/voice recognition/dataset/204083.wav, segment of test data:10\n",
            "/content/drive/MyDrive/Colab Notebooks/Thesis/voice recognition/dataset/204083.wav, segment of test data:11\n",
            "/content/drive/MyDrive/Colab Notebooks/Thesis/voice recognition/dataset/204083.wav, segment of test data:12\n",
            "/content/drive/MyDrive/Colab Notebooks/Thesis/voice recognition/dataset/204083.wav, segment of test data:13\n",
            "/content/drive/MyDrive/Colab Notebooks/Thesis/voice recognition/dataset/204083.wav, segment of test data:14\n",
            "/content/drive/MyDrive/Colab Notebooks/Thesis/voice recognition/dataset/204083.wav, segment of test data:15\n",
            "/content/drive/MyDrive/Colab Notebooks/Thesis/voice recognition/dataset/204083.wav, segment of test data:16\n",
            "/content/drive/MyDrive/Colab Notebooks/Thesis/voice recognition/dataset/204083.wav, segment of test data:17\n",
            "/content/drive/MyDrive/Colab Notebooks/Thesis/voice recognition/dataset/204083.wav, segment of test data:18\n",
            "/content/drive/MyDrive/Colab Notebooks/Thesis/voice recognition/dataset/204083.wav, segment of test data:19\n",
            "/content/drive/MyDrive/Colab Notebooks/Thesis/voice recognition/dataset/204083.wav, segment of test data:20\n",
            "174116\n"
          ]
        },
        {
          "output_type": "stream",
          "name": "stderr",
          "text": [
            "/usr/local/lib/python3.7/dist-packages/librosa/core/audio.py:165: UserWarning: PySoundFile failed. Trying audioread instead.\n",
            "  warnings.warn(\"PySoundFile failed. Trying audioread instead.\")\n"
          ]
        },
        {
          "output_type": "stream",
          "name": "stdout",
          "text": [
            "/content/drive/MyDrive/Colab Notebooks/Thesis/voice recognition/dataset/174116.wav, segment of test data:1\n",
            "/content/drive/MyDrive/Colab Notebooks/Thesis/voice recognition/dataset/174116.wav, segment of test data:2\n",
            "/content/drive/MyDrive/Colab Notebooks/Thesis/voice recognition/dataset/174116.wav, segment of test data:3\n",
            "/content/drive/MyDrive/Colab Notebooks/Thesis/voice recognition/dataset/174116.wav, segment of test data:4\n",
            "/content/drive/MyDrive/Colab Notebooks/Thesis/voice recognition/dataset/174116.wav, segment of test data:5\n",
            "/content/drive/MyDrive/Colab Notebooks/Thesis/voice recognition/dataset/174116.wav, segment of test data:6\n",
            "/content/drive/MyDrive/Colab Notebooks/Thesis/voice recognition/dataset/174116.wav, segment of test data:7\n",
            "/content/drive/MyDrive/Colab Notebooks/Thesis/voice recognition/dataset/174116.wav, segment of test data:8\n",
            "/content/drive/MyDrive/Colab Notebooks/Thesis/voice recognition/dataset/174116.wav, segment of test data:9\n",
            "/content/drive/MyDrive/Colab Notebooks/Thesis/voice recognition/dataset/174116.wav, segment of test data:10\n",
            "/content/drive/MyDrive/Colab Notebooks/Thesis/voice recognition/dataset/174116.wav, segment of test data:11\n",
            "/content/drive/MyDrive/Colab Notebooks/Thesis/voice recognition/dataset/174116.wav, segment of test data:12\n",
            "/content/drive/MyDrive/Colab Notebooks/Thesis/voice recognition/dataset/174116.wav, segment of test data:13\n",
            "/content/drive/MyDrive/Colab Notebooks/Thesis/voice recognition/dataset/174116.wav, segment of test data:14\n",
            "/content/drive/MyDrive/Colab Notebooks/Thesis/voice recognition/dataset/174116.wav, segment of test data:15\n",
            "/content/drive/MyDrive/Colab Notebooks/Thesis/voice recognition/dataset/174116.wav, segment of test data:16\n",
            "/content/drive/MyDrive/Colab Notebooks/Thesis/voice recognition/dataset/174116.wav, segment of test data:17\n",
            "/content/drive/MyDrive/Colab Notebooks/Thesis/voice recognition/dataset/174116.wav, segment of test data:18\n",
            "/content/drive/MyDrive/Colab Notebooks/Thesis/voice recognition/dataset/174116.wav, segment of test data:19\n",
            "/content/drive/MyDrive/Colab Notebooks/Thesis/voice recognition/dataset/174116.wav, segment of test data:20\n",
            "164075\n"
          ]
        },
        {
          "output_type": "stream",
          "name": "stderr",
          "text": [
            "/usr/local/lib/python3.7/dist-packages/librosa/core/audio.py:165: UserWarning: PySoundFile failed. Trying audioread instead.\n",
            "  warnings.warn(\"PySoundFile failed. Trying audioread instead.\")\n"
          ]
        },
        {
          "output_type": "stream",
          "name": "stdout",
          "text": [
            "/content/drive/MyDrive/Colab Notebooks/Thesis/voice recognition/dataset/164075.wav, segment of test data:1\n",
            "/content/drive/MyDrive/Colab Notebooks/Thesis/voice recognition/dataset/164075.wav, segment of test data:2\n",
            "/content/drive/MyDrive/Colab Notebooks/Thesis/voice recognition/dataset/164075.wav, segment of test data:3\n",
            "/content/drive/MyDrive/Colab Notebooks/Thesis/voice recognition/dataset/164075.wav, segment of test data:4\n",
            "/content/drive/MyDrive/Colab Notebooks/Thesis/voice recognition/dataset/164075.wav, segment of test data:5\n",
            "/content/drive/MyDrive/Colab Notebooks/Thesis/voice recognition/dataset/164075.wav, segment of test data:6\n",
            "/content/drive/MyDrive/Colab Notebooks/Thesis/voice recognition/dataset/164075.wav, segment of test data:7\n",
            "/content/drive/MyDrive/Colab Notebooks/Thesis/voice recognition/dataset/164075.wav, segment of test data:8\n",
            "/content/drive/MyDrive/Colab Notebooks/Thesis/voice recognition/dataset/164075.wav, segment of test data:9\n",
            "/content/drive/MyDrive/Colab Notebooks/Thesis/voice recognition/dataset/164075.wav, segment of test data:10\n",
            "/content/drive/MyDrive/Colab Notebooks/Thesis/voice recognition/dataset/164075.wav, segment of test data:11\n",
            "/content/drive/MyDrive/Colab Notebooks/Thesis/voice recognition/dataset/164075.wav, segment of test data:12\n",
            "/content/drive/MyDrive/Colab Notebooks/Thesis/voice recognition/dataset/164075.wav, segment of test data:13\n",
            "/content/drive/MyDrive/Colab Notebooks/Thesis/voice recognition/dataset/164075.wav, segment of test data:14\n",
            "/content/drive/MyDrive/Colab Notebooks/Thesis/voice recognition/dataset/164075.wav, segment of test data:15\n",
            "/content/drive/MyDrive/Colab Notebooks/Thesis/voice recognition/dataset/164075.wav, segment of test data:16\n",
            "/content/drive/MyDrive/Colab Notebooks/Thesis/voice recognition/dataset/164075.wav, segment of test data:17\n",
            "/content/drive/MyDrive/Colab Notebooks/Thesis/voice recognition/dataset/164075.wav, segment of test data:18\n",
            "/content/drive/MyDrive/Colab Notebooks/Thesis/voice recognition/dataset/164075.wav, segment of test data:19\n",
            "/content/drive/MyDrive/Colab Notebooks/Thesis/voice recognition/dataset/164075.wav, segment of test data:20\n",
            "164116\n"
          ]
        },
        {
          "output_type": "stream",
          "name": "stderr",
          "text": [
            "/usr/local/lib/python3.7/dist-packages/librosa/core/audio.py:165: UserWarning: PySoundFile failed. Trying audioread instead.\n",
            "  warnings.warn(\"PySoundFile failed. Trying audioread instead.\")\n"
          ]
        },
        {
          "output_type": "stream",
          "name": "stdout",
          "text": [
            "/content/drive/MyDrive/Colab Notebooks/Thesis/voice recognition/dataset/164116.wav, segment of test data:1\n",
            "/content/drive/MyDrive/Colab Notebooks/Thesis/voice recognition/dataset/164116.wav, segment of test data:2\n",
            "/content/drive/MyDrive/Colab Notebooks/Thesis/voice recognition/dataset/164116.wav, segment of test data:3\n",
            "/content/drive/MyDrive/Colab Notebooks/Thesis/voice recognition/dataset/164116.wav, segment of test data:4\n",
            "/content/drive/MyDrive/Colab Notebooks/Thesis/voice recognition/dataset/164116.wav, segment of test data:5\n",
            "/content/drive/MyDrive/Colab Notebooks/Thesis/voice recognition/dataset/164116.wav, segment of test data:6\n",
            "/content/drive/MyDrive/Colab Notebooks/Thesis/voice recognition/dataset/164116.wav, segment of test data:7\n",
            "/content/drive/MyDrive/Colab Notebooks/Thesis/voice recognition/dataset/164116.wav, segment of test data:8\n",
            "/content/drive/MyDrive/Colab Notebooks/Thesis/voice recognition/dataset/164116.wav, segment of test data:9\n",
            "/content/drive/MyDrive/Colab Notebooks/Thesis/voice recognition/dataset/164116.wav, segment of test data:10\n",
            "/content/drive/MyDrive/Colab Notebooks/Thesis/voice recognition/dataset/164116.wav, segment of test data:11\n",
            "/content/drive/MyDrive/Colab Notebooks/Thesis/voice recognition/dataset/164116.wav, segment of test data:12\n",
            "/content/drive/MyDrive/Colab Notebooks/Thesis/voice recognition/dataset/164116.wav, segment of test data:13\n",
            "/content/drive/MyDrive/Colab Notebooks/Thesis/voice recognition/dataset/164116.wav, segment of test data:14\n",
            "/content/drive/MyDrive/Colab Notebooks/Thesis/voice recognition/dataset/164116.wav, segment of test data:15\n",
            "/content/drive/MyDrive/Colab Notebooks/Thesis/voice recognition/dataset/164116.wav, segment of test data:16\n",
            "/content/drive/MyDrive/Colab Notebooks/Thesis/voice recognition/dataset/164116.wav, segment of test data:17\n",
            "/content/drive/MyDrive/Colab Notebooks/Thesis/voice recognition/dataset/164116.wav, segment of test data:18\n",
            "/content/drive/MyDrive/Colab Notebooks/Thesis/voice recognition/dataset/164116.wav, segment of test data:19\n",
            "/content/drive/MyDrive/Colab Notebooks/Thesis/voice recognition/dataset/164116.wav, segment of test data:20\n",
            "167001\n",
            "/content/drive/MyDrive/Colab Notebooks/Thesis/voice recognition/dataset/167001.wav, segment of test data:1\n",
            "/content/drive/MyDrive/Colab Notebooks/Thesis/voice recognition/dataset/167001.wav, segment of test data:2\n",
            "/content/drive/MyDrive/Colab Notebooks/Thesis/voice recognition/dataset/167001.wav, segment of test data:3\n",
            "/content/drive/MyDrive/Colab Notebooks/Thesis/voice recognition/dataset/167001.wav, segment of test data:4\n",
            "/content/drive/MyDrive/Colab Notebooks/Thesis/voice recognition/dataset/167001.wav, segment of test data:5\n",
            "/content/drive/MyDrive/Colab Notebooks/Thesis/voice recognition/dataset/167001.wav, segment of test data:6\n",
            "/content/drive/MyDrive/Colab Notebooks/Thesis/voice recognition/dataset/167001.wav, segment of test data:7\n",
            "/content/drive/MyDrive/Colab Notebooks/Thesis/voice recognition/dataset/167001.wav, segment of test data:8\n",
            "/content/drive/MyDrive/Colab Notebooks/Thesis/voice recognition/dataset/167001.wav, segment of test data:9\n",
            "/content/drive/MyDrive/Colab Notebooks/Thesis/voice recognition/dataset/167001.wav, segment of test data:10\n",
            "/content/drive/MyDrive/Colab Notebooks/Thesis/voice recognition/dataset/167001.wav, segment of test data:11\n",
            "/content/drive/MyDrive/Colab Notebooks/Thesis/voice recognition/dataset/167001.wav, segment of test data:12\n",
            "/content/drive/MyDrive/Colab Notebooks/Thesis/voice recognition/dataset/167001.wav, segment of test data:13\n",
            "/content/drive/MyDrive/Colab Notebooks/Thesis/voice recognition/dataset/167001.wav, segment of test data:14\n",
            "/content/drive/MyDrive/Colab Notebooks/Thesis/voice recognition/dataset/167001.wav, segment of test data:15\n",
            "/content/drive/MyDrive/Colab Notebooks/Thesis/voice recognition/dataset/167001.wav, segment of test data:16\n",
            "/content/drive/MyDrive/Colab Notebooks/Thesis/voice recognition/dataset/167001.wav, segment of test data:17\n",
            "/content/drive/MyDrive/Colab Notebooks/Thesis/voice recognition/dataset/167001.wav, segment of test data:18\n",
            "/content/drive/MyDrive/Colab Notebooks/Thesis/voice recognition/dataset/167001.wav, segment of test data:19\n",
            "/content/drive/MyDrive/Colab Notebooks/Thesis/voice recognition/dataset/167001.wav, segment of test data:20\n",
            "193071\n",
            "/content/drive/MyDrive/Colab Notebooks/Thesis/voice recognition/dataset/193071.wav, segment of test data:1\n",
            "/content/drive/MyDrive/Colab Notebooks/Thesis/voice recognition/dataset/193071.wav, segment of test data:2\n",
            "/content/drive/MyDrive/Colab Notebooks/Thesis/voice recognition/dataset/193071.wav, segment of test data:3\n",
            "/content/drive/MyDrive/Colab Notebooks/Thesis/voice recognition/dataset/193071.wav, segment of test data:4\n",
            "/content/drive/MyDrive/Colab Notebooks/Thesis/voice recognition/dataset/193071.wav, segment of test data:5\n",
            "/content/drive/MyDrive/Colab Notebooks/Thesis/voice recognition/dataset/193071.wav, segment of test data:6\n",
            "/content/drive/MyDrive/Colab Notebooks/Thesis/voice recognition/dataset/193071.wav, segment of test data:7\n",
            "/content/drive/MyDrive/Colab Notebooks/Thesis/voice recognition/dataset/193071.wav, segment of test data:8\n",
            "/content/drive/MyDrive/Colab Notebooks/Thesis/voice recognition/dataset/193071.wav, segment of test data:9\n",
            "/content/drive/MyDrive/Colab Notebooks/Thesis/voice recognition/dataset/193071.wav, segment of test data:10\n",
            "/content/drive/MyDrive/Colab Notebooks/Thesis/voice recognition/dataset/193071.wav, segment of test data:11\n",
            "/content/drive/MyDrive/Colab Notebooks/Thesis/voice recognition/dataset/193071.wav, segment of test data:12\n",
            "/content/drive/MyDrive/Colab Notebooks/Thesis/voice recognition/dataset/193071.wav, segment of test data:13\n",
            "/content/drive/MyDrive/Colab Notebooks/Thesis/voice recognition/dataset/193071.wav, segment of test data:14\n",
            "/content/drive/MyDrive/Colab Notebooks/Thesis/voice recognition/dataset/193071.wav, segment of test data:15\n",
            "/content/drive/MyDrive/Colab Notebooks/Thesis/voice recognition/dataset/193071.wav, segment of test data:16\n",
            "/content/drive/MyDrive/Colab Notebooks/Thesis/voice recognition/dataset/193071.wav, segment of test data:17\n",
            "/content/drive/MyDrive/Colab Notebooks/Thesis/voice recognition/dataset/193071.wav, segment of test data:18\n",
            "/content/drive/MyDrive/Colab Notebooks/Thesis/voice recognition/dataset/193071.wav, segment of test data:19\n",
            "/content/drive/MyDrive/Colab Notebooks/Thesis/voice recognition/dataset/193071.wav, segment of test data:20\n",
            "203062\n"
          ]
        },
        {
          "output_type": "stream",
          "name": "stderr",
          "text": [
            "/usr/local/lib/python3.7/dist-packages/librosa/core/audio.py:165: UserWarning: PySoundFile failed. Trying audioread instead.\n",
            "  warnings.warn(\"PySoundFile failed. Trying audioread instead.\")\n"
          ]
        },
        {
          "output_type": "stream",
          "name": "stdout",
          "text": [
            "/content/drive/MyDrive/Colab Notebooks/Thesis/voice recognition/dataset/203062.wav, segment of test data:1\n",
            "/content/drive/MyDrive/Colab Notebooks/Thesis/voice recognition/dataset/203062.wav, segment of test data:2\n",
            "/content/drive/MyDrive/Colab Notebooks/Thesis/voice recognition/dataset/203062.wav, segment of test data:3\n",
            "/content/drive/MyDrive/Colab Notebooks/Thesis/voice recognition/dataset/203062.wav, segment of test data:4\n",
            "/content/drive/MyDrive/Colab Notebooks/Thesis/voice recognition/dataset/203062.wav, segment of test data:5\n",
            "/content/drive/MyDrive/Colab Notebooks/Thesis/voice recognition/dataset/203062.wav, segment of test data:6\n",
            "/content/drive/MyDrive/Colab Notebooks/Thesis/voice recognition/dataset/203062.wav, segment of test data:7\n",
            "/content/drive/MyDrive/Colab Notebooks/Thesis/voice recognition/dataset/203062.wav, segment of test data:8\n",
            "/content/drive/MyDrive/Colab Notebooks/Thesis/voice recognition/dataset/203062.wav, segment of test data:9\n",
            "/content/drive/MyDrive/Colab Notebooks/Thesis/voice recognition/dataset/203062.wav, segment of test data:10\n",
            "/content/drive/MyDrive/Colab Notebooks/Thesis/voice recognition/dataset/203062.wav, segment of test data:11\n",
            "/content/drive/MyDrive/Colab Notebooks/Thesis/voice recognition/dataset/203062.wav, segment of test data:12\n",
            "/content/drive/MyDrive/Colab Notebooks/Thesis/voice recognition/dataset/203062.wav, segment of test data:13\n",
            "/content/drive/MyDrive/Colab Notebooks/Thesis/voice recognition/dataset/203062.wav, segment of test data:14\n",
            "/content/drive/MyDrive/Colab Notebooks/Thesis/voice recognition/dataset/203062.wav, segment of test data:15\n",
            "/content/drive/MyDrive/Colab Notebooks/Thesis/voice recognition/dataset/203062.wav, segment of test data:16\n",
            "/content/drive/MyDrive/Colab Notebooks/Thesis/voice recognition/dataset/203062.wav, segment of test data:17\n",
            "/content/drive/MyDrive/Colab Notebooks/Thesis/voice recognition/dataset/203062.wav, segment of test data:18\n",
            "/content/drive/MyDrive/Colab Notebooks/Thesis/voice recognition/dataset/203062.wav, segment of test data:19\n",
            "/content/drive/MyDrive/Colab Notebooks/Thesis/voice recognition/dataset/203062.wav, segment of test data:20\n",
            "164089\n"
          ]
        },
        {
          "output_type": "stream",
          "name": "stderr",
          "text": [
            "/usr/local/lib/python3.7/dist-packages/librosa/core/audio.py:165: UserWarning: PySoundFile failed. Trying audioread instead.\n",
            "  warnings.warn(\"PySoundFile failed. Trying audioread instead.\")\n"
          ]
        },
        {
          "output_type": "stream",
          "name": "stdout",
          "text": [
            "/content/drive/MyDrive/Colab Notebooks/Thesis/voice recognition/dataset/164089.wav, segment of test data:1\n",
            "/content/drive/MyDrive/Colab Notebooks/Thesis/voice recognition/dataset/164089.wav, segment of test data:2\n",
            "/content/drive/MyDrive/Colab Notebooks/Thesis/voice recognition/dataset/164089.wav, segment of test data:3\n",
            "/content/drive/MyDrive/Colab Notebooks/Thesis/voice recognition/dataset/164089.wav, segment of test data:4\n",
            "/content/drive/MyDrive/Colab Notebooks/Thesis/voice recognition/dataset/164089.wav, segment of test data:5\n",
            "/content/drive/MyDrive/Colab Notebooks/Thesis/voice recognition/dataset/164089.wav, segment of test data:6\n",
            "/content/drive/MyDrive/Colab Notebooks/Thesis/voice recognition/dataset/164089.wav, segment of test data:7\n",
            "/content/drive/MyDrive/Colab Notebooks/Thesis/voice recognition/dataset/164089.wav, segment of test data:8\n",
            "/content/drive/MyDrive/Colab Notebooks/Thesis/voice recognition/dataset/164089.wav, segment of test data:9\n",
            "/content/drive/MyDrive/Colab Notebooks/Thesis/voice recognition/dataset/164089.wav, segment of test data:10\n",
            "/content/drive/MyDrive/Colab Notebooks/Thesis/voice recognition/dataset/164089.wav, segment of test data:11\n",
            "/content/drive/MyDrive/Colab Notebooks/Thesis/voice recognition/dataset/164089.wav, segment of test data:12\n",
            "/content/drive/MyDrive/Colab Notebooks/Thesis/voice recognition/dataset/164089.wav, segment of test data:13\n",
            "/content/drive/MyDrive/Colab Notebooks/Thesis/voice recognition/dataset/164089.wav, segment of test data:14\n",
            "/content/drive/MyDrive/Colab Notebooks/Thesis/voice recognition/dataset/164089.wav, segment of test data:15\n",
            "/content/drive/MyDrive/Colab Notebooks/Thesis/voice recognition/dataset/164089.wav, segment of test data:16\n",
            "/content/drive/MyDrive/Colab Notebooks/Thesis/voice recognition/dataset/164089.wav, segment of test data:17\n",
            "/content/drive/MyDrive/Colab Notebooks/Thesis/voice recognition/dataset/164089.wav, segment of test data:18\n",
            "/content/drive/MyDrive/Colab Notebooks/Thesis/voice recognition/dataset/164089.wav, segment of test data:19\n",
            "/content/drive/MyDrive/Colab Notebooks/Thesis/voice recognition/dataset/164089.wav, segment of test data:20\n",
            "167020\n",
            "/content/drive/MyDrive/Colab Notebooks/Thesis/voice recognition/dataset/167020.wav, segment of test data:1\n",
            "/content/drive/MyDrive/Colab Notebooks/Thesis/voice recognition/dataset/167020.wav, segment of test data:2\n",
            "/content/drive/MyDrive/Colab Notebooks/Thesis/voice recognition/dataset/167020.wav, segment of test data:3\n",
            "/content/drive/MyDrive/Colab Notebooks/Thesis/voice recognition/dataset/167020.wav, segment of test data:4\n",
            "/content/drive/MyDrive/Colab Notebooks/Thesis/voice recognition/dataset/167020.wav, segment of test data:5\n",
            "/content/drive/MyDrive/Colab Notebooks/Thesis/voice recognition/dataset/167020.wav, segment of test data:6\n",
            "/content/drive/MyDrive/Colab Notebooks/Thesis/voice recognition/dataset/167020.wav, segment of test data:7\n",
            "/content/drive/MyDrive/Colab Notebooks/Thesis/voice recognition/dataset/167020.wav, segment of test data:8\n",
            "/content/drive/MyDrive/Colab Notebooks/Thesis/voice recognition/dataset/167020.wav, segment of test data:9\n",
            "/content/drive/MyDrive/Colab Notebooks/Thesis/voice recognition/dataset/167020.wav, segment of test data:10\n",
            "/content/drive/MyDrive/Colab Notebooks/Thesis/voice recognition/dataset/167020.wav, segment of test data:11\n",
            "/content/drive/MyDrive/Colab Notebooks/Thesis/voice recognition/dataset/167020.wav, segment of test data:12\n",
            "/content/drive/MyDrive/Colab Notebooks/Thesis/voice recognition/dataset/167020.wav, segment of test data:13\n",
            "/content/drive/MyDrive/Colab Notebooks/Thesis/voice recognition/dataset/167020.wav, segment of test data:14\n",
            "/content/drive/MyDrive/Colab Notebooks/Thesis/voice recognition/dataset/167020.wav, segment of test data:15\n",
            "/content/drive/MyDrive/Colab Notebooks/Thesis/voice recognition/dataset/167020.wav, segment of test data:16\n",
            "/content/drive/MyDrive/Colab Notebooks/Thesis/voice recognition/dataset/167020.wav, segment of test data:17\n",
            "/content/drive/MyDrive/Colab Notebooks/Thesis/voice recognition/dataset/167020.wav, segment of test data:18\n",
            "/content/drive/MyDrive/Colab Notebooks/Thesis/voice recognition/dataset/167020.wav, segment of test data:19\n",
            "/content/drive/MyDrive/Colab Notebooks/Thesis/voice recognition/dataset/167020.wav, segment of test data:20\n",
            "193009\n"
          ]
        },
        {
          "output_type": "stream",
          "name": "stderr",
          "text": [
            "/usr/local/lib/python3.7/dist-packages/librosa/core/audio.py:165: UserWarning: PySoundFile failed. Trying audioread instead.\n",
            "  warnings.warn(\"PySoundFile failed. Trying audioread instead.\")\n"
          ]
        },
        {
          "output_type": "stream",
          "name": "stdout",
          "text": [
            "/content/drive/MyDrive/Colab Notebooks/Thesis/voice recognition/dataset/193009.wav, segment of test data:1\n",
            "/content/drive/MyDrive/Colab Notebooks/Thesis/voice recognition/dataset/193009.wav, segment of test data:2\n",
            "/content/drive/MyDrive/Colab Notebooks/Thesis/voice recognition/dataset/193009.wav, segment of test data:3\n",
            "/content/drive/MyDrive/Colab Notebooks/Thesis/voice recognition/dataset/193009.wav, segment of test data:4\n",
            "/content/drive/MyDrive/Colab Notebooks/Thesis/voice recognition/dataset/193009.wav, segment of test data:5\n",
            "/content/drive/MyDrive/Colab Notebooks/Thesis/voice recognition/dataset/193009.wav, segment of test data:6\n",
            "/content/drive/MyDrive/Colab Notebooks/Thesis/voice recognition/dataset/193009.wav, segment of test data:7\n",
            "/content/drive/MyDrive/Colab Notebooks/Thesis/voice recognition/dataset/193009.wav, segment of test data:8\n",
            "/content/drive/MyDrive/Colab Notebooks/Thesis/voice recognition/dataset/193009.wav, segment of test data:9\n",
            "/content/drive/MyDrive/Colab Notebooks/Thesis/voice recognition/dataset/193009.wav, segment of test data:10\n",
            "/content/drive/MyDrive/Colab Notebooks/Thesis/voice recognition/dataset/193009.wav, segment of test data:11\n",
            "/content/drive/MyDrive/Colab Notebooks/Thesis/voice recognition/dataset/193009.wav, segment of test data:12\n",
            "/content/drive/MyDrive/Colab Notebooks/Thesis/voice recognition/dataset/193009.wav, segment of test data:13\n",
            "/content/drive/MyDrive/Colab Notebooks/Thesis/voice recognition/dataset/193009.wav, segment of test data:14\n",
            "/content/drive/MyDrive/Colab Notebooks/Thesis/voice recognition/dataset/193009.wav, segment of test data:15\n",
            "/content/drive/MyDrive/Colab Notebooks/Thesis/voice recognition/dataset/193009.wav, segment of test data:16\n",
            "/content/drive/MyDrive/Colab Notebooks/Thesis/voice recognition/dataset/193009.wav, segment of test data:17\n",
            "/content/drive/MyDrive/Colab Notebooks/Thesis/voice recognition/dataset/193009.wav, segment of test data:18\n",
            "/content/drive/MyDrive/Colab Notebooks/Thesis/voice recognition/dataset/193009.wav, segment of test data:19\n",
            "/content/drive/MyDrive/Colab Notebooks/Thesis/voice recognition/dataset/193009.wav, segment of test data:20\n",
            "164082\n"
          ]
        },
        {
          "output_type": "stream",
          "name": "stderr",
          "text": [
            "/usr/local/lib/python3.7/dist-packages/librosa/core/audio.py:165: UserWarning: PySoundFile failed. Trying audioread instead.\n",
            "  warnings.warn(\"PySoundFile failed. Trying audioread instead.\")\n"
          ]
        },
        {
          "output_type": "stream",
          "name": "stdout",
          "text": [
            "/content/drive/MyDrive/Colab Notebooks/Thesis/voice recognition/dataset/164082.wav, segment of test data:1\n",
            "/content/drive/MyDrive/Colab Notebooks/Thesis/voice recognition/dataset/164082.wav, segment of test data:2\n",
            "/content/drive/MyDrive/Colab Notebooks/Thesis/voice recognition/dataset/164082.wav, segment of test data:3\n",
            "/content/drive/MyDrive/Colab Notebooks/Thesis/voice recognition/dataset/164082.wav, segment of test data:4\n",
            "/content/drive/MyDrive/Colab Notebooks/Thesis/voice recognition/dataset/164082.wav, segment of test data:5\n",
            "/content/drive/MyDrive/Colab Notebooks/Thesis/voice recognition/dataset/164082.wav, segment of test data:6\n",
            "/content/drive/MyDrive/Colab Notebooks/Thesis/voice recognition/dataset/164082.wav, segment of test data:7\n",
            "/content/drive/MyDrive/Colab Notebooks/Thesis/voice recognition/dataset/164082.wav, segment of test data:8\n",
            "/content/drive/MyDrive/Colab Notebooks/Thesis/voice recognition/dataset/164082.wav, segment of test data:9\n",
            "/content/drive/MyDrive/Colab Notebooks/Thesis/voice recognition/dataset/164082.wav, segment of test data:10\n",
            "/content/drive/MyDrive/Colab Notebooks/Thesis/voice recognition/dataset/164082.wav, segment of test data:11\n",
            "/content/drive/MyDrive/Colab Notebooks/Thesis/voice recognition/dataset/164082.wav, segment of test data:12\n",
            "/content/drive/MyDrive/Colab Notebooks/Thesis/voice recognition/dataset/164082.wav, segment of test data:13\n",
            "/content/drive/MyDrive/Colab Notebooks/Thesis/voice recognition/dataset/164082.wav, segment of test data:14\n",
            "/content/drive/MyDrive/Colab Notebooks/Thesis/voice recognition/dataset/164082.wav, segment of test data:15\n",
            "/content/drive/MyDrive/Colab Notebooks/Thesis/voice recognition/dataset/164082.wav, segment of test data:16\n",
            "/content/drive/MyDrive/Colab Notebooks/Thesis/voice recognition/dataset/164082.wav, segment of test data:17\n",
            "/content/drive/MyDrive/Colab Notebooks/Thesis/voice recognition/dataset/164082.wav, segment of test data:18\n",
            "/content/drive/MyDrive/Colab Notebooks/Thesis/voice recognition/dataset/164082.wav, segment of test data:19\n",
            "/content/drive/MyDrive/Colab Notebooks/Thesis/voice recognition/dataset/164082.wav, segment of test data:20\n",
            "164083\n"
          ]
        },
        {
          "output_type": "stream",
          "name": "stderr",
          "text": [
            "/usr/local/lib/python3.7/dist-packages/librosa/core/audio.py:165: UserWarning: PySoundFile failed. Trying audioread instead.\n",
            "  warnings.warn(\"PySoundFile failed. Trying audioread instead.\")\n"
          ]
        },
        {
          "output_type": "stream",
          "name": "stdout",
          "text": [
            "/content/drive/MyDrive/Colab Notebooks/Thesis/voice recognition/dataset/164083.wav, segment of test data:1\n",
            "/content/drive/MyDrive/Colab Notebooks/Thesis/voice recognition/dataset/164083.wav, segment of test data:2\n",
            "/content/drive/MyDrive/Colab Notebooks/Thesis/voice recognition/dataset/164083.wav, segment of test data:3\n",
            "/content/drive/MyDrive/Colab Notebooks/Thesis/voice recognition/dataset/164083.wav, segment of test data:4\n",
            "/content/drive/MyDrive/Colab Notebooks/Thesis/voice recognition/dataset/164083.wav, segment of test data:5\n",
            "/content/drive/MyDrive/Colab Notebooks/Thesis/voice recognition/dataset/164083.wav, segment of test data:6\n",
            "/content/drive/MyDrive/Colab Notebooks/Thesis/voice recognition/dataset/164083.wav, segment of test data:7\n",
            "/content/drive/MyDrive/Colab Notebooks/Thesis/voice recognition/dataset/164083.wav, segment of test data:8\n",
            "/content/drive/MyDrive/Colab Notebooks/Thesis/voice recognition/dataset/164083.wav, segment of test data:9\n",
            "/content/drive/MyDrive/Colab Notebooks/Thesis/voice recognition/dataset/164083.wav, segment of test data:10\n",
            "/content/drive/MyDrive/Colab Notebooks/Thesis/voice recognition/dataset/164083.wav, segment of test data:11\n",
            "/content/drive/MyDrive/Colab Notebooks/Thesis/voice recognition/dataset/164083.wav, segment of test data:12\n",
            "/content/drive/MyDrive/Colab Notebooks/Thesis/voice recognition/dataset/164083.wav, segment of test data:13\n",
            "/content/drive/MyDrive/Colab Notebooks/Thesis/voice recognition/dataset/164083.wav, segment of test data:14\n",
            "/content/drive/MyDrive/Colab Notebooks/Thesis/voice recognition/dataset/164083.wav, segment of test data:15\n",
            "/content/drive/MyDrive/Colab Notebooks/Thesis/voice recognition/dataset/164083.wav, segment of test data:16\n",
            "/content/drive/MyDrive/Colab Notebooks/Thesis/voice recognition/dataset/164083.wav, segment of test data:17\n",
            "/content/drive/MyDrive/Colab Notebooks/Thesis/voice recognition/dataset/164083.wav, segment of test data:18\n",
            "/content/drive/MyDrive/Colab Notebooks/Thesis/voice recognition/dataset/164083.wav, segment of test data:19\n",
            "/content/drive/MyDrive/Colab Notebooks/Thesis/voice recognition/dataset/164083.wav, segment of test data:20\n",
            "164062\n"
          ]
        },
        {
          "output_type": "stream",
          "name": "stderr",
          "text": [
            "/usr/local/lib/python3.7/dist-packages/librosa/core/audio.py:165: UserWarning: PySoundFile failed. Trying audioread instead.\n",
            "  warnings.warn(\"PySoundFile failed. Trying audioread instead.\")\n"
          ]
        },
        {
          "output_type": "stream",
          "name": "stdout",
          "text": [
            "/content/drive/MyDrive/Colab Notebooks/Thesis/voice recognition/dataset/164062.wav, segment of test data:1\n",
            "/content/drive/MyDrive/Colab Notebooks/Thesis/voice recognition/dataset/164062.wav, segment of test data:2\n",
            "/content/drive/MyDrive/Colab Notebooks/Thesis/voice recognition/dataset/164062.wav, segment of test data:3\n",
            "/content/drive/MyDrive/Colab Notebooks/Thesis/voice recognition/dataset/164062.wav, segment of test data:4\n",
            "/content/drive/MyDrive/Colab Notebooks/Thesis/voice recognition/dataset/164062.wav, segment of test data:5\n",
            "/content/drive/MyDrive/Colab Notebooks/Thesis/voice recognition/dataset/164062.wav, segment of test data:6\n",
            "/content/drive/MyDrive/Colab Notebooks/Thesis/voice recognition/dataset/164062.wav, segment of test data:7\n",
            "/content/drive/MyDrive/Colab Notebooks/Thesis/voice recognition/dataset/164062.wav, segment of test data:8\n",
            "/content/drive/MyDrive/Colab Notebooks/Thesis/voice recognition/dataset/164062.wav, segment of test data:9\n",
            "/content/drive/MyDrive/Colab Notebooks/Thesis/voice recognition/dataset/164062.wav, segment of test data:10\n",
            "/content/drive/MyDrive/Colab Notebooks/Thesis/voice recognition/dataset/164062.wav, segment of test data:11\n",
            "/content/drive/MyDrive/Colab Notebooks/Thesis/voice recognition/dataset/164062.wav, segment of test data:12\n",
            "/content/drive/MyDrive/Colab Notebooks/Thesis/voice recognition/dataset/164062.wav, segment of test data:13\n",
            "/content/drive/MyDrive/Colab Notebooks/Thesis/voice recognition/dataset/164062.wav, segment of test data:14\n",
            "/content/drive/MyDrive/Colab Notebooks/Thesis/voice recognition/dataset/164062.wav, segment of test data:15\n",
            "/content/drive/MyDrive/Colab Notebooks/Thesis/voice recognition/dataset/164062.wav, segment of test data:16\n",
            "/content/drive/MyDrive/Colab Notebooks/Thesis/voice recognition/dataset/164062.wav, segment of test data:17\n",
            "/content/drive/MyDrive/Colab Notebooks/Thesis/voice recognition/dataset/164062.wav, segment of test data:18\n",
            "/content/drive/MyDrive/Colab Notebooks/Thesis/voice recognition/dataset/164062.wav, segment of test data:19\n",
            "/content/drive/MyDrive/Colab Notebooks/Thesis/voice recognition/dataset/164062.wav, segment of test data:20\n",
            "164004\n",
            "/content/drive/MyDrive/Colab Notebooks/Thesis/voice recognition/dataset/164004.wav, segment of test data:1\n",
            "/content/drive/MyDrive/Colab Notebooks/Thesis/voice recognition/dataset/164004.wav, segment of test data:2\n",
            "/content/drive/MyDrive/Colab Notebooks/Thesis/voice recognition/dataset/164004.wav, segment of test data:3\n",
            "/content/drive/MyDrive/Colab Notebooks/Thesis/voice recognition/dataset/164004.wav, segment of test data:4\n",
            "/content/drive/MyDrive/Colab Notebooks/Thesis/voice recognition/dataset/164004.wav, segment of test data:5\n",
            "/content/drive/MyDrive/Colab Notebooks/Thesis/voice recognition/dataset/164004.wav, segment of test data:6\n",
            "/content/drive/MyDrive/Colab Notebooks/Thesis/voice recognition/dataset/164004.wav, segment of test data:7\n",
            "/content/drive/MyDrive/Colab Notebooks/Thesis/voice recognition/dataset/164004.wav, segment of test data:8\n",
            "/content/drive/MyDrive/Colab Notebooks/Thesis/voice recognition/dataset/164004.wav, segment of test data:9\n",
            "/content/drive/MyDrive/Colab Notebooks/Thesis/voice recognition/dataset/164004.wav, segment of test data:10\n",
            "/content/drive/MyDrive/Colab Notebooks/Thesis/voice recognition/dataset/164004.wav, segment of test data:11\n",
            "/content/drive/MyDrive/Colab Notebooks/Thesis/voice recognition/dataset/164004.wav, segment of test data:12\n",
            "/content/drive/MyDrive/Colab Notebooks/Thesis/voice recognition/dataset/164004.wav, segment of test data:13\n",
            "/content/drive/MyDrive/Colab Notebooks/Thesis/voice recognition/dataset/164004.wav, segment of test data:14\n",
            "/content/drive/MyDrive/Colab Notebooks/Thesis/voice recognition/dataset/164004.wav, segment of test data:15\n",
            "/content/drive/MyDrive/Colab Notebooks/Thesis/voice recognition/dataset/164004.wav, segment of test data:16\n",
            "/content/drive/MyDrive/Colab Notebooks/Thesis/voice recognition/dataset/164004.wav, segment of test data:17\n",
            "/content/drive/MyDrive/Colab Notebooks/Thesis/voice recognition/dataset/164004.wav, segment of test data:18\n",
            "/content/drive/MyDrive/Colab Notebooks/Thesis/voice recognition/dataset/164004.wav, segment of test data:19\n",
            "/content/drive/MyDrive/Colab Notebooks/Thesis/voice recognition/dataset/164004.wav, segment of test data:20\n",
            "164056\n"
          ]
        },
        {
          "output_type": "stream",
          "name": "stderr",
          "text": [
            "/usr/local/lib/python3.7/dist-packages/librosa/core/audio.py:165: UserWarning: PySoundFile failed. Trying audioread instead.\n",
            "  warnings.warn(\"PySoundFile failed. Trying audioread instead.\")\n"
          ]
        },
        {
          "output_type": "stream",
          "name": "stdout",
          "text": [
            "/content/drive/MyDrive/Colab Notebooks/Thesis/voice recognition/dataset/164056.wav, segment of test data:1\n",
            "/content/drive/MyDrive/Colab Notebooks/Thesis/voice recognition/dataset/164056.wav, segment of test data:2\n",
            "/content/drive/MyDrive/Colab Notebooks/Thesis/voice recognition/dataset/164056.wav, segment of test data:3\n",
            "/content/drive/MyDrive/Colab Notebooks/Thesis/voice recognition/dataset/164056.wav, segment of test data:4\n",
            "/content/drive/MyDrive/Colab Notebooks/Thesis/voice recognition/dataset/164056.wav, segment of test data:5\n",
            "/content/drive/MyDrive/Colab Notebooks/Thesis/voice recognition/dataset/164056.wav, segment of test data:6\n",
            "/content/drive/MyDrive/Colab Notebooks/Thesis/voice recognition/dataset/164056.wav, segment of test data:7\n",
            "/content/drive/MyDrive/Colab Notebooks/Thesis/voice recognition/dataset/164056.wav, segment of test data:8\n",
            "/content/drive/MyDrive/Colab Notebooks/Thesis/voice recognition/dataset/164056.wav, segment of test data:9\n",
            "/content/drive/MyDrive/Colab Notebooks/Thesis/voice recognition/dataset/164056.wav, segment of test data:10\n",
            "/content/drive/MyDrive/Colab Notebooks/Thesis/voice recognition/dataset/164056.wav, segment of test data:11\n",
            "/content/drive/MyDrive/Colab Notebooks/Thesis/voice recognition/dataset/164056.wav, segment of test data:12\n",
            "/content/drive/MyDrive/Colab Notebooks/Thesis/voice recognition/dataset/164056.wav, segment of test data:13\n",
            "/content/drive/MyDrive/Colab Notebooks/Thesis/voice recognition/dataset/164056.wav, segment of test data:14\n",
            "/content/drive/MyDrive/Colab Notebooks/Thesis/voice recognition/dataset/164056.wav, segment of test data:15\n",
            "/content/drive/MyDrive/Colab Notebooks/Thesis/voice recognition/dataset/164056.wav, segment of test data:16\n",
            "/content/drive/MyDrive/Colab Notebooks/Thesis/voice recognition/dataset/164056.wav, segment of test data:17\n",
            "/content/drive/MyDrive/Colab Notebooks/Thesis/voice recognition/dataset/164056.wav, segment of test data:18\n",
            "/content/drive/MyDrive/Colab Notebooks/Thesis/voice recognition/dataset/164056.wav, segment of test data:19\n",
            "/content/drive/MyDrive/Colab Notebooks/Thesis/voice recognition/dataset/164056.wav, segment of test data:20\n",
            "164030\n",
            "/content/drive/MyDrive/Colab Notebooks/Thesis/voice recognition/dataset/164030.wav, segment of test data:1\n",
            "/content/drive/MyDrive/Colab Notebooks/Thesis/voice recognition/dataset/164030.wav, segment of test data:2\n",
            "/content/drive/MyDrive/Colab Notebooks/Thesis/voice recognition/dataset/164030.wav, segment of test data:3\n",
            "/content/drive/MyDrive/Colab Notebooks/Thesis/voice recognition/dataset/164030.wav, segment of test data:4\n",
            "/content/drive/MyDrive/Colab Notebooks/Thesis/voice recognition/dataset/164030.wav, segment of test data:5\n",
            "/content/drive/MyDrive/Colab Notebooks/Thesis/voice recognition/dataset/164030.wav, segment of test data:6\n",
            "/content/drive/MyDrive/Colab Notebooks/Thesis/voice recognition/dataset/164030.wav, segment of test data:7\n",
            "/content/drive/MyDrive/Colab Notebooks/Thesis/voice recognition/dataset/164030.wav, segment of test data:8\n",
            "/content/drive/MyDrive/Colab Notebooks/Thesis/voice recognition/dataset/164030.wav, segment of test data:9\n",
            "/content/drive/MyDrive/Colab Notebooks/Thesis/voice recognition/dataset/164030.wav, segment of test data:10\n",
            "/content/drive/MyDrive/Colab Notebooks/Thesis/voice recognition/dataset/164030.wav, segment of test data:11\n",
            "/content/drive/MyDrive/Colab Notebooks/Thesis/voice recognition/dataset/164030.wav, segment of test data:12\n",
            "/content/drive/MyDrive/Colab Notebooks/Thesis/voice recognition/dataset/164030.wav, segment of test data:13\n",
            "/content/drive/MyDrive/Colab Notebooks/Thesis/voice recognition/dataset/164030.wav, segment of test data:14\n",
            "/content/drive/MyDrive/Colab Notebooks/Thesis/voice recognition/dataset/164030.wav, segment of test data:15\n",
            "/content/drive/MyDrive/Colab Notebooks/Thesis/voice recognition/dataset/164030.wav, segment of test data:16\n",
            "/content/drive/MyDrive/Colab Notebooks/Thesis/voice recognition/dataset/164030.wav, segment of test data:17\n",
            "/content/drive/MyDrive/Colab Notebooks/Thesis/voice recognition/dataset/164030.wav, segment of test data:18\n",
            "/content/drive/MyDrive/Colab Notebooks/Thesis/voice recognition/dataset/164030.wav, segment of test data:19\n",
            "/content/drive/MyDrive/Colab Notebooks/Thesis/voice recognition/dataset/164030.wav, segment of test data:20\n",
            "164043\n",
            "/content/drive/MyDrive/Colab Notebooks/Thesis/voice recognition/dataset/164043.wav, segment of test data:1\n",
            "/content/drive/MyDrive/Colab Notebooks/Thesis/voice recognition/dataset/164043.wav, segment of test data:2\n",
            "/content/drive/MyDrive/Colab Notebooks/Thesis/voice recognition/dataset/164043.wav, segment of test data:3\n",
            "/content/drive/MyDrive/Colab Notebooks/Thesis/voice recognition/dataset/164043.wav, segment of test data:4\n",
            "/content/drive/MyDrive/Colab Notebooks/Thesis/voice recognition/dataset/164043.wav, segment of test data:5\n",
            "/content/drive/MyDrive/Colab Notebooks/Thesis/voice recognition/dataset/164043.wav, segment of test data:6\n",
            "/content/drive/MyDrive/Colab Notebooks/Thesis/voice recognition/dataset/164043.wav, segment of test data:7\n",
            "/content/drive/MyDrive/Colab Notebooks/Thesis/voice recognition/dataset/164043.wav, segment of test data:8\n",
            "/content/drive/MyDrive/Colab Notebooks/Thesis/voice recognition/dataset/164043.wav, segment of test data:9\n",
            "/content/drive/MyDrive/Colab Notebooks/Thesis/voice recognition/dataset/164043.wav, segment of test data:10\n",
            "/content/drive/MyDrive/Colab Notebooks/Thesis/voice recognition/dataset/164043.wav, segment of test data:11\n",
            "/content/drive/MyDrive/Colab Notebooks/Thesis/voice recognition/dataset/164043.wav, segment of test data:12\n",
            "/content/drive/MyDrive/Colab Notebooks/Thesis/voice recognition/dataset/164043.wav, segment of test data:13\n",
            "/content/drive/MyDrive/Colab Notebooks/Thesis/voice recognition/dataset/164043.wav, segment of test data:14\n",
            "/content/drive/MyDrive/Colab Notebooks/Thesis/voice recognition/dataset/164043.wav, segment of test data:15\n",
            "/content/drive/MyDrive/Colab Notebooks/Thesis/voice recognition/dataset/164043.wav, segment of test data:16\n",
            "/content/drive/MyDrive/Colab Notebooks/Thesis/voice recognition/dataset/164043.wav, segment of test data:17\n",
            "/content/drive/MyDrive/Colab Notebooks/Thesis/voice recognition/dataset/164043.wav, segment of test data:18\n",
            "/content/drive/MyDrive/Colab Notebooks/Thesis/voice recognition/dataset/164043.wav, segment of test data:19\n",
            "/content/drive/MyDrive/Colab Notebooks/Thesis/voice recognition/dataset/164043.wav, segment of test data:20\n",
            "172005\n"
          ]
        },
        {
          "output_type": "stream",
          "name": "stderr",
          "text": [
            "/usr/local/lib/python3.7/dist-packages/librosa/core/audio.py:165: UserWarning: PySoundFile failed. Trying audioread instead.\n",
            "  warnings.warn(\"PySoundFile failed. Trying audioread instead.\")\n"
          ]
        },
        {
          "output_type": "stream",
          "name": "stdout",
          "text": [
            "/content/drive/MyDrive/Colab Notebooks/Thesis/voice recognition/dataset/172005.wav, segment of test data:1\n",
            "/content/drive/MyDrive/Colab Notebooks/Thesis/voice recognition/dataset/172005.wav, segment of test data:2\n",
            "/content/drive/MyDrive/Colab Notebooks/Thesis/voice recognition/dataset/172005.wav, segment of test data:3\n",
            "/content/drive/MyDrive/Colab Notebooks/Thesis/voice recognition/dataset/172005.wav, segment of test data:4\n",
            "/content/drive/MyDrive/Colab Notebooks/Thesis/voice recognition/dataset/172005.wav, segment of test data:5\n",
            "/content/drive/MyDrive/Colab Notebooks/Thesis/voice recognition/dataset/172005.wav, segment of test data:6\n",
            "/content/drive/MyDrive/Colab Notebooks/Thesis/voice recognition/dataset/172005.wav, segment of test data:7\n",
            "/content/drive/MyDrive/Colab Notebooks/Thesis/voice recognition/dataset/172005.wav, segment of test data:8\n",
            "/content/drive/MyDrive/Colab Notebooks/Thesis/voice recognition/dataset/172005.wav, segment of test data:9\n",
            "/content/drive/MyDrive/Colab Notebooks/Thesis/voice recognition/dataset/172005.wav, segment of test data:10\n",
            "/content/drive/MyDrive/Colab Notebooks/Thesis/voice recognition/dataset/172005.wav, segment of test data:11\n",
            "/content/drive/MyDrive/Colab Notebooks/Thesis/voice recognition/dataset/172005.wav, segment of test data:12\n",
            "/content/drive/MyDrive/Colab Notebooks/Thesis/voice recognition/dataset/172005.wav, segment of test data:13\n",
            "/content/drive/MyDrive/Colab Notebooks/Thesis/voice recognition/dataset/172005.wav, segment of test data:14\n",
            "/content/drive/MyDrive/Colab Notebooks/Thesis/voice recognition/dataset/172005.wav, segment of test data:15\n",
            "/content/drive/MyDrive/Colab Notebooks/Thesis/voice recognition/dataset/172005.wav, segment of test data:16\n",
            "/content/drive/MyDrive/Colab Notebooks/Thesis/voice recognition/dataset/172005.wav, segment of test data:17\n",
            "/content/drive/MyDrive/Colab Notebooks/Thesis/voice recognition/dataset/172005.wav, segment of test data:18\n",
            "/content/drive/MyDrive/Colab Notebooks/Thesis/voice recognition/dataset/172005.wav, segment of test data:19\n",
            "/content/drive/MyDrive/Colab Notebooks/Thesis/voice recognition/dataset/172005.wav, segment of test data:20\n",
            "174028\n"
          ]
        },
        {
          "output_type": "stream",
          "name": "stderr",
          "text": [
            "/usr/local/lib/python3.7/dist-packages/librosa/core/audio.py:165: UserWarning: PySoundFile failed. Trying audioread instead.\n",
            "  warnings.warn(\"PySoundFile failed. Trying audioread instead.\")\n"
          ]
        },
        {
          "output_type": "stream",
          "name": "stdout",
          "text": [
            "/content/drive/MyDrive/Colab Notebooks/Thesis/voice recognition/dataset/174028.wav, segment of test data:1\n",
            "/content/drive/MyDrive/Colab Notebooks/Thesis/voice recognition/dataset/174028.wav, segment of test data:2\n",
            "/content/drive/MyDrive/Colab Notebooks/Thesis/voice recognition/dataset/174028.wav, segment of test data:3\n",
            "/content/drive/MyDrive/Colab Notebooks/Thesis/voice recognition/dataset/174028.wav, segment of test data:4\n",
            "/content/drive/MyDrive/Colab Notebooks/Thesis/voice recognition/dataset/174028.wav, segment of test data:5\n",
            "/content/drive/MyDrive/Colab Notebooks/Thesis/voice recognition/dataset/174028.wav, segment of test data:6\n",
            "/content/drive/MyDrive/Colab Notebooks/Thesis/voice recognition/dataset/174028.wav, segment of test data:7\n",
            "/content/drive/MyDrive/Colab Notebooks/Thesis/voice recognition/dataset/174028.wav, segment of test data:8\n",
            "/content/drive/MyDrive/Colab Notebooks/Thesis/voice recognition/dataset/174028.wav, segment of test data:9\n",
            "/content/drive/MyDrive/Colab Notebooks/Thesis/voice recognition/dataset/174028.wav, segment of test data:10\n",
            "/content/drive/MyDrive/Colab Notebooks/Thesis/voice recognition/dataset/174028.wav, segment of test data:11\n",
            "/content/drive/MyDrive/Colab Notebooks/Thesis/voice recognition/dataset/174028.wav, segment of test data:12\n",
            "/content/drive/MyDrive/Colab Notebooks/Thesis/voice recognition/dataset/174028.wav, segment of test data:13\n",
            "/content/drive/MyDrive/Colab Notebooks/Thesis/voice recognition/dataset/174028.wav, segment of test data:14\n",
            "/content/drive/MyDrive/Colab Notebooks/Thesis/voice recognition/dataset/174028.wav, segment of test data:15\n",
            "/content/drive/MyDrive/Colab Notebooks/Thesis/voice recognition/dataset/174028.wav, segment of test data:16\n",
            "/content/drive/MyDrive/Colab Notebooks/Thesis/voice recognition/dataset/174028.wav, segment of test data:17\n",
            "/content/drive/MyDrive/Colab Notebooks/Thesis/voice recognition/dataset/174028.wav, segment of test data:18\n",
            "/content/drive/MyDrive/Colab Notebooks/Thesis/voice recognition/dataset/174028.wav, segment of test data:19\n",
            "/content/drive/MyDrive/Colab Notebooks/Thesis/voice recognition/dataset/174028.wav, segment of test data:20\n",
            "164001\n"
          ]
        },
        {
          "output_type": "stream",
          "name": "stderr",
          "text": [
            "/usr/local/lib/python3.7/dist-packages/librosa/core/audio.py:165: UserWarning: PySoundFile failed. Trying audioread instead.\n",
            "  warnings.warn(\"PySoundFile failed. Trying audioread instead.\")\n"
          ]
        },
        {
          "output_type": "stream",
          "name": "stdout",
          "text": [
            "/content/drive/MyDrive/Colab Notebooks/Thesis/voice recognition/dataset/164001.wav, segment of test data:1\n",
            "/content/drive/MyDrive/Colab Notebooks/Thesis/voice recognition/dataset/164001.wav, segment of test data:2\n",
            "/content/drive/MyDrive/Colab Notebooks/Thesis/voice recognition/dataset/164001.wav, segment of test data:3\n",
            "/content/drive/MyDrive/Colab Notebooks/Thesis/voice recognition/dataset/164001.wav, segment of test data:4\n",
            "/content/drive/MyDrive/Colab Notebooks/Thesis/voice recognition/dataset/164001.wav, segment of test data:5\n",
            "/content/drive/MyDrive/Colab Notebooks/Thesis/voice recognition/dataset/164001.wav, segment of test data:6\n",
            "/content/drive/MyDrive/Colab Notebooks/Thesis/voice recognition/dataset/164001.wav, segment of test data:7\n",
            "/content/drive/MyDrive/Colab Notebooks/Thesis/voice recognition/dataset/164001.wav, segment of test data:8\n",
            "/content/drive/MyDrive/Colab Notebooks/Thesis/voice recognition/dataset/164001.wav, segment of test data:9\n",
            "/content/drive/MyDrive/Colab Notebooks/Thesis/voice recognition/dataset/164001.wav, segment of test data:10\n",
            "/content/drive/MyDrive/Colab Notebooks/Thesis/voice recognition/dataset/164001.wav, segment of test data:11\n",
            "/content/drive/MyDrive/Colab Notebooks/Thesis/voice recognition/dataset/164001.wav, segment of test data:12\n",
            "/content/drive/MyDrive/Colab Notebooks/Thesis/voice recognition/dataset/164001.wav, segment of test data:13\n",
            "/content/drive/MyDrive/Colab Notebooks/Thesis/voice recognition/dataset/164001.wav, segment of test data:14\n",
            "/content/drive/MyDrive/Colab Notebooks/Thesis/voice recognition/dataset/164001.wav, segment of test data:15\n",
            "/content/drive/MyDrive/Colab Notebooks/Thesis/voice recognition/dataset/164001.wav, segment of test data:16\n",
            "/content/drive/MyDrive/Colab Notebooks/Thesis/voice recognition/dataset/164001.wav, segment of test data:17\n",
            "/content/drive/MyDrive/Colab Notebooks/Thesis/voice recognition/dataset/164001.wav, segment of test data:18\n",
            "/content/drive/MyDrive/Colab Notebooks/Thesis/voice recognition/dataset/164001.wav, segment of test data:19\n",
            "/content/drive/MyDrive/Colab Notebooks/Thesis/voice recognition/dataset/164001.wav, segment of test data:20\n",
            "164044\n",
            "/content/drive/MyDrive/Colab Notebooks/Thesis/voice recognition/dataset/164044.wav, segment of test data:1\n",
            "/content/drive/MyDrive/Colab Notebooks/Thesis/voice recognition/dataset/164044.wav, segment of test data:2\n",
            "/content/drive/MyDrive/Colab Notebooks/Thesis/voice recognition/dataset/164044.wav, segment of test data:3\n",
            "/content/drive/MyDrive/Colab Notebooks/Thesis/voice recognition/dataset/164044.wav, segment of test data:4\n",
            "/content/drive/MyDrive/Colab Notebooks/Thesis/voice recognition/dataset/164044.wav, segment of test data:5\n",
            "/content/drive/MyDrive/Colab Notebooks/Thesis/voice recognition/dataset/164044.wav, segment of test data:6\n",
            "/content/drive/MyDrive/Colab Notebooks/Thesis/voice recognition/dataset/164044.wav, segment of test data:7\n",
            "/content/drive/MyDrive/Colab Notebooks/Thesis/voice recognition/dataset/164044.wav, segment of test data:8\n",
            "/content/drive/MyDrive/Colab Notebooks/Thesis/voice recognition/dataset/164044.wav, segment of test data:9\n",
            "/content/drive/MyDrive/Colab Notebooks/Thesis/voice recognition/dataset/164044.wav, segment of test data:10\n",
            "/content/drive/MyDrive/Colab Notebooks/Thesis/voice recognition/dataset/164044.wav, segment of test data:11\n",
            "/content/drive/MyDrive/Colab Notebooks/Thesis/voice recognition/dataset/164044.wav, segment of test data:12\n",
            "/content/drive/MyDrive/Colab Notebooks/Thesis/voice recognition/dataset/164044.wav, segment of test data:13\n",
            "/content/drive/MyDrive/Colab Notebooks/Thesis/voice recognition/dataset/164044.wav, segment of test data:14\n",
            "/content/drive/MyDrive/Colab Notebooks/Thesis/voice recognition/dataset/164044.wav, segment of test data:15\n",
            "/content/drive/MyDrive/Colab Notebooks/Thesis/voice recognition/dataset/164044.wav, segment of test data:16\n",
            "/content/drive/MyDrive/Colab Notebooks/Thesis/voice recognition/dataset/164044.wav, segment of test data:17\n",
            "/content/drive/MyDrive/Colab Notebooks/Thesis/voice recognition/dataset/164044.wav, segment of test data:18\n",
            "/content/drive/MyDrive/Colab Notebooks/Thesis/voice recognition/dataset/164044.wav, segment of test data:19\n",
            "/content/drive/MyDrive/Colab Notebooks/Thesis/voice recognition/dataset/164044.wav, segment of test data:20\n",
            "164071\n"
          ]
        },
        {
          "output_type": "stream",
          "name": "stderr",
          "text": [
            "/usr/local/lib/python3.7/dist-packages/librosa/core/audio.py:165: UserWarning: PySoundFile failed. Trying audioread instead.\n",
            "  warnings.warn(\"PySoundFile failed. Trying audioread instead.\")\n"
          ]
        },
        {
          "output_type": "stream",
          "name": "stdout",
          "text": [
            "/content/drive/MyDrive/Colab Notebooks/Thesis/voice recognition/dataset/164071.wav, segment of test data:1\n",
            "/content/drive/MyDrive/Colab Notebooks/Thesis/voice recognition/dataset/164071.wav, segment of test data:2\n",
            "/content/drive/MyDrive/Colab Notebooks/Thesis/voice recognition/dataset/164071.wav, segment of test data:3\n",
            "/content/drive/MyDrive/Colab Notebooks/Thesis/voice recognition/dataset/164071.wav, segment of test data:4\n",
            "/content/drive/MyDrive/Colab Notebooks/Thesis/voice recognition/dataset/164071.wav, segment of test data:5\n",
            "/content/drive/MyDrive/Colab Notebooks/Thesis/voice recognition/dataset/164071.wav, segment of test data:6\n",
            "/content/drive/MyDrive/Colab Notebooks/Thesis/voice recognition/dataset/164071.wav, segment of test data:7\n",
            "/content/drive/MyDrive/Colab Notebooks/Thesis/voice recognition/dataset/164071.wav, segment of test data:8\n",
            "/content/drive/MyDrive/Colab Notebooks/Thesis/voice recognition/dataset/164071.wav, segment of test data:9\n",
            "/content/drive/MyDrive/Colab Notebooks/Thesis/voice recognition/dataset/164071.wav, segment of test data:10\n",
            "/content/drive/MyDrive/Colab Notebooks/Thesis/voice recognition/dataset/164071.wav, segment of test data:11\n",
            "/content/drive/MyDrive/Colab Notebooks/Thesis/voice recognition/dataset/164071.wav, segment of test data:12\n",
            "/content/drive/MyDrive/Colab Notebooks/Thesis/voice recognition/dataset/164071.wav, segment of test data:13\n",
            "/content/drive/MyDrive/Colab Notebooks/Thesis/voice recognition/dataset/164071.wav, segment of test data:14\n",
            "/content/drive/MyDrive/Colab Notebooks/Thesis/voice recognition/dataset/164071.wav, segment of test data:15\n",
            "/content/drive/MyDrive/Colab Notebooks/Thesis/voice recognition/dataset/164071.wav, segment of test data:16\n",
            "/content/drive/MyDrive/Colab Notebooks/Thesis/voice recognition/dataset/164071.wav, segment of test data:17\n",
            "/content/drive/MyDrive/Colab Notebooks/Thesis/voice recognition/dataset/164071.wav, segment of test data:18\n",
            "/content/drive/MyDrive/Colab Notebooks/Thesis/voice recognition/dataset/164071.wav, segment of test data:19\n",
            "/content/drive/MyDrive/Colab Notebooks/Thesis/voice recognition/dataset/164071.wav, segment of test data:20\n",
            "164013\n"
          ]
        },
        {
          "output_type": "stream",
          "name": "stderr",
          "text": [
            "/usr/local/lib/python3.7/dist-packages/librosa/core/audio.py:165: UserWarning: PySoundFile failed. Trying audioread instead.\n",
            "  warnings.warn(\"PySoundFile failed. Trying audioread instead.\")\n"
          ]
        },
        {
          "output_type": "stream",
          "name": "stdout",
          "text": [
            "/content/drive/MyDrive/Colab Notebooks/Thesis/voice recognition/dataset/164013.wav, segment of test data:1\n",
            "/content/drive/MyDrive/Colab Notebooks/Thesis/voice recognition/dataset/164013.wav, segment of test data:2\n",
            "/content/drive/MyDrive/Colab Notebooks/Thesis/voice recognition/dataset/164013.wav, segment of test data:3\n",
            "/content/drive/MyDrive/Colab Notebooks/Thesis/voice recognition/dataset/164013.wav, segment of test data:4\n",
            "/content/drive/MyDrive/Colab Notebooks/Thesis/voice recognition/dataset/164013.wav, segment of test data:5\n",
            "/content/drive/MyDrive/Colab Notebooks/Thesis/voice recognition/dataset/164013.wav, segment of test data:6\n",
            "/content/drive/MyDrive/Colab Notebooks/Thesis/voice recognition/dataset/164013.wav, segment of test data:7\n",
            "/content/drive/MyDrive/Colab Notebooks/Thesis/voice recognition/dataset/164013.wav, segment of test data:8\n",
            "/content/drive/MyDrive/Colab Notebooks/Thesis/voice recognition/dataset/164013.wav, segment of test data:9\n",
            "/content/drive/MyDrive/Colab Notebooks/Thesis/voice recognition/dataset/164013.wav, segment of test data:10\n",
            "/content/drive/MyDrive/Colab Notebooks/Thesis/voice recognition/dataset/164013.wav, segment of test data:11\n",
            "/content/drive/MyDrive/Colab Notebooks/Thesis/voice recognition/dataset/164013.wav, segment of test data:12\n",
            "/content/drive/MyDrive/Colab Notebooks/Thesis/voice recognition/dataset/164013.wav, segment of test data:13\n",
            "/content/drive/MyDrive/Colab Notebooks/Thesis/voice recognition/dataset/164013.wav, segment of test data:14\n",
            "/content/drive/MyDrive/Colab Notebooks/Thesis/voice recognition/dataset/164013.wav, segment of test data:15\n",
            "/content/drive/MyDrive/Colab Notebooks/Thesis/voice recognition/dataset/164013.wav, segment of test data:16\n",
            "/content/drive/MyDrive/Colab Notebooks/Thesis/voice recognition/dataset/164013.wav, segment of test data:17\n",
            "/content/drive/MyDrive/Colab Notebooks/Thesis/voice recognition/dataset/164013.wav, segment of test data:18\n",
            "/content/drive/MyDrive/Colab Notebooks/Thesis/voice recognition/dataset/164013.wav, segment of test data:19\n",
            "/content/drive/MyDrive/Colab Notebooks/Thesis/voice recognition/dataset/164013.wav, segment of test data:20\n",
            "164039\n"
          ]
        },
        {
          "output_type": "stream",
          "name": "stderr",
          "text": [
            "/usr/local/lib/python3.7/dist-packages/librosa/core/audio.py:165: UserWarning: PySoundFile failed. Trying audioread instead.\n",
            "  warnings.warn(\"PySoundFile failed. Trying audioread instead.\")\n"
          ]
        },
        {
          "output_type": "stream",
          "name": "stdout",
          "text": [
            "/content/drive/MyDrive/Colab Notebooks/Thesis/voice recognition/dataset/164039.wav, segment of test data:1\n",
            "/content/drive/MyDrive/Colab Notebooks/Thesis/voice recognition/dataset/164039.wav, segment of test data:2\n",
            "/content/drive/MyDrive/Colab Notebooks/Thesis/voice recognition/dataset/164039.wav, segment of test data:3\n",
            "/content/drive/MyDrive/Colab Notebooks/Thesis/voice recognition/dataset/164039.wav, segment of test data:4\n",
            "/content/drive/MyDrive/Colab Notebooks/Thesis/voice recognition/dataset/164039.wav, segment of test data:5\n",
            "/content/drive/MyDrive/Colab Notebooks/Thesis/voice recognition/dataset/164039.wav, segment of test data:6\n",
            "/content/drive/MyDrive/Colab Notebooks/Thesis/voice recognition/dataset/164039.wav, segment of test data:7\n",
            "/content/drive/MyDrive/Colab Notebooks/Thesis/voice recognition/dataset/164039.wav, segment of test data:8\n",
            "/content/drive/MyDrive/Colab Notebooks/Thesis/voice recognition/dataset/164039.wav, segment of test data:9\n",
            "/content/drive/MyDrive/Colab Notebooks/Thesis/voice recognition/dataset/164039.wav, segment of test data:10\n",
            "/content/drive/MyDrive/Colab Notebooks/Thesis/voice recognition/dataset/164039.wav, segment of test data:11\n",
            "/content/drive/MyDrive/Colab Notebooks/Thesis/voice recognition/dataset/164039.wav, segment of test data:12\n",
            "/content/drive/MyDrive/Colab Notebooks/Thesis/voice recognition/dataset/164039.wav, segment of test data:13\n",
            "/content/drive/MyDrive/Colab Notebooks/Thesis/voice recognition/dataset/164039.wav, segment of test data:14\n",
            "/content/drive/MyDrive/Colab Notebooks/Thesis/voice recognition/dataset/164039.wav, segment of test data:15\n",
            "/content/drive/MyDrive/Colab Notebooks/Thesis/voice recognition/dataset/164039.wav, segment of test data:16\n",
            "/content/drive/MyDrive/Colab Notebooks/Thesis/voice recognition/dataset/164039.wav, segment of test data:17\n",
            "/content/drive/MyDrive/Colab Notebooks/Thesis/voice recognition/dataset/164039.wav, segment of test data:18\n",
            "/content/drive/MyDrive/Colab Notebooks/Thesis/voice recognition/dataset/164039.wav, segment of test data:19\n",
            "/content/drive/MyDrive/Colab Notebooks/Thesis/voice recognition/dataset/164039.wav, segment of test data:20\n",
            "164057\n"
          ]
        },
        {
          "output_type": "stream",
          "name": "stderr",
          "text": [
            "/usr/local/lib/python3.7/dist-packages/librosa/core/audio.py:165: UserWarning: PySoundFile failed. Trying audioread instead.\n",
            "  warnings.warn(\"PySoundFile failed. Trying audioread instead.\")\n"
          ]
        },
        {
          "output_type": "stream",
          "name": "stdout",
          "text": [
            "/content/drive/MyDrive/Colab Notebooks/Thesis/voice recognition/dataset/164057.wav, segment of test data:1\n",
            "/content/drive/MyDrive/Colab Notebooks/Thesis/voice recognition/dataset/164057.wav, segment of test data:2\n",
            "/content/drive/MyDrive/Colab Notebooks/Thesis/voice recognition/dataset/164057.wav, segment of test data:3\n",
            "/content/drive/MyDrive/Colab Notebooks/Thesis/voice recognition/dataset/164057.wav, segment of test data:4\n",
            "/content/drive/MyDrive/Colab Notebooks/Thesis/voice recognition/dataset/164057.wav, segment of test data:5\n",
            "/content/drive/MyDrive/Colab Notebooks/Thesis/voice recognition/dataset/164057.wav, segment of test data:6\n",
            "/content/drive/MyDrive/Colab Notebooks/Thesis/voice recognition/dataset/164057.wav, segment of test data:7\n",
            "/content/drive/MyDrive/Colab Notebooks/Thesis/voice recognition/dataset/164057.wav, segment of test data:8\n",
            "/content/drive/MyDrive/Colab Notebooks/Thesis/voice recognition/dataset/164057.wav, segment of test data:9\n",
            "/content/drive/MyDrive/Colab Notebooks/Thesis/voice recognition/dataset/164057.wav, segment of test data:10\n",
            "/content/drive/MyDrive/Colab Notebooks/Thesis/voice recognition/dataset/164057.wav, segment of test data:11\n",
            "/content/drive/MyDrive/Colab Notebooks/Thesis/voice recognition/dataset/164057.wav, segment of test data:12\n",
            "/content/drive/MyDrive/Colab Notebooks/Thesis/voice recognition/dataset/164057.wav, segment of test data:13\n",
            "/content/drive/MyDrive/Colab Notebooks/Thesis/voice recognition/dataset/164057.wav, segment of test data:14\n",
            "/content/drive/MyDrive/Colab Notebooks/Thesis/voice recognition/dataset/164057.wav, segment of test data:15\n",
            "/content/drive/MyDrive/Colab Notebooks/Thesis/voice recognition/dataset/164057.wav, segment of test data:16\n",
            "/content/drive/MyDrive/Colab Notebooks/Thesis/voice recognition/dataset/164057.wav, segment of test data:17\n",
            "/content/drive/MyDrive/Colab Notebooks/Thesis/voice recognition/dataset/164057.wav, segment of test data:18\n",
            "/content/drive/MyDrive/Colab Notebooks/Thesis/voice recognition/dataset/164057.wav, segment of test data:19\n",
            "/content/drive/MyDrive/Colab Notebooks/Thesis/voice recognition/dataset/164057.wav, segment of test data:20\n",
            "164012\n"
          ]
        },
        {
          "output_type": "stream",
          "name": "stderr",
          "text": [
            "/usr/local/lib/python3.7/dist-packages/librosa/core/audio.py:165: UserWarning: PySoundFile failed. Trying audioread instead.\n",
            "  warnings.warn(\"PySoundFile failed. Trying audioread instead.\")\n"
          ]
        },
        {
          "output_type": "stream",
          "name": "stdout",
          "text": [
            "/content/drive/MyDrive/Colab Notebooks/Thesis/voice recognition/dataset/164012.wav, segment of test data:1\n",
            "/content/drive/MyDrive/Colab Notebooks/Thesis/voice recognition/dataset/164012.wav, segment of test data:2\n",
            "/content/drive/MyDrive/Colab Notebooks/Thesis/voice recognition/dataset/164012.wav, segment of test data:3\n",
            "/content/drive/MyDrive/Colab Notebooks/Thesis/voice recognition/dataset/164012.wav, segment of test data:4\n",
            "/content/drive/MyDrive/Colab Notebooks/Thesis/voice recognition/dataset/164012.wav, segment of test data:5\n",
            "/content/drive/MyDrive/Colab Notebooks/Thesis/voice recognition/dataset/164012.wav, segment of test data:6\n",
            "/content/drive/MyDrive/Colab Notebooks/Thesis/voice recognition/dataset/164012.wav, segment of test data:7\n",
            "/content/drive/MyDrive/Colab Notebooks/Thesis/voice recognition/dataset/164012.wav, segment of test data:8\n",
            "/content/drive/MyDrive/Colab Notebooks/Thesis/voice recognition/dataset/164012.wav, segment of test data:9\n",
            "/content/drive/MyDrive/Colab Notebooks/Thesis/voice recognition/dataset/164012.wav, segment of test data:10\n",
            "/content/drive/MyDrive/Colab Notebooks/Thesis/voice recognition/dataset/164012.wav, segment of test data:11\n",
            "/content/drive/MyDrive/Colab Notebooks/Thesis/voice recognition/dataset/164012.wav, segment of test data:12\n",
            "/content/drive/MyDrive/Colab Notebooks/Thesis/voice recognition/dataset/164012.wav, segment of test data:13\n",
            "/content/drive/MyDrive/Colab Notebooks/Thesis/voice recognition/dataset/164012.wav, segment of test data:14\n",
            "/content/drive/MyDrive/Colab Notebooks/Thesis/voice recognition/dataset/164012.wav, segment of test data:15\n",
            "/content/drive/MyDrive/Colab Notebooks/Thesis/voice recognition/dataset/164012.wav, segment of test data:16\n",
            "/content/drive/MyDrive/Colab Notebooks/Thesis/voice recognition/dataset/164012.wav, segment of test data:17\n",
            "/content/drive/MyDrive/Colab Notebooks/Thesis/voice recognition/dataset/164012.wav, segment of test data:18\n",
            "/content/drive/MyDrive/Colab Notebooks/Thesis/voice recognition/dataset/164012.wav, segment of test data:19\n",
            "/content/drive/MyDrive/Colab Notebooks/Thesis/voice recognition/dataset/164012.wav, segment of test data:20\n",
            "164072\n"
          ]
        },
        {
          "output_type": "stream",
          "name": "stderr",
          "text": [
            "/usr/local/lib/python3.7/dist-packages/librosa/core/audio.py:165: UserWarning: PySoundFile failed. Trying audioread instead.\n",
            "  warnings.warn(\"PySoundFile failed. Trying audioread instead.\")\n"
          ]
        },
        {
          "output_type": "stream",
          "name": "stdout",
          "text": [
            "/content/drive/MyDrive/Colab Notebooks/Thesis/voice recognition/dataset/164072.wav, segment of test data:1\n",
            "/content/drive/MyDrive/Colab Notebooks/Thesis/voice recognition/dataset/164072.wav, segment of test data:2\n",
            "/content/drive/MyDrive/Colab Notebooks/Thesis/voice recognition/dataset/164072.wav, segment of test data:3\n",
            "/content/drive/MyDrive/Colab Notebooks/Thesis/voice recognition/dataset/164072.wav, segment of test data:4\n",
            "/content/drive/MyDrive/Colab Notebooks/Thesis/voice recognition/dataset/164072.wav, segment of test data:5\n",
            "/content/drive/MyDrive/Colab Notebooks/Thesis/voice recognition/dataset/164072.wav, segment of test data:6\n",
            "/content/drive/MyDrive/Colab Notebooks/Thesis/voice recognition/dataset/164072.wav, segment of test data:7\n",
            "/content/drive/MyDrive/Colab Notebooks/Thesis/voice recognition/dataset/164072.wav, segment of test data:8\n",
            "/content/drive/MyDrive/Colab Notebooks/Thesis/voice recognition/dataset/164072.wav, segment of test data:9\n",
            "/content/drive/MyDrive/Colab Notebooks/Thesis/voice recognition/dataset/164072.wav, segment of test data:10\n",
            "/content/drive/MyDrive/Colab Notebooks/Thesis/voice recognition/dataset/164072.wav, segment of test data:11\n",
            "/content/drive/MyDrive/Colab Notebooks/Thesis/voice recognition/dataset/164072.wav, segment of test data:12\n",
            "/content/drive/MyDrive/Colab Notebooks/Thesis/voice recognition/dataset/164072.wav, segment of test data:13\n",
            "/content/drive/MyDrive/Colab Notebooks/Thesis/voice recognition/dataset/164072.wav, segment of test data:14\n",
            "/content/drive/MyDrive/Colab Notebooks/Thesis/voice recognition/dataset/164072.wav, segment of test data:15\n",
            "/content/drive/MyDrive/Colab Notebooks/Thesis/voice recognition/dataset/164072.wav, segment of test data:16\n",
            "/content/drive/MyDrive/Colab Notebooks/Thesis/voice recognition/dataset/164072.wav, segment of test data:17\n",
            "/content/drive/MyDrive/Colab Notebooks/Thesis/voice recognition/dataset/164072.wav, segment of test data:18\n",
            "/content/drive/MyDrive/Colab Notebooks/Thesis/voice recognition/dataset/164072.wav, segment of test data:19\n",
            "/content/drive/MyDrive/Colab Notebooks/Thesis/voice recognition/dataset/164072.wav, segment of test data:20\n",
            "164053\n"
          ]
        },
        {
          "output_type": "stream",
          "name": "stderr",
          "text": [
            "/usr/local/lib/python3.7/dist-packages/librosa/core/audio.py:165: UserWarning: PySoundFile failed. Trying audioread instead.\n",
            "  warnings.warn(\"PySoundFile failed. Trying audioread instead.\")\n"
          ]
        },
        {
          "output_type": "stream",
          "name": "stdout",
          "text": [
            "/content/drive/MyDrive/Colab Notebooks/Thesis/voice recognition/dataset/164053.wav, segment of test data:1\n",
            "/content/drive/MyDrive/Colab Notebooks/Thesis/voice recognition/dataset/164053.wav, segment of test data:2\n",
            "/content/drive/MyDrive/Colab Notebooks/Thesis/voice recognition/dataset/164053.wav, segment of test data:3\n",
            "/content/drive/MyDrive/Colab Notebooks/Thesis/voice recognition/dataset/164053.wav, segment of test data:4\n",
            "/content/drive/MyDrive/Colab Notebooks/Thesis/voice recognition/dataset/164053.wav, segment of test data:5\n",
            "/content/drive/MyDrive/Colab Notebooks/Thesis/voice recognition/dataset/164053.wav, segment of test data:6\n",
            "/content/drive/MyDrive/Colab Notebooks/Thesis/voice recognition/dataset/164053.wav, segment of test data:7\n",
            "/content/drive/MyDrive/Colab Notebooks/Thesis/voice recognition/dataset/164053.wav, segment of test data:8\n",
            "/content/drive/MyDrive/Colab Notebooks/Thesis/voice recognition/dataset/164053.wav, segment of test data:9\n",
            "/content/drive/MyDrive/Colab Notebooks/Thesis/voice recognition/dataset/164053.wav, segment of test data:10\n",
            "/content/drive/MyDrive/Colab Notebooks/Thesis/voice recognition/dataset/164053.wav, segment of test data:11\n",
            "/content/drive/MyDrive/Colab Notebooks/Thesis/voice recognition/dataset/164053.wav, segment of test data:12\n",
            "/content/drive/MyDrive/Colab Notebooks/Thesis/voice recognition/dataset/164053.wav, segment of test data:13\n",
            "/content/drive/MyDrive/Colab Notebooks/Thesis/voice recognition/dataset/164053.wav, segment of test data:14\n",
            "/content/drive/MyDrive/Colab Notebooks/Thesis/voice recognition/dataset/164053.wav, segment of test data:15\n",
            "/content/drive/MyDrive/Colab Notebooks/Thesis/voice recognition/dataset/164053.wav, segment of test data:16\n",
            "/content/drive/MyDrive/Colab Notebooks/Thesis/voice recognition/dataset/164053.wav, segment of test data:17\n",
            "/content/drive/MyDrive/Colab Notebooks/Thesis/voice recognition/dataset/164053.wav, segment of test data:18\n",
            "/content/drive/MyDrive/Colab Notebooks/Thesis/voice recognition/dataset/164053.wav, segment of test data:19\n",
            "/content/drive/MyDrive/Colab Notebooks/Thesis/voice recognition/dataset/164053.wav, segment of test data:20\n",
            "164060\n"
          ]
        },
        {
          "output_type": "stream",
          "name": "stderr",
          "text": [
            "/usr/local/lib/python3.7/dist-packages/librosa/core/audio.py:165: UserWarning: PySoundFile failed. Trying audioread instead.\n",
            "  warnings.warn(\"PySoundFile failed. Trying audioread instead.\")\n"
          ]
        },
        {
          "output_type": "stream",
          "name": "stdout",
          "text": [
            "/content/drive/MyDrive/Colab Notebooks/Thesis/voice recognition/dataset/164060.wav, segment of test data:1\n",
            "/content/drive/MyDrive/Colab Notebooks/Thesis/voice recognition/dataset/164060.wav, segment of test data:2\n",
            "/content/drive/MyDrive/Colab Notebooks/Thesis/voice recognition/dataset/164060.wav, segment of test data:3\n",
            "/content/drive/MyDrive/Colab Notebooks/Thesis/voice recognition/dataset/164060.wav, segment of test data:4\n",
            "/content/drive/MyDrive/Colab Notebooks/Thesis/voice recognition/dataset/164060.wav, segment of test data:5\n",
            "/content/drive/MyDrive/Colab Notebooks/Thesis/voice recognition/dataset/164060.wav, segment of test data:6\n",
            "/content/drive/MyDrive/Colab Notebooks/Thesis/voice recognition/dataset/164060.wav, segment of test data:7\n",
            "/content/drive/MyDrive/Colab Notebooks/Thesis/voice recognition/dataset/164060.wav, segment of test data:8\n",
            "/content/drive/MyDrive/Colab Notebooks/Thesis/voice recognition/dataset/164060.wav, segment of test data:9\n",
            "/content/drive/MyDrive/Colab Notebooks/Thesis/voice recognition/dataset/164060.wav, segment of test data:10\n",
            "/content/drive/MyDrive/Colab Notebooks/Thesis/voice recognition/dataset/164060.wav, segment of test data:11\n",
            "/content/drive/MyDrive/Colab Notebooks/Thesis/voice recognition/dataset/164060.wav, segment of test data:12\n",
            "/content/drive/MyDrive/Colab Notebooks/Thesis/voice recognition/dataset/164060.wav, segment of test data:13\n",
            "/content/drive/MyDrive/Colab Notebooks/Thesis/voice recognition/dataset/164060.wav, segment of test data:14\n",
            "/content/drive/MyDrive/Colab Notebooks/Thesis/voice recognition/dataset/164060.wav, segment of test data:15\n",
            "/content/drive/MyDrive/Colab Notebooks/Thesis/voice recognition/dataset/164060.wav, segment of test data:16\n",
            "/content/drive/MyDrive/Colab Notebooks/Thesis/voice recognition/dataset/164060.wav, segment of test data:17\n",
            "/content/drive/MyDrive/Colab Notebooks/Thesis/voice recognition/dataset/164060.wav, segment of test data:18\n",
            "/content/drive/MyDrive/Colab Notebooks/Thesis/voice recognition/dataset/164060.wav, segment of test data:19\n",
            "/content/drive/MyDrive/Colab Notebooks/Thesis/voice recognition/dataset/164060.wav, segment of test data:20\n",
            "164018\n"
          ]
        },
        {
          "output_type": "stream",
          "name": "stderr",
          "text": [
            "/usr/local/lib/python3.7/dist-packages/librosa/core/audio.py:165: UserWarning: PySoundFile failed. Trying audioread instead.\n",
            "  warnings.warn(\"PySoundFile failed. Trying audioread instead.\")\n"
          ]
        },
        {
          "output_type": "stream",
          "name": "stdout",
          "text": [
            "/content/drive/MyDrive/Colab Notebooks/Thesis/voice recognition/dataset/164018.wav, segment of test data:1\n",
            "/content/drive/MyDrive/Colab Notebooks/Thesis/voice recognition/dataset/164018.wav, segment of test data:2\n",
            "/content/drive/MyDrive/Colab Notebooks/Thesis/voice recognition/dataset/164018.wav, segment of test data:3\n",
            "/content/drive/MyDrive/Colab Notebooks/Thesis/voice recognition/dataset/164018.wav, segment of test data:4\n",
            "/content/drive/MyDrive/Colab Notebooks/Thesis/voice recognition/dataset/164018.wav, segment of test data:5\n",
            "/content/drive/MyDrive/Colab Notebooks/Thesis/voice recognition/dataset/164018.wav, segment of test data:6\n",
            "/content/drive/MyDrive/Colab Notebooks/Thesis/voice recognition/dataset/164018.wav, segment of test data:7\n",
            "/content/drive/MyDrive/Colab Notebooks/Thesis/voice recognition/dataset/164018.wav, segment of test data:8\n",
            "/content/drive/MyDrive/Colab Notebooks/Thesis/voice recognition/dataset/164018.wav, segment of test data:9\n",
            "/content/drive/MyDrive/Colab Notebooks/Thesis/voice recognition/dataset/164018.wav, segment of test data:10\n",
            "/content/drive/MyDrive/Colab Notebooks/Thesis/voice recognition/dataset/164018.wav, segment of test data:11\n",
            "/content/drive/MyDrive/Colab Notebooks/Thesis/voice recognition/dataset/164018.wav, segment of test data:12\n",
            "/content/drive/MyDrive/Colab Notebooks/Thesis/voice recognition/dataset/164018.wav, segment of test data:13\n",
            "/content/drive/MyDrive/Colab Notebooks/Thesis/voice recognition/dataset/164018.wav, segment of test data:14\n",
            "/content/drive/MyDrive/Colab Notebooks/Thesis/voice recognition/dataset/164018.wav, segment of test data:15\n",
            "/content/drive/MyDrive/Colab Notebooks/Thesis/voice recognition/dataset/164018.wav, segment of test data:16\n",
            "/content/drive/MyDrive/Colab Notebooks/Thesis/voice recognition/dataset/164018.wav, segment of test data:17\n",
            "/content/drive/MyDrive/Colab Notebooks/Thesis/voice recognition/dataset/164018.wav, segment of test data:18\n",
            "/content/drive/MyDrive/Colab Notebooks/Thesis/voice recognition/dataset/164018.wav, segment of test data:19\n",
            "/content/drive/MyDrive/Colab Notebooks/Thesis/voice recognition/dataset/164018.wav, segment of test data:20\n",
            "164009\n"
          ]
        },
        {
          "output_type": "stream",
          "name": "stderr",
          "text": [
            "/usr/local/lib/python3.7/dist-packages/librosa/core/audio.py:165: UserWarning: PySoundFile failed. Trying audioread instead.\n",
            "  warnings.warn(\"PySoundFile failed. Trying audioread instead.\")\n"
          ]
        },
        {
          "output_type": "stream",
          "name": "stdout",
          "text": [
            "/content/drive/MyDrive/Colab Notebooks/Thesis/voice recognition/dataset/164009.wav, segment of test data:1\n",
            "/content/drive/MyDrive/Colab Notebooks/Thesis/voice recognition/dataset/164009.wav, segment of test data:2\n",
            "/content/drive/MyDrive/Colab Notebooks/Thesis/voice recognition/dataset/164009.wav, segment of test data:3\n",
            "/content/drive/MyDrive/Colab Notebooks/Thesis/voice recognition/dataset/164009.wav, segment of test data:4\n",
            "/content/drive/MyDrive/Colab Notebooks/Thesis/voice recognition/dataset/164009.wav, segment of test data:5\n",
            "/content/drive/MyDrive/Colab Notebooks/Thesis/voice recognition/dataset/164009.wav, segment of test data:6\n",
            "/content/drive/MyDrive/Colab Notebooks/Thesis/voice recognition/dataset/164009.wav, segment of test data:7\n",
            "/content/drive/MyDrive/Colab Notebooks/Thesis/voice recognition/dataset/164009.wav, segment of test data:8\n",
            "/content/drive/MyDrive/Colab Notebooks/Thesis/voice recognition/dataset/164009.wav, segment of test data:9\n",
            "/content/drive/MyDrive/Colab Notebooks/Thesis/voice recognition/dataset/164009.wav, segment of test data:10\n",
            "/content/drive/MyDrive/Colab Notebooks/Thesis/voice recognition/dataset/164009.wav, segment of test data:11\n",
            "/content/drive/MyDrive/Colab Notebooks/Thesis/voice recognition/dataset/164009.wav, segment of test data:12\n",
            "/content/drive/MyDrive/Colab Notebooks/Thesis/voice recognition/dataset/164009.wav, segment of test data:13\n",
            "/content/drive/MyDrive/Colab Notebooks/Thesis/voice recognition/dataset/164009.wav, segment of test data:14\n",
            "/content/drive/MyDrive/Colab Notebooks/Thesis/voice recognition/dataset/164009.wav, segment of test data:15\n",
            "/content/drive/MyDrive/Colab Notebooks/Thesis/voice recognition/dataset/164009.wav, segment of test data:16\n",
            "/content/drive/MyDrive/Colab Notebooks/Thesis/voice recognition/dataset/164009.wav, segment of test data:17\n",
            "/content/drive/MyDrive/Colab Notebooks/Thesis/voice recognition/dataset/164009.wav, segment of test data:18\n",
            "/content/drive/MyDrive/Colab Notebooks/Thesis/voice recognition/dataset/164009.wav, segment of test data:19\n",
            "/content/drive/MyDrive/Colab Notebooks/Thesis/voice recognition/dataset/164009.wav, segment of test data:20\n",
            "164020\n"
          ]
        },
        {
          "output_type": "stream",
          "name": "stderr",
          "text": [
            "/usr/local/lib/python3.7/dist-packages/librosa/core/audio.py:165: UserWarning: PySoundFile failed. Trying audioread instead.\n",
            "  warnings.warn(\"PySoundFile failed. Trying audioread instead.\")\n"
          ]
        },
        {
          "output_type": "stream",
          "name": "stdout",
          "text": [
            "/content/drive/MyDrive/Colab Notebooks/Thesis/voice recognition/dataset/164020.wav, segment of test data:1\n",
            "/content/drive/MyDrive/Colab Notebooks/Thesis/voice recognition/dataset/164020.wav, segment of test data:2\n",
            "/content/drive/MyDrive/Colab Notebooks/Thesis/voice recognition/dataset/164020.wav, segment of test data:3\n",
            "/content/drive/MyDrive/Colab Notebooks/Thesis/voice recognition/dataset/164020.wav, segment of test data:4\n",
            "/content/drive/MyDrive/Colab Notebooks/Thesis/voice recognition/dataset/164020.wav, segment of test data:5\n",
            "/content/drive/MyDrive/Colab Notebooks/Thesis/voice recognition/dataset/164020.wav, segment of test data:6\n",
            "/content/drive/MyDrive/Colab Notebooks/Thesis/voice recognition/dataset/164020.wav, segment of test data:7\n",
            "/content/drive/MyDrive/Colab Notebooks/Thesis/voice recognition/dataset/164020.wav, segment of test data:8\n",
            "/content/drive/MyDrive/Colab Notebooks/Thesis/voice recognition/dataset/164020.wav, segment of test data:9\n",
            "/content/drive/MyDrive/Colab Notebooks/Thesis/voice recognition/dataset/164020.wav, segment of test data:10\n",
            "/content/drive/MyDrive/Colab Notebooks/Thesis/voice recognition/dataset/164020.wav, segment of test data:11\n",
            "/content/drive/MyDrive/Colab Notebooks/Thesis/voice recognition/dataset/164020.wav, segment of test data:12\n",
            "/content/drive/MyDrive/Colab Notebooks/Thesis/voice recognition/dataset/164020.wav, segment of test data:13\n",
            "/content/drive/MyDrive/Colab Notebooks/Thesis/voice recognition/dataset/164020.wav, segment of test data:14\n",
            "/content/drive/MyDrive/Colab Notebooks/Thesis/voice recognition/dataset/164020.wav, segment of test data:15\n",
            "/content/drive/MyDrive/Colab Notebooks/Thesis/voice recognition/dataset/164020.wav, segment of test data:16\n",
            "/content/drive/MyDrive/Colab Notebooks/Thesis/voice recognition/dataset/164020.wav, segment of test data:17\n",
            "/content/drive/MyDrive/Colab Notebooks/Thesis/voice recognition/dataset/164020.wav, segment of test data:18\n",
            "/content/drive/MyDrive/Colab Notebooks/Thesis/voice recognition/dataset/164020.wav, segment of test data:19\n",
            "/content/drive/MyDrive/Colab Notebooks/Thesis/voice recognition/dataset/164020.wav, segment of test data:20\n",
            "164032\n"
          ]
        },
        {
          "output_type": "stream",
          "name": "stderr",
          "text": [
            "/usr/local/lib/python3.7/dist-packages/librosa/core/audio.py:165: UserWarning: PySoundFile failed. Trying audioread instead.\n",
            "  warnings.warn(\"PySoundFile failed. Trying audioread instead.\")\n"
          ]
        },
        {
          "output_type": "stream",
          "name": "stdout",
          "text": [
            "/content/drive/MyDrive/Colab Notebooks/Thesis/voice recognition/dataset/164032.wav, segment of test data:1\n",
            "/content/drive/MyDrive/Colab Notebooks/Thesis/voice recognition/dataset/164032.wav, segment of test data:2\n",
            "/content/drive/MyDrive/Colab Notebooks/Thesis/voice recognition/dataset/164032.wav, segment of test data:3\n",
            "/content/drive/MyDrive/Colab Notebooks/Thesis/voice recognition/dataset/164032.wav, segment of test data:4\n",
            "/content/drive/MyDrive/Colab Notebooks/Thesis/voice recognition/dataset/164032.wav, segment of test data:5\n",
            "/content/drive/MyDrive/Colab Notebooks/Thesis/voice recognition/dataset/164032.wav, segment of test data:6\n",
            "/content/drive/MyDrive/Colab Notebooks/Thesis/voice recognition/dataset/164032.wav, segment of test data:7\n",
            "/content/drive/MyDrive/Colab Notebooks/Thesis/voice recognition/dataset/164032.wav, segment of test data:8\n",
            "/content/drive/MyDrive/Colab Notebooks/Thesis/voice recognition/dataset/164032.wav, segment of test data:9\n",
            "/content/drive/MyDrive/Colab Notebooks/Thesis/voice recognition/dataset/164032.wav, segment of test data:10\n",
            "/content/drive/MyDrive/Colab Notebooks/Thesis/voice recognition/dataset/164032.wav, segment of test data:11\n",
            "/content/drive/MyDrive/Colab Notebooks/Thesis/voice recognition/dataset/164032.wav, segment of test data:12\n",
            "/content/drive/MyDrive/Colab Notebooks/Thesis/voice recognition/dataset/164032.wav, segment of test data:13\n",
            "/content/drive/MyDrive/Colab Notebooks/Thesis/voice recognition/dataset/164032.wav, segment of test data:14\n",
            "/content/drive/MyDrive/Colab Notebooks/Thesis/voice recognition/dataset/164032.wav, segment of test data:15\n",
            "/content/drive/MyDrive/Colab Notebooks/Thesis/voice recognition/dataset/164032.wav, segment of test data:16\n",
            "/content/drive/MyDrive/Colab Notebooks/Thesis/voice recognition/dataset/164032.wav, segment of test data:17\n",
            "/content/drive/MyDrive/Colab Notebooks/Thesis/voice recognition/dataset/164032.wav, segment of test data:18\n",
            "/content/drive/MyDrive/Colab Notebooks/Thesis/voice recognition/dataset/164032.wav, segment of test data:19\n",
            "/content/drive/MyDrive/Colab Notebooks/Thesis/voice recognition/dataset/164032.wav, segment of test data:20\n",
            "164031\n"
          ]
        },
        {
          "output_type": "stream",
          "name": "stderr",
          "text": [
            "/usr/local/lib/python3.7/dist-packages/librosa/core/audio.py:165: UserWarning: PySoundFile failed. Trying audioread instead.\n",
            "  warnings.warn(\"PySoundFile failed. Trying audioread instead.\")\n"
          ]
        },
        {
          "output_type": "stream",
          "name": "stdout",
          "text": [
            "/content/drive/MyDrive/Colab Notebooks/Thesis/voice recognition/dataset/164031.wav, segment of test data:1\n",
            "/content/drive/MyDrive/Colab Notebooks/Thesis/voice recognition/dataset/164031.wav, segment of test data:2\n",
            "/content/drive/MyDrive/Colab Notebooks/Thesis/voice recognition/dataset/164031.wav, segment of test data:3\n",
            "/content/drive/MyDrive/Colab Notebooks/Thesis/voice recognition/dataset/164031.wav, segment of test data:4\n",
            "/content/drive/MyDrive/Colab Notebooks/Thesis/voice recognition/dataset/164031.wav, segment of test data:5\n",
            "/content/drive/MyDrive/Colab Notebooks/Thesis/voice recognition/dataset/164031.wav, segment of test data:6\n",
            "/content/drive/MyDrive/Colab Notebooks/Thesis/voice recognition/dataset/164031.wav, segment of test data:7\n",
            "/content/drive/MyDrive/Colab Notebooks/Thesis/voice recognition/dataset/164031.wav, segment of test data:8\n",
            "/content/drive/MyDrive/Colab Notebooks/Thesis/voice recognition/dataset/164031.wav, segment of test data:9\n",
            "/content/drive/MyDrive/Colab Notebooks/Thesis/voice recognition/dataset/164031.wav, segment of test data:10\n",
            "/content/drive/MyDrive/Colab Notebooks/Thesis/voice recognition/dataset/164031.wav, segment of test data:11\n",
            "/content/drive/MyDrive/Colab Notebooks/Thesis/voice recognition/dataset/164031.wav, segment of test data:12\n",
            "/content/drive/MyDrive/Colab Notebooks/Thesis/voice recognition/dataset/164031.wav, segment of test data:13\n",
            "/content/drive/MyDrive/Colab Notebooks/Thesis/voice recognition/dataset/164031.wav, segment of test data:14\n",
            "/content/drive/MyDrive/Colab Notebooks/Thesis/voice recognition/dataset/164031.wav, segment of test data:15\n",
            "/content/drive/MyDrive/Colab Notebooks/Thesis/voice recognition/dataset/164031.wav, segment of test data:16\n",
            "/content/drive/MyDrive/Colab Notebooks/Thesis/voice recognition/dataset/164031.wav, segment of test data:17\n",
            "/content/drive/MyDrive/Colab Notebooks/Thesis/voice recognition/dataset/164031.wav, segment of test data:18\n",
            "/content/drive/MyDrive/Colab Notebooks/Thesis/voice recognition/dataset/164031.wav, segment of test data:19\n",
            "/content/drive/MyDrive/Colab Notebooks/Thesis/voice recognition/dataset/164031.wav, segment of test data:20\n",
            "164081\n"
          ]
        },
        {
          "output_type": "stream",
          "name": "stderr",
          "text": [
            "/usr/local/lib/python3.7/dist-packages/librosa/core/audio.py:165: UserWarning: PySoundFile failed. Trying audioread instead.\n",
            "  warnings.warn(\"PySoundFile failed. Trying audioread instead.\")\n"
          ]
        },
        {
          "output_type": "stream",
          "name": "stdout",
          "text": [
            "/content/drive/MyDrive/Colab Notebooks/Thesis/voice recognition/dataset/164081.wav, segment of test data:1\n",
            "/content/drive/MyDrive/Colab Notebooks/Thesis/voice recognition/dataset/164081.wav, segment of test data:2\n",
            "/content/drive/MyDrive/Colab Notebooks/Thesis/voice recognition/dataset/164081.wav, segment of test data:3\n",
            "/content/drive/MyDrive/Colab Notebooks/Thesis/voice recognition/dataset/164081.wav, segment of test data:4\n",
            "/content/drive/MyDrive/Colab Notebooks/Thesis/voice recognition/dataset/164081.wav, segment of test data:5\n",
            "/content/drive/MyDrive/Colab Notebooks/Thesis/voice recognition/dataset/164081.wav, segment of test data:6\n",
            "/content/drive/MyDrive/Colab Notebooks/Thesis/voice recognition/dataset/164081.wav, segment of test data:7\n",
            "/content/drive/MyDrive/Colab Notebooks/Thesis/voice recognition/dataset/164081.wav, segment of test data:8\n",
            "/content/drive/MyDrive/Colab Notebooks/Thesis/voice recognition/dataset/164081.wav, segment of test data:9\n",
            "/content/drive/MyDrive/Colab Notebooks/Thesis/voice recognition/dataset/164081.wav, segment of test data:10\n",
            "/content/drive/MyDrive/Colab Notebooks/Thesis/voice recognition/dataset/164081.wav, segment of test data:11\n",
            "/content/drive/MyDrive/Colab Notebooks/Thesis/voice recognition/dataset/164081.wav, segment of test data:12\n",
            "/content/drive/MyDrive/Colab Notebooks/Thesis/voice recognition/dataset/164081.wav, segment of test data:13\n",
            "/content/drive/MyDrive/Colab Notebooks/Thesis/voice recognition/dataset/164081.wav, segment of test data:14\n",
            "/content/drive/MyDrive/Colab Notebooks/Thesis/voice recognition/dataset/164081.wav, segment of test data:15\n",
            "/content/drive/MyDrive/Colab Notebooks/Thesis/voice recognition/dataset/164081.wav, segment of test data:16\n",
            "/content/drive/MyDrive/Colab Notebooks/Thesis/voice recognition/dataset/164081.wav, segment of test data:17\n",
            "/content/drive/MyDrive/Colab Notebooks/Thesis/voice recognition/dataset/164081.wav, segment of test data:18\n",
            "/content/drive/MyDrive/Colab Notebooks/Thesis/voice recognition/dataset/164081.wav, segment of test data:19\n",
            "/content/drive/MyDrive/Colab Notebooks/Thesis/voice recognition/dataset/164081.wav, segment of test data:20\n",
            "164038\n",
            "/content/drive/MyDrive/Colab Notebooks/Thesis/voice recognition/dataset/164038.wav, segment of test data:1\n",
            "/content/drive/MyDrive/Colab Notebooks/Thesis/voice recognition/dataset/164038.wav, segment of test data:2\n",
            "/content/drive/MyDrive/Colab Notebooks/Thesis/voice recognition/dataset/164038.wav, segment of test data:3\n",
            "/content/drive/MyDrive/Colab Notebooks/Thesis/voice recognition/dataset/164038.wav, segment of test data:4\n",
            "/content/drive/MyDrive/Colab Notebooks/Thesis/voice recognition/dataset/164038.wav, segment of test data:5\n",
            "/content/drive/MyDrive/Colab Notebooks/Thesis/voice recognition/dataset/164038.wav, segment of test data:6\n",
            "/content/drive/MyDrive/Colab Notebooks/Thesis/voice recognition/dataset/164038.wav, segment of test data:7\n",
            "/content/drive/MyDrive/Colab Notebooks/Thesis/voice recognition/dataset/164038.wav, segment of test data:8\n",
            "/content/drive/MyDrive/Colab Notebooks/Thesis/voice recognition/dataset/164038.wav, segment of test data:9\n",
            "/content/drive/MyDrive/Colab Notebooks/Thesis/voice recognition/dataset/164038.wav, segment of test data:10\n",
            "/content/drive/MyDrive/Colab Notebooks/Thesis/voice recognition/dataset/164038.wav, segment of test data:11\n",
            "/content/drive/MyDrive/Colab Notebooks/Thesis/voice recognition/dataset/164038.wav, segment of test data:12\n",
            "/content/drive/MyDrive/Colab Notebooks/Thesis/voice recognition/dataset/164038.wav, segment of test data:13\n",
            "/content/drive/MyDrive/Colab Notebooks/Thesis/voice recognition/dataset/164038.wav, segment of test data:14\n",
            "/content/drive/MyDrive/Colab Notebooks/Thesis/voice recognition/dataset/164038.wav, segment of test data:15\n",
            "/content/drive/MyDrive/Colab Notebooks/Thesis/voice recognition/dataset/164038.wav, segment of test data:16\n",
            "/content/drive/MyDrive/Colab Notebooks/Thesis/voice recognition/dataset/164038.wav, segment of test data:17\n",
            "/content/drive/MyDrive/Colab Notebooks/Thesis/voice recognition/dataset/164038.wav, segment of test data:18\n",
            "/content/drive/MyDrive/Colab Notebooks/Thesis/voice recognition/dataset/164038.wav, segment of test data:19\n",
            "/content/drive/MyDrive/Colab Notebooks/Thesis/voice recognition/dataset/164038.wav, segment of test data:20\n",
            "164110\n"
          ]
        },
        {
          "output_type": "stream",
          "name": "stderr",
          "text": [
            "/usr/local/lib/python3.7/dist-packages/librosa/core/audio.py:165: UserWarning: PySoundFile failed. Trying audioread instead.\n",
            "  warnings.warn(\"PySoundFile failed. Trying audioread instead.\")\n"
          ]
        },
        {
          "output_type": "stream",
          "name": "stdout",
          "text": [
            "/content/drive/MyDrive/Colab Notebooks/Thesis/voice recognition/dataset/164110.wav, segment of test data:1\n",
            "/content/drive/MyDrive/Colab Notebooks/Thesis/voice recognition/dataset/164110.wav, segment of test data:2\n",
            "/content/drive/MyDrive/Colab Notebooks/Thesis/voice recognition/dataset/164110.wav, segment of test data:3\n",
            "/content/drive/MyDrive/Colab Notebooks/Thesis/voice recognition/dataset/164110.wav, segment of test data:4\n",
            "/content/drive/MyDrive/Colab Notebooks/Thesis/voice recognition/dataset/164110.wav, segment of test data:5\n",
            "/content/drive/MyDrive/Colab Notebooks/Thesis/voice recognition/dataset/164110.wav, segment of test data:6\n",
            "/content/drive/MyDrive/Colab Notebooks/Thesis/voice recognition/dataset/164110.wav, segment of test data:7\n",
            "/content/drive/MyDrive/Colab Notebooks/Thesis/voice recognition/dataset/164110.wav, segment of test data:8\n",
            "/content/drive/MyDrive/Colab Notebooks/Thesis/voice recognition/dataset/164110.wav, segment of test data:9\n",
            "/content/drive/MyDrive/Colab Notebooks/Thesis/voice recognition/dataset/164110.wav, segment of test data:10\n",
            "/content/drive/MyDrive/Colab Notebooks/Thesis/voice recognition/dataset/164110.wav, segment of test data:11\n",
            "/content/drive/MyDrive/Colab Notebooks/Thesis/voice recognition/dataset/164110.wav, segment of test data:12\n",
            "/content/drive/MyDrive/Colab Notebooks/Thesis/voice recognition/dataset/164110.wav, segment of test data:13\n",
            "/content/drive/MyDrive/Colab Notebooks/Thesis/voice recognition/dataset/164110.wav, segment of test data:14\n",
            "/content/drive/MyDrive/Colab Notebooks/Thesis/voice recognition/dataset/164110.wav, segment of test data:15\n",
            "/content/drive/MyDrive/Colab Notebooks/Thesis/voice recognition/dataset/164110.wav, segment of test data:16\n",
            "/content/drive/MyDrive/Colab Notebooks/Thesis/voice recognition/dataset/164110.wav, segment of test data:17\n",
            "/content/drive/MyDrive/Colab Notebooks/Thesis/voice recognition/dataset/164110.wav, segment of test data:18\n",
            "/content/drive/MyDrive/Colab Notebooks/Thesis/voice recognition/dataset/164110.wav, segment of test data:19\n",
            "/content/drive/MyDrive/Colab Notebooks/Thesis/voice recognition/dataset/164110.wav, segment of test data:20\n",
            "Md Tareq Mahmud\n",
            "/content/drive/MyDrive/Colab Notebooks/Thesis/voice recognition/dataset/Md Tareq Mahmud.wav, segment of test data:1\n",
            "/content/drive/MyDrive/Colab Notebooks/Thesis/voice recognition/dataset/Md Tareq Mahmud.wav, segment of test data:2\n",
            "/content/drive/MyDrive/Colab Notebooks/Thesis/voice recognition/dataset/Md Tareq Mahmud.wav, segment of test data:3\n",
            "/content/drive/MyDrive/Colab Notebooks/Thesis/voice recognition/dataset/Md Tareq Mahmud.wav, segment of test data:4\n",
            "/content/drive/MyDrive/Colab Notebooks/Thesis/voice recognition/dataset/Md Tareq Mahmud.wav, segment of test data:5\n",
            "/content/drive/MyDrive/Colab Notebooks/Thesis/voice recognition/dataset/Md Tareq Mahmud.wav, segment of test data:6\n",
            "/content/drive/MyDrive/Colab Notebooks/Thesis/voice recognition/dataset/Md Tareq Mahmud.wav, segment of test data:7\n",
            "/content/drive/MyDrive/Colab Notebooks/Thesis/voice recognition/dataset/Md Tareq Mahmud.wav, segment of test data:8\n",
            "/content/drive/MyDrive/Colab Notebooks/Thesis/voice recognition/dataset/Md Tareq Mahmud.wav, segment of test data:9\n",
            "/content/drive/MyDrive/Colab Notebooks/Thesis/voice recognition/dataset/Md Tareq Mahmud.wav, segment of test data:10\n",
            "/content/drive/MyDrive/Colab Notebooks/Thesis/voice recognition/dataset/Md Tareq Mahmud.wav, segment of test data:11\n",
            "/content/drive/MyDrive/Colab Notebooks/Thesis/voice recognition/dataset/Md Tareq Mahmud.wav, segment of test data:12\n",
            "/content/drive/MyDrive/Colab Notebooks/Thesis/voice recognition/dataset/Md Tareq Mahmud.wav, segment of test data:13\n",
            "/content/drive/MyDrive/Colab Notebooks/Thesis/voice recognition/dataset/Md Tareq Mahmud.wav, segment of test data:14\n",
            "/content/drive/MyDrive/Colab Notebooks/Thesis/voice recognition/dataset/Md Tareq Mahmud.wav, segment of test data:15\n",
            "/content/drive/MyDrive/Colab Notebooks/Thesis/voice recognition/dataset/Md Tareq Mahmud.wav, segment of test data:16\n",
            "/content/drive/MyDrive/Colab Notebooks/Thesis/voice recognition/dataset/Md Tareq Mahmud.wav, segment of test data:17\n",
            "/content/drive/MyDrive/Colab Notebooks/Thesis/voice recognition/dataset/Md Tareq Mahmud.wav, segment of test data:18\n",
            "/content/drive/MyDrive/Colab Notebooks/Thesis/voice recognition/dataset/Md Tareq Mahmud.wav, segment of test data:19\n",
            "/content/drive/MyDrive/Colab Notebooks/Thesis/voice recognition/dataset/Md Tareq Mahmud.wav, segment of test data:20\n",
            "Md Mahbub Hasan\n",
            "/content/drive/MyDrive/Colab Notebooks/Thesis/voice recognition/dataset/Md Mahbub Hasan.wav, segment of test data:1\n",
            "/content/drive/MyDrive/Colab Notebooks/Thesis/voice recognition/dataset/Md Mahbub Hasan.wav, segment of test data:2\n",
            "/content/drive/MyDrive/Colab Notebooks/Thesis/voice recognition/dataset/Md Mahbub Hasan.wav, segment of test data:3\n",
            "/content/drive/MyDrive/Colab Notebooks/Thesis/voice recognition/dataset/Md Mahbub Hasan.wav, segment of test data:4\n",
            "/content/drive/MyDrive/Colab Notebooks/Thesis/voice recognition/dataset/Md Mahbub Hasan.wav, segment of test data:5\n",
            "/content/drive/MyDrive/Colab Notebooks/Thesis/voice recognition/dataset/Md Mahbub Hasan.wav, segment of test data:6\n",
            "/content/drive/MyDrive/Colab Notebooks/Thesis/voice recognition/dataset/Md Mahbub Hasan.wav, segment of test data:7\n",
            "/content/drive/MyDrive/Colab Notebooks/Thesis/voice recognition/dataset/Md Mahbub Hasan.wav, segment of test data:8\n",
            "/content/drive/MyDrive/Colab Notebooks/Thesis/voice recognition/dataset/Md Mahbub Hasan.wav, segment of test data:9\n",
            "/content/drive/MyDrive/Colab Notebooks/Thesis/voice recognition/dataset/Md Mahbub Hasan.wav, segment of test data:10\n",
            "/content/drive/MyDrive/Colab Notebooks/Thesis/voice recognition/dataset/Md Mahbub Hasan.wav, segment of test data:11\n",
            "/content/drive/MyDrive/Colab Notebooks/Thesis/voice recognition/dataset/Md Mahbub Hasan.wav, segment of test data:12\n",
            "/content/drive/MyDrive/Colab Notebooks/Thesis/voice recognition/dataset/Md Mahbub Hasan.wav, segment of test data:13\n",
            "/content/drive/MyDrive/Colab Notebooks/Thesis/voice recognition/dataset/Md Mahbub Hasan.wav, segment of test data:14\n",
            "/content/drive/MyDrive/Colab Notebooks/Thesis/voice recognition/dataset/Md Mahbub Hasan.wav, segment of test data:15\n",
            "/content/drive/MyDrive/Colab Notebooks/Thesis/voice recognition/dataset/Md Mahbub Hasan.wav, segment of test data:16\n",
            "/content/drive/MyDrive/Colab Notebooks/Thesis/voice recognition/dataset/Md Mahbub Hasan.wav, segment of test data:17\n",
            "/content/drive/MyDrive/Colab Notebooks/Thesis/voice recognition/dataset/Md Mahbub Hasan.wav, segment of test data:18\n",
            "/content/drive/MyDrive/Colab Notebooks/Thesis/voice recognition/dataset/Md Mahbub Hasan.wav, segment of test data:19\n",
            "/content/drive/MyDrive/Colab Notebooks/Thesis/voice recognition/dataset/Md Mahbub Hasan.wav, segment of test data:20\n",
            "Md Shafiqul Islam\n",
            "/content/drive/MyDrive/Colab Notebooks/Thesis/voice recognition/dataset/Md Shafiqul Islam.wav, segment of test data:1\n",
            "/content/drive/MyDrive/Colab Notebooks/Thesis/voice recognition/dataset/Md Shafiqul Islam.wav, segment of test data:2\n",
            "/content/drive/MyDrive/Colab Notebooks/Thesis/voice recognition/dataset/Md Shafiqul Islam.wav, segment of test data:3\n",
            "/content/drive/MyDrive/Colab Notebooks/Thesis/voice recognition/dataset/Md Shafiqul Islam.wav, segment of test data:4\n",
            "/content/drive/MyDrive/Colab Notebooks/Thesis/voice recognition/dataset/Md Shafiqul Islam.wav, segment of test data:5\n",
            "/content/drive/MyDrive/Colab Notebooks/Thesis/voice recognition/dataset/Md Shafiqul Islam.wav, segment of test data:6\n",
            "/content/drive/MyDrive/Colab Notebooks/Thesis/voice recognition/dataset/Md Shafiqul Islam.wav, segment of test data:7\n",
            "/content/drive/MyDrive/Colab Notebooks/Thesis/voice recognition/dataset/Md Shafiqul Islam.wav, segment of test data:8\n",
            "/content/drive/MyDrive/Colab Notebooks/Thesis/voice recognition/dataset/Md Shafiqul Islam.wav, segment of test data:9\n",
            "/content/drive/MyDrive/Colab Notebooks/Thesis/voice recognition/dataset/Md Shafiqul Islam.wav, segment of test data:10\n",
            "/content/drive/MyDrive/Colab Notebooks/Thesis/voice recognition/dataset/Md Shafiqul Islam.wav, segment of test data:11\n",
            "/content/drive/MyDrive/Colab Notebooks/Thesis/voice recognition/dataset/Md Shafiqul Islam.wav, segment of test data:12\n",
            "/content/drive/MyDrive/Colab Notebooks/Thesis/voice recognition/dataset/Md Shafiqul Islam.wav, segment of test data:13\n",
            "/content/drive/MyDrive/Colab Notebooks/Thesis/voice recognition/dataset/Md Shafiqul Islam.wav, segment of test data:14\n",
            "/content/drive/MyDrive/Colab Notebooks/Thesis/voice recognition/dataset/Md Shafiqul Islam.wav, segment of test data:15\n",
            "/content/drive/MyDrive/Colab Notebooks/Thesis/voice recognition/dataset/Md Shafiqul Islam.wav, segment of test data:16\n",
            "/content/drive/MyDrive/Colab Notebooks/Thesis/voice recognition/dataset/Md Shafiqul Islam.wav, segment of test data:17\n",
            "/content/drive/MyDrive/Colab Notebooks/Thesis/voice recognition/dataset/Md Shafiqul Islam.wav, segment of test data:18\n",
            "/content/drive/MyDrive/Colab Notebooks/Thesis/voice recognition/dataset/Md Shafiqul Islam.wav, segment of test data:19\n",
            "/content/drive/MyDrive/Colab Notebooks/Thesis/voice recognition/dataset/Md Shafiqul Islam.wav, segment of test data:20\n"
          ]
        }
      ]
    },
    {
      "cell_type": "markdown",
      "source": [
        "### To load extracted feature MFCC prepare_dataset() and load_data() used."
      ],
      "metadata": {
        "id": "-hmfaT1qAhoV"
      }
    },
    {
      "cell_type": "code",
      "execution_count": null,
      "metadata": {
        "id": "wWdJ-9Ypvdow"
      },
      "outputs": [],
      "source": [
        "JSON_PATH = \"/content/drive/MyDrive/Colab Notebooks/Thesis/voice recognition/data.json\""
      ]
    },
    {
      "cell_type": "code",
      "execution_count": null,
      "metadata": {
        "id": "uMw9GNatwpA7"
      },
      "outputs": [],
      "source": [
        "def load_data(data_path):\n",
        "  with open(data_path,\"r\") as fp:\n",
        "    data = json.load(fp)\n",
        "\n",
        "  X = np.array(data[\"mfcc\"])\n",
        "  y = np.array(data[\"labels\"])\n",
        "  target = np.array(data[\"mapping\"])\n",
        "\n",
        "\n",
        "\n",
        "  return target,X,y"
      ]
    },
    {
      "cell_type": "code",
      "execution_count": null,
      "metadata": {
        "id": "Qwr6O1M6w4Tx"
      },
      "outputs": [],
      "source": [
        "def prepare_dataset(test_size):\n",
        "  target,X, y = load_data(JSON_PATH)\n",
        "  X_Train, X_Test, y_Train, y_Test = train_test_split(X,y,test_size=test_size)\n",
        "  #X_Train, X_Valid, y_Train, y_Valid = train_test_split(X_Train, y_Train, test_size = validation_size)\n",
        "\n",
        "  person = len(np.unique(target))\n",
        "\n",
        "\n",
        "  return person, X_Train, X_Test, y_Train, y_Test"
      ]
    },
    {
      "cell_type": "markdown",
      "source": [
        "### To plot train test accuracy and loss function during training period plot_history() is used."
      ],
      "metadata": {
        "id": "m3fX-x2QAtqe"
      }
    },
    {
      "cell_type": "code",
      "execution_count": null,
      "metadata": {
        "id": "-DZqiRuJxClT"
      },
      "outputs": [],
      "source": [
        "def plot_history(history):\n",
        "  fig, axs = plt.subplots(2)\n",
        "\n",
        "  # create accuracy sublpot\n",
        "  axs[0].plot(history.history[\"accuracy\"], label=\"train accuracy\")\n",
        "  axs[0].plot(history.history[\"val_accuracy\"],\"--\", label=\"test accuracy\")\n",
        "  axs[0].set_ylabel(\"Accuracy\")\n",
        "  axs[0].legend(loc=\"lower right\")\n",
        "  axs[0].set_title(\"Accuracy\")\n",
        "  plt.savefig(\"acc.jpg\")\n",
        "  # create error sublpot\n",
        "  axs[1].plot(history.history[\"loss\"], label=\"train error\")\n",
        "  axs[1].plot(history.history[\"val_loss\"],\"--\",label=\"test error\")\n",
        "  axs[1].set_ylabel(\"Error\")\n",
        "  axs[1].set_xlabel(\"Epoch\")\n",
        "  axs[1].legend(loc=\"upper right\")\n",
        "  axs[1].set_title(\"Error\")\n",
        "  plt.savefig(\"loss.jpg\")\n",
        "  #plt.show()"
      ]
    },
    {
      "cell_type": "markdown",
      "source": [
        "### Our proposed two layered LSTM model with 1024 unit cell."
      ],
      "metadata": {
        "id": "FM6FwtJNBKV2"
      }
    },
    {
      "cell_type": "code",
      "execution_count": null,
      "metadata": {
        "id": "HP-0pClRxamZ"
      },
      "outputs": [],
      "source": [
        "def build_model(input_shape,target):\n",
        "  # build network topology\n",
        "  model = keras.Sequential()\n",
        "\n",
        "  # 2 LSTM layers\n",
        "  model.add(keras.layers.LSTM(1024,input_shape=input_shape,return_sequences=True))\n",
        "  model.add(keras.layers.LSTM(1024))\n",
        "\n",
        "\n",
        "  # dense layer\n",
        "  model.add(keras.layers.Dense(512, activation='relu'))\n",
        "  model.add(keras.layers.Dropout(0.5))\n",
        "\n",
        "  # output layer\n",
        "  model.add(keras.layers.Dense(target, activation='softmax'))\n",
        "\n",
        "  return model"
      ]
    },
    {
      "cell_type": "markdown",
      "source": [
        "### model_train() function act as an main() function."
      ],
      "metadata": {
        "id": "sBQ4cjJjBmPN"
      }
    },
    {
      "cell_type": "code",
      "source": [
        "from keras.callbacks import ModelCheckpoint,EarlyStopping,CSVLogger"
      ],
      "metadata": {
        "id": "RGHv2LnCCDvx"
      },
      "execution_count": null,
      "outputs": []
    },
    {
      "cell_type": "code",
      "execution_count": null,
      "metadata": {
        "id": "cmveE5wnciRu"
      },
      "outputs": [],
      "source": [
        "from gc import callbacks\n",
        "def model_train(test_size):\n",
        "  PERSON, X_Train, X_Test, y_Train, y_Test = prepare_dataset(test_size)\n",
        "  input_shape = (X_Train.shape[1], X_Train.shape[2])\n",
        "  model = build_model(input_shape,PERSON)\n",
        "  optimizer = keras.optimizers.Adam(learning_rate=0.0001)\n",
        "  model.compile(optimizer=optimizer,\n",
        "              loss='sparse_categorical_crossentropy',\n",
        "              metrics = ['accuracy'])\n",
        "\n",
        "\n",
        "  filepath = \"/content/drive/MyDrive/Colab Notebooks/Thesis/voice recognition/weights-improvement-{epoch:02d}-{val_accuracy:.2f}.hdf5\"\n",
        "  checkpoint = ModelCheckpoint(filepath,monitor='val_accuracy',verbose=1,save_best_only=True,mode='max')\n",
        "  log_csv = CSVLogger('/content/drive/MyDrive/Colab Notebooks/Thesis/voice recognition/my_logs.csv',separator=',',append=False)\n",
        "  early_stop = EarlyStopping(monitor='val_loss',patience=10,verbose=1)\n",
        "  callbacks_list = [checkpoint,log_csv,early_stop]\n",
        "\n",
        "\n",
        "  history = model.fit(X_Train, y_Train, validation_data=(X_Test, y_Test), batch_size = 32, epochs = 100, callbacks=callbacks_list)\n",
        "  test_loss, test_acc = model.evaluate(X_Test, y_Test, verbose=1)\n",
        "  return test_acc,history,model,X_Test,y_Test"
      ]
    },
    {
      "cell_type": "code",
      "source": [
        "test_acc,history,model,X_Test,y_Test = model_train(.1)"
      ],
      "metadata": {
        "colab": {
          "base_uri": "https://localhost:8080/"
        },
        "id": "HvBBdkJLHGqg",
        "outputId": "13f9bf9c-8d68-4a30-a831-4259664191a6"
      },
      "execution_count": null,
      "outputs": [
        {
          "output_type": "stream",
          "name": "stdout",
          "text": [
            "Epoch 1/100\n",
            "123/123 [==============================] - ETA: 0s - loss: 5.3314 - accuracy: 0.0127\n",
            "Epoch 1: val_accuracy improved from -inf to 0.05275, saving model to /content/drive/MyDrive/Colab Notebooks/Thesis/voice recognition/weights-improvement-01-0.05.hdf5\n",
            "123/123 [==============================] - 22s 154ms/step - loss: 5.3314 - accuracy: 0.0127 - val_loss: 5.0488 - val_accuracy: 0.0528\n",
            "Epoch 2/100\n",
            "123/123 [==============================] - ETA: 0s - loss: 4.5947 - accuracy: 0.0596\n",
            "Epoch 2: val_accuracy improved from 0.05275 to 0.11697, saving model to /content/drive/MyDrive/Colab Notebooks/Thesis/voice recognition/weights-improvement-02-0.12.hdf5\n",
            "123/123 [==============================] - 16s 127ms/step - loss: 4.5947 - accuracy: 0.0596 - val_loss: 3.9429 - val_accuracy: 0.1170\n",
            "Epoch 3/100\n",
            "123/123 [==============================] - ETA: 0s - loss: 3.7318 - accuracy: 0.1524\n",
            "Epoch 3: val_accuracy improved from 0.11697 to 0.26147, saving model to /content/drive/MyDrive/Colab Notebooks/Thesis/voice recognition/weights-improvement-03-0.26.hdf5\n",
            "123/123 [==============================] - 16s 126ms/step - loss: 3.7318 - accuracy: 0.1524 - val_loss: 3.1394 - val_accuracy: 0.2615\n",
            "Epoch 4/100\n",
            "123/123 [==============================] - ETA: 0s - loss: 3.0761 - accuracy: 0.2487\n",
            "Epoch 4: val_accuracy improved from 0.26147 to 0.41743, saving model to /content/drive/MyDrive/Colab Notebooks/Thesis/voice recognition/weights-improvement-04-0.42.hdf5\n",
            "123/123 [==============================] - 15s 125ms/step - loss: 3.0761 - accuracy: 0.2487 - val_loss: 2.5009 - val_accuracy: 0.4174\n",
            "Epoch 5/100\n",
            "123/123 [==============================] - ETA: 0s - loss: 2.5574 - accuracy: 0.3438\n",
            "Epoch 5: val_accuracy improved from 0.41743 to 0.43578, saving model to /content/drive/MyDrive/Colab Notebooks/Thesis/voice recognition/weights-improvement-05-0.44.hdf5\n",
            "123/123 [==============================] - 15s 124ms/step - loss: 2.5574 - accuracy: 0.3438 - val_loss: 2.2070 - val_accuracy: 0.4358\n",
            "Epoch 6/100\n",
            "123/123 [==============================] - ETA: 0s - loss: 2.1799 - accuracy: 0.4345\n",
            "Epoch 6: val_accuracy improved from 0.43578 to 0.52982, saving model to /content/drive/MyDrive/Colab Notebooks/Thesis/voice recognition/weights-improvement-06-0.53.hdf5\n",
            "123/123 [==============================] - 16s 133ms/step - loss: 2.1799 - accuracy: 0.4345 - val_loss: 1.9462 - val_accuracy: 0.5298\n",
            "Epoch 7/100\n",
            "123/123 [==============================] - ETA: 0s - loss: 1.8525 - accuracy: 0.5138\n",
            "Epoch 7: val_accuracy improved from 0.52982 to 0.56422, saving model to /content/drive/MyDrive/Colab Notebooks/Thesis/voice recognition/weights-improvement-07-0.56.hdf5\n",
            "123/123 [==============================] - 15s 125ms/step - loss: 1.8525 - accuracy: 0.5138 - val_loss: 1.6685 - val_accuracy: 0.5642\n",
            "Epoch 8/100\n",
            "123/123 [==============================] - ETA: 0s - loss: 1.6406 - accuracy: 0.5553\n",
            "Epoch 8: val_accuracy improved from 0.56422 to 0.63073, saving model to /content/drive/MyDrive/Colab Notebooks/Thesis/voice recognition/weights-improvement-08-0.63.hdf5\n",
            "123/123 [==============================] - 15s 126ms/step - loss: 1.6406 - accuracy: 0.5553 - val_loss: 1.4934 - val_accuracy: 0.6307\n",
            "Epoch 9/100\n",
            "123/123 [==============================] - ETA: 0s - loss: 1.4536 - accuracy: 0.6032\n",
            "Epoch 9: val_accuracy did not improve from 0.63073\n",
            "123/123 [==============================] - 15s 121ms/step - loss: 1.4536 - accuracy: 0.6032 - val_loss: 1.4283 - val_accuracy: 0.6147\n",
            "Epoch 10/100\n",
            "123/123 [==============================] - ETA: 0s - loss: 1.2157 - accuracy: 0.6685\n",
            "Epoch 10: val_accuracy did not improve from 0.63073\n",
            "123/123 [==============================] - 15s 121ms/step - loss: 1.2157 - accuracy: 0.6685 - val_loss: 1.3112 - val_accuracy: 0.6307\n",
            "Epoch 11/100\n",
            "123/123 [==============================] - ETA: 0s - loss: 1.0444 - accuracy: 0.7064\n",
            "Epoch 11: val_accuracy improved from 0.63073 to 0.68578, saving model to /content/drive/MyDrive/Colab Notebooks/Thesis/voice recognition/weights-improvement-11-0.69.hdf5\n",
            "123/123 [==============================] - 15s 124ms/step - loss: 1.0444 - accuracy: 0.7064 - val_loss: 1.1354 - val_accuracy: 0.6858\n",
            "Epoch 12/100\n",
            "123/123 [==============================] - ETA: 0s - loss: 0.9421 - accuracy: 0.7339\n",
            "Epoch 12: val_accuracy improved from 0.68578 to 0.69495, saving model to /content/drive/MyDrive/Colab Notebooks/Thesis/voice recognition/weights-improvement-12-0.69.hdf5\n",
            "123/123 [==============================] - 15s 124ms/step - loss: 0.9421 - accuracy: 0.7339 - val_loss: 1.0988 - val_accuracy: 0.6950\n",
            "Epoch 13/100\n",
            "123/123 [==============================] - ETA: 0s - loss: 0.8425 - accuracy: 0.7579\n",
            "Epoch 13: val_accuracy improved from 0.69495 to 0.72018, saving model to /content/drive/MyDrive/Colab Notebooks/Thesis/voice recognition/weights-improvement-13-0.72.hdf5\n",
            "123/123 [==============================] - 15s 125ms/step - loss: 0.8425 - accuracy: 0.7579 - val_loss: 1.0328 - val_accuracy: 0.7202\n",
            "Epoch 14/100\n",
            "123/123 [==============================] - ETA: 0s - loss: 0.7360 - accuracy: 0.7936\n",
            "Epoch 14: val_accuracy improved from 0.72018 to 0.74083, saving model to /content/drive/MyDrive/Colab Notebooks/Thesis/voice recognition/weights-improvement-14-0.74.hdf5\n",
            "123/123 [==============================] - 15s 126ms/step - loss: 0.7360 - accuracy: 0.7936 - val_loss: 0.9700 - val_accuracy: 0.7408\n",
            "Epoch 15/100\n",
            "123/123 [==============================] - ETA: 0s - loss: 0.6151 - accuracy: 0.8293\n",
            "Epoch 15: val_accuracy did not improve from 0.74083\n",
            "123/123 [==============================] - 15s 121ms/step - loss: 0.6151 - accuracy: 0.8293 - val_loss: 0.8772 - val_accuracy: 0.7408\n",
            "Epoch 16/100\n",
            "123/123 [==============================] - ETA: 0s - loss: 0.5531 - accuracy: 0.8453\n",
            "Epoch 16: val_accuracy improved from 0.74083 to 0.74771, saving model to /content/drive/MyDrive/Colab Notebooks/Thesis/voice recognition/weights-improvement-16-0.75.hdf5\n",
            "123/123 [==============================] - 15s 125ms/step - loss: 0.5531 - accuracy: 0.8453 - val_loss: 0.9179 - val_accuracy: 0.7477\n",
            "Epoch 17/100\n",
            "123/123 [==============================] - ETA: 0s - loss: 0.5110 - accuracy: 0.8570\n",
            "Epoch 17: val_accuracy improved from 0.74771 to 0.76606, saving model to /content/drive/MyDrive/Colab Notebooks/Thesis/voice recognition/weights-improvement-17-0.77.hdf5\n",
            "123/123 [==============================] - 15s 125ms/step - loss: 0.5110 - accuracy: 0.8570 - val_loss: 0.8570 - val_accuracy: 0.7661\n",
            "Epoch 18/100\n",
            "123/123 [==============================] - ETA: 0s - loss: 0.3939 - accuracy: 0.8927\n",
            "Epoch 18: val_accuracy improved from 0.76606 to 0.77064, saving model to /content/drive/MyDrive/Colab Notebooks/Thesis/voice recognition/weights-improvement-18-0.77.hdf5\n",
            "123/123 [==============================] - 15s 125ms/step - loss: 0.3939 - accuracy: 0.8927 - val_loss: 0.7979 - val_accuracy: 0.7706\n",
            "Epoch 19/100\n",
            "123/123 [==============================] - ETA: 0s - loss: 0.3727 - accuracy: 0.8942\n",
            "Epoch 19: val_accuracy improved from 0.77064 to 0.77982, saving model to /content/drive/MyDrive/Colab Notebooks/Thesis/voice recognition/weights-improvement-19-0.78.hdf5\n",
            "123/123 [==============================] - 15s 125ms/step - loss: 0.3727 - accuracy: 0.8942 - val_loss: 0.7714 - val_accuracy: 0.7798\n",
            "Epoch 20/100\n",
            "123/123 [==============================] - ETA: 0s - loss: 0.3166 - accuracy: 0.9131\n",
            "Epoch 20: val_accuracy did not improve from 0.77982\n",
            "123/123 [==============================] - 15s 121ms/step - loss: 0.3166 - accuracy: 0.9131 - val_loss: 0.7593 - val_accuracy: 0.7775\n",
            "Epoch 21/100\n",
            "123/123 [==============================] - ETA: 0s - loss: 0.3123 - accuracy: 0.9169\n",
            "Epoch 21: val_accuracy improved from 0.77982 to 0.79358, saving model to /content/drive/MyDrive/Colab Notebooks/Thesis/voice recognition/weights-improvement-21-0.79.hdf5\n",
            "123/123 [==============================] - 15s 125ms/step - loss: 0.3123 - accuracy: 0.9169 - val_loss: 0.6845 - val_accuracy: 0.7936\n",
            "Epoch 22/100\n",
            "123/123 [==============================] - ETA: 0s - loss: 0.2652 - accuracy: 0.9304\n",
            "Epoch 22: val_accuracy improved from 0.79358 to 0.80046, saving model to /content/drive/MyDrive/Colab Notebooks/Thesis/voice recognition/weights-improvement-22-0.80.hdf5\n",
            "123/123 [==============================] - 15s 125ms/step - loss: 0.2652 - accuracy: 0.9304 - val_loss: 0.6942 - val_accuracy: 0.8005\n",
            "Epoch 23/100\n",
            "123/123 [==============================] - ETA: 0s - loss: 0.2511 - accuracy: 0.9332\n",
            "Epoch 23: val_accuracy improved from 0.80046 to 0.81193, saving model to /content/drive/MyDrive/Colab Notebooks/Thesis/voice recognition/weights-improvement-23-0.81.hdf5\n",
            "123/123 [==============================] - 15s 125ms/step - loss: 0.2511 - accuracy: 0.9332 - val_loss: 0.6379 - val_accuracy: 0.8119\n",
            "Epoch 24/100\n",
            "123/123 [==============================] - ETA: 0s - loss: 0.1701 - accuracy: 0.9574\n",
            "Epoch 24: val_accuracy did not improve from 0.81193\n",
            "123/123 [==============================] - 15s 121ms/step - loss: 0.1701 - accuracy: 0.9574 - val_loss: 0.6674 - val_accuracy: 0.7959\n",
            "Epoch 25/100\n",
            "123/123 [==============================] - ETA: 0s - loss: 0.1858 - accuracy: 0.9521\n",
            "Epoch 25: val_accuracy improved from 0.81193 to 0.81881, saving model to /content/drive/MyDrive/Colab Notebooks/Thesis/voice recognition/weights-improvement-25-0.82.hdf5\n",
            "123/123 [==============================] - 15s 125ms/step - loss: 0.1858 - accuracy: 0.9521 - val_loss: 0.6760 - val_accuracy: 0.8188\n",
            "Epoch 26/100\n",
            "123/123 [==============================] - ETA: 0s - loss: 0.1619 - accuracy: 0.9605\n",
            "Epoch 26: val_accuracy improved from 0.81881 to 0.82110, saving model to /content/drive/MyDrive/Colab Notebooks/Thesis/voice recognition/weights-improvement-26-0.82.hdf5\n",
            "123/123 [==============================] - 15s 125ms/step - loss: 0.1619 - accuracy: 0.9605 - val_loss: 0.6460 - val_accuracy: 0.8211\n",
            "Epoch 27/100\n",
            "123/123 [==============================] - ETA: 0s - loss: 0.1270 - accuracy: 0.9717\n",
            "Epoch 27: val_accuracy did not improve from 0.82110\n",
            "123/123 [==============================] - 15s 121ms/step - loss: 0.1270 - accuracy: 0.9717 - val_loss: 0.6123 - val_accuracy: 0.8096\n",
            "Epoch 28/100\n",
            "123/123 [==============================] - ETA: 0s - loss: 0.1389 - accuracy: 0.9666\n",
            "Epoch 28: val_accuracy did not improve from 0.82110\n",
            "123/123 [==============================] - 15s 121ms/step - loss: 0.1389 - accuracy: 0.9666 - val_loss: 0.6420 - val_accuracy: 0.8028\n",
            "Epoch 29/100\n",
            "123/123 [==============================] - ETA: 0s - loss: 0.1677 - accuracy: 0.9562\n",
            "Epoch 29: val_accuracy improved from 0.82110 to 0.82798, saving model to /content/drive/MyDrive/Colab Notebooks/Thesis/voice recognition/weights-improvement-29-0.83.hdf5\n",
            "123/123 [==============================] - 15s 125ms/step - loss: 0.1677 - accuracy: 0.9562 - val_loss: 0.6238 - val_accuracy: 0.8280\n",
            "Epoch 30/100\n",
            "123/123 [==============================] - ETA: 0s - loss: 0.1294 - accuracy: 0.9689\n",
            "Epoch 30: val_accuracy did not improve from 0.82798\n",
            "123/123 [==============================] - 15s 121ms/step - loss: 0.1294 - accuracy: 0.9689 - val_loss: 0.6490 - val_accuracy: 0.8142\n",
            "Epoch 31/100\n",
            "123/123 [==============================] - ETA: 0s - loss: 0.1191 - accuracy: 0.9715\n",
            "Epoch 31: val_accuracy improved from 0.82798 to 0.84862, saving model to /content/drive/MyDrive/Colab Notebooks/Thesis/voice recognition/weights-improvement-31-0.85.hdf5\n",
            "123/123 [==============================] - 15s 125ms/step - loss: 0.1191 - accuracy: 0.9715 - val_loss: 0.5225 - val_accuracy: 0.8486\n",
            "Epoch 32/100\n",
            "123/123 [==============================] - ETA: 0s - loss: 0.1429 - accuracy: 0.9656\n",
            "Epoch 32: val_accuracy did not improve from 0.84862\n",
            "123/123 [==============================] - 15s 121ms/step - loss: 0.1429 - accuracy: 0.9656 - val_loss: 0.7290 - val_accuracy: 0.8211\n",
            "Epoch 33/100\n",
            "123/123 [==============================] - ETA: 0s - loss: 0.1567 - accuracy: 0.9605\n",
            "Epoch 33: val_accuracy did not improve from 0.84862\n",
            "123/123 [==============================] - 15s 121ms/step - loss: 0.1567 - accuracy: 0.9605 - val_loss: 0.6613 - val_accuracy: 0.8073\n",
            "Epoch 34/100\n",
            "123/123 [==============================] - ETA: 0s - loss: 0.1059 - accuracy: 0.9758\n",
            "Epoch 34: val_accuracy did not improve from 0.84862\n",
            "123/123 [==============================] - 15s 121ms/step - loss: 0.1059 - accuracy: 0.9758 - val_loss: 0.6129 - val_accuracy: 0.8257\n",
            "Epoch 35/100\n",
            "123/123 [==============================] - ETA: 0s - loss: 0.0674 - accuracy: 0.9860\n",
            "Epoch 35: val_accuracy improved from 0.84862 to 0.85550, saving model to /content/drive/MyDrive/Colab Notebooks/Thesis/voice recognition/weights-improvement-35-0.86.hdf5\n",
            "123/123 [==============================] - 15s 125ms/step - loss: 0.0674 - accuracy: 0.9860 - val_loss: 0.5255 - val_accuracy: 0.8555\n",
            "Epoch 36/100\n",
            "123/123 [==============================] - ETA: 0s - loss: 0.0527 - accuracy: 0.9888\n",
            "Epoch 36: val_accuracy did not improve from 0.85550\n",
            "123/123 [==============================] - 15s 121ms/step - loss: 0.0527 - accuracy: 0.9888 - val_loss: 0.6713 - val_accuracy: 0.8050\n",
            "Epoch 37/100\n",
            "123/123 [==============================] - ETA: 0s - loss: 0.0798 - accuracy: 0.9788\n",
            "Epoch 37: val_accuracy did not improve from 0.85550\n",
            "123/123 [==============================] - 15s 120ms/step - loss: 0.0798 - accuracy: 0.9788 - val_loss: 0.6759 - val_accuracy: 0.8188\n",
            "Epoch 38/100\n",
            "123/123 [==============================] - ETA: 0s - loss: 0.0899 - accuracy: 0.9763\n",
            "Epoch 38: val_accuracy did not improve from 0.85550\n",
            "123/123 [==============================] - 15s 121ms/step - loss: 0.0899 - accuracy: 0.9763 - val_loss: 0.7457 - val_accuracy: 0.8142\n",
            "Epoch 39/100\n",
            "123/123 [==============================] - ETA: 0s - loss: 0.2581 - accuracy: 0.9292\n",
            "Epoch 39: val_accuracy did not improve from 0.85550\n",
            "123/123 [==============================] - 15s 121ms/step - loss: 0.2581 - accuracy: 0.9292 - val_loss: 0.7454 - val_accuracy: 0.8005\n",
            "Epoch 40/100\n",
            "123/123 [==============================] - ETA: 0s - loss: 0.1199 - accuracy: 0.9671\n",
            "Epoch 40: val_accuracy did not improve from 0.85550\n",
            "123/123 [==============================] - 15s 121ms/step - loss: 0.1199 - accuracy: 0.9671 - val_loss: 0.6054 - val_accuracy: 0.8326\n",
            "Epoch 41/100\n",
            "123/123 [==============================] - ETA: 0s - loss: 0.1083 - accuracy: 0.9725\n",
            "Epoch 41: val_accuracy did not improve from 0.85550\n",
            "123/123 [==============================] - 15s 121ms/step - loss: 0.1083 - accuracy: 0.9725 - val_loss: 0.5917 - val_accuracy: 0.8509\n",
            "Epoch 41: early stopping\n",
            "14/14 [==============================] - 1s 43ms/step - loss: 0.5917 - accuracy: 0.8509\n"
          ]
        }
      ]
    },
    {
      "cell_type": "markdown",
      "source": [
        "### To save model for later use we used save model and plot accuracy and loss curve."
      ],
      "metadata": {
        "id": "yrPqQSDKCLOw"
      }
    },
    {
      "cell_type": "code",
      "execution_count": null,
      "metadata": {
        "id": "w3eOQwPrlQj-"
      },
      "outputs": [],
      "source": [
        "model.save(\"/content/drive/MyDrive/Thesis/saved_models/person_identification.h5\")"
      ]
    },
    {
      "cell_type": "code",
      "execution_count": null,
      "metadata": {
        "id": "avpcUpLs0Whp",
        "colab": {
          "base_uri": "https://localhost:8080/",
          "height": 330
        },
        "outputId": "5caaf063-3665-4e92-cb05-9ce7280ae6a7"
      },
      "outputs": [
        {
          "output_type": "stream",
          "name": "stdout",
          "text": [
            "\n",
            "Test accuracy: 0.8509174585342407\n"
          ]
        },
        {
          "output_type": "display_data",
          "data": {
            "text/plain": [
              "<Figure size 432x288 with 2 Axes>"
            ],
            "image/png": "[encoded data removed]"
          },
          "metadata": {
            "needs_background": "light"
          }
        }
      ],
      "source": [
        "# plot accuracy/error for training and validation\n",
        "plot_history(history)\n",
        "print('\\nTest accuracy:', test_acc)"
      ]
    },
    {
      "cell_type": "markdown",
      "source": [
        "### To perform k fold cross validation and confusion matrix"
      ],
      "metadata": {
        "id": "UnnECl0GCczM"
      }
    },
    {
      "cell_type": "code",
      "execution_count": null,
      "metadata": {
        "id": "zLTnnzdqhha3"
      },
      "outputs": [],
      "source": [
        "target, X, y = load_data(JSON_PATH)"
      ]
    },
    {
      "cell_type": "code",
      "execution_count": null,
      "metadata": {
        "id": "QPRhxcAjhTh5",
        "colab": {
          "base_uri": "https://localhost:8080/"
        },
        "outputId": "ca88c9e4-ef3a-41d2-c39d-0e4923edd14b"
      },
      "outputs": [
        {
          "output_type": "stream",
          "name": "stdout",
          "text": [
            "123/123 [==============================] - 15s 122ms/step - loss: 0.1682 - accuracy: 0.9582 - val_loss: 0.1501 - val_accuracy: 0.9610\n",
            "123/123 [==============================] - 15s 123ms/step - loss: 0.1799 - accuracy: 0.9516 - val_loss: 0.1435 - val_accuracy: 0.9679\n",
            "123/123 [==============================] - 15s 122ms/step - loss: 0.1005 - accuracy: 0.9766 - val_loss: 0.0662 - val_accuracy: 0.9748\n",
            "123/123 [==============================] - 15s 121ms/step - loss: 0.0507 - accuracy: 0.9903 - val_loss: 0.0253 - val_accuracy: 0.9885\n",
            "123/123 [==============================] - 15s 119ms/step - loss: 0.0367 - accuracy: 0.9929 - val_loss: 0.0095 - val_accuracy: 0.9954\n",
            "123/123 [==============================] - 15s 120ms/step - loss: 0.0243 - accuracy: 0.9952 - val_loss: 0.0077 - val_accuracy: 0.9977\n",
            "123/123 [==============================] - 15s 121ms/step - loss: 0.0153 - accuracy: 0.9982 - val_loss: 0.0079 - val_accuracy: 0.9977\n",
            "123/123 [==============================] - 15s 121ms/step - loss: 0.0113 - accuracy: 0.9985 - val_loss: 0.0043 - val_accuracy: 0.9977\n",
            "123/123 [==============================] - 15s 120ms/step - loss: 0.0101 - accuracy: 0.9982 - val_loss: 0.0037 - val_accuracy: 0.9977\n",
            "123/123 [==============================] - 15s 120ms/step - loss: 0.0530 - accuracy: 0.9865 - val_loss: 0.0341 - val_accuracy: 0.9908\n"
          ]
        }
      ],
      "source": [
        "from sklearn.model_selection import StratifiedKFold\n",
        "from sklearn.metrics import accuracy_score\n",
        "accuracy = []\n",
        "skf = StratifiedKFold(n_splits=10)\n",
        "for train_indx, test_indx in skf.split(X,y):\n",
        "  X_train, X_test = X[train_indx],X[test_indx]\n",
        "  y_train, y_test = y[train_indx],y[test_indx]\n",
        "  history = model.fit(X_train,y_train,validation_data=(X_test,y_test))\n",
        "\n",
        "  accuracy.append(history.history['val_accuracy'])"
      ]
    },
    {
      "cell_type": "code",
      "execution_count": null,
      "metadata": {
        "id": "3A0wLGdsjqBI",
        "colab": {
          "base_uri": "https://localhost:8080/"
        },
        "outputId": "34c832ef-49db-4a1f-ed45-44bf95ddffcf"
      },
      "outputs": [
        {
          "output_type": "execute_result",
          "data": {
            "text/plain": [
              "0.9869266033172608"
            ]
          },
          "metadata": {},
          "execution_count": 28
        }
      ],
      "source": [
        "np.array(accuracy).mean()"
      ]
    },
    {
      "cell_type": "markdown",
      "source": [
        "### Confusion Matrix"
      ],
      "metadata": {
        "id": "WfB7rONuDscB"
      }
    },
    {
      "cell_type": "code",
      "execution_count": null,
      "metadata": {
        "id": "sVAtmvR4SY7_"
      },
      "outputs": [],
      "source": [
        "from sklearn.metrics import accuracy_score,classification_report,confusion_matrix,ConfusionMatrixDisplay\n",
        "import csv\n",
        "import pandas as pd\n",
        "import seaborn as sn"
      ]
    },
    {
      "cell_type": "code",
      "execution_count": null,
      "metadata": {
        "id": "VExKsl6bLmIQ"
      },
      "outputs": [],
      "source": [
        "csvpath = \"/content/drive/MyDrive/Thesis/train.csv\""
      ]
    },
    {
      "cell_type": "code",
      "execution_count": null,
      "metadata": {
        "id": "rpp0FTezGXZy"
      },
      "outputs": [],
      "source": [
        "prediction = model.predict(X_Test)\n",
        "indx = np.argmax(prediction,axis=1)\n",
        "\n",
        "header = \"Actual_Class Predicted_Class\"\n",
        "header = header.split()\n",
        "file = open(csvpath,\"w\",newline=\"\")\n",
        "writer = csv.writer(file)\n",
        "writer.writerow(header)\n",
        "\n",
        "for idx in range(0,y_Test.shape[0]):\n",
        "  to_append = f\"{y_Test[idx]} {indx[idx]}\"\n",
        "  writer.writerow(to_append.split())\n",
        "file.close()"
      ]
    },
    {
      "cell_type": "code",
      "execution_count": null,
      "metadata": {
        "id": "LRNnYvWROWPE",
        "colab": {
          "base_uri": "https://localhost:8080/",
          "height": 365
        },
        "outputId": "1c20fdea-f4f9-4458-dfd9-d69430e0e06b"
      },
      "outputs": [
        {
          "output_type": "execute_result",
          "data": {
            "text/plain": [
              "<matplotlib.axes._subplots.AxesSubplot at 0x7f0a5c964dd0>"
            ]
          },
          "metadata": {},
          "execution_count": 46
        },
        {
          "output_type": "display_data",
          "data": {
            "text/plain": [
              "<Figure size 1224x360 with 2 Axes>"
            ],
            "image/png": "[encoded data removed]"
          },
          "metadata": {
            "needs_background": "light"
          }
        }
      ],
      "source": [
        "df = pd.read_csv(csvpath)\n",
        "confusion_mat = pd.crosstab(df.Predicted_Class,df.Actual_Class)\n",
        "fig = plt.figure(figsize=(17,5))\n",
        "ax1 = plt.subplot(121)\n",
        "sn.heatmap(confusion_mat,annot=True,cmap=\"Blues\")"
      ]
    },
    {
      "cell_type": "code",
      "execution_count": null,
      "metadata": {
        "id": "2ozsQKQQndUO",
        "colab": {
          "base_uri": "https://localhost:8080/"
        },
        "outputId": "c3588e51-66e0-4803-811a-d195a2bcf47c"
      },
      "outputs": [
        {
          "output_type": "stream",
          "name": "stdout",
          "text": [
            "class: 0 TP:4 TN:432 FP:0 FN:0\n",
            "class: 1 TP:2 TN:434 FP:0 FN:0\n",
            "class: 2 TP:2 TN:434 FP:0 FN:0\n",
            "class: 3 TP:3 TN:431 FP:2 FN:0\n",
            "class: 4 TP:1 TN:435 FP:0 FN:0\n",
            "class: 5 TP:3 TN:433 FP:0 FN:0\n",
            "class: 6 TP:1 TN:435 FP:0 FN:0\n",
            "class: 7 TP:1 TN:435 FP:0 FN:0\n",
            "class: 8 TP:2 TN:434 FP:0 FN:0\n",
            "class: 9 TP:2 TN:433 FP:0 FN:1\n",
            "class: 10 TP:1 TN:435 FP:0 FN:0\n",
            "class: 11 TP:1 TN:435 FP:0 FN:0\n",
            "class: 12 TP:2 TN:434 FP:0 FN:0\n",
            "class: 13 TP:2 TN:434 FP:0 FN:0\n",
            "class: 14 TP:1 TN:435 FP:0 FN:0\n",
            "class: 15 TP:1 TN:435 FP:0 FN:0\n",
            "class: 16 TP:3 TN:433 FP:0 FN:0\n",
            "class: 17 TP:4 TN:432 FP:0 FN:0\n",
            "class: 18 TP:4 TN:432 FP:0 FN:0\n",
            "class: 19 TP:4 TN:432 FP:0 FN:0\n",
            "class: 20 TP:2 TN:434 FP:0 FN:0\n",
            "class: 21 TP:1 TN:435 FP:0 FN:0\n",
            "class: 22 TP:1 TN:434 FP:1 FN:0\n",
            "class: 23 TP:2 TN:433 FP:0 FN:1\n",
            "class: 24 TP:4 TN:430 FP:2 FN:0\n",
            "class: 25 TP:3 TN:433 FP:0 FN:0\n",
            "class: 26 TP:5 TN:431 FP:0 FN:0\n",
            "class: 27 TP:1 TN:435 FP:0 FN:0\n",
            "class: 28 TP:2 TN:434 FP:0 FN:0\n",
            "class: 29 TP:2 TN:434 FP:0 FN:0\n",
            "class: 30 TP:1 TN:435 FP:0 FN:0\n",
            "class: 31 TP:2 TN:432 FP:2 FN:0\n",
            "class: 32 TP:2 TN:434 FP:0 FN:0\n",
            "class: 33 TP:1 TN:435 FP:0 FN:0\n",
            "class: 34 TP:2 TN:431 FP:2 FN:1\n",
            "class: 35 TP:2 TN:434 FP:0 FN:0\n",
            "class: 36 TP:1 TN:435 FP:0 FN:0\n",
            "class: 37 TP:2 TN:433 FP:0 FN:1\n",
            "class: 38 TP:2 TN:434 FP:0 FN:0\n",
            "class: 39 TP:0 TN:434 FP:1 FN:1\n",
            "class: 40 TP:0 TN:432 FP:1 FN:3\n",
            "class: 41 TP:0 TN:431 FP:4 FN:1\n",
            "class: 42 TP:0 TN:434 FP:1 FN:1\n",
            "class: 43 TP:0 TN:433 FP:2 FN:1\n",
            "class: 44 TP:0 TN:431 FP:1 FN:4\n",
            "class: 45 TP:0 TN:431 FP:3 FN:2\n",
            "class: 46 TP:0 TN:433 FP:2 FN:1\n",
            "class: 47 TP:0 TN:430 FP:1 FN:5\n",
            "class: 48 TP:0 TN:429 FP:4 FN:3\n",
            "class: 49 TP:0 TN:432 FP:3 FN:1\n",
            "class: 50 TP:0 TN:432 FP:1 FN:3\n",
            "class: 51 TP:0 TN:431 FP:3 FN:2\n",
            "class: 52 TP:0 TN:432 FP:2 FN:2\n",
            "class: 53 TP:0 TN:432 FP:1 FN:3\n",
            "class: 54 TP:0 TN:432 FP:1 FN:3\n",
            "class: 55 TP:0 TN:432 FP:3 FN:1\n",
            "class: 56 TP:0 TN:432 FP:2 FN:2\n",
            "class: 57 TP:0 TN:430 FP:3 FN:3\n",
            "class: 58 TP:0 TN:428 FP:3 FN:5\n",
            "class: 59 TP:0 TN:430 FP:5 FN:1\n",
            "class: 60 TP:0 TN:430 FP:3 FN:3\n",
            "class: 61 TP:0 TN:431 FP:2 FN:3\n",
            "class: 62 TP:0 TN:428 FP:4 FN:4\n",
            "class: 63 TP:0 TN:433 FP:1 FN:2\n",
            "class: 64 TP:0 TN:432 FP:2 FN:2\n",
            "class: 65 TP:0 TN:431 FP:3 FN:2\n",
            "class: 66 TP:0 TN:432 FP:3 FN:1\n",
            "class: 67 TP:0 TN:434 FP:1 FN:1\n",
            "class: 68 TP:2 TN:431 FP:3 FN:0\n",
            "class: 69 TP:2 TN:433 FP:1 FN:0\n",
            "class: 70 TP:1 TN:432 FP:1 FN:2\n",
            "class: 71 TP:5 TN:431 FP:0 FN:0\n",
            "class: 72 TP:2 TN:433 FP:0 FN:1\n",
            "class: 73 TP:2 TN:432 FP:0 FN:2\n",
            "class: 74 TP:3 TN:433 FP:0 FN:0\n",
            "class: 75 TP:2 TN:434 FP:0 FN:0\n",
            "class: 76 TP:1 TN:435 FP:0 FN:0\n",
            "class: 77 TP:0 TN:434 FP:1 FN:1\n",
            "class: 78 TP:0 TN:434 FP:1 FN:1\n",
            "class: 79 TP:1 TN:434 FP:0 FN:1\n",
            "class: 80 TP:3 TN:433 FP:0 FN:0\n",
            "class: 81 TP:2 TN:433 FP:0 FN:1\n",
            "class: 82 TP:2 TN:434 FP:0 FN:0\n",
            "class: 83 TP:2 TN:433 FP:1 FN:0\n",
            "class: 84 TP:0 TN:434 FP:1 FN:1\n",
            "class: 85 TP:0 TN:432 FP:2 FN:2\n",
            "class: 86 TP:0 TN:432 FP:2 FN:2\n",
            "class: 87 TP:0 TN:432 FP:2 FN:2\n",
            "class: 88 TP:0 TN:427 FP:5 FN:4\n",
            "class: 89 TP:0 TN:426 FP:5 FN:5\n",
            "class: 90 TP:0 TN:431 FP:2 FN:3\n",
            "class: 91 TP:0 TN:431 FP:3 FN:2\n",
            "class: 92 TP:0 TN:431 FP:2 FN:3\n",
            "class: 93 TP:0 TN:428 FP:5 FN:3\n",
            "class: 94 TP:0 TN:428 FP:3 FN:5\n",
            "class: 95 TP:0 TN:431 FP:2 FN:3\n",
            "class: 96 TP:0 TN:432 FP:2 FN:2\n",
            "class: 97 TP:0 TN:430 FP:4 FN:2\n",
            "class: 98 TP:0 TN:431 FP:2 FN:3\n",
            "class: 99 TP:0 TN:433 FP:2 FN:1\n",
            "class: 100 TP:0 TN:433 FP:2 FN:1\n",
            "class: 101 TP:0 TN:432 FP:2 FN:2\n",
            "class: 102 TP:0 TN:433 FP:1 FN:2\n",
            "class: 103 TP:0 TN:433 FP:1 FN:2\n",
            "class: 104 TP:0 TN:432 FP:3 FN:1\n",
            "class: 105 TP:0 TN:432 FP:2 FN:2\n",
            "class: 106 TP:0 TN:433 FP:2 FN:1\n",
            "class: 107 TP:0 TN:432 FP:2 FN:2\n",
            "class: 108 TP:0 TN:432 FP:2 FN:2\n",
            "class: 109 TP:0 TN:433 FP:2 FN:1\n",
            "class: 110 TP:0 TN:433 FP:2 FN:1\n",
            "class: 111 TP:0 TN:429 FP:3 FN:4\n",
            "class: 112 TP:0 TN:431 FP:2 FN:3\n",
            "class: 113 TP:0 TN:432 FP:1 FN:3\n",
            "class: 114 TP:0 TN:432 FP:1 FN:3\n",
            "class: 115 TP:0 TN:434 FP:1 FN:1\n",
            "class: 116 TP:0 TN:434 FP:1 FN:1\n",
            "class: 117 TP:0 TN:431 FP:2 FN:3\n",
            "class: 118 TP:0 TN:432 FP:3 FN:1\n",
            "class: 119 TP:0 TN:430 FP:4 FN:2\n",
            "class: 120 TP:0 TN:429 FP:4 FN:3\n",
            "class: 121 TP:0 TN:430 FP:2 FN:4\n",
            "class: 122 TP:0 TN:429 FP:3 FN:4\n",
            "class: 123 TP:0 TN:433 FP:1 FN:2\n",
            "class: 124 TP:0 TN:431 FP:4 FN:1\n",
            "class: 125 TP:0 TN:432 FP:1 FN:3\n",
            "class: 126 TP:0 TN:431 FP:3 FN:2\n",
            "class: 127 TP:0 TN:429 FP:3 FN:4\n",
            "class: 128 TP:0 TN:431 FP:3 FN:2\n",
            "class: 129 TP:0 TN:431 FP:2 FN:3\n",
            "class: 130 TP:0 TN:433 FP:2 FN:1\n",
            "class: 131 TP:0 TN:432 FP:1 FN:3\n",
            "class: 132 TP:0 TN:430 FP:4 FN:2\n",
            "class: 133 TP:0 TN:431 FP:3 FN:2\n",
            "class: 134 TP:0 TN:433 FP:2 FN:1\n",
            "class: 135 TP:0 TN:433 FP:1 FN:2\n",
            "class: 136 TP:0 TN:430 FP:2 FN:4\n",
            "class: 137 TP:0 TN:432 FP:2 FN:2\n",
            "class: 138 TP:0 TN:432 FP:2 FN:2\n",
            "class: 139 TP:0 TN:432 FP:3 FN:1\n",
            "class: 140 TP:0 TN:429 FP:6 FN:1\n",
            "class: 141 TP:0 TN:431 FP:1 FN:4\n",
            "class: 142 TP:0 TN:429 FP:2 FN:5\n",
            "class: 143 TP:0 TN:434 FP:1 FN:1\n",
            "class: 144 TP:0 TN:432 FP:3 FN:1\n",
            "class: 145 TP:0 TN:432 FP:3 FN:1\n",
            "class: 146 TP:0 TN:431 FP:1 FN:4\n",
            "class: 147 TP:0 TN:432 FP:1 FN:3\n",
            "class: 148 TP:0 TN:431 FP:3 FN:2\n",
            "class: 149 TP:0 TN:434 FP:1 FN:1\n",
            "class: 150 TP:0 TN:432 FP:3 FN:1\n",
            "class: 151 TP:0 TN:434 FP:1 FN:1\n",
            "class: 152 TP:0 TN:431 FP:2 FN:3\n",
            "class: 153 TP:0 TN:432 FP:2 FN:2\n",
            "class: 154 TP:0 TN:430 FP:4 FN:2\n",
            "class: 155 TP:0 TN:432 FP:2 FN:2\n",
            "class: 156 TP:0 TN:431 FP:2 FN:3\n",
            "class: 157 TP:0 TN:432 FP:2 FN:2\n",
            "class: 158 TP:0 TN:431 FP:4 FN:1\n",
            "class: 159 TP:0 TN:434 FP:1 FN:1\n",
            "class: 160 TP:0 TN:428 FP:3 FN:5\n",
            "class: 161 TP:0 TN:433 FP:2 FN:1\n",
            "class: 162 TP:0 TN:431 FP:3 FN:2\n",
            "class: 163 TP:0 TN:432 FP:1 FN:3\n",
            "class: 164 TP:0 TN:432 FP:3 FN:1\n",
            "class: 165 TP:0 TN:429 FP:5 FN:2\n",
            "class: 166 TP:0 TN:434 FP:1 FN:1\n",
            "class: 167 TP:0 TN:432 FP:1 FN:3\n",
            "class: 168 TP:0 TN:431 FP:2 FN:3\n",
            "class: 169 TP:0 TN:430 FP:3 FN:3\n",
            "class: 170 TP:0 TN:434 FP:1 FN:1\n",
            "class: 171 TP:0 TN:430 FP:3 FN:3\n",
            "class: 172 TP:0 TN:433 FP:2 FN:1\n",
            "class: 173 TP:0 TN:430 FP:3 FN:3\n",
            "class: 174 TP:1 TN:431 FP:3 FN:1\n",
            "class: 175 TP:0 TN:430 FP:3 FN:3\n",
            "class: 176 TP:0 TN:430 FP:2 FN:4\n",
            "class: 177 TP:0 TN:430 FP:4 FN:2\n",
            "class: 178 TP:0 TN:430 FP:3 FN:3\n",
            "class: 179 TP:0 TN:431 FP:2 FN:3\n",
            "class: 180 TP:0 TN:432 FP:2 FN:2\n",
            "class: 181 TP:0 TN:433 FP:2 FN:1\n",
            "class: 182 TP:0 TN:430 FP:1 FN:5\n",
            "class: 183 TP:0 TN:431 FP:3 FN:2\n",
            "class: 184 TP:0 TN:431 FP:3 FN:2\n",
            "class: 185 TP:0 TN:433 FP:1 FN:2\n",
            "class: 186 TP:0 TN:432 FP:2 FN:2\n"
          ]
        }
      ],
      "source": [
        "total_acc = 0\n",
        "total_pre = 0\n",
        "total_re = 0\n",
        "total_FN = 0\n",
        "for i in range(confusion_mat.shape[0]):\n",
        "  TP = confusion_mat.iloc[i,i]\n",
        "  FP = confusion_mat.iloc[i,:].sum()-TP\n",
        "  FN = confusion_mat.iloc[:,i].sum()-TP\n",
        "  TN = confusion_mat.sum().sum()-TP-FP-FN\n",
        "  print(\"class: {} TP:{} TN:{} FP:{} FN:{}\".format(i,TP,TN,FP,FN))\n",
        "  Accuracy = (TP+TN)/confusion_mat.sum().sum()\n",
        "  Precision = TP/(TP+FP)\n",
        "  Recall = TP/(TP+FN)\n",
        "  total_acc += Accuracy\n",
        "  total_pre += Precision\n",
        "  total_re += Recall\n",
        "  total_FN += FN\n",
        ""
      ]
    },
    {
      "cell_type": "code",
      "execution_count": null,
      "metadata": {
        "id": "3ExxF41xq5rQ"
      },
      "outputs": [],
      "source": [
        "P = total_pre/confusion_mat.shape[0]\n",
        "A = total_acc/confusion_mat.shape[0]\n",
        "R = total_re/confusion_mat.shape[0]"
      ]
    },
    {
      "cell_type": "code",
      "execution_count": null,
      "metadata": {
        "id": "SUV1iaphqmIM"
      },
      "outputs": [],
      "source": [
        "F = (2*P*R)/ (P+R)"
      ]
    },
    {
      "cell_type": "code",
      "execution_count": null,
      "metadata": {
        "id": "DFubaoADrsUg",
        "colab": {
          "base_uri": "https://localhost:8080/"
        },
        "outputId": "1c590e34-e8a2-4642-fda3-b31c45418a37"
      },
      "outputs": [
        {
          "output_type": "stream",
          "name": "stdout",
          "text": [
            "0.9898116851762427 0.03859649122807017 0.03614035087719299 0.03732806193888477\n"
          ]
        }
      ],
      "source": [
        "print(A,P,R,F)"
      ]
    }
  ],
  "metadata": {
    "accelerator": "GPU",
    "colab": {
      "provenance": []
    },
    "kernelspec": {
      "display_name": "Python 3",
      "name": "python3"
    },
    "language_info": {
      "name": "python"
    }
  },
  "nbformat": 4,
  "nbformat_minor": 0
}